{
 "cells": [
  {
   "cell_type": "code",
   "execution_count": 1,
   "id": "eb329e5e",
   "metadata": {},
   "outputs": [
    {
     "data": {
      "application/javascript": [
       "IPython.notebook.set_autosave_interval(1000)"
      ]
     },
     "metadata": {},
     "output_type": "display_data"
    },
    {
     "name": "stdout",
     "output_type": "stream",
     "text": [
      "Autosaving every 1 seconds\n"
     ]
    }
   ],
   "source": [
    "%autosave 1"
   ]
  },
  {
   "cell_type": "code",
   "execution_count": 2,
   "id": "b09fae3d",
   "metadata": {
    "scrolled": true
   },
   "outputs": [
    {
     "name": "stdout",
     "output_type": "stream",
     "text": [
      "Populating the interactive namespace from numpy and matplotlib\n"
     ]
    }
   ],
   "source": [
    "import pandas as pd\n",
    "import seaborn as sns\n",
    "import numpy as np\n",
    "import sklearn\n",
    "import matplotlib.pyplot as plt\n",
    "import plotly.express as px\n",
    "from plotly.subplots import make_subplots\n",
    "import plotly.graph_objs as go\n",
    "\n",
    "%pylab inline\n",
    "\n",
    "# print all the outputs in a cell\n",
    "from IPython.core.interactiveshell import InteractiveShell\n",
    "InteractiveShell.ast_node_interactivity = \"all\""
   ]
  },
  {
   "cell_type": "markdown",
   "id": "8f3da365",
   "metadata": {},
   "source": [
    "## Warn Data (7-25-22)"
   ]
  },
  {
   "cell_type": "code",
   "execution_count": 3,
   "id": "eacfcb52",
   "metadata": {},
   "outputs": [
    {
     "name": "stderr",
     "output_type": "stream",
     "text": [
      "/opt/anaconda3/lib/python3.9/site-packages/openpyxl/worksheet/_read_only.py:79: UserWarning: Cell F39394 is marked as a date but the serial value 6691204.0 is outside the limits for dates. The cell will be treated as an error.\n",
      "  for idx, row in parser.parse():\n"
     ]
    }
   ],
   "source": [
    "warn = pd.read_excel('/Users/chensumei/Desktop/Ram Paper/Warn Data/Warn Database 7-25-22.xlsx')"
   ]
  },
  {
   "cell_type": "code",
   "execution_count": 4,
   "id": "b75d39eb",
   "metadata": {},
   "outputs": [
    {
     "data": {
      "text/html": [
       "<div>\n",
       "<style scoped>\n",
       "    .dataframe tbody tr th:only-of-type {\n",
       "        vertical-align: middle;\n",
       "    }\n",
       "\n",
       "    .dataframe tbody tr th {\n",
       "        vertical-align: top;\n",
       "    }\n",
       "\n",
       "    .dataframe thead th {\n",
       "        text-align: right;\n",
       "    }\n",
       "</style>\n",
       "<table border=\"1\" class=\"dataframe\">\n",
       "  <thead>\n",
       "    <tr style=\"text-align: right;\">\n",
       "      <th></th>\n",
       "      <th>State</th>\n",
       "      <th>Company</th>\n",
       "      <th>City</th>\n",
       "      <th>Number of Workers</th>\n",
       "      <th>WARN Received Date</th>\n",
       "      <th>Effective Date</th>\n",
       "      <th>Closure/Layoff</th>\n",
       "      <th>Temporary/Permanent</th>\n",
       "      <th>Union</th>\n",
       "      <th>Region</th>\n",
       "      <th>County</th>\n",
       "      <th>Industry</th>\n",
       "      <th>Notes</th>\n",
       "    </tr>\n",
       "  </thead>\n",
       "  <tbody>\n",
       "    <tr>\n",
       "      <th>0</th>\n",
       "      <td>Alabama</td>\n",
       "      <td>Primus Solutions, LLC</td>\n",
       "      <td>Daleville</td>\n",
       "      <td>132</td>\n",
       "      <td>2021-07-28</td>\n",
       "      <td>2021-09-16 00:00:00</td>\n",
       "      <td>Layoff</td>\n",
       "      <td>NaN</td>\n",
       "      <td>NaN</td>\n",
       "      <td>NaN</td>\n",
       "      <td>NaN</td>\n",
       "      <td>NaN</td>\n",
       "      <td>NaN</td>\n",
       "    </tr>\n",
       "    <tr>\n",
       "      <th>1</th>\n",
       "      <td>Alabama</td>\n",
       "      <td>Corsicana Mattress Company</td>\n",
       "      <td>Jasper</td>\n",
       "      <td>42</td>\n",
       "      <td>2021-07-26</td>\n",
       "      <td>2021-09-20 00:00:00</td>\n",
       "      <td>Closure</td>\n",
       "      <td>NaN</td>\n",
       "      <td>NaN</td>\n",
       "      <td>NaN</td>\n",
       "      <td>NaN</td>\n",
       "      <td>NaN</td>\n",
       "      <td>NaN</td>\n",
       "    </tr>\n",
       "    <tr>\n",
       "      <th>2</th>\n",
       "      <td>Alabama</td>\n",
       "      <td>Portfolio Recovery Associates LLC</td>\n",
       "      <td>Birmingham</td>\n",
       "      <td>133</td>\n",
       "      <td>2021-07-20</td>\n",
       "      <td>2021-09-30 00:00:00</td>\n",
       "      <td>Closure</td>\n",
       "      <td>NaN</td>\n",
       "      <td>NaN</td>\n",
       "      <td>NaN</td>\n",
       "      <td>NaN</td>\n",
       "      <td>NaN</td>\n",
       "      <td>NaN</td>\n",
       "    </tr>\n",
       "    <tr>\n",
       "      <th>3</th>\n",
       "      <td>Alabama</td>\n",
       "      <td>Crothall Healthcare Environmental Services</td>\n",
       "      <td>Gadsden</td>\n",
       "      <td>58</td>\n",
       "      <td>2021-07-07</td>\n",
       "      <td>2021-08-21 00:00:00</td>\n",
       "      <td>Layoff</td>\n",
       "      <td>NaN</td>\n",
       "      <td>NaN</td>\n",
       "      <td>NaN</td>\n",
       "      <td>NaN</td>\n",
       "      <td>NaN</td>\n",
       "      <td>NaN</td>\n",
       "    </tr>\n",
       "    <tr>\n",
       "      <th>4</th>\n",
       "      <td>Alabama</td>\n",
       "      <td>National Packaging Co. Inc.</td>\n",
       "      <td>Decatur</td>\n",
       "      <td>62</td>\n",
       "      <td>2021-06-30</td>\n",
       "      <td>2021-08-07 00:00:00</td>\n",
       "      <td>Layoff</td>\n",
       "      <td>NaN</td>\n",
       "      <td>NaN</td>\n",
       "      <td>NaN</td>\n",
       "      <td>NaN</td>\n",
       "      <td>NaN</td>\n",
       "      <td>NaN</td>\n",
       "    </tr>\n",
       "  </tbody>\n",
       "</table>\n",
       "</div>"
      ],
      "text/plain": [
       "     State                                     Company        City  \\\n",
       "0  Alabama                       Primus Solutions, LLC   Daleville   \n",
       "1  Alabama                  Corsicana Mattress Company      Jasper   \n",
       "2  Alabama           Portfolio Recovery Associates LLC  Birmingham   \n",
       "3  Alabama  Crothall Healthcare Environmental Services     Gadsden   \n",
       "4  Alabama                 National Packaging Co. Inc.     Decatur   \n",
       "\n",
       "  Number of Workers WARN Received Date       Effective Date Closure/Layoff  \\\n",
       "0               132         2021-07-28  2021-09-16 00:00:00         Layoff   \n",
       "1                42         2021-07-26  2021-09-20 00:00:00        Closure   \n",
       "2               133         2021-07-20  2021-09-30 00:00:00        Closure   \n",
       "3                58         2021-07-07  2021-08-21 00:00:00         Layoff   \n",
       "4                62         2021-06-30  2021-08-07 00:00:00         Layoff   \n",
       "\n",
       "  Temporary/Permanent Union Region County Industry Notes  \n",
       "0                 NaN   NaN    NaN    NaN      NaN   NaN  \n",
       "1                 NaN   NaN    NaN    NaN      NaN   NaN  \n",
       "2                 NaN   NaN    NaN    NaN      NaN   NaN  \n",
       "3                 NaN   NaN    NaN    NaN      NaN   NaN  \n",
       "4                 NaN   NaN    NaN    NaN      NaN   NaN  "
      ]
     },
     "execution_count": 4,
     "metadata": {},
     "output_type": "execute_result"
    }
   ],
   "source": [
    "warn.head()"
   ]
  },
  {
   "cell_type": "code",
   "execution_count": 5,
   "id": "8e0a39b9",
   "metadata": {},
   "outputs": [
    {
     "data": {
      "text/plain": [
       "(42978, 13)"
      ]
     },
     "execution_count": 5,
     "metadata": {},
     "output_type": "execute_result"
    }
   ],
   "source": [
    "warn.shape"
   ]
  },
  {
   "cell_type": "code",
   "execution_count": 6,
   "id": "8a3f75e3",
   "metadata": {},
   "outputs": [
    {
     "name": "stdout",
     "output_type": "stream",
     "text": [
      "<class 'pandas.core.frame.DataFrame'>\n",
      "RangeIndex: 42978 entries, 0 to 42977\n",
      "Data columns (total 13 columns):\n",
      " #   Column               Non-Null Count  Dtype         \n",
      "---  ------               --------------  -----         \n",
      " 0   State                42978 non-null  object        \n",
      " 1   Company              42978 non-null  object        \n",
      " 2   City                 40087 non-null  object        \n",
      " 3   Number of Workers    42512 non-null  object        \n",
      " 4   WARN Received Date   40102 non-null  datetime64[ns]\n",
      " 5   Effective Date       38059 non-null  object        \n",
      " 6   Closure/Layoff       28931 non-null  object        \n",
      " 7   Temporary/Permanent  2917 non-null   object        \n",
      " 8   Union                831 non-null    object        \n",
      " 9   Region               17957 non-null  object        \n",
      " 10  County               25030 non-null  object        \n",
      " 11  Industry             12781 non-null  object        \n",
      " 12  Notes                14103 non-null  object        \n",
      "dtypes: datetime64[ns](1), object(12)\n",
      "memory usage: 4.3+ MB\n"
     ]
    }
   ],
   "source": [
    "warn.info()"
   ]
  },
  {
   "cell_type": "code",
   "execution_count": 7,
   "id": "672a4445",
   "metadata": {},
   "outputs": [],
   "source": [
    "#drop off cols after \"Closure/Layoff\" since they are all NaN\n",
    "\n",
    "warn = warn.iloc[:,0:7]"
   ]
  },
  {
   "cell_type": "code",
   "execution_count": 8,
   "id": "29d7bda2",
   "metadata": {},
   "outputs": [
    {
     "data": {
      "text/plain": [
       "(42978, 7)"
      ]
     },
     "execution_count": 8,
     "metadata": {},
     "output_type": "execute_result"
    }
   ],
   "source": [
    "warn.shape"
   ]
  },
  {
   "cell_type": "code",
   "execution_count": 9,
   "id": "a4121787",
   "metadata": {
    "scrolled": true
   },
   "outputs": [
    {
     "name": "stdout",
     "output_type": "stream",
     "text": [
      "<class 'pandas.core.frame.DataFrame'>\n",
      "RangeIndex: 42978 entries, 0 to 42977\n",
      "Data columns (total 7 columns):\n",
      " #   Column              Non-Null Count  Dtype         \n",
      "---  ------              --------------  -----         \n",
      " 0   State               42978 non-null  object        \n",
      " 1   Company             42978 non-null  object        \n",
      " 2   City                40087 non-null  object        \n",
      " 3   Number of Workers   42512 non-null  object        \n",
      " 4   WARN Received Date  40102 non-null  datetime64[ns]\n",
      " 5   Effective Date      38059 non-null  object        \n",
      " 6   Closure/Layoff      28931 non-null  object        \n",
      "dtypes: datetime64[ns](1), object(6)\n",
      "memory usage: 2.3+ MB\n"
     ]
    }
   ],
   "source": [
    "warn.info()"
   ]
  },
  {
   "cell_type": "code",
   "execution_count": 10,
   "id": "d4756d3d",
   "metadata": {},
   "outputs": [
    {
     "data": {
      "text/plain": [
       "array(['Alabama', 'Alaska', 'Arizona', 'California', 'Colorado',\n",
       "       'Connecticut', 'Delaware', 'Florida', 'Georgia', 'Idaho',\n",
       "       'Illinois', 'Indiana', 'Iowa', 'Kansas', 'Kentucky', 'Louisiana',\n",
       "       'Maine', 'Maryland', 'Massachusetts', 'Michigan', 'Minnesota',\n",
       "       'Missouri', 'Montana', 'Nebraska', 'New Mexico', 'New York',\n",
       "       'North Carolina', 'North Dakota', 'Ohio', 'Oklahoma', 'Oregon',\n",
       "       'Rhode Island', 'South Carolina', 'South Dakota', 'Texas', 'Utah',\n",
       "       'Vermont', 'Virginia', 'Washington', 'Washington, D.C.',\n",
       "       'West Virginia', 'Wisconsin', 'New Jersey'], dtype=object)"
      ]
     },
     "execution_count": 10,
     "metadata": {},
     "output_type": "execute_result"
    }
   ],
   "source": [
    "# filter states as CA and Taxs\n",
    "warn.State.unique()"
   ]
  },
  {
   "cell_type": "code",
   "execution_count": 11,
   "id": "78edcda5",
   "metadata": {},
   "outputs": [],
   "source": [
    "warn_filter = warn[(warn.State == 'California') | (warn.State == 'Texas')]"
   ]
  },
  {
   "cell_type": "code",
   "execution_count": 12,
   "id": "6ed22088",
   "metadata": {},
   "outputs": [
    {
     "data": {
      "text/plain": [
       "State                    0\n",
       "Company                  0\n",
       "City                     0\n",
       "Number of Workers       21\n",
       "WARN Received Date       0\n",
       "Effective Date           8\n",
       "Closure/Layoff        3087\n",
       "dtype: int64"
      ]
     },
     "execution_count": 12,
     "metadata": {},
     "output_type": "execute_result"
    }
   ],
   "source": [
    "#NaN value in this dataframe\n",
    "\n",
    "warn_filter.isna().sum()"
   ]
  },
  {
   "cell_type": "code",
   "execution_count": 13,
   "id": "dd8cd975",
   "metadata": {},
   "outputs": [
    {
     "name": "stdout",
     "output_type": "stream",
     "text": [
      "Data size for California is: 10915\n",
      "Data size for Texas is: 3087\n"
     ]
    }
   ],
   "source": [
    "len_ca = len(warn_filter[warn_filter.State == 'California'])\n",
    "len_te = len(warn_filter[warn_filter.State == 'Texas'])\n",
    "\n",
    "print(\"Data size for California is: \" + str(len_ca))\n",
    "print(\"Data size for Texas is: \" + str(len_te))"
   ]
  },
  {
   "cell_type": "code",
   "execution_count": 96,
   "id": "d2978ce1",
   "metadata": {
    "scrolled": false
   },
   "outputs": [
    {
     "data": {
      "text/plain": [
       "Company                               State     \n",
       "Boeing Company                        California    140\n",
       "                                      Texas          75\n",
       "Head Start Child Development          California     60\n",
       "Symantec Corporation                  California     47\n",
       "Scarbrough Management Corporation     California     44\n",
       "Silgan Containers                     California     37\n",
       "bebe stores, Inc.                     California     36\n",
       "Marvell Semiconductor, Inc.           California     34\n",
       "Wells Fargo                           California     31\n",
       "Anka Behavioral Health, Incorporated  California     24\n",
       "Name: Company, dtype: int64"
      ]
     },
     "execution_count": 96,
     "metadata": {},
     "output_type": "execute_result"
    }
   ],
   "source": [
    "#What is the company that appears most in these two State (includes all cities)\n",
    "\n",
    "warn_filter.groupby(['Company', 'State'])['Company'].count().nlargest(10)"
   ]
  },
  {
   "cell_type": "code",
   "execution_count": 72,
   "id": "d4fcd78e",
   "metadata": {
    "scrolled": true
   },
   "outputs": [
    {
     "data": {
      "text/plain": [
       "City\n",
       "El Segundo          52\n",
       "Houston             74\n",
       "Huntington           8\n",
       "Huntington Beach    43\n",
       "Long Beach          37\n",
       "San Antonio          1\n",
       "Name: City, dtype: int64"
      ]
     },
     "execution_count": 72,
     "metadata": {},
     "output_type": "execute_result"
    }
   ],
   "source": [
    "#Which city does this company have more warn in?\n",
    "\n",
    "warn_filter[warn_filter.Company == 'Boeing Company'].groupby('City')['City'].count()"
   ]
  },
  {
   "cell_type": "code",
   "execution_count": 95,
   "id": "acda5a5a",
   "metadata": {
    "scrolled": false
   },
   "outputs": [
    {
     "data": {
      "text/plain": [
       "City\n",
       "Los Angeles      744\n",
       "San Francisco    687\n",
       "Houston          664\n",
       "San Diego        602\n",
       "San Jose         344\n",
       "San Antonio      225\n",
       "Dallas           221\n",
       "Irvine           189\n",
       "Santa Clara      168\n",
       "Austin           166\n",
       "Name: City, dtype: int64"
      ]
     },
     "execution_count": 95,
     "metadata": {},
     "output_type": "execute_result"
    }
   ],
   "source": [
    "warn_filter.groupby('City')['City'].count().nlargest(10)"
   ]
  },
  {
   "cell_type": "code",
   "execution_count": 102,
   "id": "6c28979d",
   "metadata": {},
   "outputs": [
    {
     "data": {
      "text/plain": [
       "Closure/Layoff\n",
       "Closure Permanent               133\n",
       "Closure Temporary                48\n",
       "Closure Unknown at this time     15\n",
       "Layoff Permanent                202\n",
       "Layoff Temporary                314\n",
       "Layoff Type Unknown               8\n",
       "Layoff Unknown at this time      24\n",
       "Name: Closure/Layoff, dtype: int64"
      ]
     },
     "execution_count": 102,
     "metadata": {},
     "output_type": "execute_result"
    }
   ],
   "source": [
    "warn_filter[warn_filter.City == 'Los Angeles'].groupby(['Closure/Layoff'])['Closure/Layoff'].count()"
   ]
  },
  {
   "cell_type": "markdown",
   "id": "fae6d5af",
   "metadata": {},
   "source": [
    "### California Warn"
   ]
  },
  {
   "cell_type": "code",
   "execution_count": 14,
   "id": "a03310f6",
   "metadata": {},
   "outputs": [
    {
     "data": {
      "text/html": [
       "<div>\n",
       "<style scoped>\n",
       "    .dataframe tbody tr th:only-of-type {\n",
       "        vertical-align: middle;\n",
       "    }\n",
       "\n",
       "    .dataframe tbody tr th {\n",
       "        vertical-align: top;\n",
       "    }\n",
       "\n",
       "    .dataframe thead th {\n",
       "        text-align: right;\n",
       "    }\n",
       "</style>\n",
       "<table border=\"1\" class=\"dataframe\">\n",
       "  <thead>\n",
       "    <tr style=\"text-align: right;\">\n",
       "      <th></th>\n",
       "      <th>State</th>\n",
       "      <th>Company</th>\n",
       "      <th>City</th>\n",
       "      <th>Number of Workers</th>\n",
       "      <th>WARN Received Date</th>\n",
       "      <th>Effective Date</th>\n",
       "      <th>Closure/Layoff</th>\n",
       "    </tr>\n",
       "  </thead>\n",
       "  <tbody>\n",
       "    <tr>\n",
       "      <th>1535</th>\n",
       "      <td>California</td>\n",
       "      <td>Hotel Managers Group at the DoubleTree Hotel</td>\n",
       "      <td>Newark</td>\n",
       "      <td>63</td>\n",
       "      <td>2021-07-01</td>\n",
       "      <td>2021-07-31 00:00:00</td>\n",
       "      <td>Layoff Permanent</td>\n",
       "    </tr>\n",
       "    <tr>\n",
       "      <th>1536</th>\n",
       "      <td>California</td>\n",
       "      <td>IAP Worldwide Services Inc.</td>\n",
       "      <td>Fresno</td>\n",
       "      <td>108</td>\n",
       "      <td>2021-07-01</td>\n",
       "      <td>2021-07-29 00:00:00</td>\n",
       "      <td>Layoff Permanent</td>\n",
       "    </tr>\n",
       "    <tr>\n",
       "      <th>1537</th>\n",
       "      <td>California</td>\n",
       "      <td>Farmgirl Flowers</td>\n",
       "      <td>Watsonville</td>\n",
       "      <td>72</td>\n",
       "      <td>2021-07-01</td>\n",
       "      <td>2021-06-29 00:00:00</td>\n",
       "      <td>Closure Permanent</td>\n",
       "    </tr>\n",
       "    <tr>\n",
       "      <th>1538</th>\n",
       "      <td>California</td>\n",
       "      <td>Francis Ford Coppola Presents, LLC</td>\n",
       "      <td>Geyersville</td>\n",
       "      <td>90</td>\n",
       "      <td>2021-07-01</td>\n",
       "      <td>2021-08-02 00:00:00</td>\n",
       "      <td>Layoff Permanent</td>\n",
       "    </tr>\n",
       "    <tr>\n",
       "      <th>1539</th>\n",
       "      <td>California</td>\n",
       "      <td>J.J. Charles Inc dba Use Pallet Company</td>\n",
       "      <td>Fresno</td>\n",
       "      <td>56</td>\n",
       "      <td>2021-07-06</td>\n",
       "      <td>2021-09-03 00:00:00</td>\n",
       "      <td>Closure Permanent</td>\n",
       "    </tr>\n",
       "  </tbody>\n",
       "</table>\n",
       "</div>"
      ],
      "text/plain": [
       "           State                                       Company         City  \\\n",
       "1535  California  Hotel Managers Group at the DoubleTree Hotel       Newark   \n",
       "1536  California                   IAP Worldwide Services Inc.       Fresno   \n",
       "1537  California                              Farmgirl Flowers  Watsonville   \n",
       "1538  California            Francis Ford Coppola Presents, LLC  Geyersville   \n",
       "1539  California       J.J. Charles Inc dba Use Pallet Company       Fresno   \n",
       "\n",
       "     Number of Workers WARN Received Date       Effective Date  \\\n",
       "1535                63         2021-07-01  2021-07-31 00:00:00   \n",
       "1536               108         2021-07-01  2021-07-29 00:00:00   \n",
       "1537                72         2021-07-01  2021-06-29 00:00:00   \n",
       "1538                90         2021-07-01  2021-08-02 00:00:00   \n",
       "1539                56         2021-07-06  2021-09-03 00:00:00   \n",
       "\n",
       "         Closure/Layoff  \n",
       "1535   Layoff Permanent  \n",
       "1536   Layoff Permanent  \n",
       "1537  Closure Permanent  \n",
       "1538   Layoff Permanent  \n",
       "1539  Closure Permanent  "
      ]
     },
     "execution_count": 14,
     "metadata": {},
     "output_type": "execute_result"
    }
   ],
   "source": [
    "warn_filter.head()"
   ]
  },
  {
   "cell_type": "code",
   "execution_count": 15,
   "id": "5bbdd150",
   "metadata": {},
   "outputs": [],
   "source": [
    "warn_ca = warn_filter[warn_filter.State == 'California']"
   ]
  },
  {
   "cell_type": "code",
   "execution_count": 22,
   "id": "af700a24",
   "metadata": {},
   "outputs": [
    {
     "data": {
      "text/plain": [
       "array(['Newark', 'Fresno', 'Watsonville', 'Geyersville', 'El Centro',\n",
       "       'Ridgecrest', 'Lemoore', 'Monterey', 'Seal Beach', 'Moreno',\n",
       "       'Norco', 'Ontario', 'Twentynine Palms', 'San Diego',\n",
       "       'Camp Pendelton', 'Port Magu NAWC', 'Hueneme', 'Bakersfield',\n",
       "       'Fontana', 'Oakland', 'Chico', 'Walnut Creek', 'Vernon',\n",
       "       'Rancho Cucamonga', 'Hayward', 'Commerce', 'Salinas',\n",
       "       'Chula Vista', 'San Mateo', 'Corona', 'San Francisco',\n",
       "       'Los Angeles', 'Irwindale', 'Costa Mesa', 'El Cajon', 'Burlingame',\n",
       "       'Irvine', 'Lake Forest', 'Loma Linda', 'Brisbane', 'Modesto',\n",
       "       'Alameda', 'Chatsworth', 'Hawthorne', 'Inglewood', 'Vista',\n",
       "       'La Jolla', 'Richmond', 'El Dorado Hills', 'Long Beach',\n",
       "       'Adelanto', 'Ontaio', 'Carlsbad', 'Stockton', 'Milpitas',\n",
       "       'Santa Clara', 'Thousand Oaks', 'Compton', 'Sylmar', 'Roseville',\n",
       "       'El Segundo', 'Willows', 'Chino', 'Tustin', 'San Jose', 'Cypress',\n",
       "       'Pasadena', 'Downey', 'Orange', 'Sacramento', 'Colton',\n",
       "       'Emeryville', 'Culver City', 'Rosemead', 'Pomona', 'Monterey Park',\n",
       "       'Menlo Park', 'Tracy', 'San Carlos', 'Albany', 'Mcclellan',\n",
       "       'Yreka', 'Orland', 'Vacaville', 'Rancho Cordova', 'Riverbank',\n",
       "       'Brea', 'Jolon', 'Morgan Hill', 'Los Gatos', 'Capitola', 'Dublin',\n",
       "       'San Ramon', 'Rutherford', 'Sherman Oaks', 'Placentia',\n",
       "       'Yuba City', 'Clovis', 'Mariposa', 'Fremont', 'Redondo Beach',\n",
       "       'Westminister', 'Cordova', 'Gardena', 'Camarillo', 'Pittsburg',\n",
       "       'Santa Fe Springs', 'San Bernardino', 'Barstow', 'Borrego Springs',\n",
       "       'Berkeley', 'Anaheim', 'Torrance', 'Garden Grove', 'La Palma',\n",
       "       'Santa Ana', 'Redding', 'Perris', 'Ventura', 'San Dimas',\n",
       "       'Glendale', 'Maywood', 'San Juan Capistrano', 'Redlands',\n",
       "       'Campbell', 'Alviso', 'Santa Monica', 'Oxnard', 'West Sacramento',\n",
       "       'Beverly Hills', 'Palmdale', 'Palm Desert', 'West Hollywood',\n",
       "       'Universal City', 'Sunnyvale', 'Indian Wells', 'Newport Beach',\n",
       "       'Redwood City', 'Windsor', 'Fullerton', 'Yountville',\n",
       "       'Olympic Valley', 'Moss Landing', 'City of Industry',\n",
       "       'Mountain View', 'Mather', 'South San Francisco', 'Palo Alto',\n",
       "       'Riverside', 'Fairfield', 'Newbury Park', 'Fort Bragg',\n",
       "       'South El Monte', 'Cupertino', 'Carpinteria', 'Fountain Valley',\n",
       "       'Valencia', 'Gonzales', 'Woodland Hills', 'Whittier',\n",
       "       'Foster City', 'Union City', 'Lodi', 'Lathrop', 'Dixon',\n",
       "       'Santa Rosa', 'Davis', 'Angels Camp', 'Westwood', 'Burbank',\n",
       "       'Lompoc', 'Glendora', 'Fallbrook', 'Angelus Oaks', 'Patterson',\n",
       "       'Temecula', 'West Covina', 'Saint Helena', 'El Monte',\n",
       "       'Palm Springs', 'Rancho Palos Verdes', 'Half Moon Bay',\n",
       "       'Los Alamitos', 'Folsom', 'Agoura Hills', 'Danville', 'Madera',\n",
       "       'Turlock', 'Visalia', 'San Marcos', 'Mira Loma', 'Crescent City',\n",
       "       'Ballard', 'Livermore', 'VERNON', 'Point Mugu Nawc', 'Napa',\n",
       "       'Huntington Beach', 'La Puente', 'Foothill Ranch', 'Paramount',\n",
       "       'Carmel', 'Solana Beach', 'Mammoth Lakes', 'Auburn', 'Woodland',\n",
       "       'Capistrano Beach', 'Moreno Valley', 'Arvin', 'South Lake Tahoe',\n",
       "       'San Leandro', 'Encinitas', 'Boron', 'Carson', 'South Gate',\n",
       "       'San Bruno', 'Gilroy', 'San Rafael', 'Escondido', 'Elk Grove',\n",
       "       'Sun Valley', 'Hanford', 'Porterville', 'Arcadia', 'Simi Valley',\n",
       "       'Santa Barbara', 'Petaluma', 'Rocklin', 'La Habra',\n",
       "       'San Luis Obispo', 'Studio City', 'Daly City', 'Rancho Santa Fe',\n",
       "       'National City', 'Encino', 'Marysville', 'Concord', 'Reedley',\n",
       "       'Tulare', 'Hollywood', 'Indio', 'Big Bear Lake', 'Wilmington',\n",
       "       'Cerritos', 'Ukiah', 'Pacoima', 'San Fernando', 'Soledad',\n",
       "       'Oakville', 'Santa Maria', 'Rancho Mirage', 'Hawaiian Gardens',\n",
       "       'South Pasadena', 'Rolling Hills Estates', 'Santa Cruz',\n",
       "       'Laguna Niguel', 'Highland', 'Oceanside', 'Kentfield', 'Novato',\n",
       "       'Dana Point', 'Ceres', 'Laguna Beach', 'Pebble Beach',\n",
       "       'Pleasanton', 'La Quinta', 'Running Springs', 'Monrovia',\n",
       "       'Scotts Valley', 'North Hollywood', 'San Martin', 'Edwards',\n",
       "       'Lake Arrowhead', 'Red Bluff', 'Canoga Park', 'Claremont',\n",
       "       'Healdsburg', 'Citrus Heights', 'San Clemente', 'North Hills',\n",
       "       'Winters', 'Grand Terrace', 'Colma', 'Seaside', 'Fort Irwin',\n",
       "       'Rancho Santa', 'Spreckels', 'Pleasant Hill', 'Rosamond',\n",
       "       'Manteca', 'Poway', 'Montclair', 'Delano', 'Los Altos', 'Saratoga',\n",
       "       'San Pedro', 'La Canada Flintridge', 'Yucaipa',\n",
       "       'Pacific Palisades', 'Westlake Village', 'Del Mar', 'Sonoma',\n",
       "       'Rohnert Park', 'Sausalito', 'Yosemite National Park',\n",
       "       'American Canyon', 'Felton', 'Rio Linda', 'Martinez',\n",
       "       'Harbor City', 'Cathedral City', 'Chino Hills', 'Lincoln',\n",
       "       'Mission Hills', 'Hermosa Beach', 'Rowland Heights', 'Fawnskin',\n",
       "       'Pinole', 'Mc Farland', 'Panorama City', 'Buena Park',\n",
       "       'Pacific Grove', 'Madison', 'Beale Afb', 'Newman',\n",
       "       'Marina del Rey', 'Coronado', 'Rancho Dominguez', 'Stanford',\n",
       "       'Baldwin Park', 'West Hills', 'Willits', 'Los Banos', 'Oroville',\n",
       "       'Northridge', 'Huntington Park', 'La Mirada', 'Lancaster',\n",
       "       'Murrieta', 'Victorville', 'Millbrae', 'Vallejo', 'Playa Vista',\n",
       "       'Azusa', 'San Marino', 'Westminster', 'Corona Del Mar', 'Thermal',\n",
       "       'Mecca', 'Santa Clarita', 'Exeter', 'Malibu', 'Hemet', 'Van Nuys',\n",
       "       'Reseda', 'Temple City', 'Corte Madera', 'Bell Gardens',\n",
       "       'Alhambra', 'Duarte', 'Solvang', 'Death Valley', 'Pacheco',\n",
       "       'Manhattan Beach', 'Stanton', 'Big Sur', 'Montecito', 'Goleta',\n",
       "       'Marina Del Rey', 'Artesia', 'Tehachapi', 'Lakewood', 'La Verne',\n",
       "       'Calabasas', 'Paso Robles', 'Pleasant Grove', 'La Mesa',\n",
       "       'Diamond Bar', 'Cardiff By The Sea', 'Port Hueneme',\n",
       "       'Grover Beach', 'East Rancho Dominguez', 'San Ysidro', 'Wheatland',\n",
       "       'Carmel By The Sea', 'Denair', 'Lakeside', 'Pauma Valley',\n",
       "       'Merced', 'Atwater', 'Lynwood', 'Santa Clarity',\n",
       "       'Hacienda Heights', 'El Portal', 'Menifee', 'Fish Camp', 'Aptos',\n",
       "       'Newhall', 'Brawley', 'Shasta Lake', 'Arcata', 'Antioch',\n",
       "       'Larkspur', 'Montebello', 'TARZANA', 'Taft', 'Diablo',\n",
       "       'Big Bear City', 'Mission Viejo', 'Twin Peaks', 'Industry',\n",
       "       'Hollister', 'Sebastopol', 'Canyon Country', 'Norwalk',\n",
       "       'Winchester', 'Lake Elsinore', 'Lebec', 'Truckee', 'Pico Rivera',\n",
       "       'San Lorenzo', 'Desert Hot Springs', 'FULLERTON', 'Newport Coast',\n",
       "       'Signal Hill', 'Aliso Viejo', 'Venice', 'San Gabriel',\n",
       "       'Playa Del Rey', 'Mill Valley', 'Coachella', 'Walnut',\n",
       "       'Porter Ranch', 'Glen Ellen', 'Oak View', 'Greenbrae', 'Hercules',\n",
       "       'King City', 'Buellton', 'Occidental', 'Altadena', 'Funner',\n",
       "       'Bloomington', 'Sonora', 'Tarzana', 'Firebaugh', 'Tiburon',\n",
       "       'Sutter Creek', 'Rancho Santa Margarita', 'Eastvale', 'El Cerrito',\n",
       "       'Covina', 'Strathmore', 'Rialto', 'Upland', 'Cabazon',\n",
       "       'Cloverdale', 'Pismo Beach', 'Del Rey Oaks', 'Apple Valley',\n",
       "       'Benicia', 'Tupman', 'Shaver Lake', 'Yorba Linda', 'Alpine',\n",
       "       'Belmont', 'Brentwood', 'Valley Village', 'Salida',\n",
       "       'San Juan Bautista', 'Hesperia', 'La Habra Heights', 'Colusa',\n",
       "       'Marina', 'Cotati', 'San Pablo', 'Sunland', 'Jenner',\n",
       "       'CITY OF INDUSTRY', 'Selma', 'Mckinleyville', 'Calexico',\n",
       "       'Coarsegold', 'Granada Hills', 'La Crescenta', 'Ione',\n",
       "       'Tahoe City', 'Calistoga', 'Crockett', 'Quincy', 'Orangevale',\n",
       "       'Moorpark', 'San Jacinto', 'Ripon', 'Carmel Valley', 'Ojai',\n",
       "       'Bellflower', 'Avalon', 'Atascadero', 'Fillmore', 'Chester',\n",
       "       'Bodega Bay', 'Soquel', 'Shafter', 'Santee', 'Laytonville',\n",
       "       'Castro Valley', 'Lafayette', 'Arroyo Grande', 'Tecate', 'Oakdale',\n",
       "       'Guadalupe', 'North Highlands', 'Nipomo', 'Arleta', 'San Juan',\n",
       "       'Crows Landing', 'Yucca Valley', 'Fowler', 'Kingsburg',\n",
       "       'South San', 'Santa Fe', 'Anderson', 'Huntington', 'Rancho',\n",
       "       'Paradise', 'Galt', 'South Lake', 'Rolling Hills', 'West',\n",
       "       'Banning', 'CERRITOS', 'Placerville', 'Rodeo', 'Moffett Field',\n",
       "       'Grass Valley', 'American', 'Wallace', 'Jamul', 'Gridley',\n",
       "       'Laguna Hills', 'Cudahy', 'Montrose', 'China Lake', 'Carmichael',\n",
       "       'Hacienda', 'Coalinga', 'Livingston', 'Lindsay', 'Eureka',\n",
       "       'Manhattan', 'Blythe', 'Edison', 'Castroville', 'Chowchilla',\n",
       "       'Vandenberg AFB', 'Farmersville', 'Atherton', 'California City',\n",
       "       'Jurupa Valley', 'Clairemont', 'Antelope', 'Morro Bay',\n",
       "       'Fair Oaks', 'Orcutt', 'La Canada', 'Ladera Ranch',\n",
       "       'Camp Pendleton', 'Coto De Caza', 'Dinuba', 'Cambria', 'Helm',\n",
       "       'Yosemite National', 'Kerman', 'San Ardo', 'Lost Hills',\n",
       "       'Laguna Woods', 'Terminal Island', 'Los Osos', 'Mountain Pass',\n",
       "       'Trona', 'Somis', 'Santa Paula', 'Heber', 'Niland', 'Westmorland',\n",
       "       'Imperial', 'Escalon', 'French Camp', 'Thornton', 'Joshua Tree',\n",
       "       'Thousand Palms', 'Rolling Hills Estate', 'Gold River', 'Oakley',\n",
       "       'Wasco', 'Korbel', 'Lakeview', 'Vandenberg', 'Herlong', 'Auberry',\n",
       "       'Jackson', 'Loomis', 'Nuevo', 'Ballico',\n",
       "       '2620 Commerce Way, Suite A/B Vista CA 92081',\n",
       "       '6225 Nancy Ridge Dr. San Diego CA 92121',\n",
       "       '7999 Gateway Blvd #320 Newark CA 94560',\n",
       "       '9000 Sunset Boulevard, Suite 1010 West Hollywood CA 90069',\n",
       "       '9877 Waples St. San Diego CA 92121',\n",
       "       'Naval Base Point Loma 4045 Hancock St San Diego CA 92110',\n",
       "       '3055 Clearview Way San Mateo CA 94402',\n",
       "       'NAS North Island San Diego CA 92135',\n",
       "       '1100 Page Mill Road Palo Alto CA 94304',\n",
       "       'San Clemente Island Los Angeles CA 90731',\n",
       "       '2445 E. 12th Street, Unit B Los Angeles CA 90021',\n",
       "       '4242 Campus Point Court, Suite 200 San Diego CA 92121',\n",
       "       '1 Hacker Way Menlo Park CA 94025',\n",
       "       '901 Page Avenue Fremont CA 94538',\n",
       "       '12070 Burke St Santa Fe Springs CA 90670',\n",
       "       '47700 Kato Road Fremont CA 94538',\n",
       "       '10371 Culver Blvd. Culver City CA 90232',\n",
       "       '45201 Fremont Blvd. Fremont CA 94538',\n",
       "       '47400 Kato Road Fremotn CA 94538',\n",
       "       '430 S. Cataract Avenue San Dimas CA 91773',\n",
       "       '2315 Stockton Blvd. Sacramento CA 95817',\n",
       "       '3000 Sillect Avenue Bakersfield CA 93308',\n",
       "       '2 Corporate Dr. South San Francisco CA 94080',\n",
       "       '45500 Fremont Blvd. Fremont CA 94538',\n",
       "       '2700 Medical Center Road Mission Viejo CA 92691',\n",
       "       '7231 Garden Grove Blvd. Suite K Garden Grove CA 92841',\n",
       "       '7300 Medical Center Drive West Hills CA 91307',\n",
       "       '14250 Arminta Street Panorama City CA 91402',\n",
       "       '621 Ruberta, Unit 2 Glendale CA 91201',\n",
       "       '4301 N. Star Way Modesto CA 95356',\n",
       "       '42375 Remington Avenue Temecula CA 92590',\n",
       "       '5950 S. St. Andrews Pl. Los Angeles CA 90047',\n",
       "       '3825 Fabian Way Palo Alto CA 94303',\n",
       "       '14800 South Avalon Blvd. Gardena CA 90248',\n",
       "       '11233 San Fernando Road San Fernando CA 91340',\n",
       "       '1600 Lincoln Ave. Pasadena CA 91103',\n",
       "       '255 Parkshore Drive Folsom CA 95630',\n",
       "       '38 Technology Drive, Suite 100 Irvine CA 92618',\n",
       "       '14613 Bar Harbor Road Fontana CA 92336',\n",
       "       '8380 Pardee Drive Oakland CA 94621',\n",
       "       '404 S. Figueroa Street Los Angeles CA 90071',\n",
       "       '4988 Great America Parkway Santa Clara CA 95054',\n",
       "       '1600 S. Azusa Avenue, Unit 400 City of Industry CA 91748',\n",
       "       '3971 East Airport Ontario CA 91761',\n",
       "       '300 Mission Street San Francisco CA 94105',\n",
       "       '10668 Hickson St El Monte CA 91731',\n",
       "       '2575 S Willow Avenue Bloomington CA 92316',\n",
       "       '6550 Mira Mesa Blvd San Diego CA 92121',\n",
       "       '1100 W. Artesia Blvd Compton CA 90220',\n",
       "       '3700 Countryside Dr. Turlock CA 95382',\n",
       "       '25300 Globe Street Moreno Valley CA 92551',\n",
       "       '8510 Genesee Avenue Costa Verde Shopping Center San Diego CA 92122',\n",
       "       '1340 Storm Pkwy Torrance CA 90501',\n",
       "       '450 Mission Street, Suite 400 San\\n Francisco CA 94105',\n",
       "       '1600 S. Azusa Avenue Unit 400 City of Industry CA 91748',\n",
       "       '157 Technology Drive Irvine CA 92618',\n",
       "       '1242 Los Angeles St. Glendale CA 91204',\n",
       "       '2210 Faraday Avenue, Suite 100 Carlsbad\\n CA 92008',\n",
       "       '2270 Oak Grove Rd Walnut Creek CA 94598',\n",
       "       '130 Market Place San Ramon CA 94583',\n",
       "       '270 E. Grand Avenue South San Francisco CA 94080',\n",
       "       '3938 Horton Street Emeryville CA 94608',\n",
       "       '1900 Highway 99 Gridley CA 95948',\n",
       "       '2300 16th Street #220 San Francisco CA 94103',\n",
       "       '700 Eubanks Drive Vacaville CA 95688',\n",
       "       '2122 N. Plaza Drive Visalia CA 93278',\n",
       "       '1350 Park Ave Emeryville CA 94608',\n",
       "       '2765 Lexington Way San Bernardino CA 92407',\n",
       "       '117 Rancho Rd. Watsonville CA 95076',\n",
       "       '200 W. Pontiac Way Bldg 5 Clovis CA 93612',\n",
       "       '400 Continental Blvd Suite 400 El Segundo CA 90245',\n",
       "       '50 8th Street San Francisco CA 94103',\n",
       "       '800 West Olympic Blvd Los Angeles CA 90015',\n",
       "       '950 West 190th Street Torrance CA 90502',\n",
       "       '990 West 190th Street Torrance CA 90502',\n",
       "       'Fort Hunter Liggett, Building 3360, Hunter Liggett Road Jolon CA 93928',\n",
       "       '5955 De Soto Avenue, Suite 160 Woodland Hills CA 91367',\n",
       "       '10801 National Blvd, Suite 330 Los\\n Angeles CA 90064',\n",
       "       '572 E. Green Street, Suite 300 Pasadena CA 91101',\n",
       "       '1 City Blvd. West, Suite 1650 Orange CA 92868',\n",
       "       '200 Science Drive Moorpark CA 93021',\n",
       "       '2430 Conejo Spectrum St. Thousand Oaks CA 91320',\n",
       "       '8360 Belvedere Ave Sacramento CA 95826',\n",
       "       '46200 Landing Parkway Fremont CA 94538',\n",
       "       '2926 Tulare Fresno CA 93721',\n",
       "       '1752 S. Clementine St. Anaheim CA 92802',\n",
       "       '3 Centerpointe Drive La Palma CA 90623',\n",
       "       '14972 Sand Canyon Avenue Irvine CA 92618',\n",
       "       '9360 Towne Centre Drive San Diego CA 92121',\n",
       "       '7661 Becker Road Davis CA 95618',\n",
       "       '702 American Way Glendale CA 91210',\n",
       "       '250 Bon Air Road Greenbrae CA 94904',\n",
       "       '1240 S Eliseo Dr Greenbrae CA 94904',\n",
       "       '1300 S Eliseo Dr Greenbrae CA 94904',\n",
       "       '75 Rowland Way Novato CA 94945',\n",
       "       '3950 Civic Center Drive San Rafael CA 94903',\n",
       "       '211 Gateway Rd West, Suite 201 Napa CA 94558',\n",
       "       '10912 Katella Ave Garden Grove CA 92804',\n",
       "       '975 Island Drive Redwood City CA 94065',\n",
       "       '53001 Oasis Rd. King City CA 93930',\n",
       "       '1815 Egbert Avenue San Francisco CA 94124',\n",
       "       '1000 Greenley Rd. Sonora CA 95370',\n",
       "       '2159 Bay St. Los Angeles CA 90021',\n",
       "       '1401 Garces Hwy Delano CA 93215',\n",
       "       '2615 Chester Avenue Bakersfield CA 93301',\n",
       "       '1100 Magellan Drive Tehachapi CA 93561',\n",
       "       '135 Woodland Ave. Woodland CA 95695',\n",
       "       '732 N Norma Street, Unit B Ridgecrest CA 93555',\n",
       "       '780 S Airport Blvd. San Francisco CA 94128',\n",
       "       '3080 Hilltop Road Moss Landing CA 95039',\n",
       "       '1670 Champagne Avenue Ontario CA 91761',\n",
       "       '200 El Pueblo Road Scotts Valley CA 95066',\n",
       "       '5770 Peachtree Street Los Angeles CA 90040',\n",
       "       '2031 Dome Lane Mcclellan CA 95652',\n",
       "       '7825 Fay Avenue Suite 160 La Jolla CA 92037',\n",
       "       '3043 Townsgate Road Westlake Village CA 91361',\n",
       "       '112 Lakeview Canyon Westlake Village CA 91361',\n",
       "       '251 S. Lake Avenue Pasadena CA 91101',\n",
       "       '1200 9th Avenue San Francisco CA 94122',\n",
       "       '6101 Condor Drive Moorpark CA 93021',\n",
       "       '14528 Bonelli St. City of Industry CA 91746',\n",
       "       '5717 Pacific Center Drive Suite 200 San Diego CA 92121',\n",
       "       '353 Sacramento St. Suite 1300 San\\n Francisco CA 94111',\n",
       "       '1875 S. Bascom Avenue Suite 550\\n Campbell CA 95008',\n",
       "       '200 E. Baker Street, Suite 100 Costa Mesa CA 92626',\n",
       "       '3443 East Central Avenue Fresno CA 93725',\n",
       "       '10181 Scripps Gateway Ct San Diego CA 92131',\n",
       "       '10159 Scripps Gateway Ct. San Diego CA 92131',\n",
       "       '640 W. 2nd Street Antioch CA 94509',\n",
       "       '29903 Agoura Road Agoura Hills CA 91301',\n",
       "       '25725 Jeronimo Rd Mission Viejo CA 92691',\n",
       "       '3013 Douglas Blvd Roseville CA 95661',\n",
       "       '1501 Mariposa Street, Suite 312 San\\n Francisco CA 94107',\n",
       "       '800 N. State College Blvd. Fullerton CA 92831',\n",
       "       'Building 6100 Barstow Road Fort Irwin CA 92310',\n",
       "       'Bicycle Lake Army Airfield 6201A Westbrook Ave. Fort Irwin CA 92310',\n",
       "       '5210 Pacific Concourse Drive Los Angeles CA 90045',\n",
       "       '4110 Wood Road Oxnard CA 93030',\n",
       "       '4000 Central Avenue Camarillo CA 93010',\n",
       "       '15400 Sherman Way, Suite 400 Van Nuys CA 91406',\n",
       "       '50 8th St San Francisco CA 94103',\n",
       "       '11222 Flintkote Avenue San Diego CA 92121',\n",
       "       '16761 Via Del Campo Ct. San Diego CA 92127',\n",
       "       '16825 Via Del Campo Ct. San Diego CA 92127',\n",
       "       '16969 Mesamint St. San Diego CA 92127',\n",
       "       '10880 Thornmint Rd. San Diego CA 92127',\n",
       "       '16530 Via Esprillo San Diego CA 92127',\n",
       "       '16510 Via Esprillo San Diego CA 92127',\n",
       "       '901 E. Alosta Ave. Azusa CA 91702',\n",
       "       '2150 S. Parco Avenue Ontario CA 91761',\n",
       "       '75 Nielson Street Watsonville CA 95076',\n",
       "       '2271 Cosmos Court Carlsbad CA 92011',\n",
       "       '1001 El Camino Ave Corona CA 92879',\n",
       "       'Serna Center, 5735 47th Avenue Sacramento CA 95824',\n",
       "       '51 Rio Robles San Jose CA 95134',\n",
       "       '4187 Temple City Blvd. Rosemead CA 91770',\n",
       "       '6250 Sycamore Canyon Blvd. Riverside CA 92507',\n",
       "       '330 Park Blvd. Room #555 San Diego CA 92101',\n",
       "       '151 Van Houten Ave. El Cajon CA 92020',\n",
       "       '649 W. Mission Ave. Room 2400\\n Escondido CA 92025',\n",
       "       '4389 Imperial Ave. San Diego CA 92113',\n",
       "       '3708 Ocean Ranch Blvd Oceanside CA 92056',\n",
       "       '1111 Bay Blvd., Suite E Chula Vista CA 91911',\n",
       "       '1040 S. Vintage Ave., Bldg. A Ontario CA 91761',\n",
       "       '2343 Fillmore Street San Francisco CA 94115',\n",
       "       '150 Rose Orchard Way San Jose CA 95134',\n",
       "       '210 Main Street Venice CA 90291',\n",
       "       '3939 Crenshaw Blvd Los Angeles CA 90008',\n",
       "       '288 N El Camino Real, Ste B Encinitas CA 92024',\n",
       "       '1331 Jason Way Santa Maria CA 93455',\n",
       "       '28454 Livingston Ave. Valencia CA 91355',\n",
       "       '4200 West Valley Boulevard Pomona CA 91769',\n",
       "       '7825 San Leandro Street Oakland CA 94621',\n",
       "       '16350 Gothard Street Huntington Beach CA 92647',\n",
       "       '2537 Willow St. Oakland CA 94607',\n",
       "       '12844 Excelsior Dr. Norwalk CA 90650',\n",
       "       '1545 W. Roosevelt St. Azusa CA 91702',\n",
       "       '300 S. Park Avenue Suite 300 Pomona CA 91766',\n",
       "       '1601 Monte Vista Avenue Suite 275\\n Claremont CA 91711',\n",
       "       '300 S. Highland Springs Ave. Suite 10-J Banning CA 92220',\n",
       "       '12209 Hesperia Road Suite E Victorville CA 92395',\n",
       "       '6th 42210 Street Lancaster CA 93534',\n",
       "       '110 E. Carson St. Carson CA 90745',\n",
       "       '350 W Rincon Street Corona CA 92880',\n",
       "       '1111 Lockheed Mountain Way Bid. # 157 Sunnyvale CA 94086',\n",
       "       '1 City Blvd. Orange CA 92868',\n",
       "       '2858 Loker Ave. East San Diego CA 92101',\n",
       "       '649 Benet Rd. Oceanside CA 92058',\n",
       "       '1630 McCarthy Blvd. Milpitas CA 95035',\n",
       "       '2080 Enterprise Blvd. West Sacramento CA 95691',\n",
       "       '30800 Palos Verdes Drive East Rancho Palos Verdes CA 90275',\n",
       "       '455 Mission Bay Boulevard South San Francisco CA 94158',\n",
       "       '1601 E. Olympic Blvd. Suite 315-318 Los Angeles CA 90021',\n",
       "       '85 Willow Road Menlo Park CA 94025',\n",
       "       '1800 S. Grand Ave Santa Ana CA 92705',\n",
       "       '18700 Ventura Boulevard, Suite #190\\n Tarzana CA 91356',\n",
       "       '110 South G Street Perris CA 92570',\n",
       "       '5960 El Camino Real Carlsbad CA 92008',\n",
       "       '2801 Roosevelt Lane Antioch CA 94509',\n",
       "       '3890 Railroad Avenue Pittsburg CA 94565',\n",
       "       '2555 East Leland Road Pittsburg CA 94565',\n",
       "       '55 Castlewood Drive Pittsburg CA 94565',\n",
       "       '2131 Crestview Lane Pittsburg CA 94565',\n",
       "       '1203 West 20th Street Antioch CA 94509',\n",
       "       '1931 Mokelumne Drive Antioch CA 94531',\n",
       "       '204 Odessa Avenue Pittsburg CA 94565',\n",
       "       '9333 Imperial Hwy Downey CA 90242',\n",
       "       '12254 Bellflower Blvd. Downey CA 90242',\n",
       "       '393 E. Walnut St. Pasadena CA 91188',\n",
       "       '1600 East St. Andrew Place Santa Ana CA 92705',\n",
       "       '415 Kearny St. San Francisco CA 94108',\n",
       "       '112 Lakeview Canyon Road Westlake Village CA 91361',\n",
       "       'One Baxter Way, Suite 260 Westlake Village CA 91362',\n",
       "       '555 12th Street, 6th Floor Oakland CA 94607',\n",
       "       '4024 Radford Avenue Studio City CA 91604',\n",
       "       '3635 Afton Rd. San Diego CA 92123',\n",
       "       '180 W. Merced Avenue Delano CA 93216',\n",
       "       '28454 Livingston Ave Valencia CA 91355',\n",
       "       '4 Park Plaza, Suite 1500 Irvine CA 92614',\n",
       "       '360 North K Street Tulare CA 93274',\n",
       "       '25430 Road 140 Visalia CA 93291',\n",
       "       '1660 Tide Ct. Woodland CA 95776',\n",
       "       '7580 Cherry Avenue Fontana CA 92336',\n",
       "       '16550 Via Esprillo San Diego CA 92127',\n",
       "       '901 Bay Marina Drive National City CA 91950',\n",
       "       '800 Chestnut Street San Francisco CA 94133',\n",
       "       '111 W. Ocean Blvd., Ste. 1800 Long Beach CA 90802',\n",
       "       '112 Lakeview Canyon Road Thousand Oaks CA 91362',\n",
       "       '3143 Townsgate Road Thousand Oaks CA 91361',\n",
       "       '575 E. Weber Avenue Compton CA 90222',\n",
       "       '1020 Center Drive Santa Rosa CA 95403',\n",
       "       '3555 Sonoma HIghway Santa Rosa CA 95409',\n",
       "       '3315 Airway Drive Santa Rosa CA 95403',\n",
       "       '5235 East Hunter Avenue Anaheim CA 92807',\n",
       "       '205 Technology Drive, Suite 200 Irvine CA 92618',\n",
       "       '5808 W. Sunset Blvd. Los Angeles CA 90028',\n",
       "       '2211 N. First St. San Jose CA 95131',\n",
       "       'Operations Group Building 990, Inner Loop Road Fort Irwin CA 92310',\n",
       "       '1600 E. St. Andrew Place Santa Ana CA 92705',\n",
       "       '301 N. Lake Avenue, Suite 500, Pasadena, California Pasadena CA 91101',\n",
       "       '1003 E. Brier Drive San Bernardino CA 92408',\n",
       "       '199 Frank W. Circle Stockton CA 95206',\n",
       "       '4101 Well Tech Way Bakersfield CA 93308',\n",
       "       '14425 Clark Avenue City of Industry CA 91745',\n",
       "       '21684 8th Street East, Suite 400 Sonoma CA 95476',\n",
       "       'LAX Tom Bradley Terminal 380 World Way, Box N-22 Los Angeles CA 90045',\n",
       "       '17411 E. Valley Blvd. City of Industry CA 91744',\n",
       "       '7901 Frost Street San Diego CA 92123',\n",
       "       'SFO PO Box 251925 San Francisco CA 94125',\n",
       "       '5500 Ming Avenue, Suite 140 Bakersfield\\n CA 93309',\n",
       "       '1400 Reynolds Avenue, Suite 160 Irvine\\n CA 92614',\n",
       "       '73321 Fred Waring Dr. Palm Desert CA 92260',\n",
       "       '29995 Technology Drive, Suite 200\\n Murrieta CA 92563',\n",
       "       '60 East 9th Street Upland CA 91786',\n",
       "       '5050 Murphy Canyon Rd Suite 150 San Diego CA 92123',\n",
       "       '889 Murray Ave San Luis Obispo CA 93405',\n",
       "       '4141 State Street E-12/13 Santa Barbara CA 93110',\n",
       "       '990 Enchanted Way #100 Simi Valley CA 93065',\n",
       "       '940 S. Santa Fe Avenue Vista CA 92084',\n",
       "       '300 California Street, 7th Floor San Francisco CA 94104',\n",
       "       '9994 County Farm Rd Riverside CA 92503',\n",
       "       '2710 Media Center Drive, Building #6 Suite\\n 150 Los Angeles CA 90065',\n",
       "       '65500 Lincoln Street Mecca CA 92254',\n",
       "       '88100 58th Avenue Thermal CA 92274',\n",
       "       '6200 Franklin Blvd. Suite 100 Sacramento\\n CA 95824',\n",
       "       '185 Constitution Drive Menlo Park CA 94025',\n",
       "       '606 E. Huntington Dr. Monrovia CA 91016',\n",
       "       '3580 Wilshire Blvd., Suite 200 Los Angeles CA 90010',\n",
       "       '15283 Pahute Ave. Victorville CA 92395',\n",
       "       '375 W. Hospitality Lane San Bernardino CA 92408',\n",
       "       '5353 Mission Center Rd., Ste. 300 San Diego CA 92108',\n",
       "       '17400 Laguna Canyon Road Suite 400\\n Irvine CA 92618',\n",
       "       '3250 Patterson Road Riverbank CA 95367',\n",
       "       '475 Brannan Street, Suite 230 San\\n Francisco CA 94107'],\n",
       "      dtype=object)"
      ]
     },
     "execution_count": 22,
     "metadata": {},
     "output_type": "execute_result"
    }
   ],
   "source": [
    "warn_ca.City.unique()"
   ]
  },
  {
   "cell_type": "markdown",
   "id": "f909c3a2",
   "metadata": {},
   "source": [
    "#### Nocited: The column of City needs to be clean."
   ]
  },
  {
   "cell_type": "code",
   "execution_count": 24,
   "id": "8a304aa3",
   "metadata": {},
   "outputs": [
    {
     "data": {
      "text/plain": [
       "7526"
      ]
     },
     "execution_count": 24,
     "metadata": {},
     "output_type": "execute_result"
    }
   ],
   "source": [
    "warn_ca.Company.nunique()"
   ]
  },
  {
   "cell_type": "code",
   "execution_count": null,
   "id": "3db5fc0b",
   "metadata": {},
   "outputs": [],
   "source": []
  },
  {
   "cell_type": "markdown",
   "id": "aee1277b",
   "metadata": {},
   "source": [
    "### Texas Warn"
   ]
  },
  {
   "cell_type": "code",
   "execution_count": 28,
   "id": "3df05024",
   "metadata": {},
   "outputs": [],
   "source": [
    "warn_te = warn_filter[warn_filter.State == 'Texas']"
   ]
  },
  {
   "cell_type": "code",
   "execution_count": 29,
   "id": "8f30aaab",
   "metadata": {},
   "outputs": [
    {
     "data": {
      "text/plain": [
       "array(['Dallas', 'San Antonio', 'Waco', 'Houston', 'Ft. Worth',\n",
       "       'Greenville', 'Laredo', 'Sugar Land', 'Spring', 'Coppell',\n",
       "       'El Paso', 'Tatum', 'Austin', 'Garland', 'Carrollton',\n",
       "       'The Woodlands', 'New Boston', 'Killeen', 'Denver City', 'Andrews',\n",
       "       'Big Spring', 'Kenedy', 'Victoria', 'Raymondville', 'Pleasanton',\n",
       "       'Wichita Falls', 'Farmers Branch', 'Fort Worth', 'Paris',\n",
       "       'Corpus Christi', 'Richardson', 'Irving', 'Lewisville',\n",
       "       'San Angelo', 'Longview', 'Nacogdoches', 'Justin', 'Haslet',\n",
       "       'Grand Prairie', 'Weslaco', 'Denison', 'Palestine', 'Allen',\n",
       "       'Mansfield', 'McAllen', 'Karnes City', 'Addison', 'Mission',\n",
       "       'San Juan', 'DFW Airport', 'Rockwall', 'Vidor', 'Round Rock',\n",
       "       'Nederland', 'San Benito', 'Bellaire', 'Universal City', 'Baytown',\n",
       "       'New Braunfels', 'Liberty', 'Midland', 'Webster', 'Galveston',\n",
       "       'Angleton', 'League City', 'Elmendorf', 'Falls City', 'Arlington',\n",
       "       'Plano', 'Big Lake', 'Dayton', 'Port Neches', 'Lancaster',\n",
       "       'Muleshoe', 'Alice', 'Crystal City', 'Eagle Pass', 'Falfurrias',\n",
       "       'Floydada', 'Mathis', 'Pearsall', 'Plainview', 'Rio Grande City',\n",
       "       'Roma', 'Uvalde', 'Lubbock', 'Tomball', 'Katy', 'Cypress',\n",
       "       'Southlake', 'Corpus Ch', 'Glen Rose', 'The Colony', 'Pharr',\n",
       "       'Orange', 'Amarillo', 'Roanoke', 'La Porte', 'Bay City', 'Clute',\n",
       "       'Henderson', 'Grapevine', 'Westlake', 'Seguin', 'Pantego',\n",
       "       'Friendswood', 'Odessa', 'Fredericksburg', 'Beaumont', 'Crane',\n",
       "       'Kermit', 'Hughes Springs', 'Kilgore', 'Richmond', 'Livingston',\n",
       "       'Harlingen', 'Santa Fe', 'Hillsboro', 'Humble', 'Pasadena',\n",
       "       'Marshall', 'Gun Barrel City', 'Athens', 'Huntsville',\n",
       "       'Lake Jackson', 'Kerrville', 'Brownsville', 'Bryan', 'Mexia',\n",
       "       'Stafford', 'Tyler', 'Shenandoah', 'College Station', 'Conroe',\n",
       "       'Kenney', 'Selma', 'Lufkin', 'Mesquite', 'Denton', 'Frisco',\n",
       "       'Burleson', 'Texarkana', 'San Marcos', 'DeSoto', 'Hurst',\n",
       "       'Abilene', 'Euless', 'Godley', 'Flower Mound', 'Cibolo', 'Poteet',\n",
       "       'Robstown', 'McKinney', 'Diboll', 'Monahans', 'Lamesa', 'Pampa',\n",
       "       'Barnhart', 'Ozona', 'Midfield', 'Pearland', 'Pecos', 'Alleyton',\n",
       "       'Woodlands', 'Boerne', 'Buda', 'Leon Springs', 'Georgetown',\n",
       "       'Sugarland', 'Ennis', 'Brownfield', 'Duncanville', 'Pflugerville',\n",
       "       'Cedar Park', 'Floresville', 'Childress', 'Blum', 'Copperas Cove',\n",
       "       'Whitehouse', 'Kyle', 'Bastrop', 'Brookshire', 'South Padre Is.',\n",
       "       'Sherman', 'Bedford', 'Weatherford', 'Decatur', 'Mineral Wells',\n",
       "       'Boyd', 'Texas City', 'Cleburne', 'Stephenville', 'Cedar Hill',\n",
       "       'Edinburg', 'Del Rio', 'Encinal', 'Stockdale', 'Harker Heights',\n",
       "       'Temple', 'Rosenberg', 'New Caney', 'Aledo', 'Sachse',\n",
       "       'Channelview', 'Missouri City', 'Hudson Oaks', 'Terrell',\n",
       "       'Lake Worth', 'Hale Center', 'Crosby', 'Deer Park', 'Murphy',\n",
       "       'Schertz', 'Live Oak', 'Converse', 'Canyon Lake', 'Helotes',\n",
       "       'Kirby', 'Richland Hills', 'Seabrook', 'Saginaw', 'Magnolia',\n",
       "       'Lone Star', 'Spring Branch', 'Canyon', 'Hereford', 'Keller',\n",
       "       'Sealy', 'Burke', 'Galena Park', 'Hutchins', 'Lackland AFB',\n",
       "       'Brownwood', 'Montgomery', 'Bellville', 'Schulenburg', 'Howe',\n",
       "       'Mont Belvieu', 'Colleyville', 'Rockdale', 'Cameron', 'Brady',\n",
       "       'Von Ormy', 'Bergstrom AFB', 'Voca', 'Fort Hood', 'Stamford',\n",
       "       'Edna', 'Brenham', 'Bellmead', 'Northlake', 'Midlothian', 'Bishop',\n",
       "       'Gregory', 'Lake Dallas', 'Elgin', 'Mount Pleasant', 'Waxahachie',\n",
       "       'Jacksboro', 'Trinity', 'Sanger', 'Old Ocean', 'Bartlett',\n",
       "       'Bridgeport', 'Balch Springs', 'Eden', 'Aransas Pass',\n",
       "       'Carrizo Springs', 'Watauga', 'Smithville', 'La Grange', 'Taylor',\n",
       "       'Carthage', 'Beckville', 'Point Comfort', 'Jewett', 'Wickett',\n",
       "       'Sheppard AFB', 'Sulphur Springs', 'N. Richland Hills',\n",
       "       'Gatesville', 'Randolph AFB', 'Fort Bliss', 'Cuero', 'Haskell',\n",
       "       'Kennedale', 'Beasley', 'Alvin', 'Winfield', 'Mt Pleasant',\n",
       "       'Minden', 'La Marque', 'Freeport', 'Little Elm', 'Gainesville',\n",
       "       'Grapeland', 'Walnut Springs', 'Willis', 'Hondo', 'Port Arthur',\n",
       "       'Hawkins', 'Yorktown', 'Joshua', 'S Padre Island', 'Woodsboro',\n",
       "       'Skidmore', 'Beeville', 'Refugio', 'George West', 'Goliad',\n",
       "       'Manor', 'Alvarado', 'Haltom City', 'Atlanta', 'Fort Stockton',\n",
       "       'Crockett', 'Snyder', 'Jacksonville', 'Mt Vernon', 'Littlefield',\n",
       "       'Clarksville', 'Gilmer', 'Electra', 'Marfa', 'Giddings',\n",
       "       'Corsicana', 'Groesbeck', 'Seadrift', 'Socorro', 'Odesssa',\n",
       "       'Port Lavaca', 'San Diego', 'Breckenridge', 'Burnet', 'Center',\n",
       "       'Newton', 'Leander', 'Dyess AFB', 'Kingsville', 'McGregor',\n",
       "       'Longview/Tyler', 'Fort Sam Houston', 'Belton', 'Post'],\n",
       "      dtype=object)"
      ]
     },
     "execution_count": 29,
     "metadata": {},
     "output_type": "execute_result"
    }
   ],
   "source": [
    "warn_te.City.unique()"
   ]
  },
  {
   "cell_type": "code",
   "execution_count": 31,
   "id": "203e6268",
   "metadata": {},
   "outputs": [
    {
     "data": {
      "text/plain": [
       "344"
      ]
     },
     "execution_count": 31,
     "metadata": {},
     "output_type": "execute_result"
    }
   ],
   "source": [
    "warn_te.City.nunique()"
   ]
  },
  {
   "cell_type": "code",
   "execution_count": 32,
   "id": "2ab165d6",
   "metadata": {},
   "outputs": [
    {
     "data": {
      "text/plain": [
       "2714"
      ]
     },
     "execution_count": 32,
     "metadata": {},
     "output_type": "execute_result"
    }
   ],
   "source": [
    "warn_te.Company.nunique()"
   ]
  },
  {
   "cell_type": "code",
   "execution_count": null,
   "id": "ea64c509",
   "metadata": {},
   "outputs": [],
   "source": []
  }
 ],
 "metadata": {
  "kernelspec": {
   "display_name": "Python 3 (ipykernel)",
   "language": "python",
   "name": "python3"
  },
  "language_info": {
   "codemirror_mode": {
    "name": "ipython",
    "version": 3
   },
   "file_extension": ".py",
   "mimetype": "text/x-python",
   "name": "python",
   "nbconvert_exporter": "python",
   "pygments_lexer": "ipython3",
   "version": "3.9.13"
  }
 },
 "nbformat": 4,
 "nbformat_minor": 5
}
