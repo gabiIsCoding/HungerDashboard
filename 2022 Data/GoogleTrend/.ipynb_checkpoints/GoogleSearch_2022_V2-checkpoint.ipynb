{
 "cells": [
  {
   "cell_type": "code",
   "execution_count": 1,
   "id": "b68e41e2",
   "metadata": {},
   "outputs": [
    {
     "data": {
      "application/javascript": [
       "IPython.notebook.set_autosave_interval(20000)"
      ]
     },
     "metadata": {},
     "output_type": "display_data"
    },
    {
     "name": "stdout",
     "output_type": "stream",
     "text": [
      "Autosaving every 20 seconds\n"
     ]
    }
   ],
   "source": [
    "%autosave 20\n",
    "\n",
    "import pandas as pd\n",
    "import numpy as np\n",
    "\n",
    "# print all the outputs in a cell\n",
    "from IPython.core.interactiveshell import InteractiveShell\n",
    "InteractiveShell.ast_node_interactivity = \"all\"\n",
    "\n",
    "pd.set_option('display.max_columns', None)\n",
    "pd.set_option('display.max_rows', None)"
   ]
  },
  {
   "cell_type": "markdown",
   "id": "f691e14e",
   "metadata": {},
   "source": [
    "## Download Data"
   ]
  },
  {
   "cell_type": "markdown",
   "id": "9267714c",
   "metadata": {},
   "source": [
    "### Function1 - Transfer csv to formal table"
   ]
  },
  {
   "cell_type": "code",
   "execution_count": 2,
   "id": "0f086ddc",
   "metadata": {},
   "outputs": [],
   "source": [
    "## transfer csv to formal table\n",
    "\n",
    "def google_to_table(cur_csv):\n",
    "    \n",
    "    # 1. create list for region need \n",
    "    region_need = ['San Diego CA', \n",
    "               'Los Angeles CA', \n",
    "               'San Francisco-Oakland-San Jose CA', \n",
    "               'Austin TX', \n",
    "               'Dallas-Ft. Worth TX', 'San Antonio TX']\n",
    "    \n",
    "    cur_csv = cur_csv.reset_index()\n",
    "    cur_csv.rename(columns={'index':'Region','Category: All categories':'Search'}, inplace=True)\n",
    "    \n",
    "    \n",
    "    # 2. create Year, Month by datetime\n",
    "\n",
    "    # 2.1 transfer str to datetime \n",
    "    from datetime import datetime\n",
    "    date_string = cur_csv.iloc[0,1][-9:-1]\n",
    "    #del space\n",
    "    date_string = date_string.strip()\n",
    "    \n",
    "    \n",
    "    cur_csv['datetime'] = datetime.strptime(date_string, '%m/%d/%y')\n",
    "\n",
    "    # 2.2 create Year, Month by datetime\n",
    "    cur_csv['Year'] = cur_csv['datetime'].dt.year\n",
    "    cur_csv['Month'] = cur_csv['datetime'].dt.month\n",
    "    \n",
    "    \n",
    "    \n",
    "    # 3. choose rows by region_need - only 6 \n",
    "    idx = []\n",
    "\n",
    "    for i in range(len(cur_csv)):\n",
    "        for j in range(len(region_need)):\n",
    "            if cur_csv.iloc[i, 0] == region_need[j]:\n",
    "                idx.append(i)\n",
    "\n",
    "    cur_csv = cur_csv.loc[(idx)]\n",
    "\n",
    "    # 4. fillna search with nan\n",
    "    cur_csv.fillna(0, inplace=True)\n",
    "\n",
    "    # 5. special case, when search = <1\n",
    "    for i in range(len(cur_csv)):\n",
    "        if cur_csv.iloc[(i, 1)] == '<1':\n",
    "            cur_csv.iloc[(i, 1)] = 0\n",
    "            \n",
    "    # 6. adjust dtype for columns\n",
    "    cur_csv['Search'] = cur_csv['Search'].astype('int32')\n",
    "    cur_csv.drop(columns='datetime', inplace=True)\n",
    "    \n",
    "    return cur_csv"
   ]
  },
  {
   "cell_type": "markdown",
   "id": "52776715",
   "metadata": {},
   "source": [
    "### Function2 - Put all csv files into one list"
   ]
  },
  {
   "cell_type": "code",
   "execution_count": 3,
   "id": "b8072538",
   "metadata": {
    "scrolled": true
   },
   "outputs": [
    {
     "name": "stdout",
     "output_type": "stream",
     "text": [
      "The size of ['calfresh_2022_09.csv', 'calfresh_2022_08.csv', 'calfresh_2022_05.csv', 'calfresh_2022_11.csv', 'calfresh_2022_10.csv', 'calfresh_2022_04.csv', 'calfresh_2022_12.csv', 'calfresh_2022_06.csv', 'calfresh_2022_07.csv', 'calfresh_2022_03.csv', 'calfresh_2022_02.csv', 'calfresh_2022_01.csv']is: 12\n",
      " \n",
      "The size of ['foodbank_2022_07.csv', 'foodbank_2022_12.csv', 'foodbank_2022_06.csv', 'foodbank_2022_10.csv', 'foodbank_2022_04.csv', 'foodbank_2022_05.csv', 'foodbank_2022_11.csv', 'foodbank_2022_01.csv', 'foodbank_2022_02.csv', 'foodbank_2022_03.csv', 'foodbank_2022_08.csv', 'foodbank_2022_09.csv']is: 12\n",
      " \n",
      "The size of ['foodpantry_2022_08.csv', 'foodpantry_2022_09.csv', 'foodpantry_2022_010.csv', 'foodpantry_2022_02.csv', 'foodpantry_2022_03.csv', 'foodpantry_2022_01.csv', 'foodpantry_2022_04.csv', 'foodpantry_2022_05.csv', 'foodpantry_2022_11.csv', 'foodpantry_2022_07.csv', 'foodpantry_2022_12.csv', 'foodpantry_2022_06.csv']is: 12\n",
      " \n",
      "The size of ['foodstamp_2022_03.csv', 'foodstamp_2022_02.csv', 'foodstamp_2022_01.csv', 'foodstamp_2022_05.csv', 'foodstamp_2022_11.csv', 'foodstamp_2022_10.csv', 'foodstamp_2022_04.csv', 'foodstamp_2022_12.csv', 'foodstamp_2022_06.csv', 'foodstamp_2022_07.csv', 'foodstamp_2022_09.csv', 'foodstamp_2022_08.csv']is: 12\n",
      " \n",
      "The size of ['supplemental nutrition assistance program_2022_10.csv', 'supplemental nutrition assistance program_2022_04.csv', 'supplemental nutrition assistance program_2022_05.csv', 'supplemental nutrition assistance program_2022_11.csv', 'supplemental nutrition assistance program_2022_07.csv', 'supplemental nutrition assistance program_2022_12.csv', 'supplemental nutrition assistance program_2022_06.csv', 'supplemental nutrition assistance program_2022_02.csv', 'supplemental nutrition assistance program_2022_03.csv', 'supplemental nutrition assistance program_2022_01.csv', 'supplemental nutrition assistance program_2022_08.csv', 'supplemental nutrition assistance program_2022_09.csv']is: 12\n",
      " \n"
     ]
    }
   ],
   "source": [
    "# put all csv file into one list\n",
    "\n",
    "import os\n",
    "import csv\n",
    "\n",
    "nameforfolders = ['calfresh_2022', 'foodbank_2022', 'foodpantry_2022', 'foodstamp_2022', 'supplemental nutrition assistance program_2022']\n",
    "lookup = {}\n",
    "\n",
    "\n",
    "for googleword in nameforfolders:\n",
    "    lookup[googleword] = None\n",
    "    \n",
    "    #each google word has one folder\n",
    "    folder_path = '/Users/chensumei/Desktop/Ram Paper/2022 Data/GoogleTrend/' + googleword\n",
    "\n",
    "    # each folder have 12 files\n",
    "    # List all files in the folder\n",
    "    files = os.listdir(folder_path)\n",
    "    print('The size of ' + str(files) + 'is: ' + str(len(files)))\n",
    "    print(' ')\n",
    "\n",
    "    # list to save the names of 12 files \n",
    "    tem = []\n",
    "\n",
    "    # Iterate over the files\n",
    "    for file in files:\n",
    "        file_path = os.path.join(folder_path, file)  # Create the full file path\n",
    "        test = pd.read_csv(file_path)\n",
    "        tem.append(test)\n",
    "        \n",
    "    lookup[googleword] = tem"
   ]
  },
  {
   "cell_type": "markdown",
   "id": "dead1d1b",
   "metadata": {},
   "source": [
    "### Create a empty dataframe to save the cleaning table"
   ]
  },
  {
   "cell_type": "code",
   "execution_count": 4,
   "id": "1fa690d7",
   "metadata": {},
   "outputs": [],
   "source": [
    "#create a empty dataframe to save the cleaning table\n",
    "df = pd.DataFrame()\n",
    "\n",
    "for word in nameforfolders:\n",
    "    # name of the word - no need '_2022'\n",
    "    x_name = str(word)[0:-5]\n",
    "    \n",
    "    for j in range(12):\n",
    "        # table of the word\n",
    "        x = lookup[word][j]\n",
    "\n",
    "        # after cleaning\n",
    "        y = google_to_table(x)\n",
    "\n",
    "        # add column 'Searchword' to the table\n",
    "        y['Searchterm'] = x_name\n",
    "\n",
    "        df = pd.concat([df, y], join='outer')"
   ]
  },
  {
   "cell_type": "code",
   "execution_count": 5,
   "id": "f8c0ca1d",
   "metadata": {},
   "outputs": [],
   "source": [
    "df = df.reset_index().drop(columns='index')"
   ]
  },
  {
   "cell_type": "code",
   "execution_count": 6,
   "id": "559308d4",
   "metadata": {
    "scrolled": true
   },
   "outputs": [
    {
     "name": "stdout",
     "output_type": "stream",
     "text": [
      "<class 'pandas.core.frame.DataFrame'>\n",
      "RangeIndex: 360 entries, 0 to 359\n",
      "Data columns (total 5 columns):\n",
      " #   Column      Non-Null Count  Dtype \n",
      "---  ------      --------------  ----- \n",
      " 0   Region      360 non-null    object\n",
      " 1   Search      360 non-null    int32 \n",
      " 2   Year        360 non-null    int64 \n",
      " 3   Month       360 non-null    int64 \n",
      " 4   Searchword  360 non-null    object\n",
      "dtypes: int32(1), int64(2), object(2)\n",
      "memory usage: 12.8+ KB\n"
     ]
    }
   ],
   "source": [
    "df.info()"
   ]
  },
  {
   "cell_type": "code",
   "execution_count": 13,
   "id": "4795be60",
   "metadata": {},
   "outputs": [
    {
     "data": {
      "text/plain": [
       "array(['Los Angeles CA', 'San Diego CA',\n",
       "       'San Francisco-Oakland-San Jose CA', 'DFW', 'Austin', 'SanAntonio'],\n",
       "      dtype=object)"
      ]
     },
     "execution_count": 13,
     "metadata": {},
     "output_type": "execute_result"
    }
   ],
   "source": [
    "df.Region.unique()"
   ]
  },
  {
   "cell_type": "code",
   "execution_count": 12,
   "id": "64cc2790",
   "metadata": {},
   "outputs": [],
   "source": [
    "for i in range(len(df)):\n",
    "    if df.iloc[i, 0] == 'Dallas-Ft. Worth TX':\n",
    "        df.iloc[i, 0] = 'DFW'\n",
    "        \n",
    "    elif df.iloc[i, 0] == 'Austin TX':\n",
    "        df.iloc[i, 0] = 'Austin'\n",
    "        \n",
    "    elif df.iloc[i, 0] == 'San Antonio TX':\n",
    "        df.iloc[i, 0] = 'SanAntonio'\n",
    "        \n",
    "    else:\n",
    "        pass"
   ]
  },
  {
   "cell_type": "code",
   "execution_count": 14,
   "id": "87101d40",
   "metadata": {},
   "outputs": [],
   "source": [
    "# out put the table\n",
    "\n",
    "df.to_excel('GoogleTrend_2022.xlsx')"
   ]
  }
 ],
 "metadata": {
  "kernelspec": {
   "display_name": "Python 3 (ipykernel)",
   "language": "python",
   "name": "python3"
  },
  "language_info": {
   "codemirror_mode": {
    "name": "ipython",
    "version": 3
   },
   "file_extension": ".py",
   "mimetype": "text/x-python",
   "name": "python",
   "nbconvert_exporter": "python",
   "pygments_lexer": "ipython3",
   "version": "3.9.13"
  }
 },
 "nbformat": 4,
 "nbformat_minor": 5
}
