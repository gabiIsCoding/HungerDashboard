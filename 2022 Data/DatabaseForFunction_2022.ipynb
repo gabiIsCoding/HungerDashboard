{
 "cells": [
  {
   "cell_type": "code",
   "execution_count": 1,
   "id": "2cd773d4",
   "metadata": {},
   "outputs": [
    {
     "data": {
      "application/javascript": [
       "IPython.notebook.set_autosave_interval(20000)"
      ]
     },
     "metadata": {},
     "output_type": "display_data"
    },
    {
     "name": "stdout",
     "output_type": "stream",
     "text": [
      "Autosaving every 20 seconds\n"
     ]
    }
   ],
   "source": [
    "%autosave 20\n",
    "\n",
    "import pandas as pd\n",
    "import numpy as np\n",
    "import collections\n",
    "from collections import defaultdict\n",
    "\n",
    "# print all the outputs in a cell\n",
    "from IPython.core.interactiveshell import InteractiveShell\n",
    "InteractiveShell.ast_node_interactivity = \"all\"\n",
    "\n",
    "pd.set_option('display.max_columns', None)\n",
    "pd.set_option('display.max_rows', None)"
   ]
  },
  {
   "cell_type": "code",
   "execution_count": 35,
   "id": "36d7b4da",
   "metadata": {},
   "outputs": [],
   "source": [
    "df = pd.read_excel('Database_2022.xlsx', index_col=0,\n",
    "                  dtype={'fipsValue':str, 'Year':str, 'Month':str})"
   ]
  },
  {
   "cell_type": "code",
   "execution_count": 36,
   "id": "f38ff47f",
   "metadata": {
    "scrolled": true
   },
   "outputs": [
    {
     "name": "stdout",
     "output_type": "stream",
     "text": [
      "<class 'pandas.core.frame.DataFrame'>\n",
      "Int64Index: 3744 entries, 0 to 3743\n",
      "Data columns (total 16 columns):\n",
      " #   Column                                            Non-Null Count  Dtype         \n",
      "---  ------                                            --------------  -----         \n",
      " 0   State                                             3744 non-null   object        \n",
      " 1   County                                            3744 non-null   object        \n",
      " 2   fipsValue                                         3744 non-null   object        \n",
      " 3   Population Density                                3744 non-null   float64       \n",
      " 4   Population                                        3744 non-null   int64         \n",
      " 5   Region                                            3744 non-null   object        \n",
      " 6   Year                                              3744 non-null   object        \n",
      " 7   Month                                             3744 non-null   object        \n",
      " 8   Number of Workers                                 3744 non-null   int64         \n",
      " 9   Disaster                                          3744 non-null   int64         \n",
      " 10  google_calfresh                                   3348 non-null   float64       \n",
      " 11  datetime                                          3348 non-null   datetime64[ns]\n",
      " 12  google_foodbank                                   3348 non-null   float64       \n",
      " 13  google_foodpantry                                 3348 non-null   float64       \n",
      " 14  google_foodstamp                                  3348 non-null   float64       \n",
      " 15  google_supplemental nutrition assistance program  3348 non-null   float64       \n",
      "dtypes: datetime64[ns](1), float64(6), int64(3), object(6)\n",
      "memory usage: 497.2+ KB\n"
     ]
    }
   ],
   "source": [
    "df.info()"
   ]
  },
  {
   "cell_type": "code",
   "execution_count": 37,
   "id": "59941223",
   "metadata": {},
   "outputs": [
    {
     "data": {
      "text/plain": [
       "310"
      ]
     },
     "execution_count": 37,
     "metadata": {},
     "output_type": "execute_result"
    }
   ],
   "source": [
    "df.County.nunique()"
   ]
  },
  {
   "cell_type": "code",
   "execution_count": 38,
   "id": "87b3ad29",
   "metadata": {},
   "outputs": [],
   "source": [
    "new2 = df.copy()"
   ]
  },
  {
   "cell_type": "markdown",
   "id": "979508ef",
   "metadata": {},
   "source": [
    "### Find last_snap, last_workder, last_disater, last_google words by the key [last_date_time, County and State]"
   ]
  },
  {
   "cell_type": "code",
   "execution_count": 39,
   "id": "e97b47ec",
   "metadata": {},
   "outputs": [],
   "source": [
    "new2['last_snap'] = 0\n",
    "new2['last_worker'] = 0\n",
    "new2['last_disaster'] = 0\n",
    "new2['last_google_calfresh'] = 0\n",
    "new2['last_google_food_bank'] = 0\n",
    "new2['last_google_food_pantry'] = 0\n",
    "new2['last_google_food_stamps'] = 0\n",
    "new2['last_google_supplemental'] = 0"
   ]
  },
  {
   "cell_type": "code",
   "execution_count": 40,
   "id": "00669ef4",
   "metadata": {},
   "outputs": [],
   "source": [
    "# get the idx of each col\n",
    "clist = list(new2.columns)\n",
    "lookup = collections.defaultdict(int) # {colname:idx}\n",
    "for i in range(len(clist)):\n",
    "    lookup[clist[i]] = i"
   ]
  },
  {
   "cell_type": "markdown",
   "id": "5a6f8d67",
   "metadata": {},
   "source": [
    "### Need to calculate the prediction first"
   ]
  },
  {
   "cell_type": "code",
   "execution_count": 41,
   "id": "b09c3801",
   "metadata": {},
   "outputs": [
    {
     "ename": "AttributeError",
     "evalue": "'DataFrame' object has no attribute 'last_date_time'",
     "output_type": "error",
     "traceback": [
      "\u001b[0;31m---------------------------------------------------------------------------\u001b[0m",
      "\u001b[0;31mAttributeError\u001b[0m                            Traceback (most recent call last)",
      "\u001b[0;32m/var/folders/gh/67px3m710b74y6c1mwgnkcq40000gn/T/ipykernel_72623/4169759973.py\u001b[0m in \u001b[0;36m<module>\u001b[0;34m\u001b[0m\n\u001b[1;32m      2\u001b[0m     \u001b[0mstate\u001b[0m \u001b[0;34m=\u001b[0m \u001b[0mnew2\u001b[0m\u001b[0;34m.\u001b[0m\u001b[0miloc\u001b[0m\u001b[0;34m[\u001b[0m\u001b[0mi\u001b[0m\u001b[0;34m,\u001b[0m \u001b[0;36m0\u001b[0m\u001b[0;34m]\u001b[0m\u001b[0;34m\u001b[0m\u001b[0;34m\u001b[0m\u001b[0m\n\u001b[1;32m      3\u001b[0m     \u001b[0mcounty\u001b[0m \u001b[0;34m=\u001b[0m \u001b[0mnew2\u001b[0m\u001b[0;34m.\u001b[0m\u001b[0miloc\u001b[0m\u001b[0;34m[\u001b[0m\u001b[0mi\u001b[0m\u001b[0;34m,\u001b[0m \u001b[0;36m1\u001b[0m\u001b[0;34m]\u001b[0m\u001b[0;34m\u001b[0m\u001b[0;34m\u001b[0m\u001b[0m\n\u001b[0;32m----> 4\u001b[0;31m     \u001b[0mlast_date_time\u001b[0m \u001b[0;34m=\u001b[0m \u001b[0mnew2\u001b[0m\u001b[0;34m.\u001b[0m\u001b[0mlast_date_time\u001b[0m\u001b[0;34m[\u001b[0m\u001b[0mi\u001b[0m\u001b[0;34m]\u001b[0m\u001b[0;34m\u001b[0m\u001b[0;34m\u001b[0m\u001b[0m\n\u001b[0m\u001b[1;32m      5\u001b[0m \u001b[0;34m\u001b[0m\u001b[0m\n\u001b[1;32m      6\u001b[0m     \u001b[0mfiltet_table\u001b[0m \u001b[0;34m=\u001b[0m \u001b[0mnew2\u001b[0m\u001b[0;34m.\u001b[0m\u001b[0mloc\u001b[0m\u001b[0;34m[\u001b[0m\u001b[0;34m(\u001b[0m\u001b[0mnew2\u001b[0m\u001b[0;34m.\u001b[0m\u001b[0mdatetime\u001b[0m \u001b[0;34m==\u001b[0m \u001b[0mlast_date_time\u001b[0m\u001b[0;34m)\u001b[0m \u001b[0;34m&\u001b[0m \u001b[0;34m(\u001b[0m\u001b[0mnew2\u001b[0m\u001b[0;34m.\u001b[0m\u001b[0mState\u001b[0m \u001b[0;34m==\u001b[0m \u001b[0mstate\u001b[0m\u001b[0;34m)\u001b[0m \u001b[0;34m&\u001b[0m \u001b[0;34m(\u001b[0m\u001b[0mnew2\u001b[0m\u001b[0;34m.\u001b[0m\u001b[0mCounty\u001b[0m \u001b[0;34m==\u001b[0m \u001b[0mcounty\u001b[0m\u001b[0;34m)\u001b[0m\u001b[0;34m]\u001b[0m\u001b[0;34m\u001b[0m\u001b[0;34m\u001b[0m\u001b[0m\n",
      "\u001b[0;32m/opt/anaconda3/lib/python3.9/site-packages/pandas/core/generic.py\u001b[0m in \u001b[0;36m__getattr__\u001b[0;34m(self, name)\u001b[0m\n\u001b[1;32m   5573\u001b[0m         ):\n\u001b[1;32m   5574\u001b[0m             \u001b[0;32mreturn\u001b[0m \u001b[0mself\u001b[0m\u001b[0;34m[\u001b[0m\u001b[0mname\u001b[0m\u001b[0;34m]\u001b[0m\u001b[0;34m\u001b[0m\u001b[0;34m\u001b[0m\u001b[0m\n\u001b[0;32m-> 5575\u001b[0;31m         \u001b[0;32mreturn\u001b[0m \u001b[0mobject\u001b[0m\u001b[0;34m.\u001b[0m\u001b[0m__getattribute__\u001b[0m\u001b[0;34m(\u001b[0m\u001b[0mself\u001b[0m\u001b[0;34m,\u001b[0m \u001b[0mname\u001b[0m\u001b[0;34m)\u001b[0m\u001b[0;34m\u001b[0m\u001b[0;34m\u001b[0m\u001b[0m\n\u001b[0m\u001b[1;32m   5576\u001b[0m \u001b[0;34m\u001b[0m\u001b[0m\n\u001b[1;32m   5577\u001b[0m     \u001b[0;32mdef\u001b[0m \u001b[0m__setattr__\u001b[0m\u001b[0;34m(\u001b[0m\u001b[0mself\u001b[0m\u001b[0;34m,\u001b[0m \u001b[0mname\u001b[0m\u001b[0;34m:\u001b[0m \u001b[0mstr\u001b[0m\u001b[0;34m,\u001b[0m \u001b[0mvalue\u001b[0m\u001b[0;34m)\u001b[0m \u001b[0;34m->\u001b[0m \u001b[0;32mNone\u001b[0m\u001b[0;34m:\u001b[0m\u001b[0;34m\u001b[0m\u001b[0;34m\u001b[0m\u001b[0m\n",
      "\u001b[0;31mAttributeError\u001b[0m: 'DataFrame' object has no attribute 'last_date_time'"
     ]
    }
   ],
   "source": [
    "for i in range(len(new2)):\n",
    "    state = new2.iloc[i, 0]\n",
    "    county = new2.iloc[i, 1]\n",
    "    last_date_time = new2.last_date_time[i]\n",
    "\n",
    "    filtet_table = new2.loc[(new2.datetime == last_date_time) & (new2.State == state) & (new2.County == county)]\n",
    "\n",
    "    \n",
    "    if len(filtet_table) != 0:\n",
    "        # use iloc[r, c] to set cells\n",
    "        new2.iloc[i, lookup['last_disaster']] = filtet_table.Disaster.values[0]\n",
    "        new2.iloc[i, lookup['last_worker']] = filtet_table['Number of Workers'].values[0]\n",
    "        #new2.iloc[i, lookup['last_snap']] = filtet_table.SNAP_Applications.values[0]\n",
    "        new2.iloc[i, lookup['last_google_calfresh']] = filtet_table.google_calfresh.values[0]\n",
    "        new2.iloc[i, lookup['last_google_food_bank']] = filtet_table.google_foodbank.values[0]\n",
    "        new2.iloc[i, lookup['last_google_food_pantry']] = filtet_table.google_foodpantry.values[0]\n",
    "        new2.iloc[i, lookup['last_google_food_stamps']] = filtet_table.google_foodstamp.values[0]\n",
    "        new2.iloc[i, lookup['last_google_supplemental']] = filtet_table['google_supplemental nutrition assistance program'].values[0]\n",
    "        #new2.iloc[i, lookup['last_google_snap']] = filtet_table.google_snap.values[0]"
   ]
  },
  {
   "cell_type": "code",
   "execution_count": 12,
   "id": "398698ce",
   "metadata": {
    "scrolled": false
   },
   "outputs": [
    {
     "data": {
      "text/html": [
       "<div>\n",
       "<style scoped>\n",
       "    .dataframe tbody tr th:only-of-type {\n",
       "        vertical-align: middle;\n",
       "    }\n",
       "\n",
       "    .dataframe tbody tr th {\n",
       "        vertical-align: top;\n",
       "    }\n",
       "\n",
       "    .dataframe thead th {\n",
       "        text-align: right;\n",
       "    }\n",
       "</style>\n",
       "<table border=\"1\" class=\"dataframe\">\n",
       "  <thead>\n",
       "    <tr style=\"text-align: right;\">\n",
       "      <th></th>\n",
       "      <th>State</th>\n",
       "      <th>County</th>\n",
       "      <th>fipsValue</th>\n",
       "      <th>Population Density</th>\n",
       "      <th>Population</th>\n",
       "      <th>Region</th>\n",
       "      <th>Year</th>\n",
       "      <th>Month</th>\n",
       "      <th>Number of Workers</th>\n",
       "      <th>Disaster</th>\n",
       "      <th>google_calfresh</th>\n",
       "      <th>datetime</th>\n",
       "      <th>google_foodbank</th>\n",
       "      <th>google_foodpantry</th>\n",
       "      <th>google_foodstamp</th>\n",
       "      <th>google_supplemental nutrition assistance program</th>\n",
       "      <th>last_date_time</th>\n",
       "      <th>last_snap</th>\n",
       "      <th>last_worker</th>\n",
       "      <th>last_disaster</th>\n",
       "      <th>last_google_calfresh</th>\n",
       "      <th>last_google_food_bank</th>\n",
       "      <th>last_google_food_pantry</th>\n",
       "      <th>last_google_food_stamps</th>\n",
       "      <th>last_google_supplemental</th>\n",
       "      <th>last_google_snap</th>\n",
       "    </tr>\n",
       "  </thead>\n",
       "  <tbody>\n",
       "    <tr>\n",
       "      <th>3355</th>\n",
       "      <td>Texas</td>\n",
       "      <td>Tyler County</td>\n",
       "      <td>48457</td>\n",
       "      <td>21.4</td>\n",
       "      <td>19798</td>\n",
       "      <td>Austin</td>\n",
       "      <td>2022</td>\n",
       "      <td>12</td>\n",
       "      <td>0</td>\n",
       "      <td>0</td>\n",
       "      <td>0</td>\n",
       "      <td>2022-12-31</td>\n",
       "      <td>24</td>\n",
       "      <td>9</td>\n",
       "      <td>8</td>\n",
       "      <td>18</td>\n",
       "      <td>2022-11-30</td>\n",
       "      <td>0</td>\n",
       "      <td>0</td>\n",
       "      <td>0</td>\n",
       "      <td>0</td>\n",
       "      <td>25</td>\n",
       "      <td>20</td>\n",
       "      <td>6</td>\n",
       "      <td>15</td>\n",
       "      <td>0</td>\n",
       "    </tr>\n",
       "    <tr>\n",
       "      <th>3356</th>\n",
       "      <td>Texas</td>\n",
       "      <td>Walker County</td>\n",
       "      <td>48471</td>\n",
       "      <td>97.4</td>\n",
       "      <td>76400</td>\n",
       "      <td>Austin</td>\n",
       "      <td>2022</td>\n",
       "      <td>12</td>\n",
       "      <td>0</td>\n",
       "      <td>0</td>\n",
       "      <td>0</td>\n",
       "      <td>2022-12-31</td>\n",
       "      <td>24</td>\n",
       "      <td>9</td>\n",
       "      <td>8</td>\n",
       "      <td>18</td>\n",
       "      <td>2022-11-30</td>\n",
       "      <td>0</td>\n",
       "      <td>0</td>\n",
       "      <td>0</td>\n",
       "      <td>0</td>\n",
       "      <td>25</td>\n",
       "      <td>20</td>\n",
       "      <td>6</td>\n",
       "      <td>15</td>\n",
       "      <td>0</td>\n",
       "    </tr>\n",
       "    <tr>\n",
       "      <th>3357</th>\n",
       "      <td>Texas</td>\n",
       "      <td>Waller County</td>\n",
       "      <td>48473</td>\n",
       "      <td>110.6</td>\n",
       "      <td>56794</td>\n",
       "      <td>Austin</td>\n",
       "      <td>2022</td>\n",
       "      <td>12</td>\n",
       "      <td>0</td>\n",
       "      <td>0</td>\n",
       "      <td>0</td>\n",
       "      <td>2022-12-31</td>\n",
       "      <td>24</td>\n",
       "      <td>9</td>\n",
       "      <td>8</td>\n",
       "      <td>18</td>\n",
       "      <td>2022-11-30</td>\n",
       "      <td>0</td>\n",
       "      <td>0</td>\n",
       "      <td>0</td>\n",
       "      <td>0</td>\n",
       "      <td>25</td>\n",
       "      <td>20</td>\n",
       "      <td>6</td>\n",
       "      <td>15</td>\n",
       "      <td>0</td>\n",
       "    </tr>\n",
       "    <tr>\n",
       "      <th>3358</th>\n",
       "      <td>Texas</td>\n",
       "      <td>Washington County</td>\n",
       "      <td>48477</td>\n",
       "      <td>59.3</td>\n",
       "      <td>35805</td>\n",
       "      <td>Austin</td>\n",
       "      <td>2022</td>\n",
       "      <td>12</td>\n",
       "      <td>0</td>\n",
       "      <td>0</td>\n",
       "      <td>0</td>\n",
       "      <td>2022-12-31</td>\n",
       "      <td>24</td>\n",
       "      <td>9</td>\n",
       "      <td>8</td>\n",
       "      <td>18</td>\n",
       "      <td>2022-11-30</td>\n",
       "      <td>0</td>\n",
       "      <td>0</td>\n",
       "      <td>0</td>\n",
       "      <td>0</td>\n",
       "      <td>25</td>\n",
       "      <td>20</td>\n",
       "      <td>6</td>\n",
       "      <td>15</td>\n",
       "      <td>0</td>\n",
       "    </tr>\n",
       "    <tr>\n",
       "      <th>3359</th>\n",
       "      <td>Texas</td>\n",
       "      <td>Wharton County</td>\n",
       "      <td>48481</td>\n",
       "      <td>38.3</td>\n",
       "      <td>41570</td>\n",
       "      <td>Austin</td>\n",
       "      <td>2022</td>\n",
       "      <td>12</td>\n",
       "      <td>0</td>\n",
       "      <td>0</td>\n",
       "      <td>0</td>\n",
       "      <td>2022-12-31</td>\n",
       "      <td>24</td>\n",
       "      <td>9</td>\n",
       "      <td>8</td>\n",
       "      <td>18</td>\n",
       "      <td>2022-11-30</td>\n",
       "      <td>0</td>\n",
       "      <td>0</td>\n",
       "      <td>0</td>\n",
       "      <td>0</td>\n",
       "      <td>25</td>\n",
       "      <td>20</td>\n",
       "      <td>6</td>\n",
       "      <td>15</td>\n",
       "      <td>0</td>\n",
       "    </tr>\n",
       "  </tbody>\n",
       "</table>\n",
       "</div>"
      ],
      "text/plain": [
       "      State             County fipsValue  Population Density  Population  \\\n",
       "3355  Texas       Tyler County     48457                21.4       19798   \n",
       "3356  Texas      Walker County     48471                97.4       76400   \n",
       "3357  Texas      Waller County     48473               110.6       56794   \n",
       "3358  Texas  Washington County     48477                59.3       35805   \n",
       "3359  Texas     Wharton County     48481                38.3       41570   \n",
       "\n",
       "      Region  Year Month  Number of Workers  Disaster  google_calfresh  \\\n",
       "3355  Austin  2022    12                  0         0                0   \n",
       "3356  Austin  2022    12                  0         0                0   \n",
       "3357  Austin  2022    12                  0         0                0   \n",
       "3358  Austin  2022    12                  0         0                0   \n",
       "3359  Austin  2022    12                  0         0                0   \n",
       "\n",
       "       datetime  google_foodbank  google_foodpantry  google_foodstamp  \\\n",
       "3355 2022-12-31               24                  9                 8   \n",
       "3356 2022-12-31               24                  9                 8   \n",
       "3357 2022-12-31               24                  9                 8   \n",
       "3358 2022-12-31               24                  9                 8   \n",
       "3359 2022-12-31               24                  9                 8   \n",
       "\n",
       "      google_supplemental nutrition assistance program last_date_time  \\\n",
       "3355                                                18     2022-11-30   \n",
       "3356                                                18     2022-11-30   \n",
       "3357                                                18     2022-11-30   \n",
       "3358                                                18     2022-11-30   \n",
       "3359                                                18     2022-11-30   \n",
       "\n",
       "      last_snap  last_worker  last_disaster  last_google_calfresh  \\\n",
       "3355          0            0              0                     0   \n",
       "3356          0            0              0                     0   \n",
       "3357          0            0              0                     0   \n",
       "3358          0            0              0                     0   \n",
       "3359          0            0              0                     0   \n",
       "\n",
       "      last_google_food_bank  last_google_food_pantry  last_google_food_stamps  \\\n",
       "3355                     25                       20                        6   \n",
       "3356                     25                       20                        6   \n",
       "3357                     25                       20                        6   \n",
       "3358                     25                       20                        6   \n",
       "3359                     25                       20                        6   \n",
       "\n",
       "      last_google_supplemental  last_google_snap  \n",
       "3355                        15                 0  \n",
       "3356                        15                 0  \n",
       "3357                        15                 0  \n",
       "3358                        15                 0  \n",
       "3359                        15                 0  "
      ]
     },
     "execution_count": 12,
     "metadata": {},
     "output_type": "execute_result"
    }
   ],
   "source": [
    "new2.tail()"
   ]
  },
  {
   "cell_type": "code",
   "execution_count": 22,
   "id": "e752a922",
   "metadata": {},
   "outputs": [],
   "source": [
    "new2.to_excel('dataForPrediction_2022.xlsx')"
   ]
  },
  {
   "cell_type": "code",
   "execution_count": 19,
   "id": "ece95881",
   "metadata": {},
   "outputs": [],
   "source": [
    "new2.rename(columns={'Population Density':'PDensity'}, inplace=True)"
   ]
  }
 ],
 "metadata": {
  "kernelspec": {
   "display_name": "Python 3 (ipykernel)",
   "language": "python",
   "name": "python3"
  },
  "language_info": {
   "codemirror_mode": {
    "name": "ipython",
    "version": 3
   },
   "file_extension": ".py",
   "mimetype": "text/x-python",
   "name": "python",
   "nbconvert_exporter": "python",
   "pygments_lexer": "ipython3",
   "version": "3.9.13"
  }
 },
 "nbformat": 4,
 "nbformat_minor": 5
}
