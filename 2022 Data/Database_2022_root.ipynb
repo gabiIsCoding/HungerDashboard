{
 "cells": [
  {
   "cell_type": "code",
   "execution_count": 1,
   "id": "45e2487a",
   "metadata": {},
   "outputs": [
    {
     "data": {
      "application/javascript": [
       "IPython.notebook.set_autosave_interval(20000)"
      ]
     },
     "metadata": {},
     "output_type": "display_data"
    },
    {
     "name": "stdout",
     "output_type": "stream",
     "text": [
      "Autosaving every 20 seconds\n"
     ]
    }
   ],
   "source": [
    "%autosave 20\n",
    "\n",
    "import pandas as pd\n",
    "import numpy as np\n",
    "\n",
    "# print all the outputs in a cell\n",
    "from IPython.core.interactiveshell import InteractiveShell\n",
    "InteractiveShell.ast_node_interactivity = \"all\"\n",
    "\n",
    "pd.set_option('display.max_columns', None)\n",
    "pd.set_option('display.max_rows', None)"
   ]
  },
  {
   "cell_type": "code",
   "execution_count": 2,
   "id": "ba4d7b24",
   "metadata": {},
   "outputs": [],
   "source": [
    "# create root df\n",
    "\n",
    "root = pd.read_excel('RootDatabase.xlsx', index_col=0, dtype={'fipsValue':'object'})"
   ]
  },
  {
   "cell_type": "code",
   "execution_count": 3,
   "id": "f898cdbc",
   "metadata": {},
   "outputs": [
    {
     "data": {
      "text/html": [
       "<div>\n",
       "<style scoped>\n",
       "    .dataframe tbody tr th:only-of-type {\n",
       "        vertical-align: middle;\n",
       "    }\n",
       "\n",
       "    .dataframe tbody tr th {\n",
       "        vertical-align: top;\n",
       "    }\n",
       "\n",
       "    .dataframe thead th {\n",
       "        text-align: right;\n",
       "    }\n",
       "</style>\n",
       "<table border=\"1\" class=\"dataframe\">\n",
       "  <thead>\n",
       "    <tr style=\"text-align: right;\">\n",
       "      <th></th>\n",
       "      <th>State</th>\n",
       "      <th>County</th>\n",
       "      <th>fipsValue</th>\n",
       "      <th>Population Density</th>\n",
       "      <th>Population</th>\n",
       "      <th>Region</th>\n",
       "    </tr>\n",
       "  </thead>\n",
       "  <tbody>\n",
       "    <tr>\n",
       "      <th>0</th>\n",
       "      <td>California</td>\n",
       "      <td>Alameda County</td>\n",
       "      <td>06001</td>\n",
       "      <td>1898.5</td>\n",
       "      <td>1559308</td>\n",
       "      <td>San Francisco-Oakland-San Jose CA</td>\n",
       "    </tr>\n",
       "    <tr>\n",
       "      <th>1</th>\n",
       "      <td>California</td>\n",
       "      <td>Alpine County</td>\n",
       "      <td>06003</td>\n",
       "      <td>1.6</td>\n",
       "      <td>1202</td>\n",
       "      <td>Sacramento-Stockton-Modesto CA</td>\n",
       "    </tr>\n",
       "    <tr>\n",
       "      <th>2</th>\n",
       "      <td>California</td>\n",
       "      <td>Amador County</td>\n",
       "      <td>06005</td>\n",
       "      <td>61.3</td>\n",
       "      <td>37159</td>\n",
       "      <td>Sacramento-Stockton-Modesto CA</td>\n",
       "    </tr>\n",
       "    <tr>\n",
       "      <th>3</th>\n",
       "      <td>California</td>\n",
       "      <td>Butte County</td>\n",
       "      <td>06007</td>\n",
       "      <td>132.1</td>\n",
       "      <td>221578</td>\n",
       "      <td>Sacramento-Stockton-Modesto CA</td>\n",
       "    </tr>\n",
       "    <tr>\n",
       "      <th>4</th>\n",
       "      <td>California</td>\n",
       "      <td>Calaveras County</td>\n",
       "      <td>06009</td>\n",
       "      <td>43.3</td>\n",
       "      <td>44921</td>\n",
       "      <td>Sacramento-Stockton-Modesto CA</td>\n",
       "    </tr>\n",
       "  </tbody>\n",
       "</table>\n",
       "</div>"
      ],
      "text/plain": [
       "        State            County fipsValue  Population Density  Population  \\\n",
       "0  California    Alameda County     06001              1898.5     1559308   \n",
       "1  California     Alpine County     06003                 1.6        1202   \n",
       "2  California     Amador County     06005                61.3       37159   \n",
       "3  California      Butte County     06007               132.1      221578   \n",
       "4  California  Calaveras County     06009                43.3       44921   \n",
       "\n",
       "                              Region  \n",
       "0  San Francisco-Oakland-San Jose CA  \n",
       "1     Sacramento-Stockton-Modesto CA  \n",
       "2     Sacramento-Stockton-Modesto CA  \n",
       "3     Sacramento-Stockton-Modesto CA  \n",
       "4     Sacramento-Stockton-Modesto CA  "
      ]
     },
     "execution_count": 3,
     "metadata": {},
     "output_type": "execute_result"
    }
   ],
   "source": [
    "root.head()"
   ]
  },
  {
   "cell_type": "code",
   "execution_count": 4,
   "id": "6007720e",
   "metadata": {
    "scrolled": true
   },
   "outputs": [
    {
     "name": "stdout",
     "output_type": "stream",
     "text": [
      "<class 'pandas.core.frame.DataFrame'>\n",
      "Int64Index: 312 entries, 0 to 311\n",
      "Data columns (total 6 columns):\n",
      " #   Column              Non-Null Count  Dtype  \n",
      "---  ------              --------------  -----  \n",
      " 0   State               312 non-null    object \n",
      " 1   County              312 non-null    object \n",
      " 2   fipsValue           312 non-null    object \n",
      " 3   Population Density  312 non-null    float64\n",
      " 4   Population          312 non-null    int64  \n",
      " 5   Region              312 non-null    object \n",
      "dtypes: float64(1), int64(1), object(4)\n",
      "memory usage: 17.1+ KB\n"
     ]
    }
   ],
   "source": [
    "root.info()"
   ]
  },
  {
   "cell_type": "code",
   "execution_count": 5,
   "id": "d4fba670",
   "metadata": {},
   "outputs": [],
   "source": [
    "# create 2022 date table\n",
    "\n",
    "year = [2022]\n",
    "month = [x for x in range(1, 13)]\n",
    "time_data = []\n",
    "\n",
    "for i in range(len(year)):\n",
    "    \n",
    "    time_tem = pd.DataFrame(data={\n",
    "        'Year' : str(year[i]),\n",
    "        'Month': month\n",
    "    })\n",
    "    \n",
    "    time_data.append(time_tem)\n"
   ]
  },
  {
   "cell_type": "code",
   "execution_count": 6,
   "id": "aaa0d5d2",
   "metadata": {},
   "outputs": [],
   "source": [
    "for i in range(len(time_data)-1):\n",
    "    time_data = time_data[i].merge(time_data[i+1], how='outer')"
   ]
  },
  {
   "cell_type": "code",
   "execution_count": 7,
   "id": "c752cee0",
   "metadata": {},
   "outputs": [],
   "source": [
    "time_data = time_data[0]"
   ]
  },
  {
   "cell_type": "code",
   "execution_count": 8,
   "id": "6fa7a80b",
   "metadata": {},
   "outputs": [
    {
     "name": "stderr",
     "output_type": "stream",
     "text": [
      "/var/folders/gh/67px3m710b74y6c1mwgnkcq40000gn/T/ipykernel_74006/1769602285.py:1: FutureWarning: In a future version of pandas all arguments of DataFrame.drop except for the argument 'labels' will be keyword-only.\n",
      "  database_2022 = root.assign(foo=1).merge(time_data.assign(foo=1)).drop('foo', 1)\n"
     ]
    }
   ],
   "source": [
    "database_2022 = root.assign(foo=1).merge(time_data.assign(foo=1)).drop('foo', 1)"
   ]
  },
  {
   "cell_type": "code",
   "execution_count": 9,
   "id": "0b124854",
   "metadata": {
    "scrolled": false
   },
   "outputs": [
    {
     "name": "stdout",
     "output_type": "stream",
     "text": [
      "<class 'pandas.core.frame.DataFrame'>\n",
      "Int64Index: 3744 entries, 0 to 3743\n",
      "Data columns (total 8 columns):\n",
      " #   Column              Non-Null Count  Dtype  \n",
      "---  ------              --------------  -----  \n",
      " 0   State               3744 non-null   object \n",
      " 1   County              3744 non-null   object \n",
      " 2   fipsValue           3744 non-null   object \n",
      " 3   Population Density  3744 non-null   float64\n",
      " 4   Population          3744 non-null   int64  \n",
      " 5   Region              3744 non-null   object \n",
      " 6   Year                3744 non-null   object \n",
      " 7   Month               3744 non-null   int64  \n",
      "dtypes: float64(1), int64(2), object(5)\n",
      "memory usage: 263.2+ KB\n"
     ]
    }
   ],
   "source": [
    "database_2022.info()"
   ]
  },
  {
   "cell_type": "code",
   "execution_count": 10,
   "id": "34145381",
   "metadata": {},
   "outputs": [
    {
     "data": {
      "text/plain": [
       "312"
      ]
     },
     "execution_count": 10,
     "metadata": {},
     "output_type": "execute_result"
    }
   ],
   "source": [
    "database_2022.fipsValue.nunique()"
   ]
  },
  {
   "cell_type": "code",
   "execution_count": 11,
   "id": "77c3be00",
   "metadata": {},
   "outputs": [
    {
     "data": {
      "text/html": [
       "<div>\n",
       "<style scoped>\n",
       "    .dataframe tbody tr th:only-of-type {\n",
       "        vertical-align: middle;\n",
       "    }\n",
       "\n",
       "    .dataframe tbody tr th {\n",
       "        vertical-align: top;\n",
       "    }\n",
       "\n",
       "    .dataframe thead th {\n",
       "        text-align: right;\n",
       "    }\n",
       "</style>\n",
       "<table border=\"1\" class=\"dataframe\">\n",
       "  <thead>\n",
       "    <tr style=\"text-align: right;\">\n",
       "      <th></th>\n",
       "      <th>State</th>\n",
       "      <th>County</th>\n",
       "      <th>fipsValue</th>\n",
       "      <th>Population Density</th>\n",
       "      <th>Population</th>\n",
       "      <th>Region</th>\n",
       "      <th>Year</th>\n",
       "      <th>Month</th>\n",
       "    </tr>\n",
       "  </thead>\n",
       "  <tbody>\n",
       "    <tr>\n",
       "      <th>0</th>\n",
       "      <td>California</td>\n",
       "      <td>Alameda County</td>\n",
       "      <td>06001</td>\n",
       "      <td>1898.5</td>\n",
       "      <td>1559308</td>\n",
       "      <td>San Francisco-Oakland-San Jose CA</td>\n",
       "      <td>2022</td>\n",
       "      <td>1</td>\n",
       "    </tr>\n",
       "    <tr>\n",
       "      <th>1</th>\n",
       "      <td>California</td>\n",
       "      <td>Alameda County</td>\n",
       "      <td>06001</td>\n",
       "      <td>1898.5</td>\n",
       "      <td>1559308</td>\n",
       "      <td>San Francisco-Oakland-San Jose CA</td>\n",
       "      <td>2022</td>\n",
       "      <td>2</td>\n",
       "    </tr>\n",
       "    <tr>\n",
       "      <th>2</th>\n",
       "      <td>California</td>\n",
       "      <td>Alameda County</td>\n",
       "      <td>06001</td>\n",
       "      <td>1898.5</td>\n",
       "      <td>1559308</td>\n",
       "      <td>San Francisco-Oakland-San Jose CA</td>\n",
       "      <td>2022</td>\n",
       "      <td>3</td>\n",
       "    </tr>\n",
       "    <tr>\n",
       "      <th>3</th>\n",
       "      <td>California</td>\n",
       "      <td>Alameda County</td>\n",
       "      <td>06001</td>\n",
       "      <td>1898.5</td>\n",
       "      <td>1559308</td>\n",
       "      <td>San Francisco-Oakland-San Jose CA</td>\n",
       "      <td>2022</td>\n",
       "      <td>4</td>\n",
       "    </tr>\n",
       "    <tr>\n",
       "      <th>4</th>\n",
       "      <td>California</td>\n",
       "      <td>Alameda County</td>\n",
       "      <td>06001</td>\n",
       "      <td>1898.5</td>\n",
       "      <td>1559308</td>\n",
       "      <td>San Francisco-Oakland-San Jose CA</td>\n",
       "      <td>2022</td>\n",
       "      <td>5</td>\n",
       "    </tr>\n",
       "  </tbody>\n",
       "</table>\n",
       "</div>"
      ],
      "text/plain": [
       "        State          County fipsValue  Population Density  Population  \\\n",
       "0  California  Alameda County     06001              1898.5     1559308   \n",
       "1  California  Alameda County     06001              1898.5     1559308   \n",
       "2  California  Alameda County     06001              1898.5     1559308   \n",
       "3  California  Alameda County     06001              1898.5     1559308   \n",
       "4  California  Alameda County     06001              1898.5     1559308   \n",
       "\n",
       "                              Region  Year  Month  \n",
       "0  San Francisco-Oakland-San Jose CA  2022      1  \n",
       "1  San Francisco-Oakland-San Jose CA  2022      2  \n",
       "2  San Francisco-Oakland-San Jose CA  2022      3  \n",
       "3  San Francisco-Oakland-San Jose CA  2022      4  \n",
       "4  San Francisco-Oakland-San Jose CA  2022      5  "
      ]
     },
     "execution_count": 11,
     "metadata": {},
     "output_type": "execute_result"
    }
   ],
   "source": [
    "database_2022.head()"
   ]
  },
  {
   "cell_type": "code",
   "execution_count": 14,
   "id": "e9f3b11e",
   "metadata": {},
   "outputs": [],
   "source": [
    "database_2022.to_excel('rootdatabase_2022_June6.xlsx')"
   ]
  }
 ],
 "metadata": {
  "kernelspec": {
   "display_name": "Python 3 (ipykernel)",
   "language": "python",
   "name": "python3"
  },
  "language_info": {
   "codemirror_mode": {
    "name": "ipython",
    "version": 3
   },
   "file_extension": ".py",
   "mimetype": "text/x-python",
   "name": "python",
   "nbconvert_exporter": "python",
   "pygments_lexer": "ipython3",
   "version": "3.9.13"
  }
 },
 "nbformat": 4,
 "nbformat_minor": 5
}
