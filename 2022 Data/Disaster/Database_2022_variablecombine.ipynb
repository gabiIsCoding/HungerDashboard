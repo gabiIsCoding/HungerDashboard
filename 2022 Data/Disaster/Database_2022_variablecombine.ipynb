{
 "cells": [
  {
   "cell_type": "markdown",
   "id": "a582f135",
   "metadata": {},
   "source": [
    "# Download Data"
   ]
  },
  {
   "cell_type": "code",
   "execution_count": 1,
   "id": "c450829c",
   "metadata": {},
   "outputs": [
    {
     "data": {
      "application/javascript": [
       "IPython.notebook.set_autosave_interval(20000)"
      ]
     },
     "metadata": {},
     "output_type": "display_data"
    },
    {
     "name": "stdout",
     "output_type": "stream",
     "text": [
      "Autosaving every 20 seconds\n"
     ]
    }
   ],
   "source": [
    "%autosave 20\n",
    "\n",
    "import pandas as pd\n",
    "import numpy as np\n",
    "\n",
    "# print all the outputs in a cell\n",
    "from IPython.core.interactiveshell import InteractiveShell\n",
    "InteractiveShell.ast_node_interactivity = \"all\"\n",
    "\n",
    "pd.set_option('display.max_columns', None)\n",
    "pd.set_option('display.max_rows', None)"
   ]
  },
  {
   "cell_type": "markdown",
   "id": "8710d963",
   "metadata": {},
   "source": [
    "## Disaster_2022"
   ]
  },
  {
   "cell_type": "code",
   "execution_count": null,
   "id": "215f368e",
   "metadata": {},
   "outputs": [],
   "source": [
    "disaster = pd.read_csv('DisasterDeclarationsSummaries.csv')"
   ]
  },
  {
   "cell_type": "code",
   "execution_count": null,
   "id": "13e9b90d",
   "metadata": {
    "scrolled": true
   },
   "outputs": [],
   "source": [
    "disaster.info( )"
   ]
  },
  {
   "cell_type": "code",
   "execution_count": null,
   "id": "b3426d13",
   "metadata": {},
   "outputs": [],
   "source": [
    "disaster.state.nunique()"
   ]
  },
  {
   "cell_type": "code",
   "execution_count": null,
   "id": "c7b59622",
   "metadata": {},
   "outputs": [],
   "source": [
    "# filter TX and CA\n",
    "\n",
    "disaster = disaster[(disaster.state == 'TX') | (disaster.state == 'CA')]"
   ]
  },
  {
   "cell_type": "code",
   "execution_count": null,
   "id": "76813245",
   "metadata": {},
   "outputs": [],
   "source": [
    "# make date col\n",
    "disaster['date'] = pd.to_datetime(disaster.declarationDate)\n",
    "\n",
    "# make Year, Month col\n",
    "disaster['Year'] = disaster.date.dt.year.astype('Int64')\n",
    "disaster['Month'] = disaster.date.dt.month.astype('Int64')\n",
    "\n",
    "# filter year < 2018 and year >2022 year_need = [2019, 2020, 2021]\n",
    "disaster = disaster[(disaster.Year == 2022)]"
   ]
  },
  {
   "cell_type": "code",
   "execution_count": null,
   "id": "c7debedd",
   "metadata": {
    "scrolled": true
   },
   "outputs": [],
   "source": [
    "# Create new colomn State and use 'California' and 'Texas' instead\n",
    "\n",
    "disaster['State'] = disaster['state'].apply(lambda x: 'California' if x == 'CA' else 'Texas')\n",
    "\n",
    "# drop state col\n",
    "disaster.drop(columns='state', inplace=True)\n",
    "\n",
    "disaster.head()"
   ]
  },
  {
   "cell_type": "code",
   "execution_count": null,
   "id": "72623f39",
   "metadata": {
    "scrolled": true
   },
   "outputs": [],
   "source": [
    "col_need = ['disasterNumber', 'declarationType', 'incidentType', 'fipsCountyCode', 'designatedArea', 'Year', 'Month', 'State']\n",
    "\n",
    "disaster = disaster[col_need]\n",
    "\n",
    "disaster.head()"
   ]
  },
  {
   "cell_type": "code",
   "execution_count": null,
   "id": "b103c3fd",
   "metadata": {},
   "outputs": [],
   "source": [
    "# transfer fipsCountyCode to obj\n",
    "\n",
    "disaster['fipsCountyCode'] = disaster.fipsCountyCode.astype('object')\n",
    "\n",
    "for i in range(len(disaster)):\n",
    "    if len(str(disaster.iloc[i, 3])) == 1:\n",
    "        sq = ('00', str(disaster.iloc[i, 3]) )\n",
    "        disaster.iloc[i, 3] = ''.join(sq)\n",
    "    elif len(str(disaster.iloc[i, 3])) == 2:\n",
    "        sq = ('0', str(disaster.iloc[i, 3]) )\n",
    "        disaster.iloc[i, 3] = ''.join(sq)\n",
    "    else:\n",
    "        pass"
   ]
  },
  {
   "cell_type": "code",
   "execution_count": null,
   "id": "b21e1cd3",
   "metadata": {},
   "outputs": [],
   "source": [
    "disaster['fipsValue'] = ''\n",
    "\n",
    "\n",
    "for i in range(len(disaster)):   \n",
    "    if disaster.iloc[i, -2] == 'Texas':\n",
    "        te = ('48', str(disaster.iloc[i, 3]))\n",
    "        fipsValue = ''.join(te)\n",
    "        disaster.iloc[i, -1] = fipsValue\n",
    "    else:\n",
    "        ca = ('06', str(disaster.iloc[i, 3]))\n",
    "        fipsValue = ''.join(ca)\n",
    "        disaster.iloc[i, -1] = fipsValue"
   ]
  },
  {
   "cell_type": "code",
   "execution_count": null,
   "id": "bcc116bf",
   "metadata": {},
   "outputs": [],
   "source": [
    "disaster.info()"
   ]
  },
  {
   "cell_type": "code",
   "execution_count": null,
   "id": "ac004ab6",
   "metadata": {},
   "outputs": [],
   "source": [
    "# count by fipsValue, year, month\n",
    "\n",
    "disaster = disaster.groupby(['fipsValue', 'Year', 'Month'])['fipsValue'].count().to_frame().rename(columns={'fipsValue':'Disaster'}).reset_index()"
   ]
  },
  {
   "cell_type": "code",
   "execution_count": null,
   "id": "f4266294",
   "metadata": {},
   "outputs": [],
   "source": [
    "disaster.fipsValue.unique()"
   ]
  },
  {
   "cell_type": "code",
   "execution_count": null,
   "id": "221b3b59",
   "metadata": {},
   "outputs": [],
   "source": [
    "disaster.to_excel('disaster_2022.xlsx')"
   ]
  },
  {
   "cell_type": "markdown",
   "id": "c068bcd6",
   "metadata": {},
   "source": [
    "## Warn_2022"
   ]
  },
  {
   "cell_type": "code",
   "execution_count": null,
   "id": "8bee6ad9",
   "metadata": {},
   "outputs": [],
   "source": [
    "warn_ca = pd.read_csv('/Users/chensumei/Desktop/Ram Paper/2022 Data/Warn/WARN Notices California_Omer Arain - Sheet1.csv')\n",
    "warn_tx = pd.read_csv('/Users/chensumei/Desktop/Ram Paper/2022 Data/Warn/WARN Notices Texas_Omer Arain - Sheet1.csv')"
   ]
  },
  {
   "cell_type": "code",
   "execution_count": null,
   "id": "5ac2ecc5",
   "metadata": {},
   "outputs": [],
   "source": [
    "warn_ca.info()"
   ]
  },
  {
   "cell_type": "code",
   "execution_count": null,
   "id": "76586f80",
   "metadata": {
    "scrolled": true
   },
   "outputs": [],
   "source": [
    "# need to match empty county by the city in CA\n",
    "\n",
    "#warn_ca.loc[(warn_ca.County.isna() == True)].City.unique()"
   ]
  },
  {
   "cell_type": "markdown",
   "id": "d99f7079",
   "metadata": {},
   "source": [
    "#### Filter Month and Year First"
   ]
  },
  {
   "cell_type": "code",
   "execution_count": null,
   "id": "dc219407",
   "metadata": {},
   "outputs": [],
   "source": [
    "\n",
    "from datetime import datetime\n",
    "\n",
    "warn_ca['Received Date'] = pd.to_datetime(warn_ca['Received Date'])\n",
    "warn_tx['Received Date'] = pd.to_datetime(warn_tx['WARN Received Date'])\n",
    "\n",
    "warn_ca['Year'] = warn_ca['Received Date'].dt.year.astype('int64')\n",
    "warn_ca['Month'] = warn_ca['Received Date'].dt.month.astype('int64')\n",
    "\n",
    "warn_tx['Year'] = warn_tx['Received Date'].dt.year.astype('int64')\n",
    "warn_tx['Month'] = warn_tx['Received Date'].dt.month.astype('int64')\n",
    "\n",
    "\n",
    "#filter year 2022\n",
    "warn_ca = warn_ca[(warn_ca.Year == 2022)]\n",
    "warn_tx = warn_tx[(warn_tx.Year == 2022)]"
   ]
  },
  {
   "cell_type": "code",
   "execution_count": null,
   "id": "e977405f",
   "metadata": {
    "scrolled": true
   },
   "outputs": [],
   "source": [
    "#warn_ca.loc[(warn_ca.County.isna() == True)]"
   ]
  },
  {
   "cell_type": "code",
   "execution_count": null,
   "id": "1dde8cb1",
   "metadata": {
    "scrolled": true
   },
   "outputs": [],
   "source": [
    "from geopy.geocoders import Nominatim\n",
    "\n",
    "def find_county(city, state):\n",
    "    geolocator = Nominatim(user_agent=\"my-app\")\n",
    "    location = geolocator.geocode(f\"{city}, {state}\", addressdetails=True)\n",
    "    \n",
    "    if location:\n",
    "        address_components = location.raw['address']\n",
    "        county = address_components.get('county')\n",
    "        return county\n",
    "    \n",
    "    return None\n",
    "\n",
    "# Example usage\n",
    "city = \"Sunnyvale\"\n",
    "state = \"California\"\n",
    "county = find_county(city, state)\n",
    "\n",
    "if county:\n",
    "    print(f\"The county for {city}, {state} is {county}.\")\n",
    "else:\n",
    "    print(f\"County information not found for {city}, {state}.\")\n"
   ]
  },
  {
   "cell_type": "code",
   "execution_count": null,
   "id": "3a9f2152",
   "metadata": {},
   "outputs": [],
   "source": [
    "warn_ca.County.fillna('Missing', inplace=True)"
   ]
  },
  {
   "cell_type": "code",
   "execution_count": null,
   "id": "b47c3047",
   "metadata": {},
   "outputs": [],
   "source": [
    "warn_ca.head()"
   ]
  },
  {
   "cell_type": "code",
   "execution_count": null,
   "id": "39b1df7a",
   "metadata": {},
   "outputs": [],
   "source": [
    "for i in range(len(warn_ca)):\n",
    "    if warn_ca.iloc[i, 10] == \"Missing\":\n",
    "        city = str(warn_ca.iloc[i, 2])\n",
    "        county = find_county(city, \"California\")\n",
    "        warn_ca.iloc[i, 10] = county"
   ]
  },
  {
   "cell_type": "code",
   "execution_count": null,
   "id": "db1b50e5",
   "metadata": {},
   "outputs": [],
   "source": [
    "warn_ca.head()"
   ]
  },
  {
   "cell_type": "code",
   "execution_count": null,
   "id": "6dba3d8c",
   "metadata": {},
   "outputs": [],
   "source": [
    "for i in range(len(warn_ca)):\n",
    "    if warn_ca.iloc[i, 10] == \"Missing\":\n",
    "        print(i)"
   ]
  },
  {
   "cell_type": "code",
   "execution_count": null,
   "id": "b68e0522",
   "metadata": {},
   "outputs": [],
   "source": [
    "warn_ca.County.unique()"
   ]
  },
  {
   "cell_type": "code",
   "execution_count": null,
   "id": "25151ec5",
   "metadata": {},
   "outputs": [],
   "source": [
    "col_need_ca = ['State', 'Number of Workers', 'Received Date','County', 'Year', \"Month\" ]\n",
    "col_need_tx = ['State', 'Number of Workers', 'Received Date','County', 'Year', \"Month\"]\n",
    "\n",
    "warn_ca = warn_ca[col_need_ca]\n",
    "warn_tx = warn_tx[col_need_tx]"
   ]
  },
  {
   "cell_type": "code",
   "execution_count": null,
   "id": "a8676ba0",
   "metadata": {
    "scrolled": true
   },
   "outputs": [],
   "source": [
    "warn_ca.info()"
   ]
  },
  {
   "cell_type": "code",
   "execution_count": null,
   "id": "f68b5fef",
   "metadata": {},
   "outputs": [],
   "source": [
    "warn_tx.head()"
   ]
  },
  {
   "cell_type": "code",
   "execution_count": null,
   "id": "46f0db35",
   "metadata": {},
   "outputs": [],
   "source": [
    "warn_tx['County'] = warn_tx.County + ' County'"
   ]
  },
  {
   "cell_type": "code",
   "execution_count": null,
   "id": "d9dfa91f",
   "metadata": {
    "scrolled": true
   },
   "outputs": [],
   "source": [
    "warn_ca.head()"
   ]
  },
  {
   "cell_type": "code",
   "execution_count": null,
   "id": "a9ecddef",
   "metadata": {},
   "outputs": [],
   "source": [
    "warn_tx.head()"
   ]
  },
  {
   "cell_type": "code",
   "execution_count": null,
   "id": "ad65d4a8",
   "metadata": {},
   "outputs": [],
   "source": [
    "#sum(number of workers) every county every month every year - add column\n",
    "\n",
    "worker_ca = warn_ca.groupby(['State','Year','Month','County'])['Number of Workers'].sum().to_frame()"
   ]
  },
  {
   "cell_type": "code",
   "execution_count": null,
   "id": "3d28872e",
   "metadata": {},
   "outputs": [],
   "source": [
    "worker_ca = worker_ca.reset_index(level=['State', 'Year', 'Month', 'County'])"
   ]
  },
  {
   "cell_type": "code",
   "execution_count": null,
   "id": "e8882169",
   "metadata": {},
   "outputs": [],
   "source": [
    "worker_ca.info()"
   ]
  },
  {
   "cell_type": "code",
   "execution_count": null,
   "id": "c17ec7dc",
   "metadata": {
    "scrolled": true
   },
   "outputs": [],
   "source": [
    "warn_tx.info()"
   ]
  },
  {
   "cell_type": "code",
   "execution_count": null,
   "id": "4d1e191e",
   "metadata": {},
   "outputs": [],
   "source": [
    "#sum(number of workers) every county every month every year - add column\n",
    "\n",
    "worker_tx = warn_tx.groupby(['State','Year','Month','County'])['Number of Workers'].sum().to_frame()\n",
    "\n",
    "worker_tx = worker_tx.reset_index(level=['State', 'Year', 'Month', 'County'])"
   ]
  },
  {
   "cell_type": "code",
   "execution_count": null,
   "id": "ed0c79b4",
   "metadata": {
    "scrolled": true
   },
   "outputs": [],
   "source": [
    "worker_tx"
   ]
  },
  {
   "cell_type": "code",
   "execution_count": null,
   "id": "126ece40",
   "metadata": {},
   "outputs": [],
   "source": [
    "warn_2022 = pd.merge(worker_ca, worker_tx, how='outer')"
   ]
  },
  {
   "cell_type": "code",
   "execution_count": null,
   "id": "aa6dbc2f",
   "metadata": {
    "scrolled": true
   },
   "outputs": [],
   "source": [
    "warn_2022.info()"
   ]
  },
  {
   "cell_type": "code",
   "execution_count": null,
   "id": "b868162c",
   "metadata": {},
   "outputs": [],
   "source": [
    "warn_2022.head()"
   ]
  },
  {
   "cell_type": "code",
   "execution_count": null,
   "id": "b96e8bec",
   "metadata": {},
   "outputs": [],
   "source": [
    "warn_2022.to_excel('warn_2022.xlsx')"
   ]
  },
  {
   "cell_type": "markdown",
   "id": "03603e88",
   "metadata": {},
   "source": [
    "## Combine root with warn and disaster"
   ]
  },
  {
   "cell_type": "code",
   "execution_count": 35,
   "id": "4ffc8d3e",
   "metadata": {},
   "outputs": [],
   "source": [
    "disaster = pd.read_excel('disaster_2022.xlsx', index_col=0, dtype={'fipsValue':'object'})\n",
    "warn = pd.read_excel('warn_2022.xlsx',index_col=0)\n"
   ]
  },
  {
   "cell_type": "code",
   "execution_count": 36,
   "id": "1265603c",
   "metadata": {},
   "outputs": [],
   "source": [
    "root = pd.read_excel('rootdatabase_2022_June6.xlsx', index_col=0, dtype={'fipsValue':'object'})"
   ]
  },
  {
   "cell_type": "code",
   "execution_count": 37,
   "id": "3bf6b481",
   "metadata": {
    "scrolled": true
   },
   "outputs": [
    {
     "name": "stdout",
     "output_type": "stream",
     "text": [
      "<class 'pandas.core.frame.DataFrame'>\n",
      "Int64Index: 3744 entries, 0 to 3743\n",
      "Data columns (total 8 columns):\n",
      " #   Column              Non-Null Count  Dtype  \n",
      "---  ------              --------------  -----  \n",
      " 0   State               3744 non-null   object \n",
      " 1   County              3744 non-null   object \n",
      " 2   fipsValue           3744 non-null   object \n",
      " 3   Population Density  3744 non-null   float64\n",
      " 4   Population          3744 non-null   int64  \n",
      " 5   Region              3744 non-null   object \n",
      " 6   Year                3744 non-null   int64  \n",
      " 7   Month               3744 non-null   int64  \n",
      "dtypes: float64(1), int64(3), object(4)\n",
      "memory usage: 263.2+ KB\n"
     ]
    }
   ],
   "source": [
    "root.info()"
   ]
  },
  {
   "cell_type": "code",
   "execution_count": 38,
   "id": "348d6008",
   "metadata": {},
   "outputs": [
    {
     "data": {
      "text/html": [
       "<div>\n",
       "<style scoped>\n",
       "    .dataframe tbody tr th:only-of-type {\n",
       "        vertical-align: middle;\n",
       "    }\n",
       "\n",
       "    .dataframe tbody tr th {\n",
       "        vertical-align: top;\n",
       "    }\n",
       "\n",
       "    .dataframe thead th {\n",
       "        text-align: right;\n",
       "    }\n",
       "</style>\n",
       "<table border=\"1\" class=\"dataframe\">\n",
       "  <thead>\n",
       "    <tr style=\"text-align: right;\">\n",
       "      <th></th>\n",
       "      <th>State</th>\n",
       "      <th>County</th>\n",
       "      <th>fipsValue</th>\n",
       "      <th>Population Density</th>\n",
       "      <th>Population</th>\n",
       "      <th>Region</th>\n",
       "      <th>Year</th>\n",
       "      <th>Month</th>\n",
       "    </tr>\n",
       "  </thead>\n",
       "  <tbody>\n",
       "    <tr>\n",
       "      <th>0</th>\n",
       "      <td>California</td>\n",
       "      <td>Alameda County</td>\n",
       "      <td>06001</td>\n",
       "      <td>1898.5</td>\n",
       "      <td>1559308</td>\n",
       "      <td>San Francisco-Oakland-San Jose CA</td>\n",
       "      <td>2022</td>\n",
       "      <td>1</td>\n",
       "    </tr>\n",
       "    <tr>\n",
       "      <th>1</th>\n",
       "      <td>California</td>\n",
       "      <td>Alameda County</td>\n",
       "      <td>06001</td>\n",
       "      <td>1898.5</td>\n",
       "      <td>1559308</td>\n",
       "      <td>San Francisco-Oakland-San Jose CA</td>\n",
       "      <td>2022</td>\n",
       "      <td>2</td>\n",
       "    </tr>\n",
       "    <tr>\n",
       "      <th>2</th>\n",
       "      <td>California</td>\n",
       "      <td>Alameda County</td>\n",
       "      <td>06001</td>\n",
       "      <td>1898.5</td>\n",
       "      <td>1559308</td>\n",
       "      <td>San Francisco-Oakland-San Jose CA</td>\n",
       "      <td>2022</td>\n",
       "      <td>3</td>\n",
       "    </tr>\n",
       "    <tr>\n",
       "      <th>3</th>\n",
       "      <td>California</td>\n",
       "      <td>Alameda County</td>\n",
       "      <td>06001</td>\n",
       "      <td>1898.5</td>\n",
       "      <td>1559308</td>\n",
       "      <td>San Francisco-Oakland-San Jose CA</td>\n",
       "      <td>2022</td>\n",
       "      <td>4</td>\n",
       "    </tr>\n",
       "    <tr>\n",
       "      <th>4</th>\n",
       "      <td>California</td>\n",
       "      <td>Alameda County</td>\n",
       "      <td>06001</td>\n",
       "      <td>1898.5</td>\n",
       "      <td>1559308</td>\n",
       "      <td>San Francisco-Oakland-San Jose CA</td>\n",
       "      <td>2022</td>\n",
       "      <td>5</td>\n",
       "    </tr>\n",
       "  </tbody>\n",
       "</table>\n",
       "</div>"
      ],
      "text/plain": [
       "        State          County fipsValue  Population Density  Population  \\\n",
       "0  California  Alameda County     06001              1898.5     1559308   \n",
       "1  California  Alameda County     06001              1898.5     1559308   \n",
       "2  California  Alameda County     06001              1898.5     1559308   \n",
       "3  California  Alameda County     06001              1898.5     1559308   \n",
       "4  California  Alameda County     06001              1898.5     1559308   \n",
       "\n",
       "                              Region  Year  Month  \n",
       "0  San Francisco-Oakland-San Jose CA  2022      1  \n",
       "1  San Francisco-Oakland-San Jose CA  2022      2  \n",
       "2  San Francisco-Oakland-San Jose CA  2022      3  \n",
       "3  San Francisco-Oakland-San Jose CA  2022      4  \n",
       "4  San Francisco-Oakland-San Jose CA  2022      5  "
      ]
     },
     "execution_count": 38,
     "metadata": {},
     "output_type": "execute_result"
    }
   ],
   "source": [
    "root.head()"
   ]
  },
  {
   "cell_type": "code",
   "execution_count": 39,
   "id": "a50479c4",
   "metadata": {
    "scrolled": false
   },
   "outputs": [
    {
     "name": "stdout",
     "output_type": "stream",
     "text": [
      "<class 'pandas.core.frame.DataFrame'>\n",
      "Int64Index: 251 entries, 0 to 250\n",
      "Data columns (total 5 columns):\n",
      " #   Column             Non-Null Count  Dtype \n",
      "---  ------             --------------  ----- \n",
      " 0   State              251 non-null    object\n",
      " 1   Year               251 non-null    int64 \n",
      " 2   Month              251 non-null    int64 \n",
      " 3   County             251 non-null    object\n",
      " 4   Number of Workers  251 non-null    int64 \n",
      "dtypes: int64(3), object(2)\n",
      "memory usage: 11.8+ KB\n"
     ]
    }
   ],
   "source": [
    "warn.info()"
   ]
  },
  {
   "cell_type": "code",
   "execution_count": 40,
   "id": "b6f54ada",
   "metadata": {
    "scrolled": true
   },
   "outputs": [],
   "source": [
    "data_2022 = pd.merge(root, warn, how='left', on=['State', 'County', 'Month', 'Year'])"
   ]
  },
  {
   "cell_type": "code",
   "execution_count": 41,
   "id": "f5912276",
   "metadata": {},
   "outputs": [
    {
     "data": {
      "text/html": [
       "<div>\n",
       "<style scoped>\n",
       "    .dataframe tbody tr th:only-of-type {\n",
       "        vertical-align: middle;\n",
       "    }\n",
       "\n",
       "    .dataframe tbody tr th {\n",
       "        vertical-align: top;\n",
       "    }\n",
       "\n",
       "    .dataframe thead th {\n",
       "        text-align: right;\n",
       "    }\n",
       "</style>\n",
       "<table border=\"1\" class=\"dataframe\">\n",
       "  <thead>\n",
       "    <tr style=\"text-align: right;\">\n",
       "      <th></th>\n",
       "      <th>fipsValue</th>\n",
       "      <th>Year</th>\n",
       "      <th>Month</th>\n",
       "      <th>Disaster</th>\n",
       "    </tr>\n",
       "  </thead>\n",
       "  <tbody>\n",
       "    <tr>\n",
       "      <th>0</th>\n",
       "      <td>06017</td>\n",
       "      <td>2022</td>\n",
       "      <td>9</td>\n",
       "      <td>1</td>\n",
       "    </tr>\n",
       "    <tr>\n",
       "      <th>1</th>\n",
       "      <td>06043</td>\n",
       "      <td>2022</td>\n",
       "      <td>7</td>\n",
       "      <td>1</td>\n",
       "    </tr>\n",
       "    <tr>\n",
       "      <th>2</th>\n",
       "      <td>06059</td>\n",
       "      <td>2022</td>\n",
       "      <td>5</td>\n",
       "      <td>1</td>\n",
       "    </tr>\n",
       "    <tr>\n",
       "      <th>3</th>\n",
       "      <td>06061</td>\n",
       "      <td>2022</td>\n",
       "      <td>9</td>\n",
       "      <td>1</td>\n",
       "    </tr>\n",
       "    <tr>\n",
       "      <th>4</th>\n",
       "      <td>06065</td>\n",
       "      <td>2022</td>\n",
       "      <td>9</td>\n",
       "      <td>1</td>\n",
       "    </tr>\n",
       "    <tr>\n",
       "      <th>5</th>\n",
       "      <td>06093</td>\n",
       "      <td>2022</td>\n",
       "      <td>9</td>\n",
       "      <td>1</td>\n",
       "    </tr>\n",
       "    <tr>\n",
       "      <th>6</th>\n",
       "      <td>48035</td>\n",
       "      <td>2022</td>\n",
       "      <td>7</td>\n",
       "      <td>1</td>\n",
       "    </tr>\n",
       "    <tr>\n",
       "      <th>7</th>\n",
       "      <td>48133</td>\n",
       "      <td>2022</td>\n",
       "      <td>3</td>\n",
       "      <td>2</td>\n",
       "    </tr>\n",
       "    <tr>\n",
       "      <th>8</th>\n",
       "      <td>48221</td>\n",
       "      <td>2022</td>\n",
       "      <td>3</td>\n",
       "      <td>1</td>\n",
       "    </tr>\n",
       "    <tr>\n",
       "      <th>9</th>\n",
       "      <td>48221</td>\n",
       "      <td>2022</td>\n",
       "      <td>7</td>\n",
       "      <td>1</td>\n",
       "    </tr>\n",
       "    <tr>\n",
       "      <th>10</th>\n",
       "      <td>48425</td>\n",
       "      <td>2022</td>\n",
       "      <td>7</td>\n",
       "      <td>1</td>\n",
       "    </tr>\n",
       "    <tr>\n",
       "      <th>11</th>\n",
       "      <td>48441</td>\n",
       "      <td>2022</td>\n",
       "      <td>5</td>\n",
       "      <td>1</td>\n",
       "    </tr>\n",
       "  </tbody>\n",
       "</table>\n",
       "</div>"
      ],
      "text/plain": [
       "   fipsValue  Year  Month  Disaster\n",
       "0      06017  2022      9         1\n",
       "1      06043  2022      7         1\n",
       "2      06059  2022      5         1\n",
       "3      06061  2022      9         1\n",
       "4      06065  2022      9         1\n",
       "5      06093  2022      9         1\n",
       "6      48035  2022      7         1\n",
       "7      48133  2022      3         2\n",
       "8      48221  2022      3         1\n",
       "9      48221  2022      7         1\n",
       "10     48425  2022      7         1\n",
       "11     48441  2022      5         1"
      ]
     },
     "execution_count": 41,
     "metadata": {},
     "output_type": "execute_result"
    }
   ],
   "source": [
    "disaster"
   ]
  },
  {
   "cell_type": "code",
   "execution_count": 42,
   "id": "f8d3ac6b",
   "metadata": {},
   "outputs": [],
   "source": [
    "col = ['fipsValue', 'Disaster', 'Month']\n",
    "disaster = disaster[col]"
   ]
  },
  {
   "cell_type": "code",
   "execution_count": 43,
   "id": "a443f0f2",
   "metadata": {},
   "outputs": [
    {
     "data": {
      "text/html": [
       "<div>\n",
       "<style scoped>\n",
       "    .dataframe tbody tr th:only-of-type {\n",
       "        vertical-align: middle;\n",
       "    }\n",
       "\n",
       "    .dataframe tbody tr th {\n",
       "        vertical-align: top;\n",
       "    }\n",
       "\n",
       "    .dataframe thead th {\n",
       "        text-align: right;\n",
       "    }\n",
       "</style>\n",
       "<table border=\"1\" class=\"dataframe\">\n",
       "  <thead>\n",
       "    <tr style=\"text-align: right;\">\n",
       "      <th></th>\n",
       "      <th>fipsValue</th>\n",
       "      <th>Disaster</th>\n",
       "      <th>Month</th>\n",
       "    </tr>\n",
       "  </thead>\n",
       "  <tbody>\n",
       "    <tr>\n",
       "      <th>0</th>\n",
       "      <td>06017</td>\n",
       "      <td>1</td>\n",
       "      <td>9</td>\n",
       "    </tr>\n",
       "    <tr>\n",
       "      <th>1</th>\n",
       "      <td>06043</td>\n",
       "      <td>1</td>\n",
       "      <td>7</td>\n",
       "    </tr>\n",
       "    <tr>\n",
       "      <th>2</th>\n",
       "      <td>06059</td>\n",
       "      <td>1</td>\n",
       "      <td>5</td>\n",
       "    </tr>\n",
       "    <tr>\n",
       "      <th>3</th>\n",
       "      <td>06061</td>\n",
       "      <td>1</td>\n",
       "      <td>9</td>\n",
       "    </tr>\n",
       "    <tr>\n",
       "      <th>4</th>\n",
       "      <td>06065</td>\n",
       "      <td>1</td>\n",
       "      <td>9</td>\n",
       "    </tr>\n",
       "    <tr>\n",
       "      <th>5</th>\n",
       "      <td>06093</td>\n",
       "      <td>1</td>\n",
       "      <td>9</td>\n",
       "    </tr>\n",
       "    <tr>\n",
       "      <th>6</th>\n",
       "      <td>48035</td>\n",
       "      <td>1</td>\n",
       "      <td>7</td>\n",
       "    </tr>\n",
       "    <tr>\n",
       "      <th>7</th>\n",
       "      <td>48133</td>\n",
       "      <td>2</td>\n",
       "      <td>3</td>\n",
       "    </tr>\n",
       "    <tr>\n",
       "      <th>8</th>\n",
       "      <td>48221</td>\n",
       "      <td>1</td>\n",
       "      <td>3</td>\n",
       "    </tr>\n",
       "    <tr>\n",
       "      <th>9</th>\n",
       "      <td>48221</td>\n",
       "      <td>1</td>\n",
       "      <td>7</td>\n",
       "    </tr>\n",
       "    <tr>\n",
       "      <th>10</th>\n",
       "      <td>48425</td>\n",
       "      <td>1</td>\n",
       "      <td>7</td>\n",
       "    </tr>\n",
       "    <tr>\n",
       "      <th>11</th>\n",
       "      <td>48441</td>\n",
       "      <td>1</td>\n",
       "      <td>5</td>\n",
       "    </tr>\n",
       "  </tbody>\n",
       "</table>\n",
       "</div>"
      ],
      "text/plain": [
       "   fipsValue  Disaster  Month\n",
       "0      06017         1      9\n",
       "1      06043         1      7\n",
       "2      06059         1      5\n",
       "3      06061         1      9\n",
       "4      06065         1      9\n",
       "5      06093         1      9\n",
       "6      48035         1      7\n",
       "7      48133         2      3\n",
       "8      48221         1      3\n",
       "9      48221         1      7\n",
       "10     48425         1      7\n",
       "11     48441         1      5"
      ]
     },
     "execution_count": 43,
     "metadata": {},
     "output_type": "execute_result"
    }
   ],
   "source": [
    "disaster"
   ]
  },
  {
   "cell_type": "code",
   "execution_count": 44,
   "id": "fa6e12c3",
   "metadata": {
    "scrolled": true
   },
   "outputs": [],
   "source": [
    "data_2022 = pd.merge(data_2022, disaster, how='left', on=['fipsValue','Month'])"
   ]
  },
  {
   "cell_type": "code",
   "execution_count": 45,
   "id": "77f4ef4a",
   "metadata": {},
   "outputs": [
    {
     "name": "stdout",
     "output_type": "stream",
     "text": [
      "<class 'pandas.core.frame.DataFrame'>\n",
      "Int64Index: 3744 entries, 0 to 3743\n",
      "Data columns (total 10 columns):\n",
      " #   Column              Non-Null Count  Dtype  \n",
      "---  ------              --------------  -----  \n",
      " 0   State               3744 non-null   object \n",
      " 1   County              3744 non-null   object \n",
      " 2   fipsValue           3744 non-null   object \n",
      " 3   Population Density  3744 non-null   float64\n",
      " 4   Population          3744 non-null   int64  \n",
      " 5   Region              3744 non-null   object \n",
      " 6   Year                3744 non-null   int64  \n",
      " 7   Month               3744 non-null   int64  \n",
      " 8   Number of Workers   251 non-null    float64\n",
      " 9   Disaster            12 non-null     float64\n",
      "dtypes: float64(3), int64(3), object(4)\n",
      "memory usage: 321.8+ KB\n"
     ]
    }
   ],
   "source": [
    "data_2022.info()"
   ]
  },
  {
   "cell_type": "code",
   "execution_count": 46,
   "id": "c8f78c6d",
   "metadata": {},
   "outputs": [],
   "source": [
    "data_2022.fillna(0, inplace=True)"
   ]
  },
  {
   "cell_type": "code",
   "execution_count": 47,
   "id": "a25e9805",
   "metadata": {},
   "outputs": [
    {
     "data": {
      "text/html": [
       "<div>\n",
       "<style scoped>\n",
       "    .dataframe tbody tr th:only-of-type {\n",
       "        vertical-align: middle;\n",
       "    }\n",
       "\n",
       "    .dataframe tbody tr th {\n",
       "        vertical-align: top;\n",
       "    }\n",
       "\n",
       "    .dataframe thead th {\n",
       "        text-align: right;\n",
       "    }\n",
       "</style>\n",
       "<table border=\"1\" class=\"dataframe\">\n",
       "  <thead>\n",
       "    <tr style=\"text-align: right;\">\n",
       "      <th></th>\n",
       "      <th>State</th>\n",
       "      <th>County</th>\n",
       "      <th>fipsValue</th>\n",
       "      <th>Population Density</th>\n",
       "      <th>Population</th>\n",
       "      <th>Region</th>\n",
       "      <th>Year</th>\n",
       "      <th>Month</th>\n",
       "      <th>Number of Workers</th>\n",
       "      <th>Disaster</th>\n",
       "    </tr>\n",
       "  </thead>\n",
       "  <tbody>\n",
       "    <tr>\n",
       "      <th>0</th>\n",
       "      <td>California</td>\n",
       "      <td>Alameda County</td>\n",
       "      <td>06001</td>\n",
       "      <td>1898.5</td>\n",
       "      <td>1559308</td>\n",
       "      <td>San Francisco-Oakland-San Jose CA</td>\n",
       "      <td>2022</td>\n",
       "      <td>1</td>\n",
       "      <td>258.0</td>\n",
       "      <td>0.0</td>\n",
       "    </tr>\n",
       "    <tr>\n",
       "      <th>1</th>\n",
       "      <td>California</td>\n",
       "      <td>Alameda County</td>\n",
       "      <td>06001</td>\n",
       "      <td>1898.5</td>\n",
       "      <td>1559308</td>\n",
       "      <td>San Francisco-Oakland-San Jose CA</td>\n",
       "      <td>2022</td>\n",
       "      <td>2</td>\n",
       "      <td>16.0</td>\n",
       "      <td>0.0</td>\n",
       "    </tr>\n",
       "    <tr>\n",
       "      <th>2</th>\n",
       "      <td>California</td>\n",
       "      <td>Alameda County</td>\n",
       "      <td>06001</td>\n",
       "      <td>1898.5</td>\n",
       "      <td>1559308</td>\n",
       "      <td>San Francisco-Oakland-San Jose CA</td>\n",
       "      <td>2022</td>\n",
       "      <td>3</td>\n",
       "      <td>0.0</td>\n",
       "      <td>0.0</td>\n",
       "    </tr>\n",
       "    <tr>\n",
       "      <th>3</th>\n",
       "      <td>California</td>\n",
       "      <td>Alameda County</td>\n",
       "      <td>06001</td>\n",
       "      <td>1898.5</td>\n",
       "      <td>1559308</td>\n",
       "      <td>San Francisco-Oakland-San Jose CA</td>\n",
       "      <td>2022</td>\n",
       "      <td>4</td>\n",
       "      <td>240.0</td>\n",
       "      <td>0.0</td>\n",
       "    </tr>\n",
       "    <tr>\n",
       "      <th>4</th>\n",
       "      <td>California</td>\n",
       "      <td>Alameda County</td>\n",
       "      <td>06001</td>\n",
       "      <td>1898.5</td>\n",
       "      <td>1559308</td>\n",
       "      <td>San Francisco-Oakland-San Jose CA</td>\n",
       "      <td>2022</td>\n",
       "      <td>5</td>\n",
       "      <td>51.0</td>\n",
       "      <td>0.0</td>\n",
       "    </tr>\n",
       "  </tbody>\n",
       "</table>\n",
       "</div>"
      ],
      "text/plain": [
       "        State          County fipsValue  Population Density  Population  \\\n",
       "0  California  Alameda County     06001              1898.5     1559308   \n",
       "1  California  Alameda County     06001              1898.5     1559308   \n",
       "2  California  Alameda County     06001              1898.5     1559308   \n",
       "3  California  Alameda County     06001              1898.5     1559308   \n",
       "4  California  Alameda County     06001              1898.5     1559308   \n",
       "\n",
       "                              Region  Year  Month  Number of Workers  Disaster  \n",
       "0  San Francisco-Oakland-San Jose CA  2022      1              258.0       0.0  \n",
       "1  San Francisco-Oakland-San Jose CA  2022      2               16.0       0.0  \n",
       "2  San Francisco-Oakland-San Jose CA  2022      3                0.0       0.0  \n",
       "3  San Francisco-Oakland-San Jose CA  2022      4              240.0       0.0  \n",
       "4  San Francisco-Oakland-San Jose CA  2022      5               51.0       0.0  "
      ]
     },
     "execution_count": 47,
     "metadata": {},
     "output_type": "execute_result"
    }
   ],
   "source": [
    "data_2022.head()"
   ]
  },
  {
   "cell_type": "markdown",
   "id": "5ee1b7cb",
   "metadata": {},
   "source": [
    "### Add google word"
   ]
  },
  {
   "cell_type": "code",
   "execution_count": 48,
   "id": "44ac9026",
   "metadata": {},
   "outputs": [],
   "source": [
    "google = pd.read_excel('GoogleTrend_2022.xlsx', index_col=0)"
   ]
  },
  {
   "cell_type": "code",
   "execution_count": 49,
   "id": "5dc768aa",
   "metadata": {},
   "outputs": [
    {
     "name": "stdout",
     "output_type": "stream",
     "text": [
      "<class 'pandas.core.frame.DataFrame'>\n",
      "Int64Index: 420 entries, 0 to 419\n",
      "Data columns (total 6 columns):\n",
      " #   Column      Non-Null Count  Dtype         \n",
      "---  ------      --------------  -----         \n",
      " 0   Region      420 non-null    object        \n",
      " 1   Search      420 non-null    int64         \n",
      " 2   datetime    420 non-null    datetime64[ns]\n",
      " 3   Year        420 non-null    int64         \n",
      " 4   Month       420 non-null    int64         \n",
      " 5   Searchterm  420 non-null    object        \n",
      "dtypes: datetime64[ns](1), int64(3), object(2)\n",
      "memory usage: 23.0+ KB\n"
     ]
    }
   ],
   "source": [
    "google.info()"
   ]
  },
  {
   "cell_type": "code",
   "execution_count": 52,
   "id": "916950ff",
   "metadata": {
    "scrolled": true
   },
   "outputs": [
    {
     "name": "stderr",
     "output_type": "stream",
     "text": [
      "/var/folders/gh/67px3m710b74y6c1mwgnkcq40000gn/T/ipykernel_85657/4275084235.py:7: SettingWithCopyWarning: \n",
      "A value is trying to be set on a copy of a slice from a DataFrame\n",
      "\n",
      "See the caveats in the documentation: https://pandas.pydata.org/pandas-docs/stable/user_guide/indexing.html#returning-a-view-versus-a-copy\n",
      "  cur_df.rename(columns={'Search': name}, inplace=True)\n",
      "/var/folders/gh/67px3m710b74y6c1mwgnkcq40000gn/T/ipykernel_85657/4275084235.py:8: SettingWithCopyWarning: \n",
      "A value is trying to be set on a copy of a slice from a DataFrame\n",
      "\n",
      "See the caveats in the documentation: https://pandas.pydata.org/pandas-docs/stable/user_guide/indexing.html#returning-a-view-versus-a-copy\n",
      "  cur_df.drop(columns='Searchterm', inplace=True)\n",
      "/var/folders/gh/67px3m710b74y6c1mwgnkcq40000gn/T/ipykernel_85657/4275084235.py:7: SettingWithCopyWarning: \n",
      "A value is trying to be set on a copy of a slice from a DataFrame\n",
      "\n",
      "See the caveats in the documentation: https://pandas.pydata.org/pandas-docs/stable/user_guide/indexing.html#returning-a-view-versus-a-copy\n",
      "  cur_df.rename(columns={'Search': name}, inplace=True)\n",
      "/var/folders/gh/67px3m710b74y6c1mwgnkcq40000gn/T/ipykernel_85657/4275084235.py:8: SettingWithCopyWarning: \n",
      "A value is trying to be set on a copy of a slice from a DataFrame\n",
      "\n",
      "See the caveats in the documentation: https://pandas.pydata.org/pandas-docs/stable/user_guide/indexing.html#returning-a-view-versus-a-copy\n",
      "  cur_df.drop(columns='Searchterm', inplace=True)\n",
      "/var/folders/gh/67px3m710b74y6c1mwgnkcq40000gn/T/ipykernel_85657/4275084235.py:7: SettingWithCopyWarning: \n",
      "A value is trying to be set on a copy of a slice from a DataFrame\n",
      "\n",
      "See the caveats in the documentation: https://pandas.pydata.org/pandas-docs/stable/user_guide/indexing.html#returning-a-view-versus-a-copy\n",
      "  cur_df.rename(columns={'Search': name}, inplace=True)\n",
      "/var/folders/gh/67px3m710b74y6c1mwgnkcq40000gn/T/ipykernel_85657/4275084235.py:8: SettingWithCopyWarning: \n",
      "A value is trying to be set on a copy of a slice from a DataFrame\n",
      "\n",
      "See the caveats in the documentation: https://pandas.pydata.org/pandas-docs/stable/user_guide/indexing.html#returning-a-view-versus-a-copy\n",
      "  cur_df.drop(columns='Searchterm', inplace=True)\n",
      "/var/folders/gh/67px3m710b74y6c1mwgnkcq40000gn/T/ipykernel_85657/4275084235.py:7: SettingWithCopyWarning: \n",
      "A value is trying to be set on a copy of a slice from a DataFrame\n",
      "\n",
      "See the caveats in the documentation: https://pandas.pydata.org/pandas-docs/stable/user_guide/indexing.html#returning-a-view-versus-a-copy\n",
      "  cur_df.rename(columns={'Search': name}, inplace=True)\n",
      "/var/folders/gh/67px3m710b74y6c1mwgnkcq40000gn/T/ipykernel_85657/4275084235.py:8: SettingWithCopyWarning: \n",
      "A value is trying to be set on a copy of a slice from a DataFrame\n",
      "\n",
      "See the caveats in the documentation: https://pandas.pydata.org/pandas-docs/stable/user_guide/indexing.html#returning-a-view-versus-a-copy\n",
      "  cur_df.drop(columns='Searchterm', inplace=True)\n",
      "/var/folders/gh/67px3m710b74y6c1mwgnkcq40000gn/T/ipykernel_85657/4275084235.py:7: SettingWithCopyWarning: \n",
      "A value is trying to be set on a copy of a slice from a DataFrame\n",
      "\n",
      "See the caveats in the documentation: https://pandas.pydata.org/pandas-docs/stable/user_guide/indexing.html#returning-a-view-versus-a-copy\n",
      "  cur_df.rename(columns={'Search': name}, inplace=True)\n",
      "/var/folders/gh/67px3m710b74y6c1mwgnkcq40000gn/T/ipykernel_85657/4275084235.py:8: SettingWithCopyWarning: \n",
      "A value is trying to be set on a copy of a slice from a DataFrame\n",
      "\n",
      "See the caveats in the documentation: https://pandas.pydata.org/pandas-docs/stable/user_guide/indexing.html#returning-a-view-versus-a-copy\n",
      "  cur_df.drop(columns='Searchterm', inplace=True)\n"
     ]
    }
   ],
   "source": [
    "words = google.Searchterm.unique().tolist()\n",
    "df_google = []\n",
    "\n",
    "for word in words:\n",
    "    cur_df = google.loc[(google.Searchterm == word)]\n",
    "    name = 'google_' + word\n",
    "    cur_df.rename(columns={'Search': name}, inplace=True)\n",
    "    cur_df.drop(columns='Searchterm', inplace=True)\n",
    "    df_google.append(cur_df)\n",
    "    \n",
    "# for idx in range(len(df_google)-1): #0 ~4\n",
    "#     if 'datetime' not in df_google[0].columns.tolist:\n",
    "#         df_google[0] = df_google[0].merge(df_google[idx+1], on=['Region', 'Year', 'Month'], how='inner')\n",
    "#     else:\n",
    "#         df_google[0] = df_google[0].merge(df_google[idx+1], on=['Region', 'Year', 'Month', 'datetime'], how='outer')"
   ]
  },
  {
   "cell_type": "code",
   "execution_count": 53,
   "id": "a1fcf968",
   "metadata": {},
   "outputs": [],
   "source": [
    "df_google = df_google[0].merge(df_google[1]).merge(df_google[2]).merge(df_google[3]).merge(df_google[4])"
   ]
  },
  {
   "cell_type": "code",
   "execution_count": 55,
   "id": "ef472814",
   "metadata": {},
   "outputs": [
    {
     "name": "stdout",
     "output_type": "stream",
     "text": [
      "<class 'pandas.core.frame.DataFrame'>\n",
      "Int64Index: 84 entries, 0 to 83\n",
      "Data columns (total 9 columns):\n",
      " #   Column                                            Non-Null Count  Dtype         \n",
      "---  ------                                            --------------  -----         \n",
      " 0   Region                                            84 non-null     object        \n",
      " 1   google_calfresh                                   84 non-null     int64         \n",
      " 2   datetime                                          84 non-null     datetime64[ns]\n",
      " 3   Year                                              84 non-null     int64         \n",
      " 4   Month                                             84 non-null     int64         \n",
      " 5   google_foodbank                                   84 non-null     int64         \n",
      " 6   google_foodpantry                                 84 non-null     int64         \n",
      " 7   google_foodstamp                                  84 non-null     int64         \n",
      " 8   google_supplemental nutrition assistance program  84 non-null     int64         \n",
      "dtypes: datetime64[ns](1), int64(7), object(1)\n",
      "memory usage: 6.6+ KB\n"
     ]
    }
   ],
   "source": [
    "df_google.info()"
   ]
  },
  {
   "cell_type": "code",
   "execution_count": 54,
   "id": "9489bcc3",
   "metadata": {},
   "outputs": [
    {
     "data": {
      "text/html": [
       "<div>\n",
       "<style scoped>\n",
       "    .dataframe tbody tr th:only-of-type {\n",
       "        vertical-align: middle;\n",
       "    }\n",
       "\n",
       "    .dataframe tbody tr th {\n",
       "        vertical-align: top;\n",
       "    }\n",
       "\n",
       "    .dataframe thead th {\n",
       "        text-align: right;\n",
       "    }\n",
       "</style>\n",
       "<table border=\"1\" class=\"dataframe\">\n",
       "  <thead>\n",
       "    <tr style=\"text-align: right;\">\n",
       "      <th></th>\n",
       "      <th>Region</th>\n",
       "      <th>google_calfresh</th>\n",
       "      <th>datetime</th>\n",
       "      <th>Year</th>\n",
       "      <th>Month</th>\n",
       "      <th>google_foodbank</th>\n",
       "      <th>google_foodpantry</th>\n",
       "      <th>google_foodstamp</th>\n",
       "      <th>google_supplemental nutrition assistance program</th>\n",
       "    </tr>\n",
       "  </thead>\n",
       "  <tbody>\n",
       "    <tr>\n",
       "      <th>0</th>\n",
       "      <td>Sacramento-Stockton-Modesto CA</td>\n",
       "      <td>61</td>\n",
       "      <td>2022-09-30</td>\n",
       "      <td>2022</td>\n",
       "      <td>9</td>\n",
       "      <td>19</td>\n",
       "      <td>14</td>\n",
       "      <td>5</td>\n",
       "      <td>13</td>\n",
       "    </tr>\n",
       "    <tr>\n",
       "      <th>1</th>\n",
       "      <td>Los Angeles CA</td>\n",
       "      <td>57</td>\n",
       "      <td>2022-09-30</td>\n",
       "      <td>2022</td>\n",
       "      <td>9</td>\n",
       "      <td>8</td>\n",
       "      <td>11</td>\n",
       "      <td>4</td>\n",
       "      <td>9</td>\n",
       "    </tr>\n",
       "    <tr>\n",
       "      <th>2</th>\n",
       "      <td>San Diego CA</td>\n",
       "      <td>56</td>\n",
       "      <td>2022-09-30</td>\n",
       "      <td>2022</td>\n",
       "      <td>9</td>\n",
       "      <td>12</td>\n",
       "      <td>10</td>\n",
       "      <td>3</td>\n",
       "      <td>8</td>\n",
       "    </tr>\n",
       "    <tr>\n",
       "      <th>3</th>\n",
       "      <td>San Francisco-Oakland-San Jose CA</td>\n",
       "      <td>32</td>\n",
       "      <td>2022-09-30</td>\n",
       "      <td>2022</td>\n",
       "      <td>9</td>\n",
       "      <td>15</td>\n",
       "      <td>12</td>\n",
       "      <td>2</td>\n",
       "      <td>7</td>\n",
       "    </tr>\n",
       "    <tr>\n",
       "      <th>4</th>\n",
       "      <td>DFW</td>\n",
       "      <td>1</td>\n",
       "      <td>2022-09-30</td>\n",
       "      <td>2022</td>\n",
       "      <td>9</td>\n",
       "      <td>13</td>\n",
       "      <td>29</td>\n",
       "      <td>9</td>\n",
       "      <td>19</td>\n",
       "    </tr>\n",
       "  </tbody>\n",
       "</table>\n",
       "</div>"
      ],
      "text/plain": [
       "                              Region  google_calfresh   datetime  Year  Month  \\\n",
       "0     Sacramento-Stockton-Modesto CA               61 2022-09-30  2022      9   \n",
       "1                     Los Angeles CA               57 2022-09-30  2022      9   \n",
       "2                       San Diego CA               56 2022-09-30  2022      9   \n",
       "3  San Francisco-Oakland-San Jose CA               32 2022-09-30  2022      9   \n",
       "4                                DFW                1 2022-09-30  2022      9   \n",
       "\n",
       "   google_foodbank  google_foodpantry  google_foodstamp  \\\n",
       "0               19                 14                 5   \n",
       "1                8                 11                 4   \n",
       "2               12                 10                 3   \n",
       "3               15                 12                 2   \n",
       "4               13                 29                 9   \n",
       "\n",
       "   google_supplemental nutrition assistance program  \n",
       "0                                                13  \n",
       "1                                                 9  \n",
       "2                                                 8  \n",
       "3                                                 7  \n",
       "4                                                19  "
      ]
     },
     "execution_count": 54,
     "metadata": {},
     "output_type": "execute_result"
    }
   ],
   "source": [
    "df_google.head()"
   ]
  },
  {
   "cell_type": "code",
   "execution_count": 57,
   "id": "6ef114f3",
   "metadata": {},
   "outputs": [],
   "source": [
    "col_match = ['Region', 'Year', 'Month']"
   ]
  },
  {
   "cell_type": "code",
   "execution_count": 58,
   "id": "8ee4efd7",
   "metadata": {},
   "outputs": [],
   "source": [
    "final = pd.merge(data_2022, df_google, how='left',on = col_match)"
   ]
  },
  {
   "cell_type": "code",
   "execution_count": 59,
   "id": "ec69770a",
   "metadata": {
    "scrolled": true
   },
   "outputs": [
    {
     "name": "stdout",
     "output_type": "stream",
     "text": [
      "<class 'pandas.core.frame.DataFrame'>\n",
      "Int64Index: 3744 entries, 0 to 3743\n",
      "Data columns (total 16 columns):\n",
      " #   Column                                            Non-Null Count  Dtype         \n",
      "---  ------                                            --------------  -----         \n",
      " 0   State                                             3744 non-null   object        \n",
      " 1   County                                            3744 non-null   object        \n",
      " 2   fipsValue                                         3744 non-null   object        \n",
      " 3   Population Density                                3744 non-null   float64       \n",
      " 4   Population                                        3744 non-null   int64         \n",
      " 5   Region                                            3744 non-null   object        \n",
      " 6   Year                                              3744 non-null   int64         \n",
      " 7   Month                                             3744 non-null   int64         \n",
      " 8   Number of Workers                                 3744 non-null   float64       \n",
      " 9   Disaster                                          3744 non-null   float64       \n",
      " 10  google_calfresh                                   3744 non-null   int64         \n",
      " 11  datetime                                          3744 non-null   datetime64[ns]\n",
      " 12  google_foodbank                                   3744 non-null   int64         \n",
      " 13  google_foodpantry                                 3744 non-null   int64         \n",
      " 14  google_foodstamp                                  3744 non-null   int64         \n",
      " 15  google_supplemental nutrition assistance program  3744 non-null   int64         \n",
      "dtypes: datetime64[ns](1), float64(3), int64(8), object(4)\n",
      "memory usage: 497.2+ KB\n"
     ]
    }
   ],
   "source": [
    "final.info()"
   ]
  },
  {
   "cell_type": "code",
   "execution_count": null,
   "id": "31de04df",
   "metadata": {},
   "outputs": [],
   "source": [
    "#final.to_excel('Database_2022.xlsx')"
   ]
  },
  {
   "cell_type": "code",
   "execution_count": 63,
   "id": "b8bf9a78",
   "metadata": {},
   "outputs": [],
   "source": [
    "# create last_date_time\n",
    "final['last_date_time'] = 0\n",
    "\n",
    "for i in range(len(final)):\n",
    "    dtDate = final.iloc[i,11] # 11 is the index of date_time in this step\n",
    "    final.iloc[i,-1] = dtDate - pd.DateOffset(months=1)  # -1 is the index of last_date_time in this step"
   ]
  },
  {
   "cell_type": "markdown",
   "id": "72fe73e4",
   "metadata": {},
   "source": [
    "### Find last_snap, last_workder, last_disater, last_google words by the key [last_date_time, County and State]"
   ]
  },
  {
   "cell_type": "code",
   "execution_count": 64,
   "id": "127e3142",
   "metadata": {},
   "outputs": [],
   "source": [
    "new2=final.copy()"
   ]
  },
  {
   "cell_type": "code",
   "execution_count": 65,
   "id": "7aad8be1",
   "metadata": {},
   "outputs": [],
   "source": [
    "new2['last_snap'] = 0\n",
    "new2['last_worker'] = 0\n",
    "new2['last_disaster'] = 0\n",
    "new2['last_google_calfresh'] = 0\n",
    "new2['last_google_food_bank'] = 0\n",
    "new2['last_google_food_pantry'] = 0\n",
    "new2['last_google_food_stamps'] = 0\n",
    "new2['last_google_supplemental'] = 0\n",
    "new2['last_google_snap'] = 0"
   ]
  },
  {
   "cell_type": "code",
   "execution_count": 66,
   "id": "e9648905",
   "metadata": {},
   "outputs": [],
   "source": [
    "# get the idx of each col\n",
    "import collections\n",
    "clist = list(new2.columns)\n",
    "lookup = collections.defaultdict(int) # {colname:idx}\n",
    "for i in range(len(clist)):\n",
    "    lookup[clist[i]] = i"
   ]
  },
  {
   "cell_type": "code",
   "execution_count": 67,
   "id": "fc81b76e",
   "metadata": {},
   "outputs": [
    {
     "name": "stdout",
     "output_type": "stream",
     "text": [
      "<class 'pandas.core.frame.DataFrame'>\n",
      "Int64Index: 3744 entries, 0 to 3743\n",
      "Data columns (total 26 columns):\n",
      " #   Column                                            Non-Null Count  Dtype         \n",
      "---  ------                                            --------------  -----         \n",
      " 0   State                                             3744 non-null   object        \n",
      " 1   County                                            3744 non-null   object        \n",
      " 2   fipsValue                                         3744 non-null   object        \n",
      " 3   Population Density                                3744 non-null   float64       \n",
      " 4   Population                                        3744 non-null   int64         \n",
      " 5   Region                                            3744 non-null   object        \n",
      " 6   Year                                              3744 non-null   int64         \n",
      " 7   Month                                             3744 non-null   int64         \n",
      " 8   Number of Workers                                 3744 non-null   float64       \n",
      " 9   Disaster                                          3744 non-null   float64       \n",
      " 10  google_calfresh                                   3744 non-null   int64         \n",
      " 11  datetime                                          3744 non-null   datetime64[ns]\n",
      " 12  google_foodbank                                   3744 non-null   int64         \n",
      " 13  google_foodpantry                                 3744 non-null   int64         \n",
      " 14  google_foodstamp                                  3744 non-null   int64         \n",
      " 15  google_supplemental nutrition assistance program  3744 non-null   int64         \n",
      " 16  last_date_time                                    3744 non-null   object        \n",
      " 17  last_snap                                         3744 non-null   int64         \n",
      " 18  last_worker                                       3744 non-null   int64         \n",
      " 19  last_disaster                                     3744 non-null   int64         \n",
      " 20  last_google_calfresh                              3744 non-null   int64         \n",
      " 21  last_google_food_bank                             3744 non-null   int64         \n",
      " 22  last_google_food_pantry                           3744 non-null   int64         \n",
      " 23  last_google_food_stamps                           3744 non-null   int64         \n",
      " 24  last_google_supplemental                          3744 non-null   int64         \n",
      " 25  last_google_snap                                  3744 non-null   int64         \n",
      "dtypes: datetime64[ns](1), float64(3), int64(17), object(5)\n",
      "memory usage: 789.8+ KB\n"
     ]
    }
   ],
   "source": [
    "new2.info()"
   ]
  },
  {
   "cell_type": "code",
   "execution_count": 68,
   "id": "d3dfe791",
   "metadata": {},
   "outputs": [],
   "source": [
    "for i in range(len(new2)):\n",
    "    state = new2.iloc[i, 0]\n",
    "    county = new2.iloc[i, 1]\n",
    "    last_date_time = new2.last_date_time[i]\n",
    "\n",
    "    filtet_table = new2.loc[(new2.datetime == last_date_time) & (new2.State == state) & (new2.County == county)]\n",
    "\n",
    "    \n",
    "    if len(filtet_table) != 0:\n",
    "        # use iloc[r, c] to set cells\n",
    "        new2.iloc[i, lookup['last_disaster']] = filtet_table.Disaster.values[0]\n",
    "        new2.iloc[i, lookup['last_worker']] = filtet_table['Number of Workers'].values[0]\n",
    "        #new2.iloc[i, lookup['last_snap']] = filtet_table.SNAP_Applications.values[0]\n",
    "        new2.iloc[i, lookup['last_google_calfresh']] = filtet_table.google_calfresh.values[0]\n",
    "        new2.iloc[i, lookup['last_google_food_bank']] = filtet_table.google_foodbank.values[0]\n",
    "        new2.iloc[i, lookup['last_google_food_pantry']] = filtet_table.google_foodpantry.values[0]\n",
    "        new2.iloc[i, lookup['last_google_food_stamps']] = filtet_table.google_foodstamp.values[0]\n",
    "        new2.iloc[i, lookup['last_google_supplemental']] = filtet_table['google_supplemental nutrition assistance program'].values[0]\n",
    "        #new2.iloc[i, lookup['last_google_snap']] = filtet_table.google_snap.values[0]"
   ]
  },
  {
   "cell_type": "code",
   "execution_count": 73,
   "id": "3a070f70",
   "metadata": {
    "scrolled": true
   },
   "outputs": [
    {
     "name": "stdout",
     "output_type": "stream",
     "text": [
      "<class 'pandas.core.frame.DataFrame'>\n",
      "Int64Index: 3744 entries, 0 to 3743\n",
      "Data columns (total 18 columns):\n",
      " #   Column                    Non-Null Count  Dtype         \n",
      "---  ------                    --------------  -----         \n",
      " 0   State                     3744 non-null   object        \n",
      " 1   County                    3744 non-null   object        \n",
      " 2   fipsValue                 3744 non-null   object        \n",
      " 3   PDensity                  3744 non-null   float64       \n",
      " 4   Population                3744 non-null   int64         \n",
      " 5   Year                      3744 non-null   int64         \n",
      " 6   Month                     3744 non-null   int64         \n",
      " 7   last_date_time            3744 non-null   object        \n",
      " 8   date_time                 3744 non-null   datetime64[ns]\n",
      " 9   last_snap                 3744 non-null   int64         \n",
      " 10  last_worker               3744 non-null   int64         \n",
      " 11  last_disaster             3744 non-null   int64         \n",
      " 12  last_google_calfresh      3744 non-null   int64         \n",
      " 13  last_google_food_bank     3744 non-null   int64         \n",
      " 14  last_google_food_pantry   3744 non-null   int64         \n",
      " 15  last_google_food_stamps   3744 non-null   int64         \n",
      " 16  last_google_supplemental  3744 non-null   int64         \n",
      " 17  last_google_snap          3744 non-null   int64         \n",
      "dtypes: datetime64[ns](1), float64(1), int64(12), object(4)\n",
      "memory usage: 684.8+ KB\n"
     ]
    }
   ],
   "source": [
    "new2.info()"
   ]
  },
  {
   "cell_type": "code",
   "execution_count": 70,
   "id": "715ba2dd",
   "metadata": {},
   "outputs": [],
   "source": [
    "new2.rename(columns={'Population Density':'PDensity', 'datetime':'date_time'}, inplace=True)"
   ]
  },
  {
   "cell_type": "code",
   "execution_count": 71,
   "id": "63885630",
   "metadata": {},
   "outputs": [],
   "source": [
    "col = ['State',\n",
    " 'County',\n",
    " 'fipsValue',\n",
    " 'PDensity',\n",
    " 'Population',\n",
    " 'Year',\n",
    " 'Month',\n",
    " 'last_date_time',\n",
    " 'date_time',\n",
    " 'last_snap',\n",
    " 'last_worker',\n",
    " 'last_disaster',\n",
    " 'last_google_calfresh',\n",
    " 'last_google_food_bank',\n",
    " 'last_google_food_pantry',\n",
    " 'last_google_food_stamps',\n",
    " 'last_google_supplemental',\n",
    " 'last_google_snap']"
   ]
  },
  {
   "cell_type": "code",
   "execution_count": 72,
   "id": "7f76b8ae",
   "metadata": {},
   "outputs": [],
   "source": [
    "new2 = new2[col]"
   ]
  },
  {
   "cell_type": "code",
   "execution_count": 74,
   "id": "928aabfa",
   "metadata": {},
   "outputs": [],
   "source": [
    "new2.to_excel('dataForPrediction_2022.xlsx')"
   ]
  },
  {
   "cell_type": "markdown",
   "id": "e80988ea",
   "metadata": {},
   "source": [
    "### Need to get the prediction values first !!!"
   ]
  },
  {
   "cell_type": "code",
   "execution_count": null,
   "id": "893336ce",
   "metadata": {},
   "outputs": [],
   "source": []
  },
  {
   "cell_type": "code",
   "execution_count": null,
   "id": "f802b8b7",
   "metadata": {},
   "outputs": [],
   "source": []
  },
  {
   "cell_type": "code",
   "execution_count": null,
   "id": "647c33c2",
   "metadata": {},
   "outputs": [],
   "source": []
  }
 ],
 "metadata": {
  "kernelspec": {
   "display_name": "Python 3 (ipykernel)",
   "language": "python",
   "name": "python3"
  },
  "language_info": {
   "codemirror_mode": {
    "name": "ipython",
    "version": 3
   },
   "file_extension": ".py",
   "mimetype": "text/x-python",
   "name": "python",
   "nbconvert_exporter": "python",
   "pygments_lexer": "ipython3",
   "version": "3.9.13"
  }
 },
 "nbformat": 4,
 "nbformat_minor": 5
}
