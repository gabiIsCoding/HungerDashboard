{
 "cells": [
  {
   "cell_type": "code",
   "execution_count": 3,
   "id": "1a91aea2",
   "metadata": {},
   "outputs": [
    {
     "data": {
      "application/javascript": [
       "IPython.notebook.set_autosave_interval(20000)"
      ]
     },
     "metadata": {},
     "output_type": "display_data"
    },
    {
     "name": "stdout",
     "output_type": "stream",
     "text": [
      "Autosaving every 20 seconds\n"
     ]
    }
   ],
   "source": [
    "%autosave 20"
   ]
  },
  {
   "cell_type": "code",
   "execution_count": 4,
   "id": "73062489",
   "metadata": {},
   "outputs": [],
   "source": [
    "import pandas as pd\n",
    "import numpy as np\n",
    "\n",
    "# print all the outputs in a cell\n",
    "from IPython.core.interactiveshell import InteractiveShell\n",
    "InteractiveShell.ast_node_interactivity = \"all\"\n",
    "\n",
    "pd.set_option('display.max_columns', None)\n",
    "pd.set_option('display.max_rows', None)"
   ]
  },
  {
   "cell_type": "markdown",
   "id": "3bfb7859",
   "metadata": {},
   "source": [
    "# California data"
   ]
  },
  {
   "cell_type": "code",
   "execution_count": 5,
   "id": "48339a53",
   "metadata": {},
   "outputs": [],
   "source": [
    "#ca_checklist = pd.read_excel('/Users/chensumei/Desktop/Ram Paper/Nowcasting Project - Sumei Chen/Data/California Search Data/California Data checklist.xlsx', sheet=)\n",
    "ca= pd.read_excel('/Users/chensumei/Desktop/Ram Paper/Nowcasting Project - Sumei Chen/Data/California Search Data/California Search Data 2019-2021.xlsx', sheet_name='Aggregated')\n"
   ]
  },
  {
   "cell_type": "code",
   "execution_count": 4,
   "id": "931bb635",
   "metadata": {},
   "outputs": [],
   "source": [
    "#ca_checklist.head()"
   ]
  },
  {
   "cell_type": "code",
   "execution_count": 6,
   "id": "7a811bcb",
   "metadata": {
    "scrolled": true
   },
   "outputs": [
    {
     "data": {
      "text/html": [
       "<div>\n",
       "<style scoped>\n",
       "    .dataframe tbody tr th:only-of-type {\n",
       "        vertical-align: middle;\n",
       "    }\n",
       "\n",
       "    .dataframe tbody tr th {\n",
       "        vertical-align: top;\n",
       "    }\n",
       "\n",
       "    .dataframe thead th {\n",
       "        text-align: right;\n",
       "    }\n",
       "</style>\n",
       "<table border=\"1\" class=\"dataframe\">\n",
       "  <thead>\n",
       "    <tr style=\"text-align: right;\">\n",
       "      <th></th>\n",
       "      <th>Date</th>\n",
       "      <th>Search</th>\n",
       "      <th>Search term</th>\n",
       "      <th>Region</th>\n",
       "    </tr>\n",
       "  </thead>\n",
       "  <tbody>\n",
       "    <tr>\n",
       "      <th>0</th>\n",
       "      <td>2019-01-06</td>\n",
       "      <td>24</td>\n",
       "      <td>calfresh</td>\n",
       "      <td>Los Angeles CA</td>\n",
       "    </tr>\n",
       "    <tr>\n",
       "      <th>1</th>\n",
       "      <td>2019-01-13</td>\n",
       "      <td>34</td>\n",
       "      <td>calfresh</td>\n",
       "      <td>Los Angeles CA</td>\n",
       "    </tr>\n",
       "    <tr>\n",
       "      <th>2</th>\n",
       "      <td>2019-01-20</td>\n",
       "      <td>26</td>\n",
       "      <td>calfresh</td>\n",
       "      <td>Los Angeles CA</td>\n",
       "    </tr>\n",
       "    <tr>\n",
       "      <th>3</th>\n",
       "      <td>2019-01-27</td>\n",
       "      <td>26</td>\n",
       "      <td>calfresh</td>\n",
       "      <td>Los Angeles CA</td>\n",
       "    </tr>\n",
       "    <tr>\n",
       "      <th>4</th>\n",
       "      <td>2019-02-03</td>\n",
       "      <td>28</td>\n",
       "      <td>calfresh</td>\n",
       "      <td>Los Angeles CA</td>\n",
       "    </tr>\n",
       "    <tr>\n",
       "      <th>5</th>\n",
       "      <td>2019-02-10</td>\n",
       "      <td>20</td>\n",
       "      <td>calfresh</td>\n",
       "      <td>Los Angeles CA</td>\n",
       "    </tr>\n",
       "    <tr>\n",
       "      <th>6</th>\n",
       "      <td>2019-02-17</td>\n",
       "      <td>21</td>\n",
       "      <td>calfresh</td>\n",
       "      <td>Los Angeles CA</td>\n",
       "    </tr>\n",
       "    <tr>\n",
       "      <th>7</th>\n",
       "      <td>2019-02-24</td>\n",
       "      <td>27</td>\n",
       "      <td>calfresh</td>\n",
       "      <td>Los Angeles CA</td>\n",
       "    </tr>\n",
       "    <tr>\n",
       "      <th>8</th>\n",
       "      <td>2019-03-03</td>\n",
       "      <td>20</td>\n",
       "      <td>calfresh</td>\n",
       "      <td>Los Angeles CA</td>\n",
       "    </tr>\n",
       "    <tr>\n",
       "      <th>9</th>\n",
       "      <td>2019-03-10</td>\n",
       "      <td>20</td>\n",
       "      <td>calfresh</td>\n",
       "      <td>Los Angeles CA</td>\n",
       "    </tr>\n",
       "  </tbody>\n",
       "</table>\n",
       "</div>"
      ],
      "text/plain": [
       "        Date  Search Search term          Region\n",
       "0 2019-01-06      24    calfresh  Los Angeles CA\n",
       "1 2019-01-13      34    calfresh  Los Angeles CA\n",
       "2 2019-01-20      26    calfresh  Los Angeles CA\n",
       "3 2019-01-27      26    calfresh  Los Angeles CA\n",
       "4 2019-02-03      28    calfresh  Los Angeles CA\n",
       "5 2019-02-10      20    calfresh  Los Angeles CA\n",
       "6 2019-02-17      21    calfresh  Los Angeles CA\n",
       "7 2019-02-24      27    calfresh  Los Angeles CA\n",
       "8 2019-03-03      20    calfresh  Los Angeles CA\n",
       "9 2019-03-10      20    calfresh  Los Angeles CA"
      ]
     },
     "execution_count": 6,
     "metadata": {},
     "output_type": "execute_result"
    }
   ],
   "source": [
    "ca.head(10)"
   ]
  },
  {
   "cell_type": "code",
   "execution_count": 7,
   "id": "1e8b776c",
   "metadata": {},
   "outputs": [
    {
     "name": "stdout",
     "output_type": "stream",
     "text": [
      "<class 'pandas.core.frame.DataFrame'>\n",
      "RangeIndex: 3120 entries, 0 to 3119\n",
      "Data columns (total 4 columns):\n",
      " #   Column       Non-Null Count  Dtype         \n",
      "---  ------       --------------  -----         \n",
      " 0   Date         3120 non-null   datetime64[ns]\n",
      " 1   Search       3120 non-null   int64         \n",
      " 2   Search term  3120 non-null   object        \n",
      " 3   Region       3120 non-null   object        \n",
      "dtypes: datetime64[ns](1), int64(1), object(2)\n",
      "memory usage: 97.6+ KB\n"
     ]
    }
   ],
   "source": [
    "ca.info()"
   ]
  },
  {
   "cell_type": "code",
   "execution_count": 8,
   "id": "3ed8b74b",
   "metadata": {},
   "outputs": [
    {
     "data": {
      "text/plain": [
       "66     100\n",
       "221    100\n",
       "377    100\n",
       "469    100\n",
       "625    100\n",
       "Name: Search, dtype: int64"
      ]
     },
     "execution_count": 8,
     "metadata": {},
     "output_type": "execute_result"
    }
   ],
   "source": [
    "ca['Search'].nlargest()"
   ]
  },
  {
   "cell_type": "code",
   "execution_count": 9,
   "id": "c29db2ae",
   "metadata": {},
   "outputs": [],
   "source": [
    "ca['State'] = 'California'"
   ]
  },
  {
   "cell_type": "code",
   "execution_count": 10,
   "id": "2a9d0bb8",
   "metadata": {},
   "outputs": [],
   "source": [
    "ca['Year'] = ca['Date'].dt.year.astype('Int64')\n",
    "ca['Month'] = ca['Date'].dt.month.astype('Int64')"
   ]
  },
  {
   "cell_type": "code",
   "execution_count": 11,
   "id": "ae9d99ed",
   "metadata": {
    "scrolled": false
   },
   "outputs": [
    {
     "data": {
      "text/plain": [
       "array(['Los Angeles CA', 'Sacramento-Stockton-Modesto CA', 'San Diego CA',\n",
       "       'San Francisco-Oakland-San Jose CA'], dtype=object)"
      ]
     },
     "execution_count": 11,
     "metadata": {},
     "output_type": "execute_result"
    }
   ],
   "source": [
    "ca.Region.unique()"
   ]
  },
  {
   "cell_type": "code",
   "execution_count": 12,
   "id": "e14733b6",
   "metadata": {},
   "outputs": [
    {
     "data": {
      "text/html": [
       "<div>\n",
       "<style scoped>\n",
       "    .dataframe tbody tr th:only-of-type {\n",
       "        vertical-align: middle;\n",
       "    }\n",
       "\n",
       "    .dataframe tbody tr th {\n",
       "        vertical-align: top;\n",
       "    }\n",
       "\n",
       "    .dataframe thead th {\n",
       "        text-align: right;\n",
       "    }\n",
       "</style>\n",
       "<table border=\"1\" class=\"dataframe\">\n",
       "  <thead>\n",
       "    <tr style=\"text-align: right;\">\n",
       "      <th></th>\n",
       "      <th>Date</th>\n",
       "      <th>Search</th>\n",
       "      <th>Search term</th>\n",
       "      <th>Region</th>\n",
       "      <th>State</th>\n",
       "      <th>Year</th>\n",
       "      <th>Month</th>\n",
       "    </tr>\n",
       "  </thead>\n",
       "  <tbody>\n",
       "    <tr>\n",
       "      <th>0</th>\n",
       "      <td>2019-01-06</td>\n",
       "      <td>24</td>\n",
       "      <td>calfresh</td>\n",
       "      <td>Los Angeles CA</td>\n",
       "      <td>California</td>\n",
       "      <td>2019</td>\n",
       "      <td>1</td>\n",
       "    </tr>\n",
       "    <tr>\n",
       "      <th>1</th>\n",
       "      <td>2019-01-13</td>\n",
       "      <td>34</td>\n",
       "      <td>calfresh</td>\n",
       "      <td>Los Angeles CA</td>\n",
       "      <td>California</td>\n",
       "      <td>2019</td>\n",
       "      <td>1</td>\n",
       "    </tr>\n",
       "    <tr>\n",
       "      <th>2</th>\n",
       "      <td>2019-01-20</td>\n",
       "      <td>26</td>\n",
       "      <td>calfresh</td>\n",
       "      <td>Los Angeles CA</td>\n",
       "      <td>California</td>\n",
       "      <td>2019</td>\n",
       "      <td>1</td>\n",
       "    </tr>\n",
       "    <tr>\n",
       "      <th>3</th>\n",
       "      <td>2019-01-27</td>\n",
       "      <td>26</td>\n",
       "      <td>calfresh</td>\n",
       "      <td>Los Angeles CA</td>\n",
       "      <td>California</td>\n",
       "      <td>2019</td>\n",
       "      <td>1</td>\n",
       "    </tr>\n",
       "    <tr>\n",
       "      <th>4</th>\n",
       "      <td>2019-02-03</td>\n",
       "      <td>28</td>\n",
       "      <td>calfresh</td>\n",
       "      <td>Los Angeles CA</td>\n",
       "      <td>California</td>\n",
       "      <td>2019</td>\n",
       "      <td>2</td>\n",
       "    </tr>\n",
       "  </tbody>\n",
       "</table>\n",
       "</div>"
      ],
      "text/plain": [
       "        Date  Search Search term          Region       State  Year  Month\n",
       "0 2019-01-06      24    calfresh  Los Angeles CA  California  2019      1\n",
       "1 2019-01-13      34    calfresh  Los Angeles CA  California  2019      1\n",
       "2 2019-01-20      26    calfresh  Los Angeles CA  California  2019      1\n",
       "3 2019-01-27      26    calfresh  Los Angeles CA  California  2019      1\n",
       "4 2019-02-03      28    calfresh  Los Angeles CA  California  2019      2"
      ]
     },
     "execution_count": 12,
     "metadata": {},
     "output_type": "execute_result"
    }
   ],
   "source": [
    "ca.head()"
   ]
  },
  {
   "cell_type": "markdown",
   "id": "9409c41f",
   "metadata": {},
   "source": [
    "### California search words: 'calfresh' is different from TX's 'snap'"
   ]
  },
  {
   "cell_type": "code",
   "execution_count": 13,
   "id": "946462b2",
   "metadata": {
    "scrolled": false
   },
   "outputs": [
    {
     "data": {
      "text/plain": [
       "{'calfresh',\n",
       " 'food bank',\n",
       " 'food pantry',\n",
       " 'food stamps',\n",
       " 'supplemental nutrition assistance program'}"
      ]
     },
     "execution_count": 13,
     "metadata": {},
     "output_type": "execute_result"
    }
   ],
   "source": [
    "set(ca['Search term'].values)"
   ]
  },
  {
   "cell_type": "markdown",
   "id": "45922852",
   "metadata": {},
   "source": [
    "# Texas data"
   ]
  },
  {
   "cell_type": "code",
   "execution_count": 14,
   "id": "3476f178",
   "metadata": {},
   "outputs": [],
   "source": [
    "paths = ['/Users/chensumei/Desktop/Ram Paper/Nowcasting Project - Sumei Chen/Data/Texas Data/Texas search data/allsupplement',\n",
    "        '/Users/chensumei/Desktop/Ram Paper/Nowcasting Project - Sumei Chen/Data/Texas Data/Texas search data/foodbank',\n",
    "        '/Users/chensumei/Desktop/Ram Paper/Nowcasting Project - Sumei Chen/Data/Texas Data/Texas search data/snap',\n",
    "        '/Users/chensumei/Desktop/Ram Paper/Nowcasting Project - Sumei Chen/Data/Texas Data/Texas search data/foodstamps',\n",
    "        '/Users/chensumei/Desktop/Ram Paper/Nowcasting Project - Sumei Chen/Data/Texas Data/Texas search data/foodpantry']"
   ]
  },
  {
   "cell_type": "markdown",
   "id": "f770e6ef",
   "metadata": {},
   "source": [
    "## allsupplement"
   ]
  },
  {
   "cell_type": "code",
   "execution_count": 15,
   "id": "afc2bc88",
   "metadata": {},
   "outputs": [],
   "source": [
    "# Supplemental Nutrition Assistance Program\n",
    "\n",
    "supplement = {'Austin':'/Texas Austin Supplemental Nutrition Assistance Program (topic).csv',\n",
    "             'DFW':     '/Texas DFW Supplemental Nutrition Assistance Program (topic).csv',\n",
    "             'Houston':  '/Texas Houston Supplemental Nutrition Assistance Program (topic).csv',\n",
    "             'SanAntonio': '/Texas San Antonio Supplemental Nutrition Assistance Program (topic).csv'}"
   ]
  },
  {
   "cell_type": "code",
   "execution_count": 16,
   "id": "f73a12c0",
   "metadata": {
    "scrolled": true
   },
   "outputs": [],
   "source": [
    "#Supplemental Nutrition Assistance Program\n",
    "\n",
    "import glob\n",
    "import pandas as pd\n",
    "\n",
    "supplydic = {} # {region:table}\n",
    "\n",
    "for k,v in supplement.items():\n",
    "    path = paths[0] # folder\n",
    "    df = pd.read_csv(path + v)\n",
    "    supplydic[k] = df\n",
    "    \n",
    "    "
   ]
  },
  {
   "cell_type": "markdown",
   "id": "425b608c",
   "metadata": {},
   "source": [
    "## Foodbank"
   ]
  },
  {
   "cell_type": "code",
   "execution_count": 17,
   "id": "55b82bc0",
   "metadata": {},
   "outputs": [],
   "source": [
    "foodbank = {'Austin': '/Texas Austin food bank.csv',\n",
    "           'DFW': '/Texas DFW food bank.csv',\n",
    "           'Houston': '/Texas Houston food bank.csv',\n",
    "           'SanAntonio': '/Texas San Antonio food bank.csv'}"
   ]
  },
  {
   "cell_type": "code",
   "execution_count": 18,
   "id": "f0b71d96",
   "metadata": {},
   "outputs": [],
   "source": [
    "# foodbank\n",
    "\n",
    "foodbankdic = {}\n",
    "\n",
    "for k,v in foodbank.items():\n",
    "    path = paths[1] # folder\n",
    "    df = pd.read_csv(path + v)\n",
    "    foodbankdic[k] = df"
   ]
  },
  {
   "cell_type": "markdown",
   "id": "42ce67ff",
   "metadata": {},
   "source": [
    "## Foodpantry"
   ]
  },
  {
   "cell_type": "code",
   "execution_count": 19,
   "id": "ac838f39",
   "metadata": {},
   "outputs": [],
   "source": [
    "# food pantry\n",
    "\n",
    "foodpantry = {'Austin': '/Texas Austin food pantry.csv',\n",
    "           'DFW': '/Texas DFW food pantry.csv',\n",
    "           'Houston': '/Texas Houston food pantry.csv',\n",
    "           'SanAntonio': '/Texas San Antonio food pantry.csv'}\n"
   ]
  },
  {
   "cell_type": "code",
   "execution_count": 20,
   "id": "a243c6ef",
   "metadata": {},
   "outputs": [],
   "source": [
    "foodpantrydic = {}\n",
    "\n",
    "for k,v in foodpantry.items():\n",
    "    path = paths[-1] # folder\n",
    "    df = pd.read_csv(path + v)\n",
    "    foodpantrydic[k] = df\n"
   ]
  },
  {
   "cell_type": "code",
   "execution_count": 20,
   "id": "739b83fa",
   "metadata": {},
   "outputs": [],
   "source": [
    "#foodpantrydic"
   ]
  },
  {
   "cell_type": "markdown",
   "id": "ec5ec745",
   "metadata": {},
   "source": [
    "## Foodstamps"
   ]
  },
  {
   "cell_type": "code",
   "execution_count": 21,
   "id": "33d28e70",
   "metadata": {},
   "outputs": [],
   "source": [
    "# food stamps\n",
    "\n",
    "foodstamps = {'Austin': '/Texas Austin food stamps.csv',\n",
    "           'DFW': '/Texas DFW food stamps.csv',\n",
    "           'Houston': '/Texas Houston food stamps.csv',\n",
    "           'SanAntonio': '/Texas San Antonio food stamps.csv'}"
   ]
  },
  {
   "cell_type": "code",
   "execution_count": 22,
   "id": "d3a51c3a",
   "metadata": {},
   "outputs": [],
   "source": [
    "foodstampsdict = {}\n",
    "\n",
    "for k,v in foodstamps.items():\n",
    "    path = paths[-2] # folder\n",
    "    df = pd.read_csv(path + v)\n",
    "    foodstampsdict[k] = df"
   ]
  },
  {
   "cell_type": "markdown",
   "id": "c6df1cfe",
   "metadata": {},
   "source": [
    "## snap"
   ]
  },
  {
   "cell_type": "code",
   "execution_count": 23,
   "id": "baf54eb3",
   "metadata": {},
   "outputs": [],
   "source": [
    "#snap\n",
    "\n",
    "snap = {'Austin': '/Texas Austin snap.csv',\n",
    "        'DFW': '/Texas DFW snap.csv',\n",
    "        'Houston': '/Texas Houston snap.csv',\n",
    "        'SanAntonio': '/Texas San Antonio snap.csv'}"
   ]
  },
  {
   "cell_type": "code",
   "execution_count": 24,
   "id": "49900158",
   "metadata": {},
   "outputs": [],
   "source": [
    "snapdic = {}\n",
    "\n",
    "for k,v in snap.items():\n",
    "    path = paths[-3] # folder\n",
    "    df = pd.read_csv(path + v)\n",
    "    snapdic[k] = df"
   ]
  },
  {
   "cell_type": "code",
   "execution_count": 25,
   "id": "5aca316d",
   "metadata": {
    "scrolled": true
   },
   "outputs": [
    {
     "data": {
      "text/plain": [
       "dict_keys(['Austin', 'DFW', 'Houston', 'SanAntonio'])"
      ]
     },
     "execution_count": 25,
     "metadata": {},
     "output_type": "execute_result"
    }
   ],
   "source": [
    "snapdic.keys()"
   ]
  },
  {
   "cell_type": "code",
   "execution_count": 26,
   "id": "4503ac4f",
   "metadata": {},
   "outputs": [],
   "source": [
    "#snapdic['DFW'].reset_index().drop(index=0).rename(columns={\"index\": \"Date\", \"Category: All categories\": \"Search\"})\n"
   ]
  },
  {
   "cell_type": "markdown",
   "id": "8219b6f9",
   "metadata": {},
   "source": [
    "## Combine 4 dics"
   ]
  },
  {
   "cell_type": "code",
   "execution_count": 26,
   "id": "9ab6660e",
   "metadata": {},
   "outputs": [
    {
     "data": {
      "text/plain": [
       "'2019'"
      ]
     },
     "execution_count": 26,
     "metadata": {},
     "output_type": "execute_result"
    }
   ],
   "source": [
    "supplydic['DFW'].reset_index().iloc[5,0][0:4]"
   ]
  },
  {
   "cell_type": "code",
   "execution_count": 27,
   "id": "9be95b6b",
   "metadata": {},
   "outputs": [],
   "source": [
    "# import json\n",
    "\n",
    "li_dic = [supplydic, foodbankdic, foodpantrydic, snapdic, foodstampsdict]\n",
    "li_dic_name = ['supplemental nutrition assistance program', 'food bank', 'food pantry', 'snap', 'food stamps']\n",
    "# snap = calfresh in CA data\n",
    "\n",
    "region = supplydic.keys()\n",
    "\n",
    "\n",
    "for idx in range(len(li_dic)): #idx of dic\n",
    "\n",
    "    dic = li_dic[idx]\n",
    "    SearchWords = li_dic_name[idx]\n",
    "\n",
    "    for k,v in dic.items(): # region:tables in the dic\n",
    "        dic[k] = v.reset_index()\n",
    "        dic[k].drop(index=0, inplace=True)\n",
    "\n",
    "        # add column\n",
    "        dic[k]['State'] = 'Texas'\n",
    "        dic[k]['Region'] = str(k)\n",
    "\n",
    "        #rename the columns\n",
    "        dic[k].rename(columns={\"index\": \"Date\", \"Category: All categories\": \"Search\"}, inplace=True)\n",
    "        #Search here is the int number\n",
    "\n",
    "\n",
    "        # del 3 in the end + add columns\n",
    "        dic[k]['Search term'] = SearchWords\n",
    "\n",
    "        #Add year and month\n",
    "        dic[k]['Year'] = '' #5\n",
    "        dic[k]['Month'] = '' #6\n",
    "        \n",
    "        for row in range(len(dic[k])):\n",
    "            dic[k].iloc[row, 5] = int(dic[k].iloc[row,0][0:4])\n",
    "            dic[k].iloc[row, 6] = int(dic[k].iloc[row,0][5:7])\n",
    "\n",
    "        \n",
    "        "
   ]
  },
  {
   "cell_type": "code",
   "execution_count": 28,
   "id": "3a8c58d6",
   "metadata": {},
   "outputs": [],
   "source": [
    "#combine all tables\n",
    "\n",
    "frame = []\n",
    "\n",
    "for dic in li_dic:\n",
    "    for k, v in dic.items():\n",
    "        table = v\n",
    "        frame.append(table)\n",
    "\n",
    "result = pd.concat(frame)"
   ]
  },
  {
   "cell_type": "code",
   "execution_count": 29,
   "id": "d58ea583",
   "metadata": {},
   "outputs": [
    {
     "data": {
      "text/plain": [
       "{'food bank',\n",
       " 'food pantry',\n",
       " 'food stamps',\n",
       " 'snap',\n",
       " 'supplemental nutrition assistance program'}"
      ]
     },
     "execution_count": 29,
     "metadata": {},
     "output_type": "execute_result"
    }
   ],
   "source": [
    "set(result['Search term'].values)"
   ]
  },
  {
   "cell_type": "markdown",
   "id": "2049050e",
   "metadata": {},
   "source": [
    "# Combine CA & TE"
   ]
  },
  {
   "cell_type": "code",
   "execution_count": 30,
   "id": "25a6daff",
   "metadata": {
    "scrolled": true
   },
   "outputs": [
    {
     "data": {
      "text/html": [
       "<div>\n",
       "<style scoped>\n",
       "    .dataframe tbody tr th:only-of-type {\n",
       "        vertical-align: middle;\n",
       "    }\n",
       "\n",
       "    .dataframe tbody tr th {\n",
       "        vertical-align: top;\n",
       "    }\n",
       "\n",
       "    .dataframe thead th {\n",
       "        text-align: right;\n",
       "    }\n",
       "</style>\n",
       "<table border=\"1\" class=\"dataframe\">\n",
       "  <thead>\n",
       "    <tr style=\"text-align: right;\">\n",
       "      <th></th>\n",
       "      <th>Date</th>\n",
       "      <th>Search</th>\n",
       "      <th>Search term</th>\n",
       "      <th>Region</th>\n",
       "      <th>State</th>\n",
       "      <th>Year</th>\n",
       "      <th>Month</th>\n",
       "    </tr>\n",
       "  </thead>\n",
       "  <tbody>\n",
       "    <tr>\n",
       "      <th>0</th>\n",
       "      <td>2019-01-06</td>\n",
       "      <td>24</td>\n",
       "      <td>calfresh</td>\n",
       "      <td>Los Angeles CA</td>\n",
       "      <td>California</td>\n",
       "      <td>2019</td>\n",
       "      <td>1</td>\n",
       "    </tr>\n",
       "    <tr>\n",
       "      <th>1</th>\n",
       "      <td>2019-01-13</td>\n",
       "      <td>34</td>\n",
       "      <td>calfresh</td>\n",
       "      <td>Los Angeles CA</td>\n",
       "      <td>California</td>\n",
       "      <td>2019</td>\n",
       "      <td>1</td>\n",
       "    </tr>\n",
       "    <tr>\n",
       "      <th>2</th>\n",
       "      <td>2019-01-20</td>\n",
       "      <td>26</td>\n",
       "      <td>calfresh</td>\n",
       "      <td>Los Angeles CA</td>\n",
       "      <td>California</td>\n",
       "      <td>2019</td>\n",
       "      <td>1</td>\n",
       "    </tr>\n",
       "    <tr>\n",
       "      <th>3</th>\n",
       "      <td>2019-01-27</td>\n",
       "      <td>26</td>\n",
       "      <td>calfresh</td>\n",
       "      <td>Los Angeles CA</td>\n",
       "      <td>California</td>\n",
       "      <td>2019</td>\n",
       "      <td>1</td>\n",
       "    </tr>\n",
       "    <tr>\n",
       "      <th>4</th>\n",
       "      <td>2019-02-03</td>\n",
       "      <td>28</td>\n",
       "      <td>calfresh</td>\n",
       "      <td>Los Angeles CA</td>\n",
       "      <td>California</td>\n",
       "      <td>2019</td>\n",
       "      <td>2</td>\n",
       "    </tr>\n",
       "    <tr>\n",
       "      <th>5</th>\n",
       "      <td>2019-02-10</td>\n",
       "      <td>20</td>\n",
       "      <td>calfresh</td>\n",
       "      <td>Los Angeles CA</td>\n",
       "      <td>California</td>\n",
       "      <td>2019</td>\n",
       "      <td>2</td>\n",
       "    </tr>\n",
       "    <tr>\n",
       "      <th>6</th>\n",
       "      <td>2019-02-17</td>\n",
       "      <td>21</td>\n",
       "      <td>calfresh</td>\n",
       "      <td>Los Angeles CA</td>\n",
       "      <td>California</td>\n",
       "      <td>2019</td>\n",
       "      <td>2</td>\n",
       "    </tr>\n",
       "    <tr>\n",
       "      <th>7</th>\n",
       "      <td>2019-02-24</td>\n",
       "      <td>27</td>\n",
       "      <td>calfresh</td>\n",
       "      <td>Los Angeles CA</td>\n",
       "      <td>California</td>\n",
       "      <td>2019</td>\n",
       "      <td>2</td>\n",
       "    </tr>\n",
       "    <tr>\n",
       "      <th>8</th>\n",
       "      <td>2019-03-03</td>\n",
       "      <td>20</td>\n",
       "      <td>calfresh</td>\n",
       "      <td>Los Angeles CA</td>\n",
       "      <td>California</td>\n",
       "      <td>2019</td>\n",
       "      <td>3</td>\n",
       "    </tr>\n",
       "    <tr>\n",
       "      <th>9</th>\n",
       "      <td>2019-03-10</td>\n",
       "      <td>20</td>\n",
       "      <td>calfresh</td>\n",
       "      <td>Los Angeles CA</td>\n",
       "      <td>California</td>\n",
       "      <td>2019</td>\n",
       "      <td>3</td>\n",
       "    </tr>\n",
       "    <tr>\n",
       "      <th>10</th>\n",
       "      <td>2019-03-17</td>\n",
       "      <td>17</td>\n",
       "      <td>calfresh</td>\n",
       "      <td>Los Angeles CA</td>\n",
       "      <td>California</td>\n",
       "      <td>2019</td>\n",
       "      <td>3</td>\n",
       "    </tr>\n",
       "    <tr>\n",
       "      <th>11</th>\n",
       "      <td>2019-03-24</td>\n",
       "      <td>25</td>\n",
       "      <td>calfresh</td>\n",
       "      <td>Los Angeles CA</td>\n",
       "      <td>California</td>\n",
       "      <td>2019</td>\n",
       "      <td>3</td>\n",
       "    </tr>\n",
       "    <tr>\n",
       "      <th>12</th>\n",
       "      <td>2019-03-31</td>\n",
       "      <td>26</td>\n",
       "      <td>calfresh</td>\n",
       "      <td>Los Angeles CA</td>\n",
       "      <td>California</td>\n",
       "      <td>2019</td>\n",
       "      <td>3</td>\n",
       "    </tr>\n",
       "    <tr>\n",
       "      <th>13</th>\n",
       "      <td>2019-04-07</td>\n",
       "      <td>23</td>\n",
       "      <td>calfresh</td>\n",
       "      <td>Los Angeles CA</td>\n",
       "      <td>California</td>\n",
       "      <td>2019</td>\n",
       "      <td>4</td>\n",
       "    </tr>\n",
       "    <tr>\n",
       "      <th>14</th>\n",
       "      <td>2019-04-14</td>\n",
       "      <td>20</td>\n",
       "      <td>calfresh</td>\n",
       "      <td>Los Angeles CA</td>\n",
       "      <td>California</td>\n",
       "      <td>2019</td>\n",
       "      <td>4</td>\n",
       "    </tr>\n",
       "    <tr>\n",
       "      <th>15</th>\n",
       "      <td>2019-04-21</td>\n",
       "      <td>24</td>\n",
       "      <td>calfresh</td>\n",
       "      <td>Los Angeles CA</td>\n",
       "      <td>California</td>\n",
       "      <td>2019</td>\n",
       "      <td>4</td>\n",
       "    </tr>\n",
       "    <tr>\n",
       "      <th>16</th>\n",
       "      <td>2019-04-28</td>\n",
       "      <td>23</td>\n",
       "      <td>calfresh</td>\n",
       "      <td>Los Angeles CA</td>\n",
       "      <td>California</td>\n",
       "      <td>2019</td>\n",
       "      <td>4</td>\n",
       "    </tr>\n",
       "    <tr>\n",
       "      <th>17</th>\n",
       "      <td>2019-05-05</td>\n",
       "      <td>26</td>\n",
       "      <td>calfresh</td>\n",
       "      <td>Los Angeles CA</td>\n",
       "      <td>California</td>\n",
       "      <td>2019</td>\n",
       "      <td>5</td>\n",
       "    </tr>\n",
       "    <tr>\n",
       "      <th>18</th>\n",
       "      <td>2019-05-12</td>\n",
       "      <td>30</td>\n",
       "      <td>calfresh</td>\n",
       "      <td>Los Angeles CA</td>\n",
       "      <td>California</td>\n",
       "      <td>2019</td>\n",
       "      <td>5</td>\n",
       "    </tr>\n",
       "    <tr>\n",
       "      <th>19</th>\n",
       "      <td>2019-05-19</td>\n",
       "      <td>31</td>\n",
       "      <td>calfresh</td>\n",
       "      <td>Los Angeles CA</td>\n",
       "      <td>California</td>\n",
       "      <td>2019</td>\n",
       "      <td>5</td>\n",
       "    </tr>\n",
       "  </tbody>\n",
       "</table>\n",
       "</div>"
      ],
      "text/plain": [
       "         Date  Search Search term          Region       State  Year  Month\n",
       "0  2019-01-06      24    calfresh  Los Angeles CA  California  2019      1\n",
       "1  2019-01-13      34    calfresh  Los Angeles CA  California  2019      1\n",
       "2  2019-01-20      26    calfresh  Los Angeles CA  California  2019      1\n",
       "3  2019-01-27      26    calfresh  Los Angeles CA  California  2019      1\n",
       "4  2019-02-03      28    calfresh  Los Angeles CA  California  2019      2\n",
       "5  2019-02-10      20    calfresh  Los Angeles CA  California  2019      2\n",
       "6  2019-02-17      21    calfresh  Los Angeles CA  California  2019      2\n",
       "7  2019-02-24      27    calfresh  Los Angeles CA  California  2019      2\n",
       "8  2019-03-03      20    calfresh  Los Angeles CA  California  2019      3\n",
       "9  2019-03-10      20    calfresh  Los Angeles CA  California  2019      3\n",
       "10 2019-03-17      17    calfresh  Los Angeles CA  California  2019      3\n",
       "11 2019-03-24      25    calfresh  Los Angeles CA  California  2019      3\n",
       "12 2019-03-31      26    calfresh  Los Angeles CA  California  2019      3\n",
       "13 2019-04-07      23    calfresh  Los Angeles CA  California  2019      4\n",
       "14 2019-04-14      20    calfresh  Los Angeles CA  California  2019      4\n",
       "15 2019-04-21      24    calfresh  Los Angeles CA  California  2019      4\n",
       "16 2019-04-28      23    calfresh  Los Angeles CA  California  2019      4\n",
       "17 2019-05-05      26    calfresh  Los Angeles CA  California  2019      5\n",
       "18 2019-05-12      30    calfresh  Los Angeles CA  California  2019      5\n",
       "19 2019-05-19      31    calfresh  Los Angeles CA  California  2019      5"
      ]
     },
     "execution_count": 30,
     "metadata": {},
     "output_type": "execute_result"
    }
   ],
   "source": [
    "ca.head(20)"
   ]
  },
  {
   "cell_type": "code",
   "execution_count": 31,
   "id": "16285985",
   "metadata": {
    "scrolled": true
   },
   "outputs": [
    {
     "data": {
      "text/plain": [
       "66     100\n",
       "221    100\n",
       "377    100\n",
       "469    100\n",
       "625    100\n",
       "Name: Search, dtype: int64"
      ]
     },
     "execution_count": 31,
     "metadata": {},
     "output_type": "execute_result"
    }
   ],
   "source": [
    "ca.Search.nlargest()"
   ]
  },
  {
   "cell_type": "markdown",
   "id": "86b40e71",
   "metadata": {},
   "source": [
    "#### Since the number of Search is index, do not need to do other thing with it."
   ]
  },
  {
   "cell_type": "code",
   "execution_count": null,
   "id": "df2f7add",
   "metadata": {},
   "outputs": [],
   "source": [
    "#test = ca.copy()"
   ]
  },
  {
   "cell_type": "code",
   "execution_count": null,
   "id": "4ec1a048",
   "metadata": {},
   "outputs": [],
   "source": [
    "#test = test.groupby(['State','Region','Year','Month','Search term'])['Search'].mean().to_frame()"
   ]
  },
  {
   "cell_type": "code",
   "execution_count": null,
   "id": "3fb032fe",
   "metadata": {},
   "outputs": [],
   "source": [
    "#test"
   ]
  },
  {
   "cell_type": "code",
   "execution_count": 32,
   "id": "913c1590",
   "metadata": {},
   "outputs": [],
   "source": [
    "ca.drop(columns='Date', inplace=True)"
   ]
  },
  {
   "cell_type": "code",
   "execution_count": null,
   "id": "cbe8077a",
   "metadata": {},
   "outputs": [],
   "source": [
    "# sum the search by each month\n",
    "#ca = ca.groupby(['State','Region','Year','Month','Search term'])['Search'].sum().to_frame()"
   ]
  },
  {
   "cell_type": "code",
   "execution_count": 33,
   "id": "db3ea95d",
   "metadata": {
    "scrolled": true
   },
   "outputs": [
    {
     "data": {
      "text/plain": [
       "66     100\n",
       "221    100\n",
       "377    100\n",
       "469    100\n",
       "625    100\n",
       "Name: Search, dtype: int64"
      ]
     },
     "execution_count": 33,
     "metadata": {},
     "output_type": "execute_result"
    }
   ],
   "source": [
    "ca.Search.nlargest()"
   ]
  },
  {
   "cell_type": "code",
   "execution_count": 34,
   "id": "028e9bd1",
   "metadata": {},
   "outputs": [
    {
     "data": {
      "text/plain": [
       "Search         0\n",
       "Search term    0\n",
       "Region         0\n",
       "State          0\n",
       "Year           0\n",
       "Month          0\n",
       "dtype: int64"
      ]
     },
     "execution_count": 34,
     "metadata": {},
     "output_type": "execute_result"
    }
   ],
   "source": [
    "ca.isna().sum()"
   ]
  },
  {
   "cell_type": "code",
   "execution_count": null,
   "id": "69843f46",
   "metadata": {},
   "outputs": [],
   "source": [
    "#ca_new = ca.reset_index(level=['State', 'Region', 'Year', 'Month', 'Search term'])"
   ]
  },
  {
   "cell_type": "code",
   "execution_count": 35,
   "id": "5d713946",
   "metadata": {},
   "outputs": [
    {
     "name": "stdout",
     "output_type": "stream",
     "text": [
      "<class 'pandas.core.frame.DataFrame'>\n",
      "RangeIndex: 3120 entries, 0 to 3119\n",
      "Data columns (total 6 columns):\n",
      " #   Column       Non-Null Count  Dtype \n",
      "---  ------       --------------  ----- \n",
      " 0   Search       3120 non-null   int64 \n",
      " 1   Search term  3120 non-null   object\n",
      " 2   Region       3120 non-null   object\n",
      " 3   State        3120 non-null   object\n",
      " 4   Year         3120 non-null   Int64 \n",
      " 5   Month        3120 non-null   Int64 \n",
      "dtypes: Int64(2), int64(1), object(3)\n",
      "memory usage: 152.5+ KB\n"
     ]
    }
   ],
   "source": [
    "ca.info()"
   ]
  },
  {
   "cell_type": "code",
   "execution_count": 36,
   "id": "537b2bb8",
   "metadata": {},
   "outputs": [
    {
     "data": {
      "text/plain": [
       "(3120, 6)"
      ]
     },
     "execution_count": 36,
     "metadata": {},
     "output_type": "execute_result"
    }
   ],
   "source": [
    "ca.shape"
   ]
  },
  {
   "cell_type": "markdown",
   "id": "7450c5ac",
   "metadata": {},
   "source": [
    "### change terms to supplemental nutrition assistance program in result data"
   ]
  },
  {
   "cell_type": "code",
   "execution_count": 37,
   "id": "ccb55658",
   "metadata": {
    "scrolled": true
   },
   "outputs": [
    {
     "data": {
      "text/html": [
       "<div>\n",
       "<style scoped>\n",
       "    .dataframe tbody tr th:only-of-type {\n",
       "        vertical-align: middle;\n",
       "    }\n",
       "\n",
       "    .dataframe tbody tr th {\n",
       "        vertical-align: top;\n",
       "    }\n",
       "\n",
       "    .dataframe thead th {\n",
       "        text-align: right;\n",
       "    }\n",
       "</style>\n",
       "<table border=\"1\" class=\"dataframe\">\n",
       "  <thead>\n",
       "    <tr style=\"text-align: right;\">\n",
       "      <th></th>\n",
       "      <th>Date</th>\n",
       "      <th>Search</th>\n",
       "      <th>State</th>\n",
       "      <th>Region</th>\n",
       "      <th>Search term</th>\n",
       "      <th>Year</th>\n",
       "      <th>Month</th>\n",
       "    </tr>\n",
       "  </thead>\n",
       "  <tbody>\n",
       "    <tr>\n",
       "      <th>1</th>\n",
       "      <td>2019-01-06</td>\n",
       "      <td>56</td>\n",
       "      <td>Texas</td>\n",
       "      <td>Austin</td>\n",
       "      <td>supplemental nutrition assistance program</td>\n",
       "      <td>2019</td>\n",
       "      <td>1</td>\n",
       "    </tr>\n",
       "    <tr>\n",
       "      <th>2</th>\n",
       "      <td>2019-01-13</td>\n",
       "      <td>49</td>\n",
       "      <td>Texas</td>\n",
       "      <td>Austin</td>\n",
       "      <td>supplemental nutrition assistance program</td>\n",
       "      <td>2019</td>\n",
       "      <td>1</td>\n",
       "    </tr>\n",
       "    <tr>\n",
       "      <th>3</th>\n",
       "      <td>2019-01-20</td>\n",
       "      <td>26</td>\n",
       "      <td>Texas</td>\n",
       "      <td>Austin</td>\n",
       "      <td>supplemental nutrition assistance program</td>\n",
       "      <td>2019</td>\n",
       "      <td>1</td>\n",
       "    </tr>\n",
       "    <tr>\n",
       "      <th>4</th>\n",
       "      <td>2019-01-27</td>\n",
       "      <td>30</td>\n",
       "      <td>Texas</td>\n",
       "      <td>Austin</td>\n",
       "      <td>supplemental nutrition assistance program</td>\n",
       "      <td>2019</td>\n",
       "      <td>1</td>\n",
       "    </tr>\n",
       "    <tr>\n",
       "      <th>5</th>\n",
       "      <td>2019-02-03</td>\n",
       "      <td>31</td>\n",
       "      <td>Texas</td>\n",
       "      <td>Austin</td>\n",
       "      <td>supplemental nutrition assistance program</td>\n",
       "      <td>2019</td>\n",
       "      <td>2</td>\n",
       "    </tr>\n",
       "  </tbody>\n",
       "</table>\n",
       "</div>"
      ],
      "text/plain": [
       "         Date Search  State  Region  \\\n",
       "1  2019-01-06     56  Texas  Austin   \n",
       "2  2019-01-13     49  Texas  Austin   \n",
       "3  2019-01-20     26  Texas  Austin   \n",
       "4  2019-01-27     30  Texas  Austin   \n",
       "5  2019-02-03     31  Texas  Austin   \n",
       "\n",
       "                                 Search term  Year Month  \n",
       "1  supplemental nutrition assistance program  2019     1  \n",
       "2  supplemental nutrition assistance program  2019     1  \n",
       "3  supplemental nutrition assistance program  2019     1  \n",
       "4  supplemental nutrition assistance program  2019     1  \n",
       "5  supplemental nutrition assistance program  2019     2  "
      ]
     },
     "execution_count": 37,
     "metadata": {},
     "output_type": "execute_result"
    }
   ],
   "source": [
    "result.head()"
   ]
  },
  {
   "cell_type": "code",
   "execution_count": null,
   "id": "2be7e386",
   "metadata": {},
   "outputs": [],
   "source": [
    "# for idx in range(len(result)):\n",
    "#     if result.iloc[idx, 3] == 'supply':\n",
    "#         result.iloc[idx, 3] = 'supplemental nutrition assistance program'\n"
   ]
  },
  {
   "cell_type": "code",
   "execution_count": 38,
   "id": "16bdb934",
   "metadata": {},
   "outputs": [],
   "source": [
    "# transfer Search to int42\n",
    "result['Search'] = result['Search'].astype('Int64')"
   ]
  },
  {
   "cell_type": "code",
   "execution_count": 46,
   "id": "6c0f3666",
   "metadata": {
    "scrolled": true
   },
   "outputs": [
    {
     "name": "stdout",
     "output_type": "stream",
     "text": [
      "<class 'pandas.core.frame.DataFrame'>\n",
      "Int64Index: 3120 entries, 1 to 156\n",
      "Data columns (total 6 columns):\n",
      " #   Column       Non-Null Count  Dtype \n",
      "---  ------       --------------  ----- \n",
      " 0   Search       3120 non-null   Int64 \n",
      " 1   State        3120 non-null   object\n",
      " 2   Region       3120 non-null   object\n",
      " 3   Search term  3120 non-null   object\n",
      " 4   Year         3120 non-null   Int64 \n",
      " 5   Month        3120 non-null   Int64 \n",
      "dtypes: Int64(3), object(3)\n",
      "memory usage: 244.3+ KB\n"
     ]
    }
   ],
   "source": [
    "result.info()"
   ]
  },
  {
   "cell_type": "code",
   "execution_count": 40,
   "id": "b76d6ca6",
   "metadata": {},
   "outputs": [],
   "source": [
    "result.drop(columns='Date', inplace=True)"
   ]
  },
  {
   "cell_type": "code",
   "execution_count": 41,
   "id": "4a9d27cc",
   "metadata": {
    "scrolled": true
   },
   "outputs": [],
   "source": [
    "\n",
    "result['Year'] = result['Year'].astype('Int64')\n",
    "result['Month'] = result['Month'].astype('Int64')\n",
    "\n",
    "# for i in range(len(result)):\n",
    "#     #Year\n",
    "#     try:\n",
    "#         result.iloc[i, 4] = int(result.iloc[i, 4])\n",
    "#     except:\n",
    "#         print(\"something wrong here: \" + str(i))\n"
   ]
  },
  {
   "cell_type": "code",
   "execution_count": 42,
   "id": "6129608f",
   "metadata": {
    "scrolled": true
   },
   "outputs": [
    {
     "data": {
      "text/plain": [
       "<IntegerArray>\n",
       "[2019, 2020, 2021]\n",
       "Length: 3, dtype: Int64"
      ]
     },
     "execution_count": 42,
     "metadata": {},
     "output_type": "execute_result"
    }
   ],
   "source": [
    "result.Year.unique()"
   ]
  },
  {
   "cell_type": "code",
   "execution_count": 43,
   "id": "463e8a5d",
   "metadata": {
    "scrolled": true
   },
   "outputs": [
    {
     "data": {
      "text/plain": [
       "array(['Austin', 'DFW', 'Houston', 'SanAntonio'], dtype=object)"
      ]
     },
     "execution_count": 43,
     "metadata": {},
     "output_type": "execute_result"
    }
   ],
   "source": [
    "result.Region.unique()"
   ]
  },
  {
   "cell_type": "code",
   "execution_count": 44,
   "id": "3560134d",
   "metadata": {},
   "outputs": [
    {
     "data": {
      "text/plain": [
       "<IntegerArray>\n",
       "[2019, 2020, 2021]\n",
       "Length: 3, dtype: Int64"
      ]
     },
     "execution_count": 44,
     "metadata": {},
     "output_type": "execute_result"
    }
   ],
   "source": [
    "ca.Year.unique()"
   ]
  },
  {
   "cell_type": "code",
   "execution_count": 45,
   "id": "204f9dc3",
   "metadata": {
    "scrolled": false
   },
   "outputs": [
    {
     "data": {
      "text/plain": [
       "125    100\n",
       "66     100\n",
       "67     100\n",
       "125    100\n",
       "67     100\n",
       "Name: Search, dtype: Int64"
      ]
     },
     "execution_count": 45,
     "metadata": {},
     "output_type": "execute_result"
    }
   ],
   "source": [
    "result.Search.nlargest()"
   ]
  },
  {
   "cell_type": "code",
   "execution_count": null,
   "id": "82be7f0c",
   "metadata": {},
   "outputs": [],
   "source": [
    "#te = result.groupby(['State','Region','Year','Month','Search term'])['Search'].sum().to_frame()\n",
    "#te = te.reset_index(level=['State', 'Region', 'Year', 'Month', 'Search term'])"
   ]
  },
  {
   "cell_type": "code",
   "execution_count": null,
   "id": "242bc9ff",
   "metadata": {
    "scrolled": true
   },
   "outputs": [],
   "source": [
    "#te.head()"
   ]
  },
  {
   "cell_type": "code",
   "execution_count": 47,
   "id": "bb043bd4",
   "metadata": {},
   "outputs": [],
   "source": [
    "final_res = pd.concat([ca, result], join='outer')"
   ]
  },
  {
   "cell_type": "code",
   "execution_count": 48,
   "id": "3e68d2be",
   "metadata": {},
   "outputs": [
    {
     "data": {
      "text/html": [
       "<div>\n",
       "<style scoped>\n",
       "    .dataframe tbody tr th:only-of-type {\n",
       "        vertical-align: middle;\n",
       "    }\n",
       "\n",
       "    .dataframe tbody tr th {\n",
       "        vertical-align: top;\n",
       "    }\n",
       "\n",
       "    .dataframe thead th {\n",
       "        text-align: right;\n",
       "    }\n",
       "</style>\n",
       "<table border=\"1\" class=\"dataframe\">\n",
       "  <thead>\n",
       "    <tr style=\"text-align: right;\">\n",
       "      <th></th>\n",
       "      <th>Search</th>\n",
       "      <th>Search term</th>\n",
       "      <th>Region</th>\n",
       "      <th>State</th>\n",
       "      <th>Year</th>\n",
       "      <th>Month</th>\n",
       "    </tr>\n",
       "  </thead>\n",
       "  <tbody>\n",
       "    <tr>\n",
       "      <th>0</th>\n",
       "      <td>24</td>\n",
       "      <td>calfresh</td>\n",
       "      <td>Los Angeles CA</td>\n",
       "      <td>California</td>\n",
       "      <td>2019</td>\n",
       "      <td>1</td>\n",
       "    </tr>\n",
       "    <tr>\n",
       "      <th>1</th>\n",
       "      <td>34</td>\n",
       "      <td>calfresh</td>\n",
       "      <td>Los Angeles CA</td>\n",
       "      <td>California</td>\n",
       "      <td>2019</td>\n",
       "      <td>1</td>\n",
       "    </tr>\n",
       "    <tr>\n",
       "      <th>2</th>\n",
       "      <td>26</td>\n",
       "      <td>calfresh</td>\n",
       "      <td>Los Angeles CA</td>\n",
       "      <td>California</td>\n",
       "      <td>2019</td>\n",
       "      <td>1</td>\n",
       "    </tr>\n",
       "    <tr>\n",
       "      <th>3</th>\n",
       "      <td>26</td>\n",
       "      <td>calfresh</td>\n",
       "      <td>Los Angeles CA</td>\n",
       "      <td>California</td>\n",
       "      <td>2019</td>\n",
       "      <td>1</td>\n",
       "    </tr>\n",
       "    <tr>\n",
       "      <th>4</th>\n",
       "      <td>28</td>\n",
       "      <td>calfresh</td>\n",
       "      <td>Los Angeles CA</td>\n",
       "      <td>California</td>\n",
       "      <td>2019</td>\n",
       "      <td>2</td>\n",
       "    </tr>\n",
       "  </tbody>\n",
       "</table>\n",
       "</div>"
      ],
      "text/plain": [
       "   Search Search term          Region       State  Year  Month\n",
       "0      24    calfresh  Los Angeles CA  California  2019      1\n",
       "1      34    calfresh  Los Angeles CA  California  2019      1\n",
       "2      26    calfresh  Los Angeles CA  California  2019      1\n",
       "3      26    calfresh  Los Angeles CA  California  2019      1\n",
       "4      28    calfresh  Los Angeles CA  California  2019      2"
      ]
     },
     "execution_count": 48,
     "metadata": {},
     "output_type": "execute_result"
    }
   ],
   "source": [
    "final_res.head()"
   ]
  },
  {
   "cell_type": "code",
   "execution_count": 49,
   "id": "3588ec6a",
   "metadata": {},
   "outputs": [
    {
     "name": "stdout",
     "output_type": "stream",
     "text": [
      "<class 'pandas.core.frame.DataFrame'>\n",
      "Int64Index: 6240 entries, 0 to 156\n",
      "Data columns (total 6 columns):\n",
      " #   Column       Non-Null Count  Dtype \n",
      "---  ------       --------------  ----- \n",
      " 0   Search       6240 non-null   Int64 \n",
      " 1   Search term  6240 non-null   object\n",
      " 2   Region       6240 non-null   object\n",
      " 3   State        6240 non-null   object\n",
      " 4   Year         6240 non-null   Int64 \n",
      " 5   Month        6240 non-null   Int64 \n",
      "dtypes: Int64(3), object(3)\n",
      "memory usage: 359.5+ KB\n"
     ]
    }
   ],
   "source": [
    "final_res.info()"
   ]
  },
  {
   "cell_type": "code",
   "execution_count": 50,
   "id": "af644784",
   "metadata": {},
   "outputs": [],
   "source": [
    "# output the excal\n",
    "\n",
    "final_res.to_excel('Combined Research(by Region).xlsx')"
   ]
  }
 ],
 "metadata": {
  "kernelspec": {
   "display_name": "Python 3 (ipykernel)",
   "language": "python",
   "name": "python3"
  },
  "language_info": {
   "codemirror_mode": {
    "name": "ipython",
    "version": 3
   },
   "file_extension": ".py",
   "mimetype": "text/x-python",
   "name": "python",
   "nbconvert_exporter": "python",
   "pygments_lexer": "ipython3",
   "version": "3.9.13"
  }
 },
 "nbformat": 4,
 "nbformat_minor": 5
}
