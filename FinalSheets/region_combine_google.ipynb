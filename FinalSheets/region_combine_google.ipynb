{
 "cells": [
  {
   "cell_type": "code",
   "execution_count": 1,
   "id": "a39963e9",
   "metadata": {},
   "outputs": [
    {
     "data": {
      "application/javascript": [
       "IPython.notebook.set_autosave_interval(20000)"
      ]
     },
     "metadata": {},
     "output_type": "display_data"
    },
    {
     "name": "stdout",
     "output_type": "stream",
     "text": [
      "Autosaving every 20 seconds\n"
     ]
    }
   ],
   "source": [
    "%autosave 20\n",
    "\n",
    "import pandas as pd\n",
    "import numpy as np\n",
    "from geopy.geocoders import ArcGIS\n",
    "\n",
    "nom = ArcGIS()\n",
    "\n",
    "# print all the outputs in a cell\n",
    "from IPython.core.interactiveshell import InteractiveShell\n",
    "InteractiveShell.ast_node_interactivity = \"all\"\n",
    "\n",
    "pd.set_option('display.max_columns', None)\n",
    "pd.set_option('display.max_rows', None)"
   ]
  },
  {
   "cell_type": "code",
   "execution_count": 2,
   "id": "da51642c",
   "metadata": {},
   "outputs": [],
   "source": [
    "research = pd.read_excel('/Users/chensumei/Desktop/Ram Paper/FinalSheets/Combined Research(by Region).xlsx', index_col=0)\n",
    "others = pd.read_excel('/Users/chensumei/Desktop/Ram Paper/FinalSheets/snap_warn_disaster.xlsx', index_col=0)"
   ]
  },
  {
   "cell_type": "code",
   "execution_count": 3,
   "id": "f17e50a6",
   "metadata": {
    "scrolled": false
   },
   "outputs": [
    {
     "data": {
      "text/html": [
       "<div>\n",
       "<style scoped>\n",
       "    .dataframe tbody tr th:only-of-type {\n",
       "        vertical-align: middle;\n",
       "    }\n",
       "\n",
       "    .dataframe tbody tr th {\n",
       "        vertical-align: top;\n",
       "    }\n",
       "\n",
       "    .dataframe thead th {\n",
       "        text-align: right;\n",
       "    }\n",
       "</style>\n",
       "<table border=\"1\" class=\"dataframe\">\n",
       "  <thead>\n",
       "    <tr style=\"text-align: right;\">\n",
       "      <th></th>\n",
       "      <th>Search</th>\n",
       "      <th>Search term</th>\n",
       "      <th>Region</th>\n",
       "      <th>State</th>\n",
       "      <th>Year</th>\n",
       "      <th>Month</th>\n",
       "    </tr>\n",
       "  </thead>\n",
       "  <tbody>\n",
       "    <tr>\n",
       "      <th>0</th>\n",
       "      <td>24</td>\n",
       "      <td>calfresh</td>\n",
       "      <td>Los Angeles CA</td>\n",
       "      <td>California</td>\n",
       "      <td>2019</td>\n",
       "      <td>1</td>\n",
       "    </tr>\n",
       "    <tr>\n",
       "      <th>1</th>\n",
       "      <td>34</td>\n",
       "      <td>calfresh</td>\n",
       "      <td>Los Angeles CA</td>\n",
       "      <td>California</td>\n",
       "      <td>2019</td>\n",
       "      <td>1</td>\n",
       "    </tr>\n",
       "    <tr>\n",
       "      <th>2</th>\n",
       "      <td>26</td>\n",
       "      <td>calfresh</td>\n",
       "      <td>Los Angeles CA</td>\n",
       "      <td>California</td>\n",
       "      <td>2019</td>\n",
       "      <td>1</td>\n",
       "    </tr>\n",
       "    <tr>\n",
       "      <th>3</th>\n",
       "      <td>26</td>\n",
       "      <td>calfresh</td>\n",
       "      <td>Los Angeles CA</td>\n",
       "      <td>California</td>\n",
       "      <td>2019</td>\n",
       "      <td>1</td>\n",
       "    </tr>\n",
       "    <tr>\n",
       "      <th>4</th>\n",
       "      <td>28</td>\n",
       "      <td>calfresh</td>\n",
       "      <td>Los Angeles CA</td>\n",
       "      <td>California</td>\n",
       "      <td>2019</td>\n",
       "      <td>2</td>\n",
       "    </tr>\n",
       "  </tbody>\n",
       "</table>\n",
       "</div>"
      ],
      "text/plain": [
       "   Search Search term          Region       State  Year  Month\n",
       "0      24    calfresh  Los Angeles CA  California  2019      1\n",
       "1      34    calfresh  Los Angeles CA  California  2019      1\n",
       "2      26    calfresh  Los Angeles CA  California  2019      1\n",
       "3      26    calfresh  Los Angeles CA  California  2019      1\n",
       "4      28    calfresh  Los Angeles CA  California  2019      2"
      ]
     },
     "execution_count": 3,
     "metadata": {},
     "output_type": "execute_result"
    }
   ],
   "source": [
    "research.head()"
   ]
  },
  {
   "cell_type": "code",
   "execution_count": 4,
   "id": "f8f08052",
   "metadata": {
    "scrolled": false
   },
   "outputs": [
    {
     "data": {
      "text/plain": [
       "array(['Los Angeles CA', 'Sacramento-Stockton-Modesto CA', 'San Diego CA',\n",
       "       'San Francisco-Oakland-San Jose CA', 'Austin', 'DFW', 'Houston',\n",
       "       'SanAntonio'], dtype=object)"
      ]
     },
     "execution_count": 4,
     "metadata": {},
     "output_type": "execute_result"
    }
   ],
   "source": [
    "research.Region.unique()"
   ]
  },
  {
   "cell_type": "code",
   "execution_count": 5,
   "id": "d6e10b10",
   "metadata": {
    "scrolled": false
   },
   "outputs": [
    {
     "data": {
      "text/html": [
       "<div>\n",
       "<style scoped>\n",
       "    .dataframe tbody tr th:only-of-type {\n",
       "        vertical-align: middle;\n",
       "    }\n",
       "\n",
       "    .dataframe tbody tr th {\n",
       "        vertical-align: top;\n",
       "    }\n",
       "\n",
       "    .dataframe thead th {\n",
       "        text-align: right;\n",
       "    }\n",
       "</style>\n",
       "<table border=\"1\" class=\"dataframe\">\n",
       "  <thead>\n",
       "    <tr style=\"text-align: right;\">\n",
       "      <th></th>\n",
       "      <th>County</th>\n",
       "      <th>SNAP_Applications</th>\n",
       "      <th>Year</th>\n",
       "      <th>Month</th>\n",
       "      <th>State</th>\n",
       "      <th>Number of Workers</th>\n",
       "      <th># of disaster</th>\n",
       "    </tr>\n",
       "  </thead>\n",
       "  <tbody>\n",
       "    <tr>\n",
       "      <th>0</th>\n",
       "      <td>Anderson</td>\n",
       "      <td>405</td>\n",
       "      <td>2019</td>\n",
       "      <td>1</td>\n",
       "      <td>Texas</td>\n",
       "      <td>0</td>\n",
       "      <td>0</td>\n",
       "    </tr>\n",
       "    <tr>\n",
       "      <th>1</th>\n",
       "      <td>Anderson</td>\n",
       "      <td>243</td>\n",
       "      <td>2019</td>\n",
       "      <td>2</td>\n",
       "      <td>Texas</td>\n",
       "      <td>0</td>\n",
       "      <td>0</td>\n",
       "    </tr>\n",
       "    <tr>\n",
       "      <th>2</th>\n",
       "      <td>Anderson</td>\n",
       "      <td>282</td>\n",
       "      <td>2019</td>\n",
       "      <td>3</td>\n",
       "      <td>Texas</td>\n",
       "      <td>0</td>\n",
       "      <td>0</td>\n",
       "    </tr>\n",
       "    <tr>\n",
       "      <th>3</th>\n",
       "      <td>Anderson</td>\n",
       "      <td>274</td>\n",
       "      <td>2019</td>\n",
       "      <td>4</td>\n",
       "      <td>Texas</td>\n",
       "      <td>0</td>\n",
       "      <td>0</td>\n",
       "    </tr>\n",
       "    <tr>\n",
       "      <th>4</th>\n",
       "      <td>Anderson</td>\n",
       "      <td>317</td>\n",
       "      <td>2019</td>\n",
       "      <td>5</td>\n",
       "      <td>Texas</td>\n",
       "      <td>0</td>\n",
       "      <td>0</td>\n",
       "    </tr>\n",
       "  </tbody>\n",
       "</table>\n",
       "</div>"
      ],
      "text/plain": [
       "     County  SNAP_Applications  Year  Month  State  Number of Workers  \\\n",
       "0  Anderson                405  2019      1  Texas                  0   \n",
       "1  Anderson                243  2019      2  Texas                  0   \n",
       "2  Anderson                282  2019      3  Texas                  0   \n",
       "3  Anderson                274  2019      4  Texas                  0   \n",
       "4  Anderson                317  2019      5  Texas                  0   \n",
       "\n",
       "   # of disaster  \n",
       "0              0  \n",
       "1              0  \n",
       "2              0  \n",
       "3              0  \n",
       "4              0  "
      ]
     },
     "execution_count": 5,
     "metadata": {},
     "output_type": "execute_result"
    }
   ],
   "source": [
    "others.head()"
   ]
  },
  {
   "cell_type": "code",
   "execution_count": 6,
   "id": "77422550",
   "metadata": {},
   "outputs": [
    {
     "data": {
      "text/plain": [
       "Search         0\n",
       "Search term    0\n",
       "Region         0\n",
       "State          0\n",
       "Year           0\n",
       "Month          0\n",
       "dtype: int64"
      ]
     },
     "execution_count": 6,
     "metadata": {},
     "output_type": "execute_result"
    }
   ],
   "source": [
    "research.isna().sum()"
   ]
  },
  {
   "cell_type": "code",
   "execution_count": 7,
   "id": "527fd827",
   "metadata": {},
   "outputs": [
    {
     "data": {
      "text/plain": [
       "County               0\n",
       "SNAP_Applications    0\n",
       "Year                 0\n",
       "Month                0\n",
       "State                0\n",
       "Number of Workers    0\n",
       "# of disaster        0\n",
       "dtype: int64"
      ]
     },
     "execution_count": 7,
     "metadata": {},
     "output_type": "execute_result"
    }
   ],
   "source": [
    "others.isna().sum()"
   ]
  },
  {
   "cell_type": "markdown",
   "id": "02376de6",
   "metadata": {},
   "source": [
    "## Table about County - unique county and its state"
   ]
  },
  {
   "cell_type": "code",
   "execution_count": 8,
   "id": "ad0d7da5",
   "metadata": {},
   "outputs": [],
   "source": [
    "# need the county, State\n",
    "county = others[['County', 'State']]\n"
   ]
  },
  {
   "cell_type": "code",
   "execution_count": 9,
   "id": "fc788922",
   "metadata": {},
   "outputs": [],
   "source": [
    "county_table = county.groupby(['State', 'County']).agg(counts = ('County', 'size'))"
   ]
  },
  {
   "cell_type": "code",
   "execution_count": 10,
   "id": "81142bcb",
   "metadata": {},
   "outputs": [],
   "source": [
    "county_table.reset_index(inplace=True)"
   ]
  },
  {
   "cell_type": "code",
   "execution_count": 11,
   "id": "536e08bb",
   "metadata": {
    "scrolled": true
   },
   "outputs": [
    {
     "data": {
      "text/html": [
       "<div>\n",
       "<style scoped>\n",
       "    .dataframe tbody tr th:only-of-type {\n",
       "        vertical-align: middle;\n",
       "    }\n",
       "\n",
       "    .dataframe tbody tr th {\n",
       "        vertical-align: top;\n",
       "    }\n",
       "\n",
       "    .dataframe thead th {\n",
       "        text-align: right;\n",
       "    }\n",
       "</style>\n",
       "<table border=\"1\" class=\"dataframe\">\n",
       "  <thead>\n",
       "    <tr style=\"text-align: right;\">\n",
       "      <th></th>\n",
       "      <th>State</th>\n",
       "      <th>County</th>\n",
       "      <th>counts</th>\n",
       "    </tr>\n",
       "  </thead>\n",
       "  <tbody>\n",
       "    <tr>\n",
       "      <th>0</th>\n",
       "      <td>California</td>\n",
       "      <td>Alameda</td>\n",
       "      <td>36</td>\n",
       "    </tr>\n",
       "    <tr>\n",
       "      <th>1</th>\n",
       "      <td>California</td>\n",
       "      <td>Alpine</td>\n",
       "      <td>36</td>\n",
       "    </tr>\n",
       "    <tr>\n",
       "      <th>2</th>\n",
       "      <td>California</td>\n",
       "      <td>Amador</td>\n",
       "      <td>36</td>\n",
       "    </tr>\n",
       "    <tr>\n",
       "      <th>3</th>\n",
       "      <td>California</td>\n",
       "      <td>Butte</td>\n",
       "      <td>36</td>\n",
       "    </tr>\n",
       "    <tr>\n",
       "      <th>4</th>\n",
       "      <td>California</td>\n",
       "      <td>Cahuilla Indian Reservation</td>\n",
       "      <td>1</td>\n",
       "    </tr>\n",
       "  </tbody>\n",
       "</table>\n",
       "</div>"
      ],
      "text/plain": [
       "        State                       County  counts\n",
       "0  California                      Alameda      36\n",
       "1  California                       Alpine      36\n",
       "2  California                       Amador      36\n",
       "3  California                        Butte      36\n",
       "4  California  Cahuilla Indian Reservation       1"
      ]
     },
     "execution_count": 11,
     "metadata": {},
     "output_type": "execute_result"
    }
   ],
   "source": [
    "county_table.head()"
   ]
  },
  {
   "cell_type": "code",
   "execution_count": 12,
   "id": "6a41961a",
   "metadata": {},
   "outputs": [],
   "source": [
    "county_table.drop(columns=['counts'], inplace=True)"
   ]
  },
  {
   "cell_type": "code",
   "execution_count": 13,
   "id": "9e382bec",
   "metadata": {},
   "outputs": [],
   "source": [
    "county_table['latitude'] = 0.0\n",
    "county_table['longitude'] = 0.0"
   ]
  },
  {
   "cell_type": "code",
   "execution_count": 14,
   "id": "32c5d133",
   "metadata": {},
   "outputs": [],
   "source": [
    "#list(nom.geocode('Wise' + 'county' + 'Texas'))"
   ]
  },
  {
   "cell_type": "code",
   "execution_count": 15,
   "id": "3dcdcab0",
   "metadata": {
    "scrolled": true
   },
   "outputs": [],
   "source": [
    "#county_table[315:]"
   ]
  },
  {
   "cell_type": "code",
   "execution_count": 16,
   "id": "9903aecd",
   "metadata": {},
   "outputs": [
    {
     "name": "stdout",
     "output_type": "stream",
     "text": [
      "Something wrong with the idx:4\n",
      "Something wrong with the idx:17\n",
      "Something wrong with the idx:29\n",
      "Something wrong with the idx:50\n",
      "Something wrong with the idx:197\n"
     ]
    }
   ],
   "source": [
    "for idx in range(len(county_table)):\n",
    "    try:\n",
    "        add = county_table.iloc[idx, 1] + 'county' + county_table.iloc[idx, 0]\n",
    "        cur_la_lo = list(nom.geocode(add))[1]\n",
    "        county_table.iloc[idx, 2] = cur_la_lo[0]\n",
    "        county_table.iloc[idx, 3] = cur_la_lo[1]\n",
    "    except:\n",
    "        print('Something wrong with the idx:' + str(idx))"
   ]
  },
  {
   "cell_type": "code",
   "execution_count": 17,
   "id": "1cd332c8",
   "metadata": {
    "scrolled": true
   },
   "outputs": [
    {
     "data": {
      "text/html": [
       "<div>\n",
       "<style scoped>\n",
       "    .dataframe tbody tr th:only-of-type {\n",
       "        vertical-align: middle;\n",
       "    }\n",
       "\n",
       "    .dataframe tbody tr th {\n",
       "        vertical-align: top;\n",
       "    }\n",
       "\n",
       "    .dataframe thead th {\n",
       "        text-align: right;\n",
       "    }\n",
       "</style>\n",
       "<table border=\"1\" class=\"dataframe\">\n",
       "  <thead>\n",
       "    <tr style=\"text-align: right;\">\n",
       "      <th></th>\n",
       "      <th>State</th>\n",
       "      <th>County</th>\n",
       "      <th>latitude</th>\n",
       "      <th>longitude</th>\n",
       "    </tr>\n",
       "  </thead>\n",
       "  <tbody>\n",
       "    <tr>\n",
       "      <th>4</th>\n",
       "      <td>California</td>\n",
       "      <td>Cahuilla Indian Reservation</td>\n",
       "      <td>0.000000</td>\n",
       "      <td>0.000000</td>\n",
       "    </tr>\n",
       "    <tr>\n",
       "      <th>17</th>\n",
       "      <td>California</td>\n",
       "      <td>La Jolla Indian Reservation</td>\n",
       "      <td>0.000000</td>\n",
       "      <td>0.000000</td>\n",
       "    </tr>\n",
       "    <tr>\n",
       "      <th>29</th>\n",
       "      <td>California</td>\n",
       "      <td>Morongo Indian Reservation</td>\n",
       "      <td>0.000000</td>\n",
       "      <td>0.000000</td>\n",
       "    </tr>\n",
       "    <tr>\n",
       "      <th>50</th>\n",
       "      <td>California</td>\n",
       "      <td>Soboba Indian Reservation</td>\n",
       "      <td>0.000000</td>\n",
       "      <td>0.000000</td>\n",
       "    </tr>\n",
       "    <tr>\n",
       "      <th>54</th>\n",
       "      <td>California</td>\n",
       "      <td>Sutter</td>\n",
       "      <td>39.034675</td>\n",
       "      <td>-121.694846</td>\n",
       "    </tr>\n",
       "    <tr>\n",
       "      <th>197</th>\n",
       "      <td>Texas</td>\n",
       "      <td>Kickapoo Reservation</td>\n",
       "      <td>0.000000</td>\n",
       "      <td>0.000000</td>\n",
       "    </tr>\n",
       "  </tbody>\n",
       "</table>\n",
       "</div>"
      ],
      "text/plain": [
       "          State                       County   latitude   longitude\n",
       "4    California  Cahuilla Indian Reservation   0.000000    0.000000\n",
       "17   California  La Jolla Indian Reservation   0.000000    0.000000\n",
       "29   California   Morongo Indian Reservation   0.000000    0.000000\n",
       "50   California    Soboba Indian Reservation   0.000000    0.000000\n",
       "54   California                       Sutter  39.034675 -121.694846\n",
       "197       Texas         Kickapoo Reservation   0.000000    0.000000"
      ]
     },
     "execution_count": 17,
     "metadata": {},
     "output_type": "execute_result"
    }
   ],
   "source": [
    "id = [4, 17, 29, 50, 54, 197]\n",
    "\n",
    "county_table.iloc[id]\n",
    "    "
   ]
  },
  {
   "cell_type": "code",
   "execution_count": 18,
   "id": "0ff863c9",
   "metadata": {},
   "outputs": [],
   "source": [
    "# fill the empty first\n",
    "id = [4, 17, 29, 50, 197]\n",
    "\n",
    "for idx in id:\n",
    "    try:\n",
    "        add = county_table.iloc[idx, 1]  + county_table.iloc[idx, 0]\n",
    "        cur_la_lo = list(nom.geocode(add))[1]\n",
    "        county_table.iloc[idx, 2] = cur_la_lo[0]\n",
    "        county_table.iloc[idx, 3] = cur_la_lo[1]\n",
    "    except:\n",
    "        print('Something wrong with the idx:' + str(idx))\n"
   ]
  },
  {
   "cell_type": "code",
   "execution_count": 19,
   "id": "97f1ea95",
   "metadata": {},
   "outputs": [],
   "source": [
    "# then drop 54 and 295\n",
    "\n",
    "#county_table.drop(index=[54, 295], inplace=True)"
   ]
  },
  {
   "cell_type": "code",
   "execution_count": 20,
   "id": "6f3d4ee4",
   "metadata": {},
   "outputs": [
    {
     "name": "stdout",
     "output_type": "stream",
     "text": [
      "<class 'pandas.core.frame.DataFrame'>\n",
      "RangeIndex: 320 entries, 0 to 319\n",
      "Data columns (total 4 columns):\n",
      " #   Column     Non-Null Count  Dtype  \n",
      "---  ------     --------------  -----  \n",
      " 0   State      320 non-null    object \n",
      " 1   County     320 non-null    object \n",
      " 2   latitude   320 non-null    float64\n",
      " 3   longitude  320 non-null    float64\n",
      "dtypes: float64(2), object(2)\n",
      "memory usage: 10.1+ KB\n"
     ]
    }
   ],
   "source": [
    "county_table.info()"
   ]
  },
  {
   "cell_type": "code",
   "execution_count": 21,
   "id": "70643712",
   "metadata": {
    "scrolled": false
   },
   "outputs": [
    {
     "data": {
      "text/html": [
       "<div>\n",
       "<style scoped>\n",
       "    .dataframe tbody tr th:only-of-type {\n",
       "        vertical-align: middle;\n",
       "    }\n",
       "\n",
       "    .dataframe tbody tr th {\n",
       "        vertical-align: top;\n",
       "    }\n",
       "\n",
       "    .dataframe thead th {\n",
       "        text-align: right;\n",
       "    }\n",
       "</style>\n",
       "<table border=\"1\" class=\"dataframe\">\n",
       "  <thead>\n",
       "    <tr style=\"text-align: right;\">\n",
       "      <th></th>\n",
       "      <th>State</th>\n",
       "      <th>County</th>\n",
       "      <th>latitude</th>\n",
       "      <th>longitude</th>\n",
       "    </tr>\n",
       "  </thead>\n",
       "  <tbody>\n",
       "    <tr>\n",
       "      <th>0</th>\n",
       "      <td>California</td>\n",
       "      <td>Alameda</td>\n",
       "      <td>37.646493</td>\n",
       "      <td>-121.887649</td>\n",
       "    </tr>\n",
       "    <tr>\n",
       "      <th>1</th>\n",
       "      <td>California</td>\n",
       "      <td>Alpine</td>\n",
       "      <td>38.597333</td>\n",
       "      <td>-119.820421</td>\n",
       "    </tr>\n",
       "    <tr>\n",
       "      <th>2</th>\n",
       "      <td>California</td>\n",
       "      <td>Amador</td>\n",
       "      <td>38.446065</td>\n",
       "      <td>-120.651756</td>\n",
       "    </tr>\n",
       "    <tr>\n",
       "      <th>3</th>\n",
       "      <td>California</td>\n",
       "      <td>Butte</td>\n",
       "      <td>39.667092</td>\n",
       "      <td>-121.600911</td>\n",
       "    </tr>\n",
       "    <tr>\n",
       "      <th>4</th>\n",
       "      <td>California</td>\n",
       "      <td>Cahuilla Indian Reservation</td>\n",
       "      <td>33.520240</td>\n",
       "      <td>-116.711760</td>\n",
       "    </tr>\n",
       "  </tbody>\n",
       "</table>\n",
       "</div>"
      ],
      "text/plain": [
       "        State                       County   latitude   longitude\n",
       "0  California                      Alameda  37.646493 -121.887649\n",
       "1  California                       Alpine  38.597333 -119.820421\n",
       "2  California                       Amador  38.446065 -120.651756\n",
       "3  California                        Butte  39.667092 -121.600911\n",
       "4  California  Cahuilla Indian Reservation  33.520240 -116.711760"
      ]
     },
     "execution_count": 21,
     "metadata": {},
     "output_type": "execute_result"
    }
   ],
   "source": [
    "county_table.head()"
   ]
  },
  {
   "cell_type": "markdown",
   "id": "b6eb33ff",
   "metadata": {},
   "source": [
    "## Table about Region"
   ]
  },
  {
   "cell_type": "code",
   "execution_count": 22,
   "id": "3ef00c64",
   "metadata": {},
   "outputs": [],
   "source": [
    "# need the county, State\n",
    "\n",
    "region = research[['State', 'Region']]"
   ]
  },
  {
   "cell_type": "code",
   "execution_count": 23,
   "id": "5210e25b",
   "metadata": {},
   "outputs": [],
   "source": [
    "region_table = region.groupby(['State', 'Region']).agg(counts = ('Region', 'size')).reset_index()"
   ]
  },
  {
   "cell_type": "code",
   "execution_count": 24,
   "id": "62490390",
   "metadata": {},
   "outputs": [],
   "source": [
    "region_table.drop(columns=['counts'], inplace=True)"
   ]
  },
  {
   "cell_type": "code",
   "execution_count": 25,
   "id": "c642da3b",
   "metadata": {
    "scrolled": true
   },
   "outputs": [
    {
     "data": {
      "text/plain": [
       "(8, 2)"
      ]
     },
     "execution_count": 25,
     "metadata": {},
     "output_type": "execute_result"
    }
   ],
   "source": [
    "region_table.shape"
   ]
  },
  {
   "cell_type": "code",
   "execution_count": 26,
   "id": "02198224",
   "metadata": {
    "scrolled": true
   },
   "outputs": [],
   "source": [
    "# the combine of each Region\n",
    "\n",
    "\n",
    "# lookup = {\n",
    "#     'Los Angeles CA' : ['Los Angeles CA']\n",
    "#     'San Francisco-Oakland-San Jose CA' : ['Alameda', 'Contra Costa', 'Marin', 'Napa', 'San Francisco', 'San Mateo', 'Santa Clara', 'Solano', 'Sonoma']\n",
    "#     'San Diego CA' : ['San Diego CA']\n",
    "#     'Sacramento-Stockton-Modesto CA' : [Amador, CA\n",
    "# }\n"
   ]
  },
  {
   "cell_type": "markdown",
   "id": "247b73cf",
   "metadata": {},
   "source": [
    "### 1. County in the 'Sacramento-Stockton-Modesto CA' Region"
   ]
  },
  {
   "cell_type": "code",
   "execution_count": 27,
   "id": "c8ce0b52",
   "metadata": {},
   "outputs": [],
   "source": [
    "# import the StrinIO function\n",
    "# from io module\n",
    "from io import StringIO\n",
    "import pandas as pd\n",
    " \n",
    "# wrap the string data in StringIO function\n",
    "StringData = StringIO(\"\"\"\n",
    "County,State\n",
    "Amador,California\n",
    "Calaveras,California\n",
    "Colusa,California\n",
    "Nevada,California\n",
    "Placer,California\n",
    "Plumas,California\n",
    "Sacramento,California\n",
    "San Joaquin,California\n",
    "Sierra,California\n",
    "Stanislaus,California\n",
    "Sutter,California\n",
    "Tuolumne,California\n",
    "Yolo,California\n",
    "Yuba,California\n",
    "    \"\"\")\n",
    "\n",
    "# let's read the data using the Pandas\n",
    "# read_csv() function\n",
    "df = pd.read_csv(StringData, sep =\",\")\n",
    " \n",
    "# Print the dataframe"
   ]
  },
  {
   "cell_type": "code",
   "execution_count": 28,
   "id": "9dd3a7c8",
   "metadata": {},
   "outputs": [],
   "source": [
    "df['Region'] = 'Sacramento-Stockton-Modesto CA'\n",
    "\n",
    "#'Sacramento-Stockton-Modesto CA'"
   ]
  },
  {
   "cell_type": "code",
   "execution_count": 29,
   "id": "86e61872",
   "metadata": {
    "scrolled": false
   },
   "outputs": [
    {
     "data": {
      "text/html": [
       "<div>\n",
       "<style scoped>\n",
       "    .dataframe tbody tr th:only-of-type {\n",
       "        vertical-align: middle;\n",
       "    }\n",
       "\n",
       "    .dataframe tbody tr th {\n",
       "        vertical-align: top;\n",
       "    }\n",
       "\n",
       "    .dataframe thead th {\n",
       "        text-align: right;\n",
       "    }\n",
       "</style>\n",
       "<table border=\"1\" class=\"dataframe\">\n",
       "  <thead>\n",
       "    <tr style=\"text-align: right;\">\n",
       "      <th></th>\n",
       "      <th>County</th>\n",
       "      <th>State</th>\n",
       "      <th>Region</th>\n",
       "    </tr>\n",
       "  </thead>\n",
       "  <tbody>\n",
       "    <tr>\n",
       "      <th>0</th>\n",
       "      <td>Amador</td>\n",
       "      <td>California</td>\n",
       "      <td>Sacramento-Stockton-Modesto CA</td>\n",
       "    </tr>\n",
       "    <tr>\n",
       "      <th>1</th>\n",
       "      <td>Calaveras</td>\n",
       "      <td>California</td>\n",
       "      <td>Sacramento-Stockton-Modesto CA</td>\n",
       "    </tr>\n",
       "    <tr>\n",
       "      <th>2</th>\n",
       "      <td>Colusa</td>\n",
       "      <td>California</td>\n",
       "      <td>Sacramento-Stockton-Modesto CA</td>\n",
       "    </tr>\n",
       "    <tr>\n",
       "      <th>3</th>\n",
       "      <td>Nevada</td>\n",
       "      <td>California</td>\n",
       "      <td>Sacramento-Stockton-Modesto CA</td>\n",
       "    </tr>\n",
       "    <tr>\n",
       "      <th>4</th>\n",
       "      <td>Placer</td>\n",
       "      <td>California</td>\n",
       "      <td>Sacramento-Stockton-Modesto CA</td>\n",
       "    </tr>\n",
       "    <tr>\n",
       "      <th>5</th>\n",
       "      <td>Plumas</td>\n",
       "      <td>California</td>\n",
       "      <td>Sacramento-Stockton-Modesto CA</td>\n",
       "    </tr>\n",
       "    <tr>\n",
       "      <th>6</th>\n",
       "      <td>Sacramento</td>\n",
       "      <td>California</td>\n",
       "      <td>Sacramento-Stockton-Modesto CA</td>\n",
       "    </tr>\n",
       "    <tr>\n",
       "      <th>7</th>\n",
       "      <td>San Joaquin</td>\n",
       "      <td>California</td>\n",
       "      <td>Sacramento-Stockton-Modesto CA</td>\n",
       "    </tr>\n",
       "    <tr>\n",
       "      <th>8</th>\n",
       "      <td>Sierra</td>\n",
       "      <td>California</td>\n",
       "      <td>Sacramento-Stockton-Modesto CA</td>\n",
       "    </tr>\n",
       "    <tr>\n",
       "      <th>9</th>\n",
       "      <td>Stanislaus</td>\n",
       "      <td>California</td>\n",
       "      <td>Sacramento-Stockton-Modesto CA</td>\n",
       "    </tr>\n",
       "    <tr>\n",
       "      <th>10</th>\n",
       "      <td>Sutter</td>\n",
       "      <td>California</td>\n",
       "      <td>Sacramento-Stockton-Modesto CA</td>\n",
       "    </tr>\n",
       "    <tr>\n",
       "      <th>11</th>\n",
       "      <td>Tuolumne</td>\n",
       "      <td>California</td>\n",
       "      <td>Sacramento-Stockton-Modesto CA</td>\n",
       "    </tr>\n",
       "    <tr>\n",
       "      <th>12</th>\n",
       "      <td>Yolo</td>\n",
       "      <td>California</td>\n",
       "      <td>Sacramento-Stockton-Modesto CA</td>\n",
       "    </tr>\n",
       "    <tr>\n",
       "      <th>13</th>\n",
       "      <td>Yuba</td>\n",
       "      <td>California</td>\n",
       "      <td>Sacramento-Stockton-Modesto CA</td>\n",
       "    </tr>\n",
       "  </tbody>\n",
       "</table>\n",
       "</div>"
      ],
      "text/plain": [
       "         County       State                          Region\n",
       "0        Amador  California  Sacramento-Stockton-Modesto CA\n",
       "1     Calaveras  California  Sacramento-Stockton-Modesto CA\n",
       "2        Colusa  California  Sacramento-Stockton-Modesto CA\n",
       "3        Nevada  California  Sacramento-Stockton-Modesto CA\n",
       "4        Placer  California  Sacramento-Stockton-Modesto CA\n",
       "5        Plumas  California  Sacramento-Stockton-Modesto CA\n",
       "6    Sacramento  California  Sacramento-Stockton-Modesto CA\n",
       "7   San Joaquin  California  Sacramento-Stockton-Modesto CA\n",
       "8        Sierra  California  Sacramento-Stockton-Modesto CA\n",
       "9    Stanislaus  California  Sacramento-Stockton-Modesto CA\n",
       "10       Sutter  California  Sacramento-Stockton-Modesto CA\n",
       "11     Tuolumne  California  Sacramento-Stockton-Modesto CA\n",
       "12         Yolo  California  Sacramento-Stockton-Modesto CA\n",
       "13         Yuba  California  Sacramento-Stockton-Modesto CA"
      ]
     },
     "execution_count": 29,
     "metadata": {},
     "output_type": "execute_result"
    }
   ],
   "source": [
    "df"
   ]
  },
  {
   "cell_type": "markdown",
   "id": "6e151389",
   "metadata": {},
   "source": [
    "### 2. County in the 'Los_CA' Region - only Los Angeles County"
   ]
  },
  {
   "cell_type": "markdown",
   "id": "e455c6a9",
   "metadata": {},
   "source": []
  },
  {
   "cell_type": "markdown",
   "id": "036d85d4",
   "metadata": {},
   "source": [
    "### 3. County in the 'San Francisco-Oakland-San Jose CA' Region"
   ]
  },
  {
   "cell_type": "code",
   "execution_count": 30,
   "id": "26de0227",
   "metadata": {},
   "outputs": [],
   "source": [
    "a = ['Alameda', 'Contra Costa', 'Marin', 'Napa', 'San Francisco', 'San Mateo', 'Santa Clara', 'Solano', 'Sonoma']\n",
    "\n",
    "df_sf = pd.DataFrame(a)"
   ]
  },
  {
   "cell_type": "code",
   "execution_count": 31,
   "id": "02f2d4ad",
   "metadata": {},
   "outputs": [],
   "source": [
    "#'San Francisco-Oakland-San Jose CA'"
   ]
  },
  {
   "cell_type": "code",
   "execution_count": 32,
   "id": "2ea05c46",
   "metadata": {},
   "outputs": [],
   "source": [
    "df_sf['State'] = 'California'"
   ]
  },
  {
   "cell_type": "code",
   "execution_count": 33,
   "id": "e2e7adc7",
   "metadata": {},
   "outputs": [],
   "source": [
    "df_sf['Region'] = 'San Francisco-Oakland-San Jose CA'"
   ]
  },
  {
   "cell_type": "code",
   "execution_count": 34,
   "id": "2d59865c",
   "metadata": {},
   "outputs": [],
   "source": [
    "df_sf.rename(columns={0:'County'}, inplace = True)"
   ]
  },
  {
   "cell_type": "code",
   "execution_count": 35,
   "id": "a00c3938",
   "metadata": {},
   "outputs": [
    {
     "data": {
      "text/html": [
       "<div>\n",
       "<style scoped>\n",
       "    .dataframe tbody tr th:only-of-type {\n",
       "        vertical-align: middle;\n",
       "    }\n",
       "\n",
       "    .dataframe tbody tr th {\n",
       "        vertical-align: top;\n",
       "    }\n",
       "\n",
       "    .dataframe thead th {\n",
       "        text-align: right;\n",
       "    }\n",
       "</style>\n",
       "<table border=\"1\" class=\"dataframe\">\n",
       "  <thead>\n",
       "    <tr style=\"text-align: right;\">\n",
       "      <th></th>\n",
       "      <th>County</th>\n",
       "      <th>State</th>\n",
       "      <th>Region</th>\n",
       "    </tr>\n",
       "  </thead>\n",
       "  <tbody>\n",
       "    <tr>\n",
       "      <th>0</th>\n",
       "      <td>Alameda</td>\n",
       "      <td>California</td>\n",
       "      <td>San Francisco-Oakland-San Jose CA</td>\n",
       "    </tr>\n",
       "    <tr>\n",
       "      <th>1</th>\n",
       "      <td>Contra Costa</td>\n",
       "      <td>California</td>\n",
       "      <td>San Francisco-Oakland-San Jose CA</td>\n",
       "    </tr>\n",
       "    <tr>\n",
       "      <th>2</th>\n",
       "      <td>Marin</td>\n",
       "      <td>California</td>\n",
       "      <td>San Francisco-Oakland-San Jose CA</td>\n",
       "    </tr>\n",
       "    <tr>\n",
       "      <th>3</th>\n",
       "      <td>Napa</td>\n",
       "      <td>California</td>\n",
       "      <td>San Francisco-Oakland-San Jose CA</td>\n",
       "    </tr>\n",
       "    <tr>\n",
       "      <th>4</th>\n",
       "      <td>San Francisco</td>\n",
       "      <td>California</td>\n",
       "      <td>San Francisco-Oakland-San Jose CA</td>\n",
       "    </tr>\n",
       "    <tr>\n",
       "      <th>5</th>\n",
       "      <td>San Mateo</td>\n",
       "      <td>California</td>\n",
       "      <td>San Francisco-Oakland-San Jose CA</td>\n",
       "    </tr>\n",
       "    <tr>\n",
       "      <th>6</th>\n",
       "      <td>Santa Clara</td>\n",
       "      <td>California</td>\n",
       "      <td>San Francisco-Oakland-San Jose CA</td>\n",
       "    </tr>\n",
       "    <tr>\n",
       "      <th>7</th>\n",
       "      <td>Solano</td>\n",
       "      <td>California</td>\n",
       "      <td>San Francisco-Oakland-San Jose CA</td>\n",
       "    </tr>\n",
       "    <tr>\n",
       "      <th>8</th>\n",
       "      <td>Sonoma</td>\n",
       "      <td>California</td>\n",
       "      <td>San Francisco-Oakland-San Jose CA</td>\n",
       "    </tr>\n",
       "  </tbody>\n",
       "</table>\n",
       "</div>"
      ],
      "text/plain": [
       "          County       State                             Region\n",
       "0        Alameda  California  San Francisco-Oakland-San Jose CA\n",
       "1   Contra Costa  California  San Francisco-Oakland-San Jose CA\n",
       "2          Marin  California  San Francisco-Oakland-San Jose CA\n",
       "3           Napa  California  San Francisco-Oakland-San Jose CA\n",
       "4  San Francisco  California  San Francisco-Oakland-San Jose CA\n",
       "5      San Mateo  California  San Francisco-Oakland-San Jose CA\n",
       "6    Santa Clara  California  San Francisco-Oakland-San Jose CA\n",
       "7         Solano  California  San Francisco-Oakland-San Jose CA\n",
       "8         Sonoma  California  San Francisco-Oakland-San Jose CA"
      ]
     },
     "execution_count": 35,
     "metadata": {},
     "output_type": "execute_result"
    }
   ],
   "source": [
    "df_sf"
   ]
  },
  {
   "cell_type": "markdown",
   "id": "509a2a8f",
   "metadata": {},
   "source": [
    "### 4. County in the 'San Diego CA' Region - only San Diego County"
   ]
  },
  {
   "cell_type": "code",
   "execution_count": null,
   "id": "cb652b46",
   "metadata": {},
   "outputs": [],
   "source": []
  },
  {
   "cell_type": "markdown",
   "id": "c3bb9f6b",
   "metadata": {},
   "source": [
    "### 5. County in the 'Austin' Region - only Austin"
   ]
  },
  {
   "cell_type": "code",
   "execution_count": null,
   "id": "75912bb7",
   "metadata": {},
   "outputs": [],
   "source": []
  },
  {
   "cell_type": "markdown",
   "id": "44b42aee",
   "metadata": {},
   "source": [
    "### 6. County in the 'SanAntonio' Region"
   ]
  },
  {
   "cell_type": "code",
   "execution_count": 36,
   "id": "200d4754",
   "metadata": {},
   "outputs": [],
   "source": [
    "\n",
    " \n",
    "# wrap the string data in StringIO function\n",
    "StringData = StringIO(\"\"\"\n",
    "County,State\n",
    "Atascosa,Texas\n",
    "Bandera,Texas\n",
    "Comal,Texas\n",
    "Frio,Texas\n",
    "Gillespie,Texas\n",
    "Guadalupe,Texas\n",
    "Karnes,Texas\n",
    "Kendall,Texas\n",
    "Kerr,Texas\n",
    "Medina,Texas\n",
    "Wilson,Texas\n",
    "    \"\"\")\n",
    "\n",
    "# let's read the data using the Pandas\n",
    "# read_csv() function\n",
    "df_sa = pd.read_csv(StringData, sep =\",\")\n",
    " \n",
    "# Print the dataframe"
   ]
  },
  {
   "cell_type": "code",
   "execution_count": 37,
   "id": "5e830e33",
   "metadata": {},
   "outputs": [],
   "source": [
    "df_sa['Region'] = 'SanAntonio'"
   ]
  },
  {
   "cell_type": "code",
   "execution_count": 38,
   "id": "1e16c113",
   "metadata": {},
   "outputs": [
    {
     "data": {
      "text/html": [
       "<div>\n",
       "<style scoped>\n",
       "    .dataframe tbody tr th:only-of-type {\n",
       "        vertical-align: middle;\n",
       "    }\n",
       "\n",
       "    .dataframe tbody tr th {\n",
       "        vertical-align: top;\n",
       "    }\n",
       "\n",
       "    .dataframe thead th {\n",
       "        text-align: right;\n",
       "    }\n",
       "</style>\n",
       "<table border=\"1\" class=\"dataframe\">\n",
       "  <thead>\n",
       "    <tr style=\"text-align: right;\">\n",
       "      <th></th>\n",
       "      <th>County</th>\n",
       "      <th>State</th>\n",
       "      <th>Region</th>\n",
       "    </tr>\n",
       "  </thead>\n",
       "  <tbody>\n",
       "    <tr>\n",
       "      <th>0</th>\n",
       "      <td>Atascosa</td>\n",
       "      <td>Texas</td>\n",
       "      <td>SanAntonio</td>\n",
       "    </tr>\n",
       "    <tr>\n",
       "      <th>1</th>\n",
       "      <td>Bandera</td>\n",
       "      <td>Texas</td>\n",
       "      <td>SanAntonio</td>\n",
       "    </tr>\n",
       "    <tr>\n",
       "      <th>2</th>\n",
       "      <td>Comal</td>\n",
       "      <td>Texas</td>\n",
       "      <td>SanAntonio</td>\n",
       "    </tr>\n",
       "    <tr>\n",
       "      <th>3</th>\n",
       "      <td>Frio</td>\n",
       "      <td>Texas</td>\n",
       "      <td>SanAntonio</td>\n",
       "    </tr>\n",
       "    <tr>\n",
       "      <th>4</th>\n",
       "      <td>Gillespie</td>\n",
       "      <td>Texas</td>\n",
       "      <td>SanAntonio</td>\n",
       "    </tr>\n",
       "    <tr>\n",
       "      <th>5</th>\n",
       "      <td>Guadalupe</td>\n",
       "      <td>Texas</td>\n",
       "      <td>SanAntonio</td>\n",
       "    </tr>\n",
       "    <tr>\n",
       "      <th>6</th>\n",
       "      <td>Karnes</td>\n",
       "      <td>Texas</td>\n",
       "      <td>SanAntonio</td>\n",
       "    </tr>\n",
       "    <tr>\n",
       "      <th>7</th>\n",
       "      <td>Kendall</td>\n",
       "      <td>Texas</td>\n",
       "      <td>SanAntonio</td>\n",
       "    </tr>\n",
       "    <tr>\n",
       "      <th>8</th>\n",
       "      <td>Kerr</td>\n",
       "      <td>Texas</td>\n",
       "      <td>SanAntonio</td>\n",
       "    </tr>\n",
       "    <tr>\n",
       "      <th>9</th>\n",
       "      <td>Medina</td>\n",
       "      <td>Texas</td>\n",
       "      <td>SanAntonio</td>\n",
       "    </tr>\n",
       "    <tr>\n",
       "      <th>10</th>\n",
       "      <td>Wilson</td>\n",
       "      <td>Texas</td>\n",
       "      <td>SanAntonio</td>\n",
       "    </tr>\n",
       "  </tbody>\n",
       "</table>\n",
       "</div>"
      ],
      "text/plain": [
       "       County  State      Region\n",
       "0    Atascosa  Texas  SanAntonio\n",
       "1     Bandera  Texas  SanAntonio\n",
       "2       Comal  Texas  SanAntonio\n",
       "3        Frio  Texas  SanAntonio\n",
       "4   Gillespie  Texas  SanAntonio\n",
       "5   Guadalupe  Texas  SanAntonio\n",
       "6      Karnes  Texas  SanAntonio\n",
       "7     Kendall  Texas  SanAntonio\n",
       "8        Kerr  Texas  SanAntonio\n",
       "9      Medina  Texas  SanAntonio\n",
       "10     Wilson  Texas  SanAntonio"
      ]
     },
     "execution_count": 38,
     "metadata": {},
     "output_type": "execute_result"
    }
   ],
   "source": [
    "df_sa"
   ]
  },
  {
   "cell_type": "markdown",
   "id": "a1917ce0",
   "metadata": {},
   "source": [
    "### 7. County in the 'DFW' Region"
   ]
  },
  {
   "cell_type": "code",
   "execution_count": 39,
   "id": "44a75c01",
   "metadata": {},
   "outputs": [],
   "source": [
    "\n",
    " \n",
    "# wrap the string data in StringIO function\n",
    "StringData = StringIO(\"\"\"\n",
    "County,State\n",
    "Dallas,Texas\n",
    "Tarrant,Texas\n",
    "Collin,Texas\n",
    "Denton,Texas\n",
    "Ellis,Texas\n",
    "Johnson,Texas\n",
    "Parker,Texas\n",
    "Kaufman,Texas\n",
    "Rockwall,Texas\n",
    "Hunt,Texas\n",
    "Wise,Texas\n",
    "    \"\"\")\n",
    "\n",
    "# let's read the data using the Pandas\n",
    "# read_csv() function\n",
    "df_dfw = pd.read_csv(StringData, sep =\",\")\n",
    " \n",
    "# Print the dataframe"
   ]
  },
  {
   "cell_type": "code",
   "execution_count": 40,
   "id": "6f7ff5c2",
   "metadata": {},
   "outputs": [],
   "source": [
    "df_dfw['Region'] = 'DFW'"
   ]
  },
  {
   "cell_type": "code",
   "execution_count": 41,
   "id": "1639e963",
   "metadata": {},
   "outputs": [
    {
     "data": {
      "text/html": [
       "<div>\n",
       "<style scoped>\n",
       "    .dataframe tbody tr th:only-of-type {\n",
       "        vertical-align: middle;\n",
       "    }\n",
       "\n",
       "    .dataframe tbody tr th {\n",
       "        vertical-align: top;\n",
       "    }\n",
       "\n",
       "    .dataframe thead th {\n",
       "        text-align: right;\n",
       "    }\n",
       "</style>\n",
       "<table border=\"1\" class=\"dataframe\">\n",
       "  <thead>\n",
       "    <tr style=\"text-align: right;\">\n",
       "      <th></th>\n",
       "      <th>County</th>\n",
       "      <th>State</th>\n",
       "      <th>Region</th>\n",
       "    </tr>\n",
       "  </thead>\n",
       "  <tbody>\n",
       "    <tr>\n",
       "      <th>0</th>\n",
       "      <td>Dallas</td>\n",
       "      <td>Texas</td>\n",
       "      <td>DFW</td>\n",
       "    </tr>\n",
       "    <tr>\n",
       "      <th>1</th>\n",
       "      <td>Tarrant</td>\n",
       "      <td>Texas</td>\n",
       "      <td>DFW</td>\n",
       "    </tr>\n",
       "    <tr>\n",
       "      <th>2</th>\n",
       "      <td>Collin</td>\n",
       "      <td>Texas</td>\n",
       "      <td>DFW</td>\n",
       "    </tr>\n",
       "    <tr>\n",
       "      <th>3</th>\n",
       "      <td>Denton</td>\n",
       "      <td>Texas</td>\n",
       "      <td>DFW</td>\n",
       "    </tr>\n",
       "    <tr>\n",
       "      <th>4</th>\n",
       "      <td>Ellis</td>\n",
       "      <td>Texas</td>\n",
       "      <td>DFW</td>\n",
       "    </tr>\n",
       "    <tr>\n",
       "      <th>5</th>\n",
       "      <td>Johnson</td>\n",
       "      <td>Texas</td>\n",
       "      <td>DFW</td>\n",
       "    </tr>\n",
       "    <tr>\n",
       "      <th>6</th>\n",
       "      <td>Parker</td>\n",
       "      <td>Texas</td>\n",
       "      <td>DFW</td>\n",
       "    </tr>\n",
       "    <tr>\n",
       "      <th>7</th>\n",
       "      <td>Kaufman</td>\n",
       "      <td>Texas</td>\n",
       "      <td>DFW</td>\n",
       "    </tr>\n",
       "    <tr>\n",
       "      <th>8</th>\n",
       "      <td>Rockwall</td>\n",
       "      <td>Texas</td>\n",
       "      <td>DFW</td>\n",
       "    </tr>\n",
       "    <tr>\n",
       "      <th>9</th>\n",
       "      <td>Hunt</td>\n",
       "      <td>Texas</td>\n",
       "      <td>DFW</td>\n",
       "    </tr>\n",
       "    <tr>\n",
       "      <th>10</th>\n",
       "      <td>Wise</td>\n",
       "      <td>Texas</td>\n",
       "      <td>DFW</td>\n",
       "    </tr>\n",
       "  </tbody>\n",
       "</table>\n",
       "</div>"
      ],
      "text/plain": [
       "      County  State Region\n",
       "0     Dallas  Texas    DFW\n",
       "1    Tarrant  Texas    DFW\n",
       "2     Collin  Texas    DFW\n",
       "3     Denton  Texas    DFW\n",
       "4      Ellis  Texas    DFW\n",
       "5    Johnson  Texas    DFW\n",
       "6     Parker  Texas    DFW\n",
       "7    Kaufman  Texas    DFW\n",
       "8   Rockwall  Texas    DFW\n",
       "9       Hunt  Texas    DFW\n",
       "10      Wise  Texas    DFW"
      ]
     },
     "execution_count": 41,
     "metadata": {},
     "output_type": "execute_result"
    }
   ],
   "source": [
    "df_dfw"
   ]
  },
  {
   "cell_type": "markdown",
   "id": "61c66896",
   "metadata": {},
   "source": [
    "### Combine 7 tables"
   ]
  },
  {
   "cell_type": "code",
   "execution_count": 42,
   "id": "26e8d979",
   "metadata": {},
   "outputs": [],
   "source": [
    "# 4 df\n",
    "\n",
    "combine = pd.concat([df, df_sf, df_sa, df_dfw], join='outer', ignore_index=True)"
   ]
  },
  {
   "cell_type": "code",
   "execution_count": 43,
   "id": "664c3926",
   "metadata": {},
   "outputs": [],
   "source": [
    "# + 3 austin, la, San Diego CA\n",
    "LA = {'County':'Los Angeles', 'State':'California', 'Region':'Los Angeles CA'}\n",
    "Au = {'County':'Austin', 'State':'Texas', 'Region':'Austin'}\n",
    "sd = {'County':'San Diego', 'State':'California', 'Region':'San Diego CA'}\n",
    "\n",
    "combine.loc[len(combine)] = LA\n",
    "combine.loc[len(combine)] = Au\n",
    "combine.loc[len(combine)] = sd"
   ]
  },
  {
   "cell_type": "code",
   "execution_count": 44,
   "id": "ec8c6843",
   "metadata": {},
   "outputs": [
    {
     "data": {
      "text/html": [
       "<div>\n",
       "<style scoped>\n",
       "    .dataframe tbody tr th:only-of-type {\n",
       "        vertical-align: middle;\n",
       "    }\n",
       "\n",
       "    .dataframe tbody tr th {\n",
       "        vertical-align: top;\n",
       "    }\n",
       "\n",
       "    .dataframe thead th {\n",
       "        text-align: right;\n",
       "    }\n",
       "</style>\n",
       "<table border=\"1\" class=\"dataframe\">\n",
       "  <thead>\n",
       "    <tr style=\"text-align: right;\">\n",
       "      <th></th>\n",
       "      <th>County</th>\n",
       "      <th>State</th>\n",
       "      <th>Region</th>\n",
       "    </tr>\n",
       "  </thead>\n",
       "  <tbody>\n",
       "    <tr>\n",
       "      <th>0</th>\n",
       "      <td>Amador</td>\n",
       "      <td>California</td>\n",
       "      <td>Sacramento-Stockton-Modesto CA</td>\n",
       "    </tr>\n",
       "    <tr>\n",
       "      <th>1</th>\n",
       "      <td>Calaveras</td>\n",
       "      <td>California</td>\n",
       "      <td>Sacramento-Stockton-Modesto CA</td>\n",
       "    </tr>\n",
       "    <tr>\n",
       "      <th>2</th>\n",
       "      <td>Colusa</td>\n",
       "      <td>California</td>\n",
       "      <td>Sacramento-Stockton-Modesto CA</td>\n",
       "    </tr>\n",
       "    <tr>\n",
       "      <th>3</th>\n",
       "      <td>Nevada</td>\n",
       "      <td>California</td>\n",
       "      <td>Sacramento-Stockton-Modesto CA</td>\n",
       "    </tr>\n",
       "    <tr>\n",
       "      <th>4</th>\n",
       "      <td>Placer</td>\n",
       "      <td>California</td>\n",
       "      <td>Sacramento-Stockton-Modesto CA</td>\n",
       "    </tr>\n",
       "  </tbody>\n",
       "</table>\n",
       "</div>"
      ],
      "text/plain": [
       "      County       State                          Region\n",
       "0     Amador  California  Sacramento-Stockton-Modesto CA\n",
       "1  Calaveras  California  Sacramento-Stockton-Modesto CA\n",
       "2     Colusa  California  Sacramento-Stockton-Modesto CA\n",
       "3     Nevada  California  Sacramento-Stockton-Modesto CA\n",
       "4     Placer  California  Sacramento-Stockton-Modesto CA"
      ]
     },
     "execution_count": 44,
     "metadata": {},
     "output_type": "execute_result"
    }
   ],
   "source": [
    "combine.head()"
   ]
  },
  {
   "cell_type": "code",
   "execution_count": 45,
   "id": "cd996bc5",
   "metadata": {},
   "outputs": [],
   "source": [
    "# know what counties are in what region so that counties outside this table can match counties inside this table\n",
    "\n",
    "combine.rename(columns={'County':'CountyInsideRegion'}, inplace=True)"
   ]
  },
  {
   "cell_type": "code",
   "execution_count": 46,
   "id": "85c17c4f",
   "metadata": {
    "scrolled": false
   },
   "outputs": [
    {
     "data": {
      "text/html": [
       "<div>\n",
       "<style scoped>\n",
       "    .dataframe tbody tr th:only-of-type {\n",
       "        vertical-align: middle;\n",
       "    }\n",
       "\n",
       "    .dataframe tbody tr th {\n",
       "        vertical-align: top;\n",
       "    }\n",
       "\n",
       "    .dataframe thead th {\n",
       "        text-align: right;\n",
       "    }\n",
       "</style>\n",
       "<table border=\"1\" class=\"dataframe\">\n",
       "  <thead>\n",
       "    <tr style=\"text-align: right;\">\n",
       "      <th></th>\n",
       "      <th>CountyInsideRegion</th>\n",
       "      <th>State</th>\n",
       "      <th>Region</th>\n",
       "    </tr>\n",
       "  </thead>\n",
       "  <tbody>\n",
       "    <tr>\n",
       "      <th>38</th>\n",
       "      <td>Ellis</td>\n",
       "      <td>Texas</td>\n",
       "      <td>DFW</td>\n",
       "    </tr>\n",
       "    <tr>\n",
       "      <th>39</th>\n",
       "      <td>Johnson</td>\n",
       "      <td>Texas</td>\n",
       "      <td>DFW</td>\n",
       "    </tr>\n",
       "    <tr>\n",
       "      <th>40</th>\n",
       "      <td>Parker</td>\n",
       "      <td>Texas</td>\n",
       "      <td>DFW</td>\n",
       "    </tr>\n",
       "    <tr>\n",
       "      <th>41</th>\n",
       "      <td>Kaufman</td>\n",
       "      <td>Texas</td>\n",
       "      <td>DFW</td>\n",
       "    </tr>\n",
       "    <tr>\n",
       "      <th>42</th>\n",
       "      <td>Rockwall</td>\n",
       "      <td>Texas</td>\n",
       "      <td>DFW</td>\n",
       "    </tr>\n",
       "    <tr>\n",
       "      <th>43</th>\n",
       "      <td>Hunt</td>\n",
       "      <td>Texas</td>\n",
       "      <td>DFW</td>\n",
       "    </tr>\n",
       "    <tr>\n",
       "      <th>44</th>\n",
       "      <td>Wise</td>\n",
       "      <td>Texas</td>\n",
       "      <td>DFW</td>\n",
       "    </tr>\n",
       "    <tr>\n",
       "      <th>45</th>\n",
       "      <td>Los Angeles</td>\n",
       "      <td>California</td>\n",
       "      <td>Los Angeles CA</td>\n",
       "    </tr>\n",
       "    <tr>\n",
       "      <th>46</th>\n",
       "      <td>Austin</td>\n",
       "      <td>Texas</td>\n",
       "      <td>Austin</td>\n",
       "    </tr>\n",
       "    <tr>\n",
       "      <th>47</th>\n",
       "      <td>San Diego</td>\n",
       "      <td>California</td>\n",
       "      <td>San Diego CA</td>\n",
       "    </tr>\n",
       "  </tbody>\n",
       "</table>\n",
       "</div>"
      ],
      "text/plain": [
       "   CountyInsideRegion       State          Region\n",
       "38              Ellis       Texas             DFW\n",
       "39            Johnson       Texas             DFW\n",
       "40             Parker       Texas             DFW\n",
       "41            Kaufman       Texas             DFW\n",
       "42           Rockwall       Texas             DFW\n",
       "43               Hunt       Texas             DFW\n",
       "44               Wise       Texas             DFW\n",
       "45        Los Angeles  California  Los Angeles CA\n",
       "46             Austin       Texas          Austin\n",
       "47          San Diego  California    San Diego CA"
      ]
     },
     "execution_count": 46,
     "metadata": {},
     "output_type": "execute_result"
    }
   ],
   "source": [
    "combine.tail(10)"
   ]
  },
  {
   "cell_type": "code",
   "execution_count": 47,
   "id": "059e0dce",
   "metadata": {},
   "outputs": [
    {
     "data": {
      "text/plain": [
       "(48, 3)"
      ]
     },
     "execution_count": 47,
     "metadata": {},
     "output_type": "execute_result"
    }
   ],
   "source": [
    "combine.shape"
   ]
  },
  {
   "cell_type": "code",
   "execution_count": 48,
   "id": "f5108af3",
   "metadata": {},
   "outputs": [],
   "source": [
    "# find la and long for combine table\n",
    "\n",
    "combine['latitude'] = 0.0\n",
    "combine['longitude'] = 0.0"
   ]
  },
  {
   "cell_type": "code",
   "execution_count": null,
   "id": "0e6c1c4e",
   "metadata": {},
   "outputs": [],
   "source": []
  },
  {
   "cell_type": "code",
   "execution_count": 49,
   "id": "33a05c36",
   "metadata": {},
   "outputs": [],
   "source": [
    "for idx in range(len(combine)):\n",
    "    try:\n",
    "        add = combine.iloc[idx, 0] + 'county' + combine.iloc[idx, 1]\n",
    "        cur_la_lo = list(nom.geocode(add))[1]\n",
    "        combine.iloc[idx, 3] = cur_la_lo[0]\n",
    "        combine.iloc[idx, 4] = cur_la_lo[1]\n",
    "    except:\n",
    "        print('Something wrong with the idx:' + str(idx))"
   ]
  },
  {
   "cell_type": "code",
   "execution_count": 50,
   "id": "7d899f7f",
   "metadata": {},
   "outputs": [
    {
     "name": "stdout",
     "output_type": "stream",
     "text": [
      "<class 'pandas.core.frame.DataFrame'>\n",
      "Int64Index: 48 entries, 0 to 47\n",
      "Data columns (total 5 columns):\n",
      " #   Column              Non-Null Count  Dtype  \n",
      "---  ------              --------------  -----  \n",
      " 0   CountyInsideRegion  48 non-null     object \n",
      " 1   State               48 non-null     object \n",
      " 2   Region              48 non-null     object \n",
      " 3   latitude            48 non-null     float64\n",
      " 4   longitude           48 non-null     float64\n",
      "dtypes: float64(2), object(3)\n",
      "memory usage: 2.2+ KB\n"
     ]
    }
   ],
   "source": [
    "combine.info()"
   ]
  },
  {
   "cell_type": "code",
   "execution_count": 51,
   "id": "5bd27eb3",
   "metadata": {},
   "outputs": [
    {
     "data": {
      "text/html": [
       "<div>\n",
       "<style scoped>\n",
       "    .dataframe tbody tr th:only-of-type {\n",
       "        vertical-align: middle;\n",
       "    }\n",
       "\n",
       "    .dataframe tbody tr th {\n",
       "        vertical-align: top;\n",
       "    }\n",
       "\n",
       "    .dataframe thead th {\n",
       "        text-align: right;\n",
       "    }\n",
       "</style>\n",
       "<table border=\"1\" class=\"dataframe\">\n",
       "  <thead>\n",
       "    <tr style=\"text-align: right;\">\n",
       "      <th></th>\n",
       "      <th>CountyInsideRegion</th>\n",
       "      <th>State</th>\n",
       "      <th>Region</th>\n",
       "      <th>latitude</th>\n",
       "      <th>longitude</th>\n",
       "    </tr>\n",
       "  </thead>\n",
       "  <tbody>\n",
       "    <tr>\n",
       "      <th>0</th>\n",
       "      <td>Amador</td>\n",
       "      <td>California</td>\n",
       "      <td>Sacramento-Stockton-Modesto CA</td>\n",
       "      <td>38.446065</td>\n",
       "      <td>-120.651756</td>\n",
       "    </tr>\n",
       "    <tr>\n",
       "      <th>1</th>\n",
       "      <td>Calaveras</td>\n",
       "      <td>California</td>\n",
       "      <td>Sacramento-Stockton-Modesto CA</td>\n",
       "      <td>38.204736</td>\n",
       "      <td>-120.554065</td>\n",
       "    </tr>\n",
       "    <tr>\n",
       "      <th>2</th>\n",
       "      <td>Colusa</td>\n",
       "      <td>California</td>\n",
       "      <td>Sacramento-Stockton-Modesto CA</td>\n",
       "      <td>39.177598</td>\n",
       "      <td>-122.237103</td>\n",
       "    </tr>\n",
       "    <tr>\n",
       "      <th>3</th>\n",
       "      <td>Nevada</td>\n",
       "      <td>California</td>\n",
       "      <td>Sacramento-Stockton-Modesto CA</td>\n",
       "      <td>33.663954</td>\n",
       "      <td>-93.307114</td>\n",
       "    </tr>\n",
       "    <tr>\n",
       "      <th>4</th>\n",
       "      <td>Placer</td>\n",
       "      <td>California</td>\n",
       "      <td>Sacramento-Stockton-Modesto CA</td>\n",
       "      <td>39.059136</td>\n",
       "      <td>-120.753631</td>\n",
       "    </tr>\n",
       "  </tbody>\n",
       "</table>\n",
       "</div>"
      ],
      "text/plain": [
       "  CountyInsideRegion       State                          Region   latitude  \\\n",
       "0             Amador  California  Sacramento-Stockton-Modesto CA  38.446065   \n",
       "1          Calaveras  California  Sacramento-Stockton-Modesto CA  38.204736   \n",
       "2             Colusa  California  Sacramento-Stockton-Modesto CA  39.177598   \n",
       "3             Nevada  California  Sacramento-Stockton-Modesto CA  33.663954   \n",
       "4             Placer  California  Sacramento-Stockton-Modesto CA  39.059136   \n",
       "\n",
       "    longitude  \n",
       "0 -120.651756  \n",
       "1 -120.554065  \n",
       "2 -122.237103  \n",
       "3  -93.307114  \n",
       "4 -120.753631  "
      ]
     },
     "execution_count": 51,
     "metadata": {},
     "output_type": "execute_result"
    }
   ],
   "source": [
    "combine.head()"
   ]
  },
  {
   "cell_type": "code",
   "execution_count": 52,
   "id": "572d34e3",
   "metadata": {},
   "outputs": [],
   "source": [
    "#county_table.drop(columns=['countyInsideRegion', 'low_dis', 'CountyInsideRegion'], inplace=True)"
   ]
  },
  {
   "cell_type": "code",
   "execution_count": null,
   "id": "b802698e",
   "metadata": {},
   "outputs": [],
   "source": []
  },
  {
   "cell_type": "code",
   "execution_count": null,
   "id": "4d223850",
   "metadata": {},
   "outputs": [],
   "source": []
  },
  {
   "cell_type": "code",
   "execution_count": 53,
   "id": "b871f887",
   "metadata": {},
   "outputs": [],
   "source": [
    "import math\n",
    "import collections\n",
    "county_table['CountyInsideRegion'] = ''\n",
    "county_table['low_dis'] = 0"
   ]
  },
  {
   "cell_type": "code",
   "execution_count": null,
   "id": "dbece748",
   "metadata": {},
   "outputs": [],
   "source": []
  },
  {
   "cell_type": "code",
   "execution_count": 54,
   "id": "9efc8eec",
   "metadata": {
    "scrolled": true
   },
   "outputs": [
    {
     "data": {
      "text/html": [
       "<div>\n",
       "<style scoped>\n",
       "    .dataframe tbody tr th:only-of-type {\n",
       "        vertical-align: middle;\n",
       "    }\n",
       "\n",
       "    .dataframe tbody tr th {\n",
       "        vertical-align: top;\n",
       "    }\n",
       "\n",
       "    .dataframe thead th {\n",
       "        text-align: right;\n",
       "    }\n",
       "</style>\n",
       "<table border=\"1\" class=\"dataframe\">\n",
       "  <thead>\n",
       "    <tr style=\"text-align: right;\">\n",
       "      <th></th>\n",
       "      <th>State</th>\n",
       "      <th>County</th>\n",
       "      <th>latitude</th>\n",
       "      <th>longitude</th>\n",
       "      <th>CountyInsideRegion</th>\n",
       "      <th>low_dis</th>\n",
       "    </tr>\n",
       "  </thead>\n",
       "  <tbody>\n",
       "    <tr>\n",
       "      <th>0</th>\n",
       "      <td>California</td>\n",
       "      <td>Alameda</td>\n",
       "      <td>37.646493</td>\n",
       "      <td>-121.887649</td>\n",
       "      <td></td>\n",
       "      <td>0</td>\n",
       "    </tr>\n",
       "    <tr>\n",
       "      <th>1</th>\n",
       "      <td>California</td>\n",
       "      <td>Alpine</td>\n",
       "      <td>38.597333</td>\n",
       "      <td>-119.820421</td>\n",
       "      <td></td>\n",
       "      <td>0</td>\n",
       "    </tr>\n",
       "    <tr>\n",
       "      <th>2</th>\n",
       "      <td>California</td>\n",
       "      <td>Amador</td>\n",
       "      <td>38.446065</td>\n",
       "      <td>-120.651756</td>\n",
       "      <td></td>\n",
       "      <td>0</td>\n",
       "    </tr>\n",
       "    <tr>\n",
       "      <th>3</th>\n",
       "      <td>California</td>\n",
       "      <td>Butte</td>\n",
       "      <td>39.667092</td>\n",
       "      <td>-121.600911</td>\n",
       "      <td></td>\n",
       "      <td>0</td>\n",
       "    </tr>\n",
       "    <tr>\n",
       "      <th>4</th>\n",
       "      <td>California</td>\n",
       "      <td>Cahuilla Indian Reservation</td>\n",
       "      <td>33.520240</td>\n",
       "      <td>-116.711760</td>\n",
       "      <td></td>\n",
       "      <td>0</td>\n",
       "    </tr>\n",
       "  </tbody>\n",
       "</table>\n",
       "</div>"
      ],
      "text/plain": [
       "        State                       County   latitude   longitude  \\\n",
       "0  California                      Alameda  37.646493 -121.887649   \n",
       "1  California                       Alpine  38.597333 -119.820421   \n",
       "2  California                       Amador  38.446065 -120.651756   \n",
       "3  California                        Butte  39.667092 -121.600911   \n",
       "4  California  Cahuilla Indian Reservation  33.520240 -116.711760   \n",
       "\n",
       "  CountyInsideRegion  low_dis  \n",
       "0                           0  \n",
       "1                           0  \n",
       "2                           0  \n",
       "3                           0  \n",
       "4                           0  "
      ]
     },
     "execution_count": 54,
     "metadata": {},
     "output_type": "execute_result"
    }
   ],
   "source": [
    "county_table.head()"
   ]
  },
  {
   "cell_type": "code",
   "execution_count": 55,
   "id": "813ca5a0",
   "metadata": {},
   "outputs": [],
   "source": [
    "M = len(county_table)\n",
    "N = len(combine)\n",
    "\n",
    "for i in range(M): # county in table ca\n",
    "    x1 = county_table.iloc[i,2]\n",
    "    x2 = county_table.iloc[i,3]\n",
    "    min_dis = float('inf')\n",
    "\n",
    "    for idx in range(N): # combine county region table\n",
    "        y1 = combine.iloc[idx,3]\n",
    "        y2 = combine.iloc[idx,4]\n",
    "\n",
    "        dis = math.dist([x1,x2],[y1,y2])\n",
    "        #lookup[combine_ca.iloc[idx,0]] = dis\n",
    "\n",
    "        if dis < min_dis and dis != 0:\n",
    "            min_dis = dis\n",
    "            countyinsideregion = combine.iloc[idx,0]\n",
    "            \n",
    "    county_table.iloc[i,4] = countyinsideregion\n",
    "    county_table.iloc[i,5] = min_dis\n"
   ]
  },
  {
   "cell_type": "code",
   "execution_count": 56,
   "id": "d5917e69",
   "metadata": {
    "scrolled": false
   },
   "outputs": [
    {
     "data": {
      "text/html": [
       "<div>\n",
       "<style scoped>\n",
       "    .dataframe tbody tr th:only-of-type {\n",
       "        vertical-align: middle;\n",
       "    }\n",
       "\n",
       "    .dataframe tbody tr th {\n",
       "        vertical-align: top;\n",
       "    }\n",
       "\n",
       "    .dataframe thead th {\n",
       "        text-align: right;\n",
       "    }\n",
       "</style>\n",
       "<table border=\"1\" class=\"dataframe\">\n",
       "  <thead>\n",
       "    <tr style=\"text-align: right;\">\n",
       "      <th></th>\n",
       "      <th>State</th>\n",
       "      <th>County</th>\n",
       "      <th>latitude</th>\n",
       "      <th>longitude</th>\n",
       "      <th>CountyInsideRegion</th>\n",
       "      <th>low_dis</th>\n",
       "    </tr>\n",
       "  </thead>\n",
       "  <tbody>\n",
       "    <tr>\n",
       "      <th>0</th>\n",
       "      <td>California</td>\n",
       "      <td>Alameda</td>\n",
       "      <td>37.646493</td>\n",
       "      <td>-121.887649</td>\n",
       "      <td>Contra Costa</td>\n",
       "      <td>0.274131</td>\n",
       "    </tr>\n",
       "    <tr>\n",
       "      <th>1</th>\n",
       "      <td>California</td>\n",
       "      <td>Alpine</td>\n",
       "      <td>38.597333</td>\n",
       "      <td>-119.820421</td>\n",
       "      <td>Tuolumne</td>\n",
       "      <td>0.585290</td>\n",
       "    </tr>\n",
       "    <tr>\n",
       "      <th>2</th>\n",
       "      <td>California</td>\n",
       "      <td>Amador</td>\n",
       "      <td>38.446065</td>\n",
       "      <td>-120.651756</td>\n",
       "      <td>Calaveras</td>\n",
       "      <td>0.260352</td>\n",
       "    </tr>\n",
       "    <tr>\n",
       "      <th>3</th>\n",
       "      <td>California</td>\n",
       "      <td>Butte</td>\n",
       "      <td>39.667092</td>\n",
       "      <td>-121.600911</td>\n",
       "      <td>Yuba</td>\n",
       "      <td>0.469739</td>\n",
       "    </tr>\n",
       "    <tr>\n",
       "      <th>4</th>\n",
       "      <td>California</td>\n",
       "      <td>Cahuilla Indian Reservation</td>\n",
       "      <td>33.520240</td>\n",
       "      <td>-116.711760</td>\n",
       "      <td>San Diego</td>\n",
       "      <td>0.488387</td>\n",
       "    </tr>\n",
       "  </tbody>\n",
       "</table>\n",
       "</div>"
      ],
      "text/plain": [
       "        State                       County   latitude   longitude  \\\n",
       "0  California                      Alameda  37.646493 -121.887649   \n",
       "1  California                       Alpine  38.597333 -119.820421   \n",
       "2  California                       Amador  38.446065 -120.651756   \n",
       "3  California                        Butte  39.667092 -121.600911   \n",
       "4  California  Cahuilla Indian Reservation  33.520240 -116.711760   \n",
       "\n",
       "  CountyInsideRegion   low_dis  \n",
       "0       Contra Costa  0.274131  \n",
       "1           Tuolumne  0.585290  \n",
       "2          Calaveras  0.260352  \n",
       "3               Yuba  0.469739  \n",
       "4          San Diego  0.488387  "
      ]
     },
     "execution_count": 56,
     "metadata": {},
     "output_type": "execute_result"
    }
   ],
   "source": [
    "county_table.head()"
   ]
  },
  {
   "cell_type": "code",
   "execution_count": 57,
   "id": "b079f824",
   "metadata": {},
   "outputs": [
    {
     "name": "stdout",
     "output_type": "stream",
     "text": [
      "<class 'pandas.core.frame.DataFrame'>\n",
      "RangeIndex: 320 entries, 0 to 319\n",
      "Data columns (total 6 columns):\n",
      " #   Column              Non-Null Count  Dtype  \n",
      "---  ------              --------------  -----  \n",
      " 0   State               320 non-null    object \n",
      " 1   County              320 non-null    object \n",
      " 2   latitude            320 non-null    float64\n",
      " 3   longitude           320 non-null    float64\n",
      " 4   CountyInsideRegion  320 non-null    object \n",
      " 5   low_dis             320 non-null    float64\n",
      "dtypes: float64(3), object(3)\n",
      "memory usage: 15.1+ KB\n"
     ]
    }
   ],
   "source": [
    "county_table.info()"
   ]
  },
  {
   "cell_type": "markdown",
   "id": "0992efef",
   "metadata": {},
   "source": [
    "### Match county and region"
   ]
  },
  {
   "cell_type": "code",
   "execution_count": 58,
   "id": "fb8ddea5",
   "metadata": {},
   "outputs": [],
   "source": [
    "t1 = county_table.copy()"
   ]
  },
  {
   "cell_type": "code",
   "execution_count": 59,
   "id": "3f2f3c79",
   "metadata": {
    "scrolled": true
   },
   "outputs": [
    {
     "data": {
      "text/html": [
       "<div>\n",
       "<style scoped>\n",
       "    .dataframe tbody tr th:only-of-type {\n",
       "        vertical-align: middle;\n",
       "    }\n",
       "\n",
       "    .dataframe tbody tr th {\n",
       "        vertical-align: top;\n",
       "    }\n",
       "\n",
       "    .dataframe thead th {\n",
       "        text-align: right;\n",
       "    }\n",
       "</style>\n",
       "<table border=\"1\" class=\"dataframe\">\n",
       "  <thead>\n",
       "    <tr style=\"text-align: right;\">\n",
       "      <th></th>\n",
       "      <th>State</th>\n",
       "      <th>County</th>\n",
       "      <th>latitude</th>\n",
       "      <th>longitude</th>\n",
       "      <th>CountyInsideRegion</th>\n",
       "      <th>low_dis</th>\n",
       "    </tr>\n",
       "  </thead>\n",
       "  <tbody>\n",
       "    <tr>\n",
       "      <th>0</th>\n",
       "      <td>California</td>\n",
       "      <td>Alameda</td>\n",
       "      <td>37.646493</td>\n",
       "      <td>-121.887649</td>\n",
       "      <td>Contra Costa</td>\n",
       "      <td>0.274131</td>\n",
       "    </tr>\n",
       "    <tr>\n",
       "      <th>1</th>\n",
       "      <td>California</td>\n",
       "      <td>Alpine</td>\n",
       "      <td>38.597333</td>\n",
       "      <td>-119.820421</td>\n",
       "      <td>Tuolumne</td>\n",
       "      <td>0.585290</td>\n",
       "    </tr>\n",
       "    <tr>\n",
       "      <th>2</th>\n",
       "      <td>California</td>\n",
       "      <td>Amador</td>\n",
       "      <td>38.446065</td>\n",
       "      <td>-120.651756</td>\n",
       "      <td>Calaveras</td>\n",
       "      <td>0.260352</td>\n",
       "    </tr>\n",
       "    <tr>\n",
       "      <th>3</th>\n",
       "      <td>California</td>\n",
       "      <td>Butte</td>\n",
       "      <td>39.667092</td>\n",
       "      <td>-121.600911</td>\n",
       "      <td>Yuba</td>\n",
       "      <td>0.469739</td>\n",
       "    </tr>\n",
       "    <tr>\n",
       "      <th>4</th>\n",
       "      <td>California</td>\n",
       "      <td>Cahuilla Indian Reservation</td>\n",
       "      <td>33.520240</td>\n",
       "      <td>-116.711760</td>\n",
       "      <td>San Diego</td>\n",
       "      <td>0.488387</td>\n",
       "    </tr>\n",
       "  </tbody>\n",
       "</table>\n",
       "</div>"
      ],
      "text/plain": [
       "        State                       County   latitude   longitude  \\\n",
       "0  California                      Alameda  37.646493 -121.887649   \n",
       "1  California                       Alpine  38.597333 -119.820421   \n",
       "2  California                       Amador  38.446065 -120.651756   \n",
       "3  California                        Butte  39.667092 -121.600911   \n",
       "4  California  Cahuilla Indian Reservation  33.520240 -116.711760   \n",
       "\n",
       "  CountyInsideRegion   low_dis  \n",
       "0       Contra Costa  0.274131  \n",
       "1           Tuolumne  0.585290  \n",
       "2          Calaveras  0.260352  \n",
       "3               Yuba  0.469739  \n",
       "4          San Diego  0.488387  "
      ]
     },
     "execution_count": 59,
     "metadata": {},
     "output_type": "execute_result"
    }
   ],
   "source": [
    "t1.head()"
   ]
  },
  {
   "cell_type": "code",
   "execution_count": 60,
   "id": "9a77217e",
   "metadata": {},
   "outputs": [],
   "source": [
    "t1.drop(columns=['latitude', 'longitude', 'low_dis'], inplace=True)"
   ]
  },
  {
   "cell_type": "code",
   "execution_count": 61,
   "id": "a92c27a5",
   "metadata": {},
   "outputs": [
    {
     "data": {
      "text/plain": [
       "(320, 3)"
      ]
     },
     "execution_count": 61,
     "metadata": {},
     "output_type": "execute_result"
    }
   ],
   "source": [
    "t1.shape"
   ]
  },
  {
   "cell_type": "code",
   "execution_count": 62,
   "id": "6057e829",
   "metadata": {},
   "outputs": [
    {
     "data": {
      "text/html": [
       "<div>\n",
       "<style scoped>\n",
       "    .dataframe tbody tr th:only-of-type {\n",
       "        vertical-align: middle;\n",
       "    }\n",
       "\n",
       "    .dataframe tbody tr th {\n",
       "        vertical-align: top;\n",
       "    }\n",
       "\n",
       "    .dataframe thead th {\n",
       "        text-align: right;\n",
       "    }\n",
       "</style>\n",
       "<table border=\"1\" class=\"dataframe\">\n",
       "  <thead>\n",
       "    <tr style=\"text-align: right;\">\n",
       "      <th></th>\n",
       "      <th>State</th>\n",
       "      <th>County</th>\n",
       "      <th>CountyInsideRegion</th>\n",
       "    </tr>\n",
       "  </thead>\n",
       "  <tbody>\n",
       "    <tr>\n",
       "      <th>31</th>\n",
       "      <td>California</td>\n",
       "      <td>Nevada</td>\n",
       "      <td>Hunt</td>\n",
       "    </tr>\n",
       "  </tbody>\n",
       "</table>\n",
       "</div>"
      ],
      "text/plain": [
       "         State  County CountyInsideRegion\n",
       "31  California  Nevada               Hunt"
      ]
     },
     "execution_count": 62,
     "metadata": {},
     "output_type": "execute_result"
    }
   ],
   "source": [
    "t1[t1.County == 'Nevada']"
   ]
  },
  {
   "cell_type": "markdown",
   "id": "fdf8d324",
   "metadata": {},
   "source": [
    "#### t1 is like the dictionary to find what counties are in the region"
   ]
  },
  {
   "cell_type": "code",
   "execution_count": 63,
   "id": "fbcd0dc9",
   "metadata": {},
   "outputs": [],
   "source": [
    "#t2 = region_table.copy()"
   ]
  },
  {
   "cell_type": "code",
   "execution_count": 64,
   "id": "36189430",
   "metadata": {
    "scrolled": false
   },
   "outputs": [],
   "source": [
    "#t2.head()"
   ]
  },
  {
   "cell_type": "code",
   "execution_count": 66,
   "id": "10a5e832",
   "metadata": {},
   "outputs": [],
   "source": [
    "t3 = combine.copy()\n",
    "\n",
    "t3.drop(columns=['latitude', 'longitude'], inplace=True )"
   ]
  },
  {
   "cell_type": "code",
   "execution_count": 67,
   "id": "0c66af6f",
   "metadata": {
    "scrolled": false
   },
   "outputs": [
    {
     "data": {
      "text/html": [
       "<div>\n",
       "<style scoped>\n",
       "    .dataframe tbody tr th:only-of-type {\n",
       "        vertical-align: middle;\n",
       "    }\n",
       "\n",
       "    .dataframe tbody tr th {\n",
       "        vertical-align: top;\n",
       "    }\n",
       "\n",
       "    .dataframe thead th {\n",
       "        text-align: right;\n",
       "    }\n",
       "</style>\n",
       "<table border=\"1\" class=\"dataframe\">\n",
       "  <thead>\n",
       "    <tr style=\"text-align: right;\">\n",
       "      <th></th>\n",
       "      <th>CountyInsideRegion</th>\n",
       "      <th>State</th>\n",
       "      <th>Region</th>\n",
       "    </tr>\n",
       "  </thead>\n",
       "  <tbody>\n",
       "    <tr>\n",
       "      <th>0</th>\n",
       "      <td>Amador</td>\n",
       "      <td>California</td>\n",
       "      <td>Sacramento-Stockton-Modesto CA</td>\n",
       "    </tr>\n",
       "    <tr>\n",
       "      <th>1</th>\n",
       "      <td>Calaveras</td>\n",
       "      <td>California</td>\n",
       "      <td>Sacramento-Stockton-Modesto CA</td>\n",
       "    </tr>\n",
       "    <tr>\n",
       "      <th>2</th>\n",
       "      <td>Colusa</td>\n",
       "      <td>California</td>\n",
       "      <td>Sacramento-Stockton-Modesto CA</td>\n",
       "    </tr>\n",
       "    <tr>\n",
       "      <th>3</th>\n",
       "      <td>Nevada</td>\n",
       "      <td>California</td>\n",
       "      <td>Sacramento-Stockton-Modesto CA</td>\n",
       "    </tr>\n",
       "    <tr>\n",
       "      <th>4</th>\n",
       "      <td>Placer</td>\n",
       "      <td>California</td>\n",
       "      <td>Sacramento-Stockton-Modesto CA</td>\n",
       "    </tr>\n",
       "  </tbody>\n",
       "</table>\n",
       "</div>"
      ],
      "text/plain": [
       "  CountyInsideRegion       State                          Region\n",
       "0             Amador  California  Sacramento-Stockton-Modesto CA\n",
       "1          Calaveras  California  Sacramento-Stockton-Modesto CA\n",
       "2             Colusa  California  Sacramento-Stockton-Modesto CA\n",
       "3             Nevada  California  Sacramento-Stockton-Modesto CA\n",
       "4             Placer  California  Sacramento-Stockton-Modesto CA"
      ]
     },
     "execution_count": 67,
     "metadata": {},
     "output_type": "execute_result"
    }
   ],
   "source": [
    "t3.head()"
   ]
  },
  {
   "cell_type": "markdown",
   "id": "37c49e88",
   "metadata": {},
   "source": [
    "#### match region in t3 to t1 so that we can match search for the next step"
   ]
  },
  {
   "cell_type": "code",
   "execution_count": 68,
   "id": "97ab03d5",
   "metadata": {},
   "outputs": [],
   "source": [
    "t4 = t1.merge(t3, on=['CountyInsideRegion', 'State'], how='inner')"
   ]
  },
  {
   "cell_type": "code",
   "execution_count": 69,
   "id": "4a37b64a",
   "metadata": {
    "scrolled": true
   },
   "outputs": [
    {
     "data": {
      "text/plain": [
       "State                 0\n",
       "County                0\n",
       "CountyInsideRegion    0\n",
       "Region                0\n",
       "dtype: int64"
      ]
     },
     "execution_count": 69,
     "metadata": {},
     "output_type": "execute_result"
    }
   ],
   "source": [
    "t4.isna().sum()"
   ]
  },
  {
   "cell_type": "code",
   "execution_count": 70,
   "id": "409d70a8",
   "metadata": {
    "scrolled": true
   },
   "outputs": [
    {
     "data": {
      "text/html": [
       "<div>\n",
       "<style scoped>\n",
       "    .dataframe tbody tr th:only-of-type {\n",
       "        vertical-align: middle;\n",
       "    }\n",
       "\n",
       "    .dataframe tbody tr th {\n",
       "        vertical-align: top;\n",
       "    }\n",
       "\n",
       "    .dataframe thead th {\n",
       "        text-align: right;\n",
       "    }\n",
       "</style>\n",
       "<table border=\"1\" class=\"dataframe\">\n",
       "  <thead>\n",
       "    <tr style=\"text-align: right;\">\n",
       "      <th></th>\n",
       "      <th>State</th>\n",
       "      <th>County</th>\n",
       "      <th>CountyInsideRegion</th>\n",
       "      <th>Region</th>\n",
       "    </tr>\n",
       "  </thead>\n",
       "  <tbody>\n",
       "    <tr>\n",
       "      <th>0</th>\n",
       "      <td>California</td>\n",
       "      <td>Alameda</td>\n",
       "      <td>Contra Costa</td>\n",
       "      <td>San Francisco-Oakland-San Jose CA</td>\n",
       "    </tr>\n",
       "    <tr>\n",
       "      <th>1</th>\n",
       "      <td>California</td>\n",
       "      <td>Solano</td>\n",
       "      <td>Contra Costa</td>\n",
       "      <td>San Francisco-Oakland-San Jose CA</td>\n",
       "    </tr>\n",
       "    <tr>\n",
       "      <th>2</th>\n",
       "      <td>California</td>\n",
       "      <td>Alpine</td>\n",
       "      <td>Tuolumne</td>\n",
       "      <td>Sacramento-Stockton-Modesto CA</td>\n",
       "    </tr>\n",
       "    <tr>\n",
       "      <th>3</th>\n",
       "      <td>California</td>\n",
       "      <td>Fresno</td>\n",
       "      <td>Tuolumne</td>\n",
       "      <td>Sacramento-Stockton-Modesto CA</td>\n",
       "    </tr>\n",
       "    <tr>\n",
       "      <th>4</th>\n",
       "      <td>California</td>\n",
       "      <td>Madera</td>\n",
       "      <td>Tuolumne</td>\n",
       "      <td>Sacramento-Stockton-Modesto CA</td>\n",
       "    </tr>\n",
       "  </tbody>\n",
       "</table>\n",
       "</div>"
      ],
      "text/plain": [
       "        State   County CountyInsideRegion                             Region\n",
       "0  California  Alameda       Contra Costa  San Francisco-Oakland-San Jose CA\n",
       "1  California   Solano       Contra Costa  San Francisco-Oakland-San Jose CA\n",
       "2  California   Alpine           Tuolumne     Sacramento-Stockton-Modesto CA\n",
       "3  California   Fresno           Tuolumne     Sacramento-Stockton-Modesto CA\n",
       "4  California   Madera           Tuolumne     Sacramento-Stockton-Modesto CA"
      ]
     },
     "execution_count": 70,
     "metadata": {},
     "output_type": "execute_result"
    }
   ],
   "source": [
    "t4.head()"
   ]
  },
  {
   "cell_type": "code",
   "execution_count": 71,
   "id": "aaaca9c7",
   "metadata": {},
   "outputs": [
    {
     "data": {
      "text/html": [
       "<div>\n",
       "<style scoped>\n",
       "    .dataframe tbody tr th:only-of-type {\n",
       "        vertical-align: middle;\n",
       "    }\n",
       "\n",
       "    .dataframe tbody tr th {\n",
       "        vertical-align: top;\n",
       "    }\n",
       "\n",
       "    .dataframe thead th {\n",
       "        text-align: right;\n",
       "    }\n",
       "</style>\n",
       "<table border=\"1\" class=\"dataframe\">\n",
       "  <thead>\n",
       "    <tr style=\"text-align: right;\">\n",
       "      <th></th>\n",
       "      <th>State</th>\n",
       "      <th>County</th>\n",
       "      <th>CountyInsideRegion</th>\n",
       "      <th>Region</th>\n",
       "    </tr>\n",
       "  </thead>\n",
       "  <tbody>\n",
       "    <tr>\n",
       "      <th>245</th>\n",
       "      <td>Texas</td>\n",
       "      <td>Trinity</td>\n",
       "      <td>Austin</td>\n",
       "      <td>Austin</td>\n",
       "    </tr>\n",
       "  </tbody>\n",
       "</table>\n",
       "</div>"
      ],
      "text/plain": [
       "     State   County CountyInsideRegion  Region\n",
       "245  Texas  Trinity             Austin  Austin"
      ]
     },
     "execution_count": 71,
     "metadata": {},
     "output_type": "execute_result"
    }
   ],
   "source": [
    "t4[t4.County == 'Trinity']"
   ]
  },
  {
   "cell_type": "code",
   "execution_count": 72,
   "id": "ba1ca03c",
   "metadata": {},
   "outputs": [
    {
     "data": {
      "text/plain": [
       "(311, 4)"
      ]
     },
     "execution_count": 72,
     "metadata": {},
     "output_type": "execute_result"
    }
   ],
   "source": [
    "t4.shape"
   ]
  },
  {
   "cell_type": "code",
   "execution_count": 73,
   "id": "f8fb7a2c",
   "metadata": {
    "scrolled": true
   },
   "outputs": [],
   "source": [
    "problem = t4[t4.Region.isna()].County.tolist()"
   ]
  },
  {
   "cell_type": "code",
   "execution_count": 74,
   "id": "d14cd8fe",
   "metadata": {},
   "outputs": [],
   "source": [
    "for i in problem:\n",
    "    if i in t1.County.unique():\n",
    "        print(i + \" is in t1.County.unique\")\n",
    "        \n",
    "    if i in t3.CountyInsideRegion.unique():\n",
    "        print(i + \" is in t3.CountyInsideRegion.unique\")"
   ]
  },
  {
   "cell_type": "code",
   "execution_count": 75,
   "id": "568caf24",
   "metadata": {},
   "outputs": [
    {
     "data": {
      "text/html": [
       "<div>\n",
       "<style scoped>\n",
       "    .dataframe tbody tr th:only-of-type {\n",
       "        vertical-align: middle;\n",
       "    }\n",
       "\n",
       "    .dataframe tbody tr th {\n",
       "        vertical-align: top;\n",
       "    }\n",
       "\n",
       "    .dataframe thead th {\n",
       "        text-align: right;\n",
       "    }\n",
       "</style>\n",
       "<table border=\"1\" class=\"dataframe\">\n",
       "  <thead>\n",
       "    <tr style=\"text-align: right;\">\n",
       "      <th></th>\n",
       "      <th>State</th>\n",
       "      <th>County</th>\n",
       "      <th>CountyInsideRegion</th>\n",
       "      <th>Region</th>\n",
       "    </tr>\n",
       "  </thead>\n",
       "  <tbody>\n",
       "    <tr>\n",
       "      <th>0</th>\n",
       "      <td>California</td>\n",
       "      <td>Alameda</td>\n",
       "      <td>Contra Costa</td>\n",
       "      <td>San Francisco-Oakland-San Jose CA</td>\n",
       "    </tr>\n",
       "    <tr>\n",
       "      <th>1</th>\n",
       "      <td>California</td>\n",
       "      <td>Solano</td>\n",
       "      <td>Contra Costa</td>\n",
       "      <td>San Francisco-Oakland-San Jose CA</td>\n",
       "    </tr>\n",
       "    <tr>\n",
       "      <th>2</th>\n",
       "      <td>California</td>\n",
       "      <td>Alpine</td>\n",
       "      <td>Tuolumne</td>\n",
       "      <td>Sacramento-Stockton-Modesto CA</td>\n",
       "    </tr>\n",
       "    <tr>\n",
       "      <th>3</th>\n",
       "      <td>California</td>\n",
       "      <td>Fresno</td>\n",
       "      <td>Tuolumne</td>\n",
       "      <td>Sacramento-Stockton-Modesto CA</td>\n",
       "    </tr>\n",
       "    <tr>\n",
       "      <th>4</th>\n",
       "      <td>California</td>\n",
       "      <td>Madera</td>\n",
       "      <td>Tuolumne</td>\n",
       "      <td>Sacramento-Stockton-Modesto CA</td>\n",
       "    </tr>\n",
       "  </tbody>\n",
       "</table>\n",
       "</div>"
      ],
      "text/plain": [
       "        State   County CountyInsideRegion                             Region\n",
       "0  California  Alameda       Contra Costa  San Francisco-Oakland-San Jose CA\n",
       "1  California   Solano       Contra Costa  San Francisco-Oakland-San Jose CA\n",
       "2  California   Alpine           Tuolumne     Sacramento-Stockton-Modesto CA\n",
       "3  California   Fresno           Tuolumne     Sacramento-Stockton-Modesto CA\n",
       "4  California   Madera           Tuolumne     Sacramento-Stockton-Modesto CA"
      ]
     },
     "execution_count": 75,
     "metadata": {},
     "output_type": "execute_result"
    }
   ],
   "source": [
    "t4.head()"
   ]
  },
  {
   "cell_type": "code",
   "execution_count": 76,
   "id": "6699161c",
   "metadata": {},
   "outputs": [
    {
     "data": {
      "text/html": [
       "<div>\n",
       "<style scoped>\n",
       "    .dataframe tbody tr th:only-of-type {\n",
       "        vertical-align: middle;\n",
       "    }\n",
       "\n",
       "    .dataframe tbody tr th {\n",
       "        vertical-align: top;\n",
       "    }\n",
       "\n",
       "    .dataframe thead th {\n",
       "        text-align: right;\n",
       "    }\n",
       "</style>\n",
       "<table border=\"1\" class=\"dataframe\">\n",
       "  <thead>\n",
       "    <tr style=\"text-align: right;\">\n",
       "      <th></th>\n",
       "      <th>State</th>\n",
       "      <th>County</th>\n",
       "      <th>CountyInsideRegion</th>\n",
       "      <th>Region</th>\n",
       "    </tr>\n",
       "  </thead>\n",
       "  <tbody>\n",
       "    <tr>\n",
       "      <th>272</th>\n",
       "      <td>Texas</td>\n",
       "      <td>Houston</td>\n",
       "      <td>Johnson</td>\n",
       "      <td>DFW</td>\n",
       "    </tr>\n",
       "  </tbody>\n",
       "</table>\n",
       "</div>"
      ],
      "text/plain": [
       "     State   County CountyInsideRegion Region\n",
       "272  Texas  Houston            Johnson    DFW"
      ]
     },
     "execution_count": 76,
     "metadata": {},
     "output_type": "execute_result"
    }
   ],
   "source": [
    "t4[t4.County == 'Houston']"
   ]
  },
  {
   "cell_type": "markdown",
   "id": "2d057d89",
   "metadata": {},
   "source": []
  },
  {
   "cell_type": "markdown",
   "id": "6072bca7",
   "metadata": {},
   "source": [
    "### Match ca_de and te_de with county_table by key State and County"
   ]
  },
  {
   "cell_type": "code",
   "execution_count": 77,
   "id": "26cf3e25",
   "metadata": {},
   "outputs": [],
   "source": [
    "\n",
    "# read density table\n",
    "ca_de = pd.read_excel('/Users/chensumei/Desktop/Ram Paper/FinalSheets/Population_Density_CA_TE.xlsx', sheet_name='California')\n",
    "te_de = pd.read_excel('/Users/chensumei/Desktop/Ram Paper/FinalSheets/Population_Density_CA_TE.xlsx', sheet_name='Texas')\n",
    "combine_De = ca_de.merge(te_de, how = 'outer')"
   ]
  },
  {
   "cell_type": "code",
   "execution_count": 78,
   "id": "4e839cd8",
   "metadata": {},
   "outputs": [
    {
     "data": {
      "text/html": [
       "<div>\n",
       "<style scoped>\n",
       "    .dataframe tbody tr th:only-of-type {\n",
       "        vertical-align: middle;\n",
       "    }\n",
       "\n",
       "    .dataframe tbody tr th {\n",
       "        vertical-align: top;\n",
       "    }\n",
       "\n",
       "    .dataframe thead th {\n",
       "        text-align: right;\n",
       "    }\n",
       "</style>\n",
       "<table border=\"1\" class=\"dataframe\">\n",
       "  <thead>\n",
       "    <tr style=\"text-align: right;\">\n",
       "      <th></th>\n",
       "      <th>Population Density</th>\n",
       "      <th>County</th>\n",
       "      <th>State</th>\n",
       "      <th>Population</th>\n",
       "    </tr>\n",
       "  </thead>\n",
       "  <tbody>\n",
       "    <tr>\n",
       "      <th>0</th>\n",
       "      <td>3575.3</td>\n",
       "      <td>San Francisco</td>\n",
       "      <td>California</td>\n",
       "      <td>829072</td>\n",
       "    </tr>\n",
       "    <tr>\n",
       "      <th>1</th>\n",
       "      <td>3255.4</td>\n",
       "      <td>Orange</td>\n",
       "      <td>California</td>\n",
       "      <td>3086331</td>\n",
       "    </tr>\n",
       "    <tr>\n",
       "      <th>2</th>\n",
       "      <td>2099.4</td>\n",
       "      <td>Los Angeles</td>\n",
       "      <td>California</td>\n",
       "      <td>9974203</td>\n",
       "    </tr>\n",
       "    <tr>\n",
       "      <th>3</th>\n",
       "      <td>1898.5</td>\n",
       "      <td>Alameda</td>\n",
       "      <td>California</td>\n",
       "      <td>1559308</td>\n",
       "    </tr>\n",
       "    <tr>\n",
       "      <th>4</th>\n",
       "      <td>1459.0</td>\n",
       "      <td>Sacramento</td>\n",
       "      <td>California</td>\n",
       "      <td>1450277</td>\n",
       "    </tr>\n",
       "  </tbody>\n",
       "</table>\n",
       "</div>"
      ],
      "text/plain": [
       "   Population Density         County       State  Population\n",
       "0              3575.3  San Francisco  California      829072\n",
       "1              3255.4         Orange  California     3086331\n",
       "2              2099.4    Los Angeles  California     9974203\n",
       "3              1898.5        Alameda  California     1559308\n",
       "4              1459.0     Sacramento  California     1450277"
      ]
     },
     "execution_count": 78,
     "metadata": {},
     "output_type": "execute_result"
    }
   ],
   "source": [
    "combine_De.head()"
   ]
  },
  {
   "cell_type": "code",
   "execution_count": 79,
   "id": "c3c19101",
   "metadata": {
    "scrolled": false
   },
   "outputs": [
    {
     "name": "stdout",
     "output_type": "stream",
     "text": [
      "<class 'pandas.core.frame.DataFrame'>\n",
      "Int64Index: 312 entries, 0 to 311\n",
      "Data columns (total 4 columns):\n",
      " #   Column              Non-Null Count  Dtype  \n",
      "---  ------              --------------  -----  \n",
      " 0   Population Density  312 non-null    float64\n",
      " 1   County              312 non-null    object \n",
      " 2   State               312 non-null    object \n",
      " 3   Population          312 non-null    int64  \n",
      "dtypes: float64(1), int64(1), object(2)\n",
      "memory usage: 12.2+ KB\n"
     ]
    }
   ],
   "source": [
    "combine_De.info()"
   ]
  },
  {
   "cell_type": "code",
   "execution_count": 80,
   "id": "514089e7",
   "metadata": {},
   "outputs": [
    {
     "data": {
      "text/html": [
       "<div>\n",
       "<style scoped>\n",
       "    .dataframe tbody tr th:only-of-type {\n",
       "        vertical-align: middle;\n",
       "    }\n",
       "\n",
       "    .dataframe tbody tr th {\n",
       "        vertical-align: top;\n",
       "    }\n",
       "\n",
       "    .dataframe thead th {\n",
       "        text-align: right;\n",
       "    }\n",
       "</style>\n",
       "<table border=\"1\" class=\"dataframe\">\n",
       "  <thead>\n",
       "    <tr style=\"text-align: right;\">\n",
       "      <th></th>\n",
       "      <th>Population Density</th>\n",
       "      <th>County</th>\n",
       "      <th>State</th>\n",
       "      <th>Population</th>\n",
       "    </tr>\n",
       "  </thead>\n",
       "  <tbody>\n",
       "  </tbody>\n",
       "</table>\n",
       "</div>"
      ],
      "text/plain": [
       "Empty DataFrame\n",
       "Columns: [Population Density, County, State, Population]\n",
       "Index: []"
      ]
     },
     "execution_count": 80,
     "metadata": {},
     "output_type": "execute_result"
    }
   ],
   "source": [
    "combine_De[combine_De.County == 'De Witt']"
   ]
  },
  {
   "cell_type": "code",
   "execution_count": 81,
   "id": "b5db315e",
   "metadata": {},
   "outputs": [
    {
     "data": {
      "text/html": [
       "<div>\n",
       "<style scoped>\n",
       "    .dataframe tbody tr th:only-of-type {\n",
       "        vertical-align: middle;\n",
       "    }\n",
       "\n",
       "    .dataframe tbody tr th {\n",
       "        vertical-align: top;\n",
       "    }\n",
       "\n",
       "    .dataframe thead th {\n",
       "        text-align: right;\n",
       "    }\n",
       "</style>\n",
       "<table border=\"1\" class=\"dataframe\">\n",
       "  <thead>\n",
       "    <tr style=\"text-align: right;\">\n",
       "      <th></th>\n",
       "      <th>Population Density</th>\n",
       "      <th>County</th>\n",
       "      <th>State</th>\n",
       "      <th>Population</th>\n",
       "    </tr>\n",
       "  </thead>\n",
       "  <tbody>\n",
       "  </tbody>\n",
       "</table>\n",
       "</div>"
      ],
      "text/plain": [
       "Empty DataFrame\n",
       "Columns: [Population Density, County, State, Population]\n",
       "Index: []"
      ]
     },
     "execution_count": 81,
     "metadata": {},
     "output_type": "execute_result"
    }
   ],
   "source": [
    "\n",
    "combine_De[combine_De.County == 'Kickapoo Reservation']"
   ]
  },
  {
   "cell_type": "code",
   "execution_count": null,
   "id": "e59b36fb",
   "metadata": {},
   "outputs": [],
   "source": []
  },
  {
   "cell_type": "code",
   "execution_count": null,
   "id": "989ac6a0",
   "metadata": {},
   "outputs": [],
   "source": []
  },
  {
   "cell_type": "code",
   "execution_count": 82,
   "id": "7d144768",
   "metadata": {},
   "outputs": [],
   "source": [
    "#combine density and t4\n",
    "\n",
    "test = t4.merge(combine_De, on=['State', 'County'], how='inner')"
   ]
  },
  {
   "cell_type": "code",
   "execution_count": 83,
   "id": "ebd16dd5",
   "metadata": {},
   "outputs": [
    {
     "data": {
      "text/plain": [
       "State                 0\n",
       "County                0\n",
       "CountyInsideRegion    0\n",
       "Region                0\n",
       "Population Density    0\n",
       "Population            0\n",
       "dtype: int64"
      ]
     },
     "execution_count": 83,
     "metadata": {},
     "output_type": "execute_result"
    }
   ],
   "source": [
    "test.isna().sum()"
   ]
  },
  {
   "cell_type": "code",
   "execution_count": 84,
   "id": "1799504a",
   "metadata": {
    "scrolled": true
   },
   "outputs": [
    {
     "name": "stdout",
     "output_type": "stream",
     "text": [
      "<class 'pandas.core.frame.DataFrame'>\n",
      "Int64Index: 303 entries, 0 to 302\n",
      "Data columns (total 6 columns):\n",
      " #   Column              Non-Null Count  Dtype  \n",
      "---  ------              --------------  -----  \n",
      " 0   State               303 non-null    object \n",
      " 1   County              303 non-null    object \n",
      " 2   CountyInsideRegion  303 non-null    object \n",
      " 3   Region              303 non-null    object \n",
      " 4   Population Density  303 non-null    float64\n",
      " 5   Population          303 non-null    int64  \n",
      "dtypes: float64(1), int64(1), object(4)\n",
      "memory usage: 16.6+ KB\n"
     ]
    }
   ],
   "source": [
    "test.info()"
   ]
  },
  {
   "cell_type": "code",
   "execution_count": 85,
   "id": "e4e86e7d",
   "metadata": {},
   "outputs": [
    {
     "data": {
      "text/html": [
       "<div>\n",
       "<style scoped>\n",
       "    .dataframe tbody tr th:only-of-type {\n",
       "        vertical-align: middle;\n",
       "    }\n",
       "\n",
       "    .dataframe tbody tr th {\n",
       "        vertical-align: top;\n",
       "    }\n",
       "\n",
       "    .dataframe thead th {\n",
       "        text-align: right;\n",
       "    }\n",
       "</style>\n",
       "<table border=\"1\" class=\"dataframe\">\n",
       "  <thead>\n",
       "    <tr style=\"text-align: right;\">\n",
       "      <th></th>\n",
       "      <th>State</th>\n",
       "      <th>County</th>\n",
       "      <th>CountyInsideRegion</th>\n",
       "      <th>Region</th>\n",
       "      <th>Population Density</th>\n",
       "      <th>Population</th>\n",
       "    </tr>\n",
       "  </thead>\n",
       "  <tbody>\n",
       "    <tr>\n",
       "      <th>264</th>\n",
       "      <td>Texas</td>\n",
       "      <td>Houston</td>\n",
       "      <td>Johnson</td>\n",
       "      <td>DFW</td>\n",
       "      <td>17.9</td>\n",
       "      <td>22066</td>\n",
       "    </tr>\n",
       "  </tbody>\n",
       "</table>\n",
       "</div>"
      ],
      "text/plain": [
       "     State   County CountyInsideRegion Region  Population Density  Population\n",
       "264  Texas  Houston            Johnson    DFW                17.9       22066"
      ]
     },
     "execution_count": 85,
     "metadata": {},
     "output_type": "execute_result"
    }
   ],
   "source": [
    "test[test.County == 'Houston']"
   ]
  },
  {
   "cell_type": "code",
   "execution_count": 86,
   "id": "29810137",
   "metadata": {},
   "outputs": [],
   "source": [
    "idx = []\n",
    "\n",
    "for i in range(len(test)):\n",
    "    if test.iloc[i, 1] == 'Houston':\n",
    "        idx.append(i)"
   ]
  },
  {
   "cell_type": "code",
   "execution_count": 88,
   "id": "59332c5a",
   "metadata": {},
   "outputs": [
    {
     "data": {
      "text/plain": [
       "[264]"
      ]
     },
     "execution_count": 88,
     "metadata": {},
     "output_type": "execute_result"
    }
   ],
   "source": [
    "idx"
   ]
  },
  {
   "cell_type": "code",
   "execution_count": 87,
   "id": "13ab9d4b",
   "metadata": {},
   "outputs": [],
   "source": [
    "test.iloc[264,3] = 'Houston'"
   ]
  },
  {
   "cell_type": "markdown",
   "id": "466d6858",
   "metadata": {},
   "source": [
    "## begin to merge google and final table"
   ]
  },
  {
   "cell_type": "code",
   "execution_count": 93,
   "id": "e1fa566a",
   "metadata": {
    "scrolled": true
   },
   "outputs": [],
   "source": [
    "final = research.merge(test, on=['State', 'Region'], how='outer')"
   ]
  },
  {
   "cell_type": "code",
   "execution_count": 94,
   "id": "ac79adbb",
   "metadata": {},
   "outputs": [
    {
     "data": {
      "text/html": [
       "<div>\n",
       "<style scoped>\n",
       "    .dataframe tbody tr th:only-of-type {\n",
       "        vertical-align: middle;\n",
       "    }\n",
       "\n",
       "    .dataframe tbody tr th {\n",
       "        vertical-align: top;\n",
       "    }\n",
       "\n",
       "    .dataframe thead th {\n",
       "        text-align: right;\n",
       "    }\n",
       "</style>\n",
       "<table border=\"1\" class=\"dataframe\">\n",
       "  <thead>\n",
       "    <tr style=\"text-align: right;\">\n",
       "      <th></th>\n",
       "      <th>County</th>\n",
       "      <th>SNAP_Applications</th>\n",
       "      <th>Year</th>\n",
       "      <th>Month</th>\n",
       "      <th>State</th>\n",
       "      <th>Number of Workers</th>\n",
       "      <th># of disaster</th>\n",
       "    </tr>\n",
       "  </thead>\n",
       "  <tbody>\n",
       "    <tr>\n",
       "      <th>0</th>\n",
       "      <td>Anderson</td>\n",
       "      <td>405</td>\n",
       "      <td>2019</td>\n",
       "      <td>1</td>\n",
       "      <td>Texas</td>\n",
       "      <td>0</td>\n",
       "      <td>0</td>\n",
       "    </tr>\n",
       "    <tr>\n",
       "      <th>1</th>\n",
       "      <td>Anderson</td>\n",
       "      <td>243</td>\n",
       "      <td>2019</td>\n",
       "      <td>2</td>\n",
       "      <td>Texas</td>\n",
       "      <td>0</td>\n",
       "      <td>0</td>\n",
       "    </tr>\n",
       "    <tr>\n",
       "      <th>2</th>\n",
       "      <td>Anderson</td>\n",
       "      <td>282</td>\n",
       "      <td>2019</td>\n",
       "      <td>3</td>\n",
       "      <td>Texas</td>\n",
       "      <td>0</td>\n",
       "      <td>0</td>\n",
       "    </tr>\n",
       "    <tr>\n",
       "      <th>3</th>\n",
       "      <td>Anderson</td>\n",
       "      <td>274</td>\n",
       "      <td>2019</td>\n",
       "      <td>4</td>\n",
       "      <td>Texas</td>\n",
       "      <td>0</td>\n",
       "      <td>0</td>\n",
       "    </tr>\n",
       "    <tr>\n",
       "      <th>4</th>\n",
       "      <td>Anderson</td>\n",
       "      <td>317</td>\n",
       "      <td>2019</td>\n",
       "      <td>5</td>\n",
       "      <td>Texas</td>\n",
       "      <td>0</td>\n",
       "      <td>0</td>\n",
       "    </tr>\n",
       "  </tbody>\n",
       "</table>\n",
       "</div>"
      ],
      "text/plain": [
       "     County  SNAP_Applications  Year  Month  State  Number of Workers  \\\n",
       "0  Anderson                405  2019      1  Texas                  0   \n",
       "1  Anderson                243  2019      2  Texas                  0   \n",
       "2  Anderson                282  2019      3  Texas                  0   \n",
       "3  Anderson                274  2019      4  Texas                  0   \n",
       "4  Anderson                317  2019      5  Texas                  0   \n",
       "\n",
       "   # of disaster  \n",
       "0              0  \n",
       "1              0  \n",
       "2              0  \n",
       "3              0  \n",
       "4              0  "
      ]
     },
     "execution_count": 94,
     "metadata": {},
     "output_type": "execute_result"
    }
   ],
   "source": [
    "others.head()"
   ]
  },
  {
   "cell_type": "code",
   "execution_count": 95,
   "id": "724741e4",
   "metadata": {
    "scrolled": false
   },
   "outputs": [
    {
     "data": {
      "text/html": [
       "<div>\n",
       "<style scoped>\n",
       "    .dataframe tbody tr th:only-of-type {\n",
       "        vertical-align: middle;\n",
       "    }\n",
       "\n",
       "    .dataframe tbody tr th {\n",
       "        vertical-align: top;\n",
       "    }\n",
       "\n",
       "    .dataframe thead th {\n",
       "        text-align: right;\n",
       "    }\n",
       "</style>\n",
       "<table border=\"1\" class=\"dataframe\">\n",
       "  <thead>\n",
       "    <tr style=\"text-align: right;\">\n",
       "      <th></th>\n",
       "      <th>Search</th>\n",
       "      <th>Search term</th>\n",
       "      <th>Region</th>\n",
       "      <th>State</th>\n",
       "      <th>Year</th>\n",
       "      <th>Month</th>\n",
       "      <th>County</th>\n",
       "      <th>CountyInsideRegion</th>\n",
       "      <th>Population Density</th>\n",
       "      <th>Population</th>\n",
       "    </tr>\n",
       "  </thead>\n",
       "  <tbody>\n",
       "    <tr>\n",
       "      <th>0</th>\n",
       "      <td>24</td>\n",
       "      <td>calfresh</td>\n",
       "      <td>Los Angeles CA</td>\n",
       "      <td>California</td>\n",
       "      <td>2019</td>\n",
       "      <td>1</td>\n",
       "      <td>Inyo</td>\n",
       "      <td>Los Angeles</td>\n",
       "      <td>1.8</td>\n",
       "      <td>18439</td>\n",
       "    </tr>\n",
       "    <tr>\n",
       "      <th>1</th>\n",
       "      <td>24</td>\n",
       "      <td>calfresh</td>\n",
       "      <td>Los Angeles CA</td>\n",
       "      <td>California</td>\n",
       "      <td>2019</td>\n",
       "      <td>1</td>\n",
       "      <td>Kern</td>\n",
       "      <td>Los Angeles</td>\n",
       "      <td>105.1</td>\n",
       "      <td>857730</td>\n",
       "    </tr>\n",
       "    <tr>\n",
       "      <th>2</th>\n",
       "      <td>24</td>\n",
       "      <td>calfresh</td>\n",
       "      <td>Los Angeles CA</td>\n",
       "      <td>California</td>\n",
       "      <td>2019</td>\n",
       "      <td>1</td>\n",
       "      <td>Orange</td>\n",
       "      <td>Los Angeles</td>\n",
       "      <td>3255.4</td>\n",
       "      <td>3086331</td>\n",
       "    </tr>\n",
       "    <tr>\n",
       "      <th>3</th>\n",
       "      <td>24</td>\n",
       "      <td>calfresh</td>\n",
       "      <td>Los Angeles CA</td>\n",
       "      <td>California</td>\n",
       "      <td>2019</td>\n",
       "      <td>1</td>\n",
       "      <td>San Diego</td>\n",
       "      <td>Los Angeles</td>\n",
       "      <td>703.4</td>\n",
       "      <td>3183143</td>\n",
       "    </tr>\n",
       "    <tr>\n",
       "      <th>4</th>\n",
       "      <td>24</td>\n",
       "      <td>calfresh</td>\n",
       "      <td>Los Angeles CA</td>\n",
       "      <td>California</td>\n",
       "      <td>2019</td>\n",
       "      <td>1</td>\n",
       "      <td>Santa Barbara</td>\n",
       "      <td>Los Angeles</td>\n",
       "      <td>113.9</td>\n",
       "      <td>431555</td>\n",
       "    </tr>\n",
       "  </tbody>\n",
       "</table>\n",
       "</div>"
      ],
      "text/plain": [
       "   Search Search term          Region       State  Year  Month         County  \\\n",
       "0      24    calfresh  Los Angeles CA  California  2019      1           Inyo   \n",
       "1      24    calfresh  Los Angeles CA  California  2019      1           Kern   \n",
       "2      24    calfresh  Los Angeles CA  California  2019      1         Orange   \n",
       "3      24    calfresh  Los Angeles CA  California  2019      1      San Diego   \n",
       "4      24    calfresh  Los Angeles CA  California  2019      1  Santa Barbara   \n",
       "\n",
       "  CountyInsideRegion  Population Density  Population  \n",
       "0        Los Angeles                 1.8       18439  \n",
       "1        Los Angeles               105.1      857730  \n",
       "2        Los Angeles              3255.4     3086331  \n",
       "3        Los Angeles               703.4     3183143  \n",
       "4        Los Angeles               113.9      431555  "
      ]
     },
     "execution_count": 95,
     "metadata": {},
     "output_type": "execute_result"
    }
   ],
   "source": [
    "final.head()"
   ]
  },
  {
   "cell_type": "code",
   "execution_count": 105,
   "id": "8e1e16c5",
   "metadata": {},
   "outputs": [],
   "source": [
    "df = final.merge(others,on=['State', 'County', 'Year', 'Month'], how='left')"
   ]
  },
  {
   "cell_type": "code",
   "execution_count": 106,
   "id": "a594006d",
   "metadata": {
    "scrolled": false
   },
   "outputs": [
    {
     "data": {
      "text/html": [
       "<div>\n",
       "<style scoped>\n",
       "    .dataframe tbody tr th:only-of-type {\n",
       "        vertical-align: middle;\n",
       "    }\n",
       "\n",
       "    .dataframe tbody tr th {\n",
       "        vertical-align: top;\n",
       "    }\n",
       "\n",
       "    .dataframe thead th {\n",
       "        text-align: right;\n",
       "    }\n",
       "</style>\n",
       "<table border=\"1\" class=\"dataframe\">\n",
       "  <thead>\n",
       "    <tr style=\"text-align: right;\">\n",
       "      <th></th>\n",
       "      <th>Search</th>\n",
       "      <th>Search term</th>\n",
       "      <th>Region</th>\n",
       "      <th>State</th>\n",
       "      <th>Year</th>\n",
       "      <th>Month</th>\n",
       "      <th>County</th>\n",
       "      <th>CountyInsideRegion</th>\n",
       "      <th>Population Density</th>\n",
       "      <th>Population</th>\n",
       "      <th>SNAP_Applications</th>\n",
       "      <th>Number of Workers</th>\n",
       "      <th># of disaster</th>\n",
       "    </tr>\n",
       "  </thead>\n",
       "  <tbody>\n",
       "    <tr>\n",
       "      <th>0</th>\n",
       "      <td>24</td>\n",
       "      <td>calfresh</td>\n",
       "      <td>Los Angeles CA</td>\n",
       "      <td>California</td>\n",
       "      <td>2019</td>\n",
       "      <td>1</td>\n",
       "      <td>Inyo</td>\n",
       "      <td>Los Angeles</td>\n",
       "      <td>1.8</td>\n",
       "      <td>18439</td>\n",
       "      <td>84.0</td>\n",
       "      <td>0.0</td>\n",
       "      <td>0.0</td>\n",
       "    </tr>\n",
       "    <tr>\n",
       "      <th>1</th>\n",
       "      <td>24</td>\n",
       "      <td>calfresh</td>\n",
       "      <td>Los Angeles CA</td>\n",
       "      <td>California</td>\n",
       "      <td>2019</td>\n",
       "      <td>1</td>\n",
       "      <td>Kern</td>\n",
       "      <td>Los Angeles</td>\n",
       "      <td>105.1</td>\n",
       "      <td>857730</td>\n",
       "      <td>6163.0</td>\n",
       "      <td>134.0</td>\n",
       "      <td>0.0</td>\n",
       "    </tr>\n",
       "    <tr>\n",
       "      <th>2</th>\n",
       "      <td>24</td>\n",
       "      <td>calfresh</td>\n",
       "      <td>Los Angeles CA</td>\n",
       "      <td>California</td>\n",
       "      <td>2019</td>\n",
       "      <td>1</td>\n",
       "      <td>Orange</td>\n",
       "      <td>Los Angeles</td>\n",
       "      <td>3255.4</td>\n",
       "      <td>3086331</td>\n",
       "      <td>8637.0</td>\n",
       "      <td>200.0</td>\n",
       "      <td>0.0</td>\n",
       "    </tr>\n",
       "    <tr>\n",
       "      <th>3</th>\n",
       "      <td>24</td>\n",
       "      <td>calfresh</td>\n",
       "      <td>Los Angeles CA</td>\n",
       "      <td>California</td>\n",
       "      <td>2019</td>\n",
       "      <td>1</td>\n",
       "      <td>San Diego</td>\n",
       "      <td>Los Angeles</td>\n",
       "      <td>703.4</td>\n",
       "      <td>3183143</td>\n",
       "      <td>12905.0</td>\n",
       "      <td>140.0</td>\n",
       "      <td>0.0</td>\n",
       "    </tr>\n",
       "    <tr>\n",
       "      <th>4</th>\n",
       "      <td>24</td>\n",
       "      <td>calfresh</td>\n",
       "      <td>Los Angeles CA</td>\n",
       "      <td>California</td>\n",
       "      <td>2019</td>\n",
       "      <td>1</td>\n",
       "      <td>Santa Barbara</td>\n",
       "      <td>Los Angeles</td>\n",
       "      <td>113.9</td>\n",
       "      <td>431555</td>\n",
       "      <td>2509.0</td>\n",
       "      <td>0.0</td>\n",
       "      <td>0.0</td>\n",
       "    </tr>\n",
       "  </tbody>\n",
       "</table>\n",
       "</div>"
      ],
      "text/plain": [
       "   Search Search term          Region       State  Year  Month         County  \\\n",
       "0      24    calfresh  Los Angeles CA  California  2019      1           Inyo   \n",
       "1      24    calfresh  Los Angeles CA  California  2019      1           Kern   \n",
       "2      24    calfresh  Los Angeles CA  California  2019      1         Orange   \n",
       "3      24    calfresh  Los Angeles CA  California  2019      1      San Diego   \n",
       "4      24    calfresh  Los Angeles CA  California  2019      1  Santa Barbara   \n",
       "\n",
       "  CountyInsideRegion  Population Density  Population  SNAP_Applications  \\\n",
       "0        Los Angeles                 1.8       18439               84.0   \n",
       "1        Los Angeles               105.1      857730             6163.0   \n",
       "2        Los Angeles              3255.4     3086331             8637.0   \n",
       "3        Los Angeles               703.4     3183143            12905.0   \n",
       "4        Los Angeles               113.9      431555             2509.0   \n",
       "\n",
       "   Number of Workers  # of disaster  \n",
       "0                0.0            0.0  \n",
       "1              134.0            0.0  \n",
       "2              200.0            0.0  \n",
       "3              140.0            0.0  \n",
       "4                0.0            0.0  "
      ]
     },
     "execution_count": 106,
     "metadata": {},
     "output_type": "execute_result"
    }
   ],
   "source": [
    "df.head()"
   ]
  },
  {
   "cell_type": "code",
   "execution_count": 107,
   "id": "93efbb77",
   "metadata": {
    "scrolled": true
   },
   "outputs": [
    {
     "name": "stdout",
     "output_type": "stream",
     "text": [
      "<class 'pandas.core.frame.DataFrame'>\n",
      "Int64Index: 236340 entries, 0 to 236339\n",
      "Data columns (total 13 columns):\n",
      " #   Column              Non-Null Count   Dtype  \n",
      "---  ------              --------------   -----  \n",
      " 0   Search              236340 non-null  int64  \n",
      " 1   Search term         236340 non-null  object \n",
      " 2   Region              236340 non-null  object \n",
      " 3   State               236340 non-null  object \n",
      " 4   Year                236340 non-null  int64  \n",
      " 5   Month               236340 non-null  int64  \n",
      " 6   County              236340 non-null  object \n",
      " 7   CountyInsideRegion  236340 non-null  object \n",
      " 8   Population Density  236340 non-null  float64\n",
      " 9   Population          236340 non-null  int64  \n",
      " 10  SNAP_Applications   235580 non-null  float64\n",
      " 11  Number of Workers   235580 non-null  float64\n",
      " 12  # of disaster       235580 non-null  float64\n",
      "dtypes: float64(4), int64(4), object(5)\n",
      "memory usage: 25.2+ MB\n"
     ]
    }
   ],
   "source": [
    "df.info()"
   ]
  },
  {
   "cell_type": "code",
   "execution_count": 111,
   "id": "90fc3792",
   "metadata": {},
   "outputs": [
    {
     "data": {
      "text/plain": [
       "Search                0\n",
       "Search term           0\n",
       "Region                0\n",
       "State                 0\n",
       "Year                  0\n",
       "Month                 0\n",
       "County                0\n",
       "CountyInsideRegion    0\n",
       "Population Density    0\n",
       "Population            0\n",
       "SNAP_Applications     0\n",
       "Number of Workers     0\n",
       "# of disaster         0\n",
       "dtype: int64"
      ]
     },
     "execution_count": 111,
     "metadata": {},
     "output_type": "execute_result"
    }
   ],
   "source": [
    "df.isna().sum()"
   ]
  },
  {
   "cell_type": "code",
   "execution_count": 110,
   "id": "a96f5b80",
   "metadata": {},
   "outputs": [],
   "source": [
    "df.fillna(0, inplace=True)"
   ]
  },
  {
   "cell_type": "code",
   "execution_count": 112,
   "id": "4d48484c",
   "metadata": {},
   "outputs": [],
   "source": [
    "df.to_excel('final_database.xlsx')"
   ]
  }
 ],
 "metadata": {
  "kernelspec": {
   "display_name": "Python 3 (ipykernel)",
   "language": "python",
   "name": "python3"
  },
  "language_info": {
   "codemirror_mode": {
    "name": "ipython",
    "version": 3
   },
   "file_extension": ".py",
   "mimetype": "text/x-python",
   "name": "python",
   "nbconvert_exporter": "python",
   "pygments_lexer": "ipython3",
   "version": "3.9.13"
  }
 },
 "nbformat": 4,
 "nbformat_minor": 5
}
