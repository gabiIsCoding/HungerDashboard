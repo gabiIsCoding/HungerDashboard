{
 "cells": [
  {
   "cell_type": "code",
   "execution_count": 1,
   "id": "fa6e0649",
   "metadata": {},
   "outputs": [
    {
     "data": {
      "application/javascript": [
       "IPython.notebook.set_autosave_interval(20000)"
      ]
     },
     "metadata": {},
     "output_type": "display_data"
    },
    {
     "name": "stdout",
     "output_type": "stream",
     "text": [
      "Autosaving every 20 seconds\n"
     ]
    }
   ],
   "source": [
    "%autosave 20\n",
    "\n",
    "import pandas as pd\n",
    "import numpy as np\n",
    "\n",
    "# print all the outputs in a cell\n",
    "from IPython.core.interactiveshell import InteractiveShell\n",
    "InteractiveShell.ast_node_interactivity = \"all\"\n",
    "\n",
    "pd.set_option('display.max_columns', None)\n",
    "pd.set_option('display.max_rows', None)"
   ]
  },
  {
   "cell_type": "code",
   "execution_count": 2,
   "id": "e44b3f7b",
   "metadata": {},
   "outputs": [],
   "source": [
    "snap = pd.read_excel('/Users/chensumei/Desktop/Ram Paper/FinalSheets/Combined SNAP Applications.xlsx', index_col=0)\n",
    "warn = pd.read_excel('/Users/chensumei/Desktop/Ram Paper/FinalSheets/Combined Warn Data.xlsx',index_col=0)\n",
    "disaster = pd.read_excel('/Users/chensumei/Desktop/Ram Paper/FinalSheets/Combined Disaster.xlsx', index_col=0)"
   ]
  },
  {
   "cell_type": "code",
   "execution_count": null,
   "id": "b5f8e4b8",
   "metadata": {},
   "outputs": [],
   "source": [
    "#google = pd.read_excel('/Users/chensumei/Desktop/Ram Paper/FinalSheets/final_google_combine.xlsx', index_col=0)"
   ]
  },
  {
   "cell_type": "markdown",
   "id": "c83197b9",
   "metadata": {},
   "source": [
    "# snap"
   ]
  },
  {
   "cell_type": "code",
   "execution_count": 3,
   "id": "3f2327a7",
   "metadata": {
    "scrolled": true
   },
   "outputs": [
    {
     "data": {
      "text/html": [
       "<div>\n",
       "<style scoped>\n",
       "    .dataframe tbody tr th:only-of-type {\n",
       "        vertical-align: middle;\n",
       "    }\n",
       "\n",
       "    .dataframe tbody tr th {\n",
       "        vertical-align: top;\n",
       "    }\n",
       "\n",
       "    .dataframe thead th {\n",
       "        text-align: right;\n",
       "    }\n",
       "</style>\n",
       "<table border=\"1\" class=\"dataframe\">\n",
       "  <thead>\n",
       "    <tr style=\"text-align: right;\">\n",
       "      <th></th>\n",
       "      <th>County</th>\n",
       "      <th>SNAP_Applications</th>\n",
       "      <th>Year</th>\n",
       "      <th>Month</th>\n",
       "      <th>State</th>\n",
       "    </tr>\n",
       "  </thead>\n",
       "  <tbody>\n",
       "    <tr>\n",
       "      <th>0</th>\n",
       "      <td>Anderson</td>\n",
       "      <td>405</td>\n",
       "      <td>2019</td>\n",
       "      <td>1</td>\n",
       "      <td>Texas</td>\n",
       "    </tr>\n",
       "    <tr>\n",
       "      <th>1</th>\n",
       "      <td>Anderson</td>\n",
       "      <td>243</td>\n",
       "      <td>2019</td>\n",
       "      <td>2</td>\n",
       "      <td>Texas</td>\n",
       "    </tr>\n",
       "    <tr>\n",
       "      <th>2</th>\n",
       "      <td>Anderson</td>\n",
       "      <td>282</td>\n",
       "      <td>2019</td>\n",
       "      <td>3</td>\n",
       "      <td>Texas</td>\n",
       "    </tr>\n",
       "    <tr>\n",
       "      <th>3</th>\n",
       "      <td>Anderson</td>\n",
       "      <td>274</td>\n",
       "      <td>2019</td>\n",
       "      <td>4</td>\n",
       "      <td>Texas</td>\n",
       "    </tr>\n",
       "    <tr>\n",
       "      <th>4</th>\n",
       "      <td>Anderson</td>\n",
       "      <td>317</td>\n",
       "      <td>2019</td>\n",
       "      <td>5</td>\n",
       "      <td>Texas</td>\n",
       "    </tr>\n",
       "  </tbody>\n",
       "</table>\n",
       "</div>"
      ],
      "text/plain": [
       "     County  SNAP_Applications  Year  Month  State\n",
       "0  Anderson                405  2019      1  Texas\n",
       "1  Anderson                243  2019      2  Texas\n",
       "2  Anderson                282  2019      3  Texas\n",
       "3  Anderson                274  2019      4  Texas\n",
       "4  Anderson                317  2019      5  Texas"
      ]
     },
     "execution_count": 3,
     "metadata": {},
     "output_type": "execute_result"
    }
   ],
   "source": [
    "snap.head()"
   ]
  },
  {
   "cell_type": "code",
   "execution_count": 4,
   "id": "46936d34",
   "metadata": {},
   "outputs": [
    {
     "name": "stdout",
     "output_type": "stream",
     "text": [
      "<class 'pandas.core.frame.DataFrame'>\n",
      "Int64Index: 11231 entries, 0 to 11230\n",
      "Data columns (total 5 columns):\n",
      " #   Column             Non-Null Count  Dtype \n",
      "---  ------             --------------  ----- \n",
      " 0   County             11231 non-null  object\n",
      " 1   SNAP_Applications  11231 non-null  int64 \n",
      " 2   Year               11231 non-null  int64 \n",
      " 3   Month              11231 non-null  int64 \n",
      " 4   State              11231 non-null  object\n",
      "dtypes: int64(3), object(2)\n",
      "memory usage: 526.5+ KB\n"
     ]
    }
   ],
   "source": [
    "snap.info()"
   ]
  },
  {
   "cell_type": "code",
   "execution_count": 5,
   "id": "dede179a",
   "metadata": {
    "scrolled": true
   },
   "outputs": [
    {
     "data": {
      "text/html": [
       "<div>\n",
       "<style scoped>\n",
       "    .dataframe tbody tr th:only-of-type {\n",
       "        vertical-align: middle;\n",
       "    }\n",
       "\n",
       "    .dataframe tbody tr th {\n",
       "        vertical-align: top;\n",
       "    }\n",
       "\n",
       "    .dataframe thead th {\n",
       "        text-align: right;\n",
       "    }\n",
       "</style>\n",
       "<table border=\"1\" class=\"dataframe\">\n",
       "  <thead>\n",
       "    <tr style=\"text-align: right;\">\n",
       "      <th></th>\n",
       "      <th>County</th>\n",
       "      <th>SNAP_Applications</th>\n",
       "      <th>Year</th>\n",
       "      <th>Month</th>\n",
       "      <th>State</th>\n",
       "    </tr>\n",
       "  </thead>\n",
       "  <tbody>\n",
       "  </tbody>\n",
       "</table>\n",
       "</div>"
      ],
      "text/plain": [
       "Empty DataFrame\n",
       "Columns: [County, SNAP_Applications, Year, Month, State]\n",
       "Index: []"
      ]
     },
     "execution_count": 5,
     "metadata": {},
     "output_type": "execute_result"
    }
   ],
   "source": [
    "#filger 'Unavailable or Not a Texas County' +  'Statewide'\n",
    "\n",
    "snap[snap.County == 'Unavailable or Not a Texas County']"
   ]
  },
  {
   "cell_type": "code",
   "execution_count": 15,
   "id": "3b5a8426",
   "metadata": {
    "scrolled": true
   },
   "outputs": [
    {
     "data": {
      "text/plain": [
       "(11231, 5)"
      ]
     },
     "execution_count": 15,
     "metadata": {},
     "output_type": "execute_result"
    }
   ],
   "source": [
    "snap.shape"
   ]
  },
  {
   "cell_type": "code",
   "execution_count": 7,
   "id": "4dc17228",
   "metadata": {
    "scrolled": true
   },
   "outputs": [
    {
     "data": {
      "text/plain": [
       "County               0\n",
       "SNAP_Applications    0\n",
       "Year                 0\n",
       "Month                0\n",
       "State                0\n",
       "dtype: int64"
      ]
     },
     "execution_count": 7,
     "metadata": {},
     "output_type": "execute_result"
    }
   ],
   "source": [
    "snap.isna().sum()"
   ]
  },
  {
   "cell_type": "markdown",
   "id": "0737cc5e",
   "metadata": {},
   "source": [
    "# Warn"
   ]
  },
  {
   "cell_type": "code",
   "execution_count": 9,
   "id": "8bac4cd5",
   "metadata": {
    "scrolled": true
   },
   "outputs": [
    {
     "data": {
      "text/html": [
       "<div>\n",
       "<style scoped>\n",
       "    .dataframe tbody tr th:only-of-type {\n",
       "        vertical-align: middle;\n",
       "    }\n",
       "\n",
       "    .dataframe tbody tr th {\n",
       "        vertical-align: top;\n",
       "    }\n",
       "\n",
       "    .dataframe thead th {\n",
       "        text-align: right;\n",
       "    }\n",
       "</style>\n",
       "<table border=\"1\" class=\"dataframe\">\n",
       "  <thead>\n",
       "    <tr style=\"text-align: right;\">\n",
       "      <th></th>\n",
       "      <th>State</th>\n",
       "      <th>Year</th>\n",
       "      <th>Month</th>\n",
       "      <th>County</th>\n",
       "      <th>Number of Workers</th>\n",
       "    </tr>\n",
       "  </thead>\n",
       "  <tbody>\n",
       "    <tr>\n",
       "      <th>0</th>\n",
       "      <td>California</td>\n",
       "      <td>2019</td>\n",
       "      <td>1</td>\n",
       "      <td>Alameda</td>\n",
       "      <td>45</td>\n",
       "    </tr>\n",
       "    <tr>\n",
       "      <th>1</th>\n",
       "      <td>California</td>\n",
       "      <td>2019</td>\n",
       "      <td>1</td>\n",
       "      <td>Butte</td>\n",
       "      <td>1373</td>\n",
       "    </tr>\n",
       "    <tr>\n",
       "      <th>2</th>\n",
       "      <td>California</td>\n",
       "      <td>2019</td>\n",
       "      <td>1</td>\n",
       "      <td>Contra Costa</td>\n",
       "      <td>3</td>\n",
       "    </tr>\n",
       "    <tr>\n",
       "      <th>3</th>\n",
       "      <td>California</td>\n",
       "      <td>2019</td>\n",
       "      <td>1</td>\n",
       "      <td>Kern</td>\n",
       "      <td>134</td>\n",
       "    </tr>\n",
       "    <tr>\n",
       "      <th>4</th>\n",
       "      <td>California</td>\n",
       "      <td>2019</td>\n",
       "      <td>1</td>\n",
       "      <td>Los Angeles</td>\n",
       "      <td>1526</td>\n",
       "    </tr>\n",
       "  </tbody>\n",
       "</table>\n",
       "</div>"
      ],
      "text/plain": [
       "        State  Year  Month        County  Number of Workers\n",
       "0  California  2019      1       Alameda                 45\n",
       "1  California  2019      1         Butte               1373\n",
       "2  California  2019      1  Contra Costa                  3\n",
       "3  California  2019      1          Kern                134\n",
       "4  California  2019      1   Los Angeles               1526"
      ]
     },
     "execution_count": 9,
     "metadata": {},
     "output_type": "execute_result"
    }
   ],
   "source": [
    "warn.head()"
   ]
  },
  {
   "cell_type": "code",
   "execution_count": 10,
   "id": "7f6cc137",
   "metadata": {
    "scrolled": false
   },
   "outputs": [
    {
     "name": "stdout",
     "output_type": "stream",
     "text": [
      "<class 'pandas.core.frame.DataFrame'>\n",
      "Int64Index: 1174 entries, 0 to 1173\n",
      "Data columns (total 5 columns):\n",
      " #   Column             Non-Null Count  Dtype \n",
      "---  ------             --------------  ----- \n",
      " 0   State              1174 non-null   object\n",
      " 1   Year               1174 non-null   int64 \n",
      " 2   Month              1174 non-null   int64 \n",
      " 3   County             1174 non-null   object\n",
      " 4   Number of Workers  1174 non-null   int64 \n",
      "dtypes: int64(3), object(2)\n",
      "memory usage: 55.0+ KB\n"
     ]
    }
   ],
   "source": [
    "warn.info()"
   ]
  },
  {
   "cell_type": "code",
   "execution_count": 11,
   "id": "ef0561c7",
   "metadata": {},
   "outputs": [
    {
     "data": {
      "text/plain": [
       "array(['Alameda', 'Butte', 'Contra Costa', 'Kern', 'Los Angeles',\n",
       "       'Orange', 'Placer', 'Riverside', 'Sacramento', 'San Bernardino',\n",
       "       'San Diego', 'San Francisco', 'San Joaquin', 'San Mateo',\n",
       "       'Santa Clara', 'Shasta', 'Tulare', 'Glenn', 'Nevada',\n",
       "       'San Luis Obispo', 'Solano', 'Sonoma', 'Ventura', 'Fresno',\n",
       "       'Imperial', 'Santa Cruz', 'Stanislaus', 'Tuolumne',\n",
       "       'Santa Barbara', 'Napa', 'Tehama', 'Yolo', 'Yuba', 'Mendocino',\n",
       "       'Kings', 'Sutter', 'Marin', 'Merced', 'Mono', 'Monterey',\n",
       "       'San Benito', 'Amador', 'Calaveras', 'Colusa', 'El Dorado',\n",
       "       'Humboldt', 'Inyo', 'Madera', 'Mariposa', 'Plumas', 'Del Norte',\n",
       "       'Siskiyou', 'Dallas', 'Harris', 'Lamar', 'Tarrant', 'Travis',\n",
       "       'Bexar', 'Chambers', 'Collin', 'Denton', 'El Paso', 'Midland',\n",
       "       'Montgomery', 'Nueces', 'Austin', 'Bowie', 'Fayette', 'Grayson',\n",
       "       'Smith', 'Brown', 'Potter', 'Ward', 'Fort Bend', 'Ector', 'Reeves',\n",
       "       'Gregg', 'McLennan', 'Webb', 'Cameron', 'Johnson', 'Andrews',\n",
       "       'Angelina', 'Ellis', 'Nacogdoches', 'Somervell', 'Deaf Smith',\n",
       "       'Jefferson', 'Archer', 'Atascosa', 'Bastrop', 'Bell', 'Brazoria',\n",
       "       'Brazos', 'Childress', 'Comal', 'Coryell', 'Erath', 'Galveston',\n",
       "       'Hale', 'Hays', 'Henderson', 'Hidalgo', 'Hill', 'Howard', 'Jones',\n",
       "       'Kaufman', 'Kendall', 'La Salle', 'Lubbock', 'Maverick', 'Morris',\n",
       "       'Palo Pinto', 'Parker', 'Randall', 'Rockwall', 'Taylor',\n",
       "       'Tom Green', 'Val Verde', 'Victoria', 'Walker', 'Waller',\n",
       "       'Williamson', 'Wilson', 'Winkler', 'Wise', 'Colorado', 'Crane',\n",
       "       'Crockett', 'Dawson', 'Frio', 'Gray', 'Guadalupe', 'Harrison',\n",
       "       'Irion', 'Jim Wells', 'Kerr', 'Limestone', 'Matagorda', 'Polk',\n",
       "       'Terry', 'Cass', 'Gillespie', 'Rusk', 'Yoakum', 'Bailey', 'Brooks',\n",
       "       'Floyd', 'Liberty', 'San Patricio', 'Starr', 'Uvalde', 'Zavala',\n",
       "       'Karnes', 'Reagan', 'Anderson', 'Wichita', 'Willacy', 'Hunt'],\n",
       "      dtype=object)"
      ]
     },
     "execution_count": 11,
     "metadata": {},
     "output_type": "execute_result"
    }
   ],
   "source": [
    "warn.County.unique()"
   ]
  },
  {
   "cell_type": "code",
   "execution_count": 16,
   "id": "b624eaf6",
   "metadata": {
    "scrolled": true
   },
   "outputs": [
    {
     "name": "stdout",
     "output_type": "stream",
     "text": [
      "<class 'pandas.core.frame.DataFrame'>\n",
      "Int64Index: 1174 entries, 0 to 1173\n",
      "Data columns (total 5 columns):\n",
      " #   Column             Non-Null Count  Dtype \n",
      "---  ------             --------------  ----- \n",
      " 0   State              1174 non-null   object\n",
      " 1   Year               1174 non-null   int64 \n",
      " 2   Month              1174 non-null   int64 \n",
      " 3   County             1174 non-null   object\n",
      " 4   Number of Workers  1174 non-null   int64 \n",
      "dtypes: int64(3), object(2)\n",
      "memory usage: 55.0+ KB\n"
     ]
    }
   ],
   "source": [
    "warn.info()"
   ]
  },
  {
   "cell_type": "code",
   "execution_count": 14,
   "id": "890240f9",
   "metadata": {},
   "outputs": [
    {
     "data": {
      "text/plain": [
       "(1174, 5)"
      ]
     },
     "execution_count": 14,
     "metadata": {},
     "output_type": "execute_result"
    }
   ],
   "source": [
    "warn.shape"
   ]
  },
  {
   "cell_type": "markdown",
   "id": "1c73406c",
   "metadata": {},
   "source": [
    "# Disaster"
   ]
  },
  {
   "cell_type": "code",
   "execution_count": 21,
   "id": "326f8dc4",
   "metadata": {
    "scrolled": true
   },
   "outputs": [
    {
     "data": {
      "text/plain": [
       "(820, 5)"
      ]
     },
     "execution_count": 21,
     "metadata": {},
     "output_type": "execute_result"
    }
   ],
   "source": [
    "disaster.shape"
   ]
  },
  {
   "cell_type": "code",
   "execution_count": 18,
   "id": "a8ba85e9",
   "metadata": {
    "scrolled": true
   },
   "outputs": [
    {
     "name": "stdout",
     "output_type": "stream",
     "text": [
      "<class 'pandas.core.frame.DataFrame'>\n",
      "Int64Index: 820 entries, 0 to 819\n",
      "Data columns (total 5 columns):\n",
      " #   Column         Non-Null Count  Dtype \n",
      "---  ------         --------------  ----- \n",
      " 0   State          820 non-null    object\n",
      " 1   Year           820 non-null    int64 \n",
      " 2   Month          820 non-null    int64 \n",
      " 3   County         820 non-null    object\n",
      " 4   # of disaster  820 non-null    int64 \n",
      "dtypes: int64(3), object(2)\n",
      "memory usage: 38.4+ KB\n"
     ]
    }
   ],
   "source": [
    "disaster.info()"
   ]
  },
  {
   "cell_type": "code",
   "execution_count": 19,
   "id": "f8d0967b",
   "metadata": {
    "scrolled": false
   },
   "outputs": [
    {
     "data": {
      "text/plain": [
       "State            0\n",
       "Year             0\n",
       "Month            0\n",
       "County           0\n",
       "# of disaster    0\n",
       "dtype: int64"
      ]
     },
     "execution_count": 19,
     "metadata": {},
     "output_type": "execute_result"
    }
   ],
   "source": [
    "disaster.isna().sum()"
   ]
  },
  {
   "cell_type": "code",
   "execution_count": 23,
   "id": "10a39b51",
   "metadata": {},
   "outputs": [
    {
     "data": {
      "text/plain": [
       "array([1, 2, 3])"
      ]
     },
     "execution_count": 23,
     "metadata": {},
     "output_type": "execute_result"
    }
   ],
   "source": [
    "disaster['# of disaster'].unique()"
   ]
  },
  {
   "cell_type": "markdown",
   "id": "84ae6ad6",
   "metadata": {},
   "source": [
    "# Join tables"
   ]
  },
  {
   "cell_type": "code",
   "execution_count": 24,
   "id": "589efd98",
   "metadata": {},
   "outputs": [],
   "source": [
    "X = pd.merge(snap, warn, on=['Year', 'Month', 'State', 'County'], how='outer')"
   ]
  },
  {
   "cell_type": "code",
   "execution_count": 28,
   "id": "6328b423",
   "metadata": {},
   "outputs": [
    {
     "name": "stdout",
     "output_type": "stream",
     "text": [
      "<class 'pandas.core.frame.DataFrame'>\n",
      "Int64Index: 11231 entries, 0 to 11230\n",
      "Data columns (total 6 columns):\n",
      " #   Column             Non-Null Count  Dtype  \n",
      "---  ------             --------------  -----  \n",
      " 0   County             11231 non-null  object \n",
      " 1   SNAP_Applications  11231 non-null  int64  \n",
      " 2   Year               11231 non-null  int64  \n",
      " 3   Month              11231 non-null  int64  \n",
      " 4   State              11231 non-null  object \n",
      " 5   Number of Workers  11231 non-null  float64\n",
      "dtypes: float64(1), int64(3), object(2)\n",
      "memory usage: 614.2+ KB\n"
     ]
    }
   ],
   "source": [
    "X.info()"
   ]
  },
  {
   "cell_type": "code",
   "execution_count": 26,
   "id": "a717c47e",
   "metadata": {
    "scrolled": true
   },
   "outputs": [
    {
     "data": {
      "text/html": [
       "<div>\n",
       "<style scoped>\n",
       "    .dataframe tbody tr th:only-of-type {\n",
       "        vertical-align: middle;\n",
       "    }\n",
       "\n",
       "    .dataframe tbody tr th {\n",
       "        vertical-align: top;\n",
       "    }\n",
       "\n",
       "    .dataframe thead th {\n",
       "        text-align: right;\n",
       "    }\n",
       "</style>\n",
       "<table border=\"1\" class=\"dataframe\">\n",
       "  <thead>\n",
       "    <tr style=\"text-align: right;\">\n",
       "      <th></th>\n",
       "      <th>County</th>\n",
       "      <th>SNAP_Applications</th>\n",
       "      <th>Year</th>\n",
       "      <th>Month</th>\n",
       "      <th>State</th>\n",
       "      <th>Number of Workers</th>\n",
       "    </tr>\n",
       "  </thead>\n",
       "  <tbody>\n",
       "    <tr>\n",
       "      <th>0</th>\n",
       "      <td>Anderson</td>\n",
       "      <td>405</td>\n",
       "      <td>2019</td>\n",
       "      <td>1</td>\n",
       "      <td>Texas</td>\n",
       "      <td>NaN</td>\n",
       "    </tr>\n",
       "    <tr>\n",
       "      <th>1</th>\n",
       "      <td>Anderson</td>\n",
       "      <td>243</td>\n",
       "      <td>2019</td>\n",
       "      <td>2</td>\n",
       "      <td>Texas</td>\n",
       "      <td>NaN</td>\n",
       "    </tr>\n",
       "    <tr>\n",
       "      <th>2</th>\n",
       "      <td>Anderson</td>\n",
       "      <td>282</td>\n",
       "      <td>2019</td>\n",
       "      <td>3</td>\n",
       "      <td>Texas</td>\n",
       "      <td>NaN</td>\n",
       "    </tr>\n",
       "    <tr>\n",
       "      <th>3</th>\n",
       "      <td>Anderson</td>\n",
       "      <td>274</td>\n",
       "      <td>2019</td>\n",
       "      <td>4</td>\n",
       "      <td>Texas</td>\n",
       "      <td>NaN</td>\n",
       "    </tr>\n",
       "    <tr>\n",
       "      <th>4</th>\n",
       "      <td>Anderson</td>\n",
       "      <td>317</td>\n",
       "      <td>2019</td>\n",
       "      <td>5</td>\n",
       "      <td>Texas</td>\n",
       "      <td>NaN</td>\n",
       "    </tr>\n",
       "  </tbody>\n",
       "</table>\n",
       "</div>"
      ],
      "text/plain": [
       "     County  SNAP_Applications  Year  Month  State  Number of Workers\n",
       "0  Anderson                405  2019      1  Texas                NaN\n",
       "1  Anderson                243  2019      2  Texas                NaN\n",
       "2  Anderson                282  2019      3  Texas                NaN\n",
       "3  Anderson                274  2019      4  Texas                NaN\n",
       "4  Anderson                317  2019      5  Texas                NaN"
      ]
     },
     "execution_count": 26,
     "metadata": {},
     "output_type": "execute_result"
    }
   ],
   "source": [
    "X.head()"
   ]
  },
  {
   "cell_type": "code",
   "execution_count": 27,
   "id": "bb1fdeb6",
   "metadata": {},
   "outputs": [],
   "source": [
    "# fill nan with 0\n",
    "X = X.fillna(0)"
   ]
  },
  {
   "cell_type": "code",
   "execution_count": 29,
   "id": "d6beea19",
   "metadata": {},
   "outputs": [
    {
     "data": {
      "text/html": [
       "<div>\n",
       "<style scoped>\n",
       "    .dataframe tbody tr th:only-of-type {\n",
       "        vertical-align: middle;\n",
       "    }\n",
       "\n",
       "    .dataframe tbody tr th {\n",
       "        vertical-align: top;\n",
       "    }\n",
       "\n",
       "    .dataframe thead th {\n",
       "        text-align: right;\n",
       "    }\n",
       "</style>\n",
       "<table border=\"1\" class=\"dataframe\">\n",
       "  <thead>\n",
       "    <tr style=\"text-align: right;\">\n",
       "      <th></th>\n",
       "      <th>State</th>\n",
       "      <th>Year</th>\n",
       "      <th>Month</th>\n",
       "      <th>County</th>\n",
       "      <th># of disaster</th>\n",
       "    </tr>\n",
       "  </thead>\n",
       "  <tbody>\n",
       "    <tr>\n",
       "      <th>0</th>\n",
       "      <td>California</td>\n",
       "      <td>2019</td>\n",
       "      <td>3</td>\n",
       "      <td>Cahuilla Indian Reservation</td>\n",
       "      <td>1</td>\n",
       "    </tr>\n",
       "    <tr>\n",
       "      <th>1</th>\n",
       "      <td>California</td>\n",
       "      <td>2019</td>\n",
       "      <td>3</td>\n",
       "      <td>La Jolla Indian Reservation</td>\n",
       "      <td>1</td>\n",
       "    </tr>\n",
       "    <tr>\n",
       "      <th>2</th>\n",
       "      <td>California</td>\n",
       "      <td>2019</td>\n",
       "      <td>4</td>\n",
       "      <td>Soboba Indian Reservation</td>\n",
       "      <td>1</td>\n",
       "    </tr>\n",
       "    <tr>\n",
       "      <th>3</th>\n",
       "      <td>California</td>\n",
       "      <td>2019</td>\n",
       "      <td>5</td>\n",
       "      <td>Amador</td>\n",
       "      <td>1</td>\n",
       "    </tr>\n",
       "    <tr>\n",
       "      <th>4</th>\n",
       "      <td>California</td>\n",
       "      <td>2019</td>\n",
       "      <td>5</td>\n",
       "      <td>Butte</td>\n",
       "      <td>1</td>\n",
       "    </tr>\n",
       "  </tbody>\n",
       "</table>\n",
       "</div>"
      ],
      "text/plain": [
       "        State  Year  Month                       County  # of disaster\n",
       "0  California  2019      3  Cahuilla Indian Reservation              1\n",
       "1  California  2019      3  La Jolla Indian Reservation              1\n",
       "2  California  2019      4    Soboba Indian Reservation              1\n",
       "3  California  2019      5                       Amador              1\n",
       "4  California  2019      5                        Butte              1"
      ]
     },
     "execution_count": 29,
     "metadata": {},
     "output_type": "execute_result"
    }
   ],
   "source": [
    "disaster.head()"
   ]
  },
  {
   "cell_type": "code",
   "execution_count": 36,
   "id": "36eb5e36",
   "metadata": {},
   "outputs": [],
   "source": [
    "df = pd.merge(X, disaster, on=['Year', 'Month', 'State', 'County'], how='outer' )"
   ]
  },
  {
   "cell_type": "code",
   "execution_count": 31,
   "id": "9db0f5e9",
   "metadata": {
    "scrolled": true
   },
   "outputs": [
    {
     "data": {
      "text/plain": [
       "County                   0\n",
       "SNAP_Applications        9\n",
       "Year                     0\n",
       "Month                    0\n",
       "State                    0\n",
       "Number of Workers        9\n",
       "# of disaster        10420\n",
       "dtype: int64"
      ]
     },
     "execution_count": 31,
     "metadata": {},
     "output_type": "execute_result"
    }
   ],
   "source": [
    "df.isna().sum()"
   ]
  },
  {
   "cell_type": "code",
   "execution_count": 53,
   "id": "3bb117db",
   "metadata": {},
   "outputs": [
    {
     "name": "stdout",
     "output_type": "stream",
     "text": [
      "<class 'pandas.core.frame.DataFrame'>\n",
      "Int64Index: 11240 entries, 0 to 11239\n",
      "Data columns (total 7 columns):\n",
      " #   Column             Non-Null Count  Dtype  \n",
      "---  ------             --------------  -----  \n",
      " 0   County             11240 non-null  object \n",
      " 1   SNAP_Applications  11240 non-null  float64\n",
      " 2   Year               11240 non-null  int64  \n",
      " 3   Month              11240 non-null  int64  \n",
      " 4   State              11240 non-null  object \n",
      " 5   Number of Workers  11240 non-null  float64\n",
      " 6   # of disaster      11240 non-null  float64\n",
      "dtypes: float64(3), int64(2), object(2)\n",
      "memory usage: 960.5+ KB\n"
     ]
    }
   ],
   "source": [
    "df.info()"
   ]
  },
  {
   "cell_type": "code",
   "execution_count": 39,
   "id": "777f3189",
   "metadata": {},
   "outputs": [],
   "source": [
    "# fill nan with 0\n",
    "df = df.fillna(0)"
   ]
  },
  {
   "cell_type": "code",
   "execution_count": 43,
   "id": "5f4555a4",
   "metadata": {
    "scrolled": true
   },
   "outputs": [
    {
     "data": {
      "text/plain": [
       "'Anderson'"
      ]
     },
     "execution_count": 43,
     "metadata": {},
     "output_type": "execute_result"
    }
   ],
   "source": [
    "df.County[3]"
   ]
  },
  {
   "cell_type": "code",
   "execution_count": 49,
   "id": "b2a9f920",
   "metadata": {
    "scrolled": true
   },
   "outputs": [],
   "source": [
    "# check number of reservation\n",
    "idx = []\n",
    "\n",
    "for i in range(len(df)):\n",
    "    if df.County[i].__contains__('Reservation'):\n",
    "        idx.append(i)\n",
    "        \n",
    "    if df.County[i].__contains__('reservation'):\n",
    "        idx.append(i)"
   ]
  },
  {
   "cell_type": "code",
   "execution_count": 51,
   "id": "81ed62b2",
   "metadata": {},
   "outputs": [
    {
     "data": {
      "text/plain": [
       "[11231, 11232, 11233, 11234, 11235, 11237, 11238]"
      ]
     },
     "execution_count": 51,
     "metadata": {},
     "output_type": "execute_result"
    }
   ],
   "source": [
    "idx"
   ]
  },
  {
   "cell_type": "code",
   "execution_count": null,
   "id": "bac1b4d6",
   "metadata": {},
   "outputs": [],
   "source": []
  },
  {
   "cell_type": "code",
   "execution_count": null,
   "id": "1e53f8cc",
   "metadata": {},
   "outputs": [],
   "source": []
  },
  {
   "cell_type": "code",
   "execution_count": 55,
   "id": "fefdedc0",
   "metadata": {},
   "outputs": [],
   "source": [
    "# output the excal\n",
    "\n",
    "df.to_excel('snap_warn_disaster.xlsx')"
   ]
  }
 ],
 "metadata": {
  "kernelspec": {
   "display_name": "Python 3 (ipykernel)",
   "language": "python",
   "name": "python3"
  },
  "language_info": {
   "codemirror_mode": {
    "name": "ipython",
    "version": 3
   },
   "file_extension": ".py",
   "mimetype": "text/x-python",
   "name": "python",
   "nbconvert_exporter": "python",
   "pygments_lexer": "ipython3",
   "version": "3.9.13"
  }
 },
 "nbformat": 4,
 "nbformat_minor": 5
}
