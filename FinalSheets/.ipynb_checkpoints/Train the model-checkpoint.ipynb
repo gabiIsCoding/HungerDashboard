{
 "cells": [
  {
   "cell_type": "markdown",
   "id": "490faab0",
   "metadata": {},
   "source": [
    "# Regression Model"
   ]
  },
  {
   "cell_type": "markdown",
   "id": "44dc199a",
   "metadata": {},
   "source": [
    "## Load Data"
   ]
  },
  {
   "cell_type": "code",
   "execution_count": 1,
   "id": "5e2c44c7",
   "metadata": {},
   "outputs": [
    {
     "data": {
      "application/javascript": [
       "IPython.notebook.set_autosave_interval(20000)"
      ]
     },
     "metadata": {},
     "output_type": "display_data"
    },
    {
     "name": "stdout",
     "output_type": "stream",
     "text": [
      "Autosaving every 20 seconds\n"
     ]
    }
   ],
   "source": [
    "%autosave 20\n",
    "\n",
    "#basic library\n",
    "import pandas as pd\n",
    "import numpy as np\n",
    "import collections\n",
    "from collections import defaultdict\n",
    "\n",
    "\n",
    "#model training\n",
    "from sklearn.linear_model import LinearRegression\n",
    "from sklearn.model_selection import train_test_split\n",
    "from sklearn.preprocessing import StandardScaler\n",
    "\n",
    "\n",
    "# visulization\n",
    "import matplotlib.pyplot as plt\n",
    "\n",
    "\n",
    "# print all the outputs in a cell\n",
    "from IPython.core.interactiveshell import InteractiveShell\n",
    "InteractiveShell.ast_node_interactivity = \"all\"\n",
    "\n",
    "\n",
    "pd.set_option('display.max_columns', None)\n",
    "pd.set_option('display.max_rows', None)"
   ]
  },
  {
   "cell_type": "code",
   "execution_count": 2,
   "id": "53260528",
   "metadata": {},
   "outputs": [],
   "source": [
    "df = pd.read_excel('databaseForFunction.xlsx', index_col=0)"
   ]
  },
  {
   "cell_type": "code",
   "execution_count": 3,
   "id": "26785bbd",
   "metadata": {
    "scrolled": false
   },
   "outputs": [
    {
     "data": {
      "text/html": [
       "<div>\n",
       "<style scoped>\n",
       "    .dataframe tbody tr th:only-of-type {\n",
       "        vertical-align: middle;\n",
       "    }\n",
       "\n",
       "    .dataframe tbody tr th {\n",
       "        vertical-align: top;\n",
       "    }\n",
       "\n",
       "    .dataframe thead th {\n",
       "        text-align: right;\n",
       "    }\n",
       "</style>\n",
       "<table border=\"1\" class=\"dataframe\">\n",
       "  <thead>\n",
       "    <tr style=\"text-align: right;\">\n",
       "      <th></th>\n",
       "      <th>State</th>\n",
       "      <th>County</th>\n",
       "      <th>Year</th>\n",
       "      <th>Month</th>\n",
       "      <th>PDensity</th>\n",
       "      <th>Population</th>\n",
       "      <th>SNAP_Applications</th>\n",
       "      <th>numberOfWorkers</th>\n",
       "      <th>numberOfDisaster</th>\n",
       "      <th>google_calfresh</th>\n",
       "      <th>google_food_bank</th>\n",
       "      <th>google_food_pantry</th>\n",
       "      <th>google_food_stamps</th>\n",
       "      <th>google_supplemental</th>\n",
       "      <th>google_snap</th>\n",
       "      <th>date_time</th>\n",
       "      <th>last_date_time</th>\n",
       "      <th>last_snap</th>\n",
       "      <th>last_worker</th>\n",
       "      <th>last_disaster</th>\n",
       "      <th>last_google_calfresh</th>\n",
       "      <th>last_google_food_bank</th>\n",
       "      <th>last_google_food_pantry</th>\n",
       "      <th>last_google_food_stamps</th>\n",
       "      <th>last_google_supplemental</th>\n",
       "      <th>last_google_snap</th>\n",
       "    </tr>\n",
       "  </thead>\n",
       "  <tbody>\n",
       "    <tr>\n",
       "      <th>0</th>\n",
       "      <td>California</td>\n",
       "      <td>Alameda</td>\n",
       "      <td>2019</td>\n",
       "      <td>1</td>\n",
       "      <td>1898.5</td>\n",
       "      <td>1559308</td>\n",
       "      <td>5515</td>\n",
       "      <td>45</td>\n",
       "      <td>0</td>\n",
       "      <td>24.00</td>\n",
       "      <td>28.75</td>\n",
       "      <td>38.00</td>\n",
       "      <td>55.50</td>\n",
       "      <td>54.50</td>\n",
       "      <td>0.0</td>\n",
       "      <td>2019-01-01</td>\n",
       "      <td>2018-12-01</td>\n",
       "      <td>0</td>\n",
       "      <td>0</td>\n",
       "      <td>0</td>\n",
       "      <td>0.00</td>\n",
       "      <td>0.00</td>\n",
       "      <td>0.00</td>\n",
       "      <td>0.00</td>\n",
       "      <td>0.00</td>\n",
       "      <td>0.0</td>\n",
       "    </tr>\n",
       "    <tr>\n",
       "      <th>1</th>\n",
       "      <td>California</td>\n",
       "      <td>Alameda</td>\n",
       "      <td>2019</td>\n",
       "      <td>2</td>\n",
       "      <td>1898.5</td>\n",
       "      <td>1559308</td>\n",
       "      <td>4478</td>\n",
       "      <td>397</td>\n",
       "      <td>0</td>\n",
       "      <td>27.25</td>\n",
       "      <td>27.75</td>\n",
       "      <td>38.75</td>\n",
       "      <td>31.25</td>\n",
       "      <td>36.75</td>\n",
       "      <td>0.0</td>\n",
       "      <td>2019-02-01</td>\n",
       "      <td>2019-01-01</td>\n",
       "      <td>5515</td>\n",
       "      <td>45</td>\n",
       "      <td>0</td>\n",
       "      <td>24.00</td>\n",
       "      <td>28.75</td>\n",
       "      <td>38.00</td>\n",
       "      <td>55.50</td>\n",
       "      <td>54.50</td>\n",
       "      <td>0.0</td>\n",
       "    </tr>\n",
       "    <tr>\n",
       "      <th>2</th>\n",
       "      <td>California</td>\n",
       "      <td>Alameda</td>\n",
       "      <td>2019</td>\n",
       "      <td>3</td>\n",
       "      <td>1898.5</td>\n",
       "      <td>1559308</td>\n",
       "      <td>5041</td>\n",
       "      <td>191</td>\n",
       "      <td>0</td>\n",
       "      <td>19.60</td>\n",
       "      <td>23.20</td>\n",
       "      <td>33.80</td>\n",
       "      <td>31.80</td>\n",
       "      <td>35.20</td>\n",
       "      <td>0.0</td>\n",
       "      <td>2019-03-01</td>\n",
       "      <td>2019-02-01</td>\n",
       "      <td>4478</td>\n",
       "      <td>397</td>\n",
       "      <td>0</td>\n",
       "      <td>27.25</td>\n",
       "      <td>27.75</td>\n",
       "      <td>38.75</td>\n",
       "      <td>31.25</td>\n",
       "      <td>36.75</td>\n",
       "      <td>0.0</td>\n",
       "    </tr>\n",
       "    <tr>\n",
       "      <th>3</th>\n",
       "      <td>California</td>\n",
       "      <td>Alameda</td>\n",
       "      <td>2019</td>\n",
       "      <td>4</td>\n",
       "      <td>1898.5</td>\n",
       "      <td>1559308</td>\n",
       "      <td>5253</td>\n",
       "      <td>808</td>\n",
       "      <td>0</td>\n",
       "      <td>23.25</td>\n",
       "      <td>22.50</td>\n",
       "      <td>35.50</td>\n",
       "      <td>22.00</td>\n",
       "      <td>29.25</td>\n",
       "      <td>0.0</td>\n",
       "      <td>2019-04-01</td>\n",
       "      <td>2019-03-01</td>\n",
       "      <td>5041</td>\n",
       "      <td>191</td>\n",
       "      <td>0</td>\n",
       "      <td>19.60</td>\n",
       "      <td>23.20</td>\n",
       "      <td>33.80</td>\n",
       "      <td>31.80</td>\n",
       "      <td>35.20</td>\n",
       "      <td>0.0</td>\n",
       "    </tr>\n",
       "    <tr>\n",
       "      <th>4</th>\n",
       "      <td>California</td>\n",
       "      <td>Alameda</td>\n",
       "      <td>2019</td>\n",
       "      <td>5</td>\n",
       "      <td>1898.5</td>\n",
       "      <td>1559308</td>\n",
       "      <td>8074</td>\n",
       "      <td>502</td>\n",
       "      <td>0</td>\n",
       "      <td>35.00</td>\n",
       "      <td>26.75</td>\n",
       "      <td>31.50</td>\n",
       "      <td>29.50</td>\n",
       "      <td>31.25</td>\n",
       "      <td>0.0</td>\n",
       "      <td>2019-05-01</td>\n",
       "      <td>2019-04-01</td>\n",
       "      <td>5253</td>\n",
       "      <td>808</td>\n",
       "      <td>0</td>\n",
       "      <td>23.25</td>\n",
       "      <td>22.50</td>\n",
       "      <td>35.50</td>\n",
       "      <td>22.00</td>\n",
       "      <td>29.25</td>\n",
       "      <td>0.0</td>\n",
       "    </tr>\n",
       "  </tbody>\n",
       "</table>\n",
       "</div>"
      ],
      "text/plain": [
       "        State   County  Year  Month  PDensity  Population  SNAP_Applications  \\\n",
       "0  California  Alameda  2019      1    1898.5     1559308               5515   \n",
       "1  California  Alameda  2019      2    1898.5     1559308               4478   \n",
       "2  California  Alameda  2019      3    1898.5     1559308               5041   \n",
       "3  California  Alameda  2019      4    1898.5     1559308               5253   \n",
       "4  California  Alameda  2019      5    1898.5     1559308               8074   \n",
       "\n",
       "   numberOfWorkers  numberOfDisaster  google_calfresh  google_food_bank  \\\n",
       "0               45                 0            24.00             28.75   \n",
       "1              397                 0            27.25             27.75   \n",
       "2              191                 0            19.60             23.20   \n",
       "3              808                 0            23.25             22.50   \n",
       "4              502                 0            35.00             26.75   \n",
       "\n",
       "   google_food_pantry  google_food_stamps  google_supplemental  google_snap  \\\n",
       "0               38.00               55.50                54.50          0.0   \n",
       "1               38.75               31.25                36.75          0.0   \n",
       "2               33.80               31.80                35.20          0.0   \n",
       "3               35.50               22.00                29.25          0.0   \n",
       "4               31.50               29.50                31.25          0.0   \n",
       "\n",
       "   date_time last_date_time  last_snap  last_worker  last_disaster  \\\n",
       "0 2019-01-01     2018-12-01          0            0              0   \n",
       "1 2019-02-01     2019-01-01       5515           45              0   \n",
       "2 2019-03-01     2019-02-01       4478          397              0   \n",
       "3 2019-04-01     2019-03-01       5041          191              0   \n",
       "4 2019-05-01     2019-04-01       5253          808              0   \n",
       "\n",
       "   last_google_calfresh  last_google_food_bank  last_google_food_pantry  \\\n",
       "0                  0.00                   0.00                     0.00   \n",
       "1                 24.00                  28.75                    38.00   \n",
       "2                 27.25                  27.75                    38.75   \n",
       "3                 19.60                  23.20                    33.80   \n",
       "4                 23.25                  22.50                    35.50   \n",
       "\n",
       "   last_google_food_stamps  last_google_supplemental  last_google_snap  \n",
       "0                     0.00                      0.00               0.0  \n",
       "1                    55.50                     54.50               0.0  \n",
       "2                    31.25                     36.75               0.0  \n",
       "3                    31.80                     35.20               0.0  \n",
       "4                    22.00                     29.25               0.0  "
      ]
     },
     "execution_count": 3,
     "metadata": {},
     "output_type": "execute_result"
    }
   ],
   "source": [
    "df.head()"
   ]
  },
  {
   "cell_type": "markdown",
   "id": "a4c8823d",
   "metadata": {},
   "source": [
    "## Choose columns to train \n",
    "- use last month date to predict this month's snap applications"
   ]
  },
  {
   "cell_type": "code",
   "execution_count": 4,
   "id": "5745ee51",
   "metadata": {},
   "outputs": [],
   "source": [
    "col_keepinmodel = list(df.columns)"
   ]
  },
  {
   "cell_type": "code",
   "execution_count": 5,
   "id": "bcb00bdb",
   "metadata": {
    "scrolled": true
   },
   "outputs": [
    {
     "data": {
      "text/plain": [
       "['PDensity',\n",
       " 'Population',\n",
       " 'SNAP_Applications',\n",
       " 'last_snap',\n",
       " 'last_worker',\n",
       " 'last_disaster',\n",
       " 'last_google_calfresh',\n",
       " 'last_google_food_bank',\n",
       " 'last_google_food_pantry',\n",
       " 'last_google_food_stamps',\n",
       " 'last_google_supplemental',\n",
       " 'last_google_snap']"
      ]
     },
     "execution_count": 5,
     "metadata": {},
     "output_type": "execute_result"
    }
   ],
   "source": [
    "coltomove = ['State','County','Year','Month', 'date_time','last_date_time', \\\n",
    "             'numberOfWorkers', 'numberOfDisaster','google_calfresh',\\\n",
    "             'google_food_bank','google_food_pantry','google_food_stamps',\\\n",
    "             'google_supplemental','google_snap',]\n",
    "\n",
    "for c in coltomove:\n",
    "    col_keepinmodel.remove(c)\n",
    "    \n",
    "col_keepinmodel"
   ]
  },
  {
   "cell_type": "code",
   "execution_count": 6,
   "id": "f1864ebc",
   "metadata": {},
   "outputs": [],
   "source": [
    "df = df[col_keepinmodel]"
   ]
  },
  {
   "cell_type": "code",
   "execution_count": 7,
   "id": "85687967",
   "metadata": {
    "scrolled": true
   },
   "outputs": [
    {
     "data": {
      "text/html": [
       "<div>\n",
       "<style scoped>\n",
       "    .dataframe tbody tr th:only-of-type {\n",
       "        vertical-align: middle;\n",
       "    }\n",
       "\n",
       "    .dataframe tbody tr th {\n",
       "        vertical-align: top;\n",
       "    }\n",
       "\n",
       "    .dataframe thead th {\n",
       "        text-align: right;\n",
       "    }\n",
       "</style>\n",
       "<table border=\"1\" class=\"dataframe\">\n",
       "  <thead>\n",
       "    <tr style=\"text-align: right;\">\n",
       "      <th></th>\n",
       "      <th>PDensity</th>\n",
       "      <th>Population</th>\n",
       "      <th>SNAP_Applications</th>\n",
       "      <th>last_snap</th>\n",
       "      <th>last_worker</th>\n",
       "      <th>last_disaster</th>\n",
       "      <th>last_google_calfresh</th>\n",
       "      <th>last_google_food_bank</th>\n",
       "      <th>last_google_food_pantry</th>\n",
       "      <th>last_google_food_stamps</th>\n",
       "      <th>last_google_supplemental</th>\n",
       "      <th>last_google_snap</th>\n",
       "    </tr>\n",
       "  </thead>\n",
       "  <tbody>\n",
       "    <tr>\n",
       "      <th>0</th>\n",
       "      <td>1898.5</td>\n",
       "      <td>1559308</td>\n",
       "      <td>5515</td>\n",
       "      <td>0</td>\n",
       "      <td>0</td>\n",
       "      <td>0</td>\n",
       "      <td>0.00</td>\n",
       "      <td>0.00</td>\n",
       "      <td>0.00</td>\n",
       "      <td>0.00</td>\n",
       "      <td>0.00</td>\n",
       "      <td>0.0</td>\n",
       "    </tr>\n",
       "    <tr>\n",
       "      <th>1</th>\n",
       "      <td>1898.5</td>\n",
       "      <td>1559308</td>\n",
       "      <td>4478</td>\n",
       "      <td>5515</td>\n",
       "      <td>45</td>\n",
       "      <td>0</td>\n",
       "      <td>24.00</td>\n",
       "      <td>28.75</td>\n",
       "      <td>38.00</td>\n",
       "      <td>55.50</td>\n",
       "      <td>54.50</td>\n",
       "      <td>0.0</td>\n",
       "    </tr>\n",
       "    <tr>\n",
       "      <th>2</th>\n",
       "      <td>1898.5</td>\n",
       "      <td>1559308</td>\n",
       "      <td>5041</td>\n",
       "      <td>4478</td>\n",
       "      <td>397</td>\n",
       "      <td>0</td>\n",
       "      <td>27.25</td>\n",
       "      <td>27.75</td>\n",
       "      <td>38.75</td>\n",
       "      <td>31.25</td>\n",
       "      <td>36.75</td>\n",
       "      <td>0.0</td>\n",
       "    </tr>\n",
       "    <tr>\n",
       "      <th>3</th>\n",
       "      <td>1898.5</td>\n",
       "      <td>1559308</td>\n",
       "      <td>5253</td>\n",
       "      <td>5041</td>\n",
       "      <td>191</td>\n",
       "      <td>0</td>\n",
       "      <td>19.60</td>\n",
       "      <td>23.20</td>\n",
       "      <td>33.80</td>\n",
       "      <td>31.80</td>\n",
       "      <td>35.20</td>\n",
       "      <td>0.0</td>\n",
       "    </tr>\n",
       "    <tr>\n",
       "      <th>4</th>\n",
       "      <td>1898.5</td>\n",
       "      <td>1559308</td>\n",
       "      <td>8074</td>\n",
       "      <td>5253</td>\n",
       "      <td>808</td>\n",
       "      <td>0</td>\n",
       "      <td>23.25</td>\n",
       "      <td>22.50</td>\n",
       "      <td>35.50</td>\n",
       "      <td>22.00</td>\n",
       "      <td>29.25</td>\n",
       "      <td>0.0</td>\n",
       "    </tr>\n",
       "  </tbody>\n",
       "</table>\n",
       "</div>"
      ],
      "text/plain": [
       "   PDensity  Population  SNAP_Applications  last_snap  last_worker  \\\n",
       "0    1898.5     1559308               5515          0            0   \n",
       "1    1898.5     1559308               4478       5515           45   \n",
       "2    1898.5     1559308               5041       4478          397   \n",
       "3    1898.5     1559308               5253       5041          191   \n",
       "4    1898.5     1559308               8074       5253          808   \n",
       "\n",
       "   last_disaster  last_google_calfresh  last_google_food_bank  \\\n",
       "0              0                  0.00                   0.00   \n",
       "1              0                 24.00                  28.75   \n",
       "2              0                 27.25                  27.75   \n",
       "3              0                 19.60                  23.20   \n",
       "4              0                 23.25                  22.50   \n",
       "\n",
       "   last_google_food_pantry  last_google_food_stamps  last_google_supplemental  \\\n",
       "0                     0.00                     0.00                      0.00   \n",
       "1                    38.00                    55.50                     54.50   \n",
       "2                    38.75                    31.25                     36.75   \n",
       "3                    33.80                    31.80                     35.20   \n",
       "4                    35.50                    22.00                     29.25   \n",
       "\n",
       "   last_google_snap  \n",
       "0               0.0  \n",
       "1               0.0  \n",
       "2               0.0  \n",
       "3               0.0  \n",
       "4               0.0  "
      ]
     },
     "execution_count": 7,
     "metadata": {},
     "output_type": "execute_result"
    }
   ],
   "source": [
    "df.head()"
   ]
  },
  {
   "cell_type": "markdown",
   "id": "d72dc394",
   "metadata": {},
   "source": [
    "# Build the Model"
   ]
  },
  {
   "cell_type": "markdown",
   "id": "6e4359a6",
   "metadata": {},
   "source": [
    "#### 1. check the correlation"
   ]
  },
  {
   "cell_type": "code",
   "execution_count": 8,
   "id": "815e367a",
   "metadata": {},
   "outputs": [
    {
     "data": {
      "text/plain": [
       "PDensity                    0.631942\n",
       "Population                  0.933607\n",
       "SNAP_Applications           1.000000\n",
       "last_snap                   0.947601\n",
       "last_worker                 0.392523\n",
       "last_disaster               0.036997\n",
       "last_google_calfresh        0.192687\n",
       "last_google_food_bank       0.004543\n",
       "last_google_food_pantry     0.011594\n",
       "last_google_food_stamps     0.045971\n",
       "last_google_supplemental    0.043198\n",
       "last_google_snap           -0.185326\n",
       "Name: SNAP_Applications, dtype: float64"
      ]
     },
     "execution_count": 8,
     "metadata": {},
     "output_type": "execute_result"
    }
   ],
   "source": [
    "df.corr()['SNAP_Applications']"
   ]
  },
  {
   "cell_type": "code",
   "execution_count": 9,
   "id": "e4f4a7d6",
   "metadata": {},
   "outputs": [],
   "source": [
    "X = df.drop(columns=['SNAP_Applications'])\n",
    "y = df.SNAP_Applications"
   ]
  },
  {
   "cell_type": "code",
   "execution_count": 10,
   "id": "1c88ecff",
   "metadata": {},
   "outputs": [],
   "source": [
    "features_ = X.columns"
   ]
  },
  {
   "cell_type": "code",
   "execution_count": 11,
   "id": "680fa1de",
   "metadata": {},
   "outputs": [
    {
     "data": {
      "text/plain": [
       "<matplotlib.collections.PathCollection at 0x7f833b4d39a0>"
      ]
     },
     "execution_count": 11,
     "metadata": {},
     "output_type": "execute_result"
    },
    {
     "data": {
      "image/png": "[encoded data removed]",
      "text/plain": [
       "<Figure size 640x480 with 1 Axes>"
      ]
     },
     "metadata": {},
     "output_type": "display_data"
    }
   ],
   "source": [
    "plt.scatter(X.last_worker, y)"
   ]
  },
  {
   "cell_type": "markdown",
   "id": "50c5c5e5",
   "metadata": {},
   "source": [
    "#### 2. Scale the data and train the model"
   ]
  },
  {
   "cell_type": "code",
   "execution_count": 12,
   "id": "7f18f421",
   "metadata": {
    "scrolled": true
   },
   "outputs": [
    {
     "name": "stdout",
     "output_type": "stream",
     "text": [
      "Coefficients: [-145.20471668 2298.65305885 2835.45233205 -102.6550325   145.57700694\n",
      " -127.36035478   85.35986623  -73.23208283  100.21297034 -189.21821589\n",
      "   19.683445  ]\n",
      "Intercept: 1313.567670874957\n"
     ]
    }
   ],
   "source": [
    "# scale the data \n",
    "scaler = StandardScaler()\n",
    "X = scaler.fit_transform(X)\n",
    "\n",
    "# Split the data into training and testing sets\n",
    "X_train, X_test, y_train, y_test = train_test_split(X, y, test_size=0.15, random_state=42)\n",
    "\n",
    "# Create a LinearRegression object and fit the training data\n",
    "reg = LinearRegression().fit(X_train, y_train)\n",
    "\n",
    "# Print the coefficients and intercept\n",
    "print('Coefficients:', reg.coef_)\n",
    "print('Intercept:', reg.intercept_)\n",
    "\n",
    "# Make predictions on the test set\n",
    "y_pred_test = reg.predict(X_test)\n",
    "\n",
    "# Make predictions on the train set\n",
    "y_pred_train = reg.predict(X_train)"
   ]
  },
  {
   "cell_type": "code",
   "execution_count": 21,
   "id": "2757ea29",
   "metadata": {},
   "outputs": [],
   "source": [
    "coef = reg.coef_\n",
    "\n",
    "coef_dic = collections.defaultdict(float)\n",
    "\n",
    "for i in range(len(coef)):\n",
    "    coef_dic[features_[i]] = coef[i]"
   ]
  },
  {
   "cell_type": "code",
   "execution_count": 33,
   "id": "294a81ca",
   "metadata": {
    "scrolled": true
   },
   "outputs": [
    {
     "data": {
      "text/html": [
       "<div>\n",
       "<style scoped>\n",
       "    .dataframe tbody tr th:only-of-type {\n",
       "        vertical-align: middle;\n",
       "    }\n",
       "\n",
       "    .dataframe tbody tr th {\n",
       "        vertical-align: top;\n",
       "    }\n",
       "\n",
       "    .dataframe thead th {\n",
       "        text-align: right;\n",
       "    }\n",
       "</style>\n",
       "<table border=\"1\" class=\"dataframe\">\n",
       "  <thead>\n",
       "    <tr style=\"text-align: right;\">\n",
       "      <th></th>\n",
       "      <th>coef_</th>\n",
       "    </tr>\n",
       "  </thead>\n",
       "  <tbody>\n",
       "    <tr>\n",
       "      <th>PDensity</th>\n",
       "      <td>-145.204717</td>\n",
       "    </tr>\n",
       "    <tr>\n",
       "      <th>Population</th>\n",
       "      <td>2298.653059</td>\n",
       "    </tr>\n",
       "    <tr>\n",
       "      <th>last_snap</th>\n",
       "      <td>2835.452332</td>\n",
       "    </tr>\n",
       "    <tr>\n",
       "      <th>last_worker</th>\n",
       "      <td>-102.655032</td>\n",
       "    </tr>\n",
       "    <tr>\n",
       "      <th>last_disaster</th>\n",
       "      <td>145.577007</td>\n",
       "    </tr>\n",
       "    <tr>\n",
       "      <th>last_google_calfresh</th>\n",
       "      <td>-127.360355</td>\n",
       "    </tr>\n",
       "    <tr>\n",
       "      <th>last_google_food_bank</th>\n",
       "      <td>85.359866</td>\n",
       "    </tr>\n",
       "    <tr>\n",
       "      <th>last_google_food_pantry</th>\n",
       "      <td>-73.232083</td>\n",
       "    </tr>\n",
       "    <tr>\n",
       "      <th>last_google_food_stamps</th>\n",
       "      <td>100.212970</td>\n",
       "    </tr>\n",
       "    <tr>\n",
       "      <th>last_google_supplemental</th>\n",
       "      <td>-189.218216</td>\n",
       "    </tr>\n",
       "    <tr>\n",
       "      <th>last_google_snap</th>\n",
       "      <td>19.683445</td>\n",
       "    </tr>\n",
       "  </tbody>\n",
       "</table>\n",
       "</div>"
      ],
      "text/plain": [
       "                                coef_\n",
       "PDensity                  -145.204717\n",
       "Population                2298.653059\n",
       "last_snap                 2835.452332\n",
       "last_worker               -102.655032\n",
       "last_disaster              145.577007\n",
       "last_google_calfresh      -127.360355\n",
       "last_google_food_bank       85.359866\n",
       "last_google_food_pantry    -73.232083\n",
       "last_google_food_stamps    100.212970\n",
       "last_google_supplemental  -189.218216\n",
       "last_google_snap            19.683445"
      ]
     },
     "execution_count": 33,
     "metadata": {},
     "output_type": "execute_result"
    }
   ],
   "source": [
    "pd.DataFrame(coef_dic, index=['coef_']).T"
   ]
  },
  {
   "cell_type": "markdown",
   "id": "2bb861bd",
   "metadata": {},
   "source": [
    "#### 3. evalute the result"
   ]
  },
  {
   "cell_type": "code",
   "execution_count": 14,
   "id": "2b3f7a9a",
   "metadata": {},
   "outputs": [],
   "source": [
    "# evalute the train data\n",
    "\n",
    "from sklearn.metrics import mean_squared_error\n",
    "mse = mean_squared_error(y_train, y_pred_train)\n",
    "\n",
    "from sklearn.metrics import r2_score\n",
    "r2 = r2_score(y_train, y_pred_train)\n",
    "\n",
    "from sklearn.metrics import mean_absolute_error\n",
    "mae = mean_absolute_error(y_train, y_pred_train)\n",
    "\n",
    "from sklearn.metrics import mean_squared_error\n",
    "rmse = np.sqrt(mean_squared_error(y_train, y_pred_train))\n",
    "\n",
    "train_loss = {'MSE':[mse], 'R2':[r2], 'MAE':[mae], 'RMSE':[rmse]}"
   ]
  },
  {
   "cell_type": "code",
   "execution_count": 15,
   "id": "979814ba",
   "metadata": {},
   "outputs": [],
   "source": [
    "# evalute the test data\n",
    "\n",
    "from sklearn.metrics import mean_squared_error\n",
    "mse = mean_squared_error(y_test, y_pred_test)\n",
    "\n",
    "from sklearn.metrics import r2_score\n",
    "r2 = r2_score(y_test, y_pred_test)\n",
    "\n",
    "from sklearn.metrics import mean_absolute_error\n",
    "mae = mean_absolute_error(y_test, y_pred_test)\n",
    "\n",
    "from sklearn.metrics import mean_squared_error\n",
    "rmse = np.sqrt(mean_squared_error(y_test, y_pred_test))\n",
    "\n",
    "test_loss = {'MSE':[mse], 'R2':[r2], 'MAE':[mae], 'RMSE':[rmse]}"
   ]
  },
  {
   "cell_type": "code",
   "execution_count": 16,
   "id": "83138364",
   "metadata": {},
   "outputs": [
    {
     "data": {
      "text/html": [
       "<div>\n",
       "<style scoped>\n",
       "    .dataframe tbody tr th:only-of-type {\n",
       "        vertical-align: middle;\n",
       "    }\n",
       "\n",
       "    .dataframe tbody tr th {\n",
       "        vertical-align: top;\n",
       "    }\n",
       "\n",
       "    .dataframe thead th {\n",
       "        text-align: right;\n",
       "    }\n",
       "</style>\n",
       "<table border=\"1\" class=\"dataframe\">\n",
       "  <thead>\n",
       "    <tr style=\"text-align: right;\">\n",
       "      <th></th>\n",
       "      <th>MSE</th>\n",
       "      <th>R2</th>\n",
       "      <th>MAE</th>\n",
       "      <th>RMSE</th>\n",
       "    </tr>\n",
       "  </thead>\n",
       "  <tbody>\n",
       "    <tr>\n",
       "      <th>train_loss</th>\n",
       "      <td>1.983703e+06</td>\n",
       "      <td>0.922419</td>\n",
       "      <td>337.308324</td>\n",
       "      <td>1408.439882</td>\n",
       "    </tr>\n",
       "    <tr>\n",
       "      <th>test_loss</th>\n",
       "      <td>1.118067e+06</td>\n",
       "      <td>0.943033</td>\n",
       "      <td>327.032412</td>\n",
       "      <td>1057.386996</td>\n",
       "    </tr>\n",
       "  </tbody>\n",
       "</table>\n",
       "</div>"
      ],
      "text/plain": [
       "                     MSE        R2         MAE         RMSE\n",
       "train_loss  1.983703e+06  0.922419  337.308324  1408.439882\n",
       "test_loss   1.118067e+06  0.943033  327.032412  1057.386996"
      ]
     },
     "execution_count": 16,
     "metadata": {},
     "output_type": "execute_result"
    }
   ],
   "source": [
    "# visulization\n",
    "\n",
    "import matplotlib.pyplot as plt\n",
    "\n",
    "# convert the data to pandas dataframes\n",
    "df1 = pd.DataFrame(train_loss)\n",
    "df2 = pd.DataFrame(test_loss)\n",
    "                   \n",
    "index_labels=['train_loss','test_loss']\n",
    "\n",
    "# merge the dataframes\n",
    "df = pd.concat([df1,df2], ignore_index=True)\n",
    "df = df.rename(index = {0:'train_loss', 1:'test_loss'})\n",
    "\n",
    "df"
   ]
  }
 ],
 "metadata": {
  "kernelspec": {
   "display_name": "Python 3 (ipykernel)",
   "language": "python",
   "name": "python3"
  },
  "language_info": {
   "codemirror_mode": {
    "name": "ipython",
    "version": 3
   },
   "file_extension": ".py",
   "mimetype": "text/x-python",
   "name": "python",
   "nbconvert_exporter": "python",
   "pygments_lexer": "ipython3",
   "version": "3.9.13"
  }
 },
 "nbformat": 4,
 "nbformat_minor": 5
}
