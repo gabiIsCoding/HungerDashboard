{
 "cells": [
  {
   "cell_type": "markdown",
   "id": "490faab0",
   "metadata": {},
   "source": [
    "# Regression Model"
   ]
  },
  {
   "cell_type": "markdown",
   "id": "44dc199a",
   "metadata": {},
   "source": [
    "## Load Data"
   ]
  },
  {
   "cell_type": "code",
   "execution_count": 1,
   "id": "5e2c44c7",
   "metadata": {},
   "outputs": [
    {
     "data": {
      "application/javascript": [
       "IPython.notebook.set_autosave_interval(20000)"
      ]
     },
     "metadata": {},
     "output_type": "display_data"
    },
    {
     "name": "stdout",
     "output_type": "stream",
     "text": [
      "Autosaving every 20 seconds\n"
     ]
    }
   ],
   "source": [
    "%autosave 20\n",
    "\n",
    "#basic library\n",
    "import pandas as pd\n",
    "import numpy as np\n",
    "import collections\n",
    "from collections import defaultdict\n",
    "\n",
    "\n",
    "#model training\n",
    "from sklearn.linear_model import LinearRegression\n",
    "from sklearn.model_selection import train_test_split\n",
    "from sklearn.preprocessing import StandardScaler\n",
    "\n",
    "\n",
    "# visulization\n",
    "import matplotlib.pyplot as plt\n",
    "\n",
    "\n",
    "# print all the outputs in a cell\n",
    "from IPython.core.interactiveshell import InteractiveShell\n",
    "InteractiveShell.ast_node_interactivity = \"all\"\n",
    "\n",
    "\n",
    "pd.set_option('display.max_columns', None)\n",
    "pd.set_option('display.max_rows', None)"
   ]
  },
  {
   "cell_type": "code",
   "execution_count": 2,
   "id": "53260528",
   "metadata": {},
   "outputs": [],
   "source": [
    "df = pd.read_excel('databaseForFunction.xlsx', index_col=0)"
   ]
  },
  {
   "cell_type": "code",
   "execution_count": 3,
   "id": "26785bbd",
   "metadata": {
    "scrolled": true
   },
   "outputs": [
    {
     "data": {
      "text/html": [
       "<div>\n",
       "<style scoped>\n",
       "    .dataframe tbody tr th:only-of-type {\n",
       "        vertical-align: middle;\n",
       "    }\n",
       "\n",
       "    .dataframe tbody tr th {\n",
       "        vertical-align: top;\n",
       "    }\n",
       "\n",
       "    .dataframe thead th {\n",
       "        text-align: right;\n",
       "    }\n",
       "</style>\n",
       "<table border=\"1\" class=\"dataframe\">\n",
       "  <thead>\n",
       "    <tr style=\"text-align: right;\">\n",
       "      <th></th>\n",
       "      <th>State</th>\n",
       "      <th>County</th>\n",
       "      <th>Year</th>\n",
       "      <th>Month</th>\n",
       "      <th>PDensity</th>\n",
       "      <th>Population</th>\n",
       "      <th>SNAP_Applications</th>\n",
       "      <th>numberOfWorkers</th>\n",
       "      <th>numberOfDisaster</th>\n",
       "      <th>google_calfresh</th>\n",
       "      <th>google_food_bank</th>\n",
       "      <th>google_food_pantry</th>\n",
       "      <th>google_food_stamps</th>\n",
       "      <th>google_supplemental</th>\n",
       "      <th>google_snap</th>\n",
       "      <th>date_time</th>\n",
       "      <th>last_date_time</th>\n",
       "      <th>last_snap</th>\n",
       "      <th>last_worker</th>\n",
       "      <th>last_disaster</th>\n",
       "      <th>last_google_calfresh</th>\n",
       "      <th>last_google_food_bank</th>\n",
       "      <th>last_google_food_pantry</th>\n",
       "      <th>last_google_food_stamps</th>\n",
       "      <th>last_google_supplemental</th>\n",
       "      <th>last_google_snap</th>\n",
       "    </tr>\n",
       "  </thead>\n",
       "  <tbody>\n",
       "    <tr>\n",
       "      <th>0</th>\n",
       "      <td>California</td>\n",
       "      <td>Alameda</td>\n",
       "      <td>2019</td>\n",
       "      <td>1</td>\n",
       "      <td>1898.5</td>\n",
       "      <td>1559308</td>\n",
       "      <td>5515</td>\n",
       "      <td>45</td>\n",
       "      <td>0</td>\n",
       "      <td>24.00</td>\n",
       "      <td>28.75</td>\n",
       "      <td>38.00</td>\n",
       "      <td>55.50</td>\n",
       "      <td>54.50</td>\n",
       "      <td>0.0</td>\n",
       "      <td>2019-01-01</td>\n",
       "      <td>2018-12-01</td>\n",
       "      <td>0</td>\n",
       "      <td>0</td>\n",
       "      <td>0</td>\n",
       "      <td>0.00</td>\n",
       "      <td>0.00</td>\n",
       "      <td>0.00</td>\n",
       "      <td>0.00</td>\n",
       "      <td>0.00</td>\n",
       "      <td>0.0</td>\n",
       "    </tr>\n",
       "    <tr>\n",
       "      <th>1</th>\n",
       "      <td>California</td>\n",
       "      <td>Alameda</td>\n",
       "      <td>2019</td>\n",
       "      <td>2</td>\n",
       "      <td>1898.5</td>\n",
       "      <td>1559308</td>\n",
       "      <td>4478</td>\n",
       "      <td>397</td>\n",
       "      <td>0</td>\n",
       "      <td>27.25</td>\n",
       "      <td>27.75</td>\n",
       "      <td>38.75</td>\n",
       "      <td>31.25</td>\n",
       "      <td>36.75</td>\n",
       "      <td>0.0</td>\n",
       "      <td>2019-02-01</td>\n",
       "      <td>2019-01-01</td>\n",
       "      <td>5515</td>\n",
       "      <td>45</td>\n",
       "      <td>0</td>\n",
       "      <td>24.00</td>\n",
       "      <td>28.75</td>\n",
       "      <td>38.00</td>\n",
       "      <td>55.50</td>\n",
       "      <td>54.50</td>\n",
       "      <td>0.0</td>\n",
       "    </tr>\n",
       "    <tr>\n",
       "      <th>2</th>\n",
       "      <td>California</td>\n",
       "      <td>Alameda</td>\n",
       "      <td>2019</td>\n",
       "      <td>3</td>\n",
       "      <td>1898.5</td>\n",
       "      <td>1559308</td>\n",
       "      <td>5041</td>\n",
       "      <td>191</td>\n",
       "      <td>0</td>\n",
       "      <td>19.60</td>\n",
       "      <td>23.20</td>\n",
       "      <td>33.80</td>\n",
       "      <td>31.80</td>\n",
       "      <td>35.20</td>\n",
       "      <td>0.0</td>\n",
       "      <td>2019-03-01</td>\n",
       "      <td>2019-02-01</td>\n",
       "      <td>4478</td>\n",
       "      <td>397</td>\n",
       "      <td>0</td>\n",
       "      <td>27.25</td>\n",
       "      <td>27.75</td>\n",
       "      <td>38.75</td>\n",
       "      <td>31.25</td>\n",
       "      <td>36.75</td>\n",
       "      <td>0.0</td>\n",
       "    </tr>\n",
       "    <tr>\n",
       "      <th>3</th>\n",
       "      <td>California</td>\n",
       "      <td>Alameda</td>\n",
       "      <td>2019</td>\n",
       "      <td>4</td>\n",
       "      <td>1898.5</td>\n",
       "      <td>1559308</td>\n",
       "      <td>5253</td>\n",
       "      <td>808</td>\n",
       "      <td>0</td>\n",
       "      <td>23.25</td>\n",
       "      <td>22.50</td>\n",
       "      <td>35.50</td>\n",
       "      <td>22.00</td>\n",
       "      <td>29.25</td>\n",
       "      <td>0.0</td>\n",
       "      <td>2019-04-01</td>\n",
       "      <td>2019-03-01</td>\n",
       "      <td>5041</td>\n",
       "      <td>191</td>\n",
       "      <td>0</td>\n",
       "      <td>19.60</td>\n",
       "      <td>23.20</td>\n",
       "      <td>33.80</td>\n",
       "      <td>31.80</td>\n",
       "      <td>35.20</td>\n",
       "      <td>0.0</td>\n",
       "    </tr>\n",
       "    <tr>\n",
       "      <th>4</th>\n",
       "      <td>California</td>\n",
       "      <td>Alameda</td>\n",
       "      <td>2019</td>\n",
       "      <td>5</td>\n",
       "      <td>1898.5</td>\n",
       "      <td>1559308</td>\n",
       "      <td>8074</td>\n",
       "      <td>502</td>\n",
       "      <td>0</td>\n",
       "      <td>35.00</td>\n",
       "      <td>26.75</td>\n",
       "      <td>31.50</td>\n",
       "      <td>29.50</td>\n",
       "      <td>31.25</td>\n",
       "      <td>0.0</td>\n",
       "      <td>2019-05-01</td>\n",
       "      <td>2019-04-01</td>\n",
       "      <td>5253</td>\n",
       "      <td>808</td>\n",
       "      <td>0</td>\n",
       "      <td>23.25</td>\n",
       "      <td>22.50</td>\n",
       "      <td>35.50</td>\n",
       "      <td>22.00</td>\n",
       "      <td>29.25</td>\n",
       "      <td>0.0</td>\n",
       "    </tr>\n",
       "  </tbody>\n",
       "</table>\n",
       "</div>"
      ],
      "text/plain": [
       "        State   County  Year  Month  PDensity  Population  SNAP_Applications  \\\n",
       "0  California  Alameda  2019      1    1898.5     1559308               5515   \n",
       "1  California  Alameda  2019      2    1898.5     1559308               4478   \n",
       "2  California  Alameda  2019      3    1898.5     1559308               5041   \n",
       "3  California  Alameda  2019      4    1898.5     1559308               5253   \n",
       "4  California  Alameda  2019      5    1898.5     1559308               8074   \n",
       "\n",
       "   numberOfWorkers  numberOfDisaster  google_calfresh  google_food_bank  \\\n",
       "0               45                 0            24.00             28.75   \n",
       "1              397                 0            27.25             27.75   \n",
       "2              191                 0            19.60             23.20   \n",
       "3              808                 0            23.25             22.50   \n",
       "4              502                 0            35.00             26.75   \n",
       "\n",
       "   google_food_pantry  google_food_stamps  google_supplemental  google_snap  \\\n",
       "0               38.00               55.50                54.50          0.0   \n",
       "1               38.75               31.25                36.75          0.0   \n",
       "2               33.80               31.80                35.20          0.0   \n",
       "3               35.50               22.00                29.25          0.0   \n",
       "4               31.50               29.50                31.25          0.0   \n",
       "\n",
       "   date_time last_date_time  last_snap  last_worker  last_disaster  \\\n",
       "0 2019-01-01     2018-12-01          0            0              0   \n",
       "1 2019-02-01     2019-01-01       5515           45              0   \n",
       "2 2019-03-01     2019-02-01       4478          397              0   \n",
       "3 2019-04-01     2019-03-01       5041          191              0   \n",
       "4 2019-05-01     2019-04-01       5253          808              0   \n",
       "\n",
       "   last_google_calfresh  last_google_food_bank  last_google_food_pantry  \\\n",
       "0                  0.00                   0.00                     0.00   \n",
       "1                 24.00                  28.75                    38.00   \n",
       "2                 27.25                  27.75                    38.75   \n",
       "3                 19.60                  23.20                    33.80   \n",
       "4                 23.25                  22.50                    35.50   \n",
       "\n",
       "   last_google_food_stamps  last_google_supplemental  last_google_snap  \n",
       "0                     0.00                      0.00               0.0  \n",
       "1                    55.50                     54.50               0.0  \n",
       "2                    31.25                     36.75               0.0  \n",
       "3                    31.80                     35.20               0.0  \n",
       "4                    22.00                     29.25               0.0  "
      ]
     },
     "execution_count": 3,
     "metadata": {},
     "output_type": "execute_result"
    }
   ],
   "source": [
    "df.head()"
   ]
  },
  {
   "cell_type": "code",
   "execution_count": 4,
   "id": "5696141f",
   "metadata": {},
   "outputs": [],
   "source": [
    "# split CA and texas using dummy\n",
    "\n",
    "# create dummy variables\n",
    "dummies = pd.get_dummies(df['State'], prefix='State')\n",
    "\n",
    "# concatenate the dummy variables with the original dataframe\n",
    "df = pd.concat([df, dummies], axis=1)\n"
   ]
  },
  {
   "cell_type": "code",
   "execution_count": 5,
   "id": "a47a043b",
   "metadata": {},
   "outputs": [],
   "source": [
    "# drop State_Texas since using dummy\n",
    "\n",
    "df = df.drop(columns='State_Texas')"
   ]
  },
  {
   "cell_type": "markdown",
   "id": "a4c8823d",
   "metadata": {},
   "source": [
    "## Choose columns to train \n",
    "- use last month date to predict this month's snap applications"
   ]
  },
  {
   "cell_type": "code",
   "execution_count": 6,
   "id": "5745ee51",
   "metadata": {},
   "outputs": [],
   "source": [
    "col_keepinmodel = list(df.columns)"
   ]
  },
  {
   "cell_type": "code",
   "execution_count": 7,
   "id": "bcb00bdb",
   "metadata": {
    "scrolled": true
   },
   "outputs": [
    {
     "data": {
      "text/plain": [
       "['PDensity',\n",
       " 'Population',\n",
       " 'SNAP_Applications',\n",
       " 'last_snap',\n",
       " 'last_worker',\n",
       " 'last_disaster',\n",
       " 'last_google_calfresh',\n",
       " 'last_google_food_bank',\n",
       " 'last_google_food_pantry',\n",
       " 'last_google_food_stamps',\n",
       " 'last_google_supplemental',\n",
       " 'last_google_snap',\n",
       " 'State_California']"
      ]
     },
     "execution_count": 7,
     "metadata": {},
     "output_type": "execute_result"
    }
   ],
   "source": [
    "coltomove = ['State','County','Year','Month', 'date_time','last_date_time', \\\n",
    "             'numberOfWorkers', 'numberOfDisaster','google_calfresh',\\\n",
    "             'google_food_bank','google_food_pantry','google_food_stamps',\\\n",
    "             'google_supplemental','google_snap',]\n",
    "\n",
    "for c in coltomove:\n",
    "    col_keepinmodel.remove(c)\n",
    "    \n",
    "col_keepinmodel"
   ]
  },
  {
   "cell_type": "code",
   "execution_count": 8,
   "id": "f1864ebc",
   "metadata": {},
   "outputs": [],
   "source": [
    "df = df[col_keepinmodel]"
   ]
  },
  {
   "cell_type": "code",
   "execution_count": 9,
   "id": "85687967",
   "metadata": {
    "scrolled": true
   },
   "outputs": [
    {
     "data": {
      "text/html": [
       "<div>\n",
       "<style scoped>\n",
       "    .dataframe tbody tr th:only-of-type {\n",
       "        vertical-align: middle;\n",
       "    }\n",
       "\n",
       "    .dataframe tbody tr th {\n",
       "        vertical-align: top;\n",
       "    }\n",
       "\n",
       "    .dataframe thead th {\n",
       "        text-align: right;\n",
       "    }\n",
       "</style>\n",
       "<table border=\"1\" class=\"dataframe\">\n",
       "  <thead>\n",
       "    <tr style=\"text-align: right;\">\n",
       "      <th></th>\n",
       "      <th>PDensity</th>\n",
       "      <th>Population</th>\n",
       "      <th>SNAP_Applications</th>\n",
       "      <th>last_snap</th>\n",
       "      <th>last_worker</th>\n",
       "      <th>last_disaster</th>\n",
       "      <th>last_google_calfresh</th>\n",
       "      <th>last_google_food_bank</th>\n",
       "      <th>last_google_food_pantry</th>\n",
       "      <th>last_google_food_stamps</th>\n",
       "      <th>last_google_supplemental</th>\n",
       "      <th>last_google_snap</th>\n",
       "      <th>State_California</th>\n",
       "    </tr>\n",
       "  </thead>\n",
       "  <tbody>\n",
       "    <tr>\n",
       "      <th>0</th>\n",
       "      <td>1898.5</td>\n",
       "      <td>1559308</td>\n",
       "      <td>5515</td>\n",
       "      <td>0</td>\n",
       "      <td>0</td>\n",
       "      <td>0</td>\n",
       "      <td>0.00</td>\n",
       "      <td>0.00</td>\n",
       "      <td>0.00</td>\n",
       "      <td>0.00</td>\n",
       "      <td>0.00</td>\n",
       "      <td>0.0</td>\n",
       "      <td>1</td>\n",
       "    </tr>\n",
       "    <tr>\n",
       "      <th>1</th>\n",
       "      <td>1898.5</td>\n",
       "      <td>1559308</td>\n",
       "      <td>4478</td>\n",
       "      <td>5515</td>\n",
       "      <td>45</td>\n",
       "      <td>0</td>\n",
       "      <td>24.00</td>\n",
       "      <td>28.75</td>\n",
       "      <td>38.00</td>\n",
       "      <td>55.50</td>\n",
       "      <td>54.50</td>\n",
       "      <td>0.0</td>\n",
       "      <td>1</td>\n",
       "    </tr>\n",
       "    <tr>\n",
       "      <th>2</th>\n",
       "      <td>1898.5</td>\n",
       "      <td>1559308</td>\n",
       "      <td>5041</td>\n",
       "      <td>4478</td>\n",
       "      <td>397</td>\n",
       "      <td>0</td>\n",
       "      <td>27.25</td>\n",
       "      <td>27.75</td>\n",
       "      <td>38.75</td>\n",
       "      <td>31.25</td>\n",
       "      <td>36.75</td>\n",
       "      <td>0.0</td>\n",
       "      <td>1</td>\n",
       "    </tr>\n",
       "    <tr>\n",
       "      <th>3</th>\n",
       "      <td>1898.5</td>\n",
       "      <td>1559308</td>\n",
       "      <td>5253</td>\n",
       "      <td>5041</td>\n",
       "      <td>191</td>\n",
       "      <td>0</td>\n",
       "      <td>19.60</td>\n",
       "      <td>23.20</td>\n",
       "      <td>33.80</td>\n",
       "      <td>31.80</td>\n",
       "      <td>35.20</td>\n",
       "      <td>0.0</td>\n",
       "      <td>1</td>\n",
       "    </tr>\n",
       "    <tr>\n",
       "      <th>4</th>\n",
       "      <td>1898.5</td>\n",
       "      <td>1559308</td>\n",
       "      <td>8074</td>\n",
       "      <td>5253</td>\n",
       "      <td>808</td>\n",
       "      <td>0</td>\n",
       "      <td>23.25</td>\n",
       "      <td>22.50</td>\n",
       "      <td>35.50</td>\n",
       "      <td>22.00</td>\n",
       "      <td>29.25</td>\n",
       "      <td>0.0</td>\n",
       "      <td>1</td>\n",
       "    </tr>\n",
       "  </tbody>\n",
       "</table>\n",
       "</div>"
      ],
      "text/plain": [
       "   PDensity  Population  SNAP_Applications  last_snap  last_worker  \\\n",
       "0    1898.5     1559308               5515          0            0   \n",
       "1    1898.5     1559308               4478       5515           45   \n",
       "2    1898.5     1559308               5041       4478          397   \n",
       "3    1898.5     1559308               5253       5041          191   \n",
       "4    1898.5     1559308               8074       5253          808   \n",
       "\n",
       "   last_disaster  last_google_calfresh  last_google_food_bank  \\\n",
       "0              0                  0.00                   0.00   \n",
       "1              0                 24.00                  28.75   \n",
       "2              0                 27.25                  27.75   \n",
       "3              0                 19.60                  23.20   \n",
       "4              0                 23.25                  22.50   \n",
       "\n",
       "   last_google_food_pantry  last_google_food_stamps  last_google_supplemental  \\\n",
       "0                     0.00                     0.00                      0.00   \n",
       "1                    38.00                    55.50                     54.50   \n",
       "2                    38.75                    31.25                     36.75   \n",
       "3                    33.80                    31.80                     35.20   \n",
       "4                    35.50                    22.00                     29.25   \n",
       "\n",
       "   last_google_snap  State_California  \n",
       "0               0.0                 1  \n",
       "1               0.0                 1  \n",
       "2               0.0                 1  \n",
       "3               0.0                 1  \n",
       "4               0.0                 1  "
      ]
     },
     "execution_count": 9,
     "metadata": {},
     "output_type": "execute_result"
    }
   ],
   "source": [
    "df.head()"
   ]
  },
  {
   "cell_type": "markdown",
   "id": "d72dc394",
   "metadata": {},
   "source": [
    "# Build the Model"
   ]
  },
  {
   "cell_type": "markdown",
   "id": "6e4359a6",
   "metadata": {},
   "source": [
    "#### 1. check the correlation"
   ]
  },
  {
   "cell_type": "code",
   "execution_count": 10,
   "id": "815e367a",
   "metadata": {},
   "outputs": [
    {
     "data": {
      "text/plain": [
       "PDensity                    0.631942\n",
       "Population                  0.933607\n",
       "SNAP_Applications           1.000000\n",
       "last_snap                   0.947601\n",
       "last_worker                 0.392523\n",
       "last_disaster               0.036997\n",
       "last_google_calfresh        0.192687\n",
       "last_google_food_bank       0.004543\n",
       "last_google_food_pantry     0.011594\n",
       "last_google_food_stamps     0.045971\n",
       "last_google_supplemental    0.043198\n",
       "last_google_snap           -0.185326\n",
       "State_California            0.217959\n",
       "Name: SNAP_Applications, dtype: float64"
      ]
     },
     "execution_count": 10,
     "metadata": {},
     "output_type": "execute_result"
    }
   ],
   "source": [
    "df.corr()['SNAP_Applications']"
   ]
  },
  {
   "cell_type": "code",
   "execution_count": 11,
   "id": "e4f4a7d6",
   "metadata": {},
   "outputs": [],
   "source": [
    "X = df.drop(columns=['SNAP_Applications'])\n",
    "y = df.SNAP_Applications"
   ]
  },
  {
   "cell_type": "code",
   "execution_count": 12,
   "id": "3291f076",
   "metadata": {},
   "outputs": [],
   "source": [
    "features_ = df.drop(columns=['SNAP_Applications']).columns.to_list()"
   ]
  },
  {
   "cell_type": "code",
   "execution_count": 13,
   "id": "ad0e220d",
   "metadata": {},
   "outputs": [],
   "source": [
    "features_.insert(0,'const')"
   ]
  },
  {
   "cell_type": "code",
   "execution_count": 14,
   "id": "6683ea05",
   "metadata": {},
   "outputs": [
    {
     "data": {
      "text/plain": [
       "['const',\n",
       " 'PDensity',\n",
       " 'Population',\n",
       " 'last_snap',\n",
       " 'last_worker',\n",
       " 'last_disaster',\n",
       " 'last_google_calfresh',\n",
       " 'last_google_food_bank',\n",
       " 'last_google_food_pantry',\n",
       " 'last_google_food_stamps',\n",
       " 'last_google_supplemental',\n",
       " 'last_google_snap',\n",
       " 'State_California']"
      ]
     },
     "execution_count": 14,
     "metadata": {},
     "output_type": "execute_result"
    }
   ],
   "source": [
    "features_"
   ]
  },
  {
   "cell_type": "markdown",
   "id": "b06b61f1",
   "metadata": {},
   "source": [
    "#### 2. Result of the linear regression model"
   ]
  },
  {
   "cell_type": "code",
   "execution_count": 15,
   "id": "957953b1",
   "metadata": {
    "scrolled": true
   },
   "outputs": [
    {
     "name": "stdout",
     "output_type": "stream",
     "text": [
      "                            OLS Regression Results                            \n",
      "==============================================================================\n",
      "Dep. Variable:      SNAP_Applications   R-squared:                       0.925\n",
      "Model:                            OLS   Adj. R-squared:                  0.925\n",
      "Method:                 Least Squares   F-statistic:                 1.126e+04\n",
      "Date:                Thu, 13 Apr 2023   Prob (F-statistic):               0.00\n",
      "Time:                        15:32:33   Log-Likelihood:                -94157.\n",
      "No. Observations:               10908   AIC:                         1.883e+05\n",
      "Df Residuals:                   10895   BIC:                         1.884e+05\n",
      "Df Model:                          12                                         \n",
      "Covariance Type:            nonrobust                                         \n",
      "============================================================================================\n",
      "                               coef    std err          t      P>|t|      [0.025      0.975]\n",
      "--------------------------------------------------------------------------------------------\n",
      "const                      325.1679     66.471      4.892      0.000     194.872     455.464\n",
      "PDensity                    -0.1774      0.039     -4.550      0.000      -0.254      -0.101\n",
      "Population                   0.0027   4.99e-05     55.082      0.000       0.003       0.003\n",
      "last_snap                    0.5938      0.007     82.509      0.000       0.580       0.608\n",
      "last_worker                 -0.1116      0.014     -7.893      0.000      -0.139      -0.084\n",
      "last_disaster              303.6267     30.561      9.935      0.000     243.722     363.531\n",
      "last_google_calfresh        -3.5138      1.968     -1.785      0.074      -7.371       0.344\n",
      "last_google_food_bank        5.3561      1.501      3.567      0.000       2.413       8.299\n",
      "last_google_food_pantry     -3.7800      1.171     -3.227      0.001      -6.076      -1.484\n",
      "last_google_food_stamps      8.6353      4.086      2.113      0.035       0.626      16.645\n",
      "last_google_supplemental   -12.9839      4.163     -3.119      0.002     -21.145      -4.823\n",
      "last_google_snap            -1.8907      1.466     -1.289      0.197      -4.765       0.984\n",
      "State_California          -286.6454    122.081     -2.348      0.019    -525.947     -47.344\n",
      "==============================================================================\n",
      "Omnibus:                    23122.663   Durbin-Watson:                   1.757\n",
      "Prob(Omnibus):                  0.000   Jarque-Bera (JB):        257415870.490\n",
      "Skew:                          18.065   Prob(JB):                         0.00\n",
      "Kurtosis:                     754.709   Cond. No.                     7.83e+06\n",
      "==============================================================================\n",
      "\n",
      "Notes:\n",
      "[1] Standard Errors assume that the covariance matrix of the errors is correctly specified.\n",
      "[2] The condition number is large, 7.83e+06. This might indicate that there are\n",
      "strong multicollinearity or other numerical problems.\n"
     ]
    }
   ],
   "source": [
    "import statsmodels.api as sm\n",
    "import pandas as pd\n",
    "\n",
    "# Add constant term to X\n",
    "X = sm.add_constant(X)\n",
    "\n",
    "# Fit linear regression model\n",
    "model = sm.OLS(y, X).fit()\n",
    "\n",
    "# Print summary of regression results\n",
    "print(model.summary())\n"
   ]
  },
  {
   "cell_type": "markdown",
   "id": "50c5c5e5",
   "metadata": {},
   "source": [
    "#### 2. Scale the data and train the model"
   ]
  },
  {
   "cell_type": "code",
   "execution_count": 17,
   "id": "7f18f421",
   "metadata": {
    "scrolled": false
   },
   "outputs": [
    {
     "name": "stdout",
     "output_type": "stream",
     "text": [
      "Coefficients: [   0.         -145.75210443 2320.94388073 2820.72536309 -108.06517367\n",
      "  145.78767689  -50.00789742   87.1501502   -64.76475801  139.15353215\n",
      " -206.26635881  -63.23347177 -161.95605882]\n",
      "Intercept: 1313.4639001319706\n"
     ]
    }
   ],
   "source": [
    "# # scale the data \n",
    "# scaler = StandardScaler()\n",
    "# X = scaler.fit_transform(X)\n",
    "\n",
    "# # Split the data into training and testing sets\n",
    "# X_train, X_test, y_train, y_test = train_test_split(X, y, test_size=0.15, random_state=42)\n",
    "\n",
    "# # Create a LinearRegression object and fit the training data\n",
    "# reg = LinearRegression().fit(X_train, y_train)\n",
    "\n",
    "# # Print the coefficients and intercept\n",
    "# print('Coefficients:', reg.coef_)\n",
    "# print('Intercept:', reg.intercept_)\n",
    "\n",
    "# # Make predictions on the test set\n",
    "# y_pred_test = reg.predict(X_test)\n",
    "\n",
    "# # Make predictions on the train set\n",
    "# y_pred_train = reg.predict(X_train)"
   ]
  },
  {
   "cell_type": "code",
   "execution_count": 18,
   "id": "2757ea29",
   "metadata": {
    "scrolled": true
   },
   "outputs": [],
   "source": [
    "# coef = reg.coef_\n",
    "\n",
    "# coef_dic = collections.defaultdict(float)\n",
    "\n",
    "# for i in range(len(coef)):\n",
    "#     coef_dic[features_[i]] = coef[i]"
   ]
  },
  {
   "cell_type": "code",
   "execution_count": 19,
   "id": "294a81ca",
   "metadata": {
    "scrolled": true
   },
   "outputs": [
    {
     "data": {
      "text/html": [
       "<div>\n",
       "<style scoped>\n",
       "    .dataframe tbody tr th:only-of-type {\n",
       "        vertical-align: middle;\n",
       "    }\n",
       "\n",
       "    .dataframe tbody tr th {\n",
       "        vertical-align: top;\n",
       "    }\n",
       "\n",
       "    .dataframe thead th {\n",
       "        text-align: right;\n",
       "    }\n",
       "</style>\n",
       "<table border=\"1\" class=\"dataframe\">\n",
       "  <thead>\n",
       "    <tr style=\"text-align: right;\">\n",
       "      <th></th>\n",
       "      <th>coef_</th>\n",
       "    </tr>\n",
       "  </thead>\n",
       "  <tbody>\n",
       "    <tr>\n",
       "      <th>const</th>\n",
       "      <td>0.000000</td>\n",
       "    </tr>\n",
       "    <tr>\n",
       "      <th>PDensity</th>\n",
       "      <td>-145.752104</td>\n",
       "    </tr>\n",
       "    <tr>\n",
       "      <th>Population</th>\n",
       "      <td>2320.943881</td>\n",
       "    </tr>\n",
       "    <tr>\n",
       "      <th>last_snap</th>\n",
       "      <td>2820.725363</td>\n",
       "    </tr>\n",
       "    <tr>\n",
       "      <th>last_worker</th>\n",
       "      <td>-108.065174</td>\n",
       "    </tr>\n",
       "    <tr>\n",
       "      <th>last_disaster</th>\n",
       "      <td>145.787677</td>\n",
       "    </tr>\n",
       "    <tr>\n",
       "      <th>last_google_calfresh</th>\n",
       "      <td>-50.007897</td>\n",
       "    </tr>\n",
       "    <tr>\n",
       "      <th>last_google_food_bank</th>\n",
       "      <td>87.150150</td>\n",
       "    </tr>\n",
       "    <tr>\n",
       "      <th>last_google_food_pantry</th>\n",
       "      <td>-64.764758</td>\n",
       "    </tr>\n",
       "    <tr>\n",
       "      <th>last_google_food_stamps</th>\n",
       "      <td>139.153532</td>\n",
       "    </tr>\n",
       "    <tr>\n",
       "      <th>last_google_supplemental</th>\n",
       "      <td>-206.266359</td>\n",
       "    </tr>\n",
       "    <tr>\n",
       "      <th>last_google_snap</th>\n",
       "      <td>-63.233472</td>\n",
       "    </tr>\n",
       "    <tr>\n",
       "      <th>State_California</th>\n",
       "      <td>-161.956059</td>\n",
       "    </tr>\n",
       "  </tbody>\n",
       "</table>\n",
       "</div>"
      ],
      "text/plain": [
       "                                coef_\n",
       "const                        0.000000\n",
       "PDensity                  -145.752104\n",
       "Population                2320.943881\n",
       "last_snap                 2820.725363\n",
       "last_worker               -108.065174\n",
       "last_disaster              145.787677\n",
       "last_google_calfresh       -50.007897\n",
       "last_google_food_bank       87.150150\n",
       "last_google_food_pantry    -64.764758\n",
       "last_google_food_stamps    139.153532\n",
       "last_google_supplemental  -206.266359\n",
       "last_google_snap           -63.233472\n",
       "State_California          -161.956059"
      ]
     },
     "execution_count": 19,
     "metadata": {},
     "output_type": "execute_result"
    }
   ],
   "source": [
    "# pd.DataFrame(coef_dic, index=['coef_']).T"
   ]
  },
  {
   "cell_type": "markdown",
   "id": "2bb861bd",
   "metadata": {},
   "source": [
    "#### 3. evalute the result"
   ]
  },
  {
   "cell_type": "code",
   "execution_count": 20,
   "id": "2b3f7a9a",
   "metadata": {},
   "outputs": [],
   "source": [
    "# # evalute the train data\n",
    "\n",
    "# from sklearn.metrics import mean_squared_error\n",
    "# mse = mean_squared_error(y_train, y_pred_train)\n",
    "\n",
    "# from sklearn.metrics import r2_score\n",
    "# r2 = r2_score(y_train, y_pred_train)\n",
    "\n",
    "# from sklearn.metrics import mean_absolute_error\n",
    "# mae = mean_absolute_error(y_train, y_pred_train)\n",
    "\n",
    "# from sklearn.metrics import mean_squared_error\n",
    "# rmse = np.sqrt(mean_squared_error(y_train, y_pred_train))\n",
    "\n",
    "# train_loss = {'MSE':[mse], 'R2':[r2], 'MAE':[mae], 'RMSE':[rmse]}"
   ]
  },
  {
   "cell_type": "code",
   "execution_count": 21,
   "id": "979814ba",
   "metadata": {},
   "outputs": [],
   "source": [
    "# # evalute the test data\n",
    "\n",
    "# from sklearn.metrics import mean_squared_error\n",
    "# mse = mean_squared_error(y_test, y_pred_test)\n",
    "\n",
    "# from sklearn.metrics import r2_score\n",
    "# r2 = r2_score(y_test, y_pred_test)\n",
    "\n",
    "# from sklearn.metrics import mean_absolute_error\n",
    "# mae = mean_absolute_error(y_test, y_pred_test)\n",
    "\n",
    "# from sklearn.metrics import mean_squared_error\n",
    "# rmse = np.sqrt(mean_squared_error(y_test, y_pred_test))\n",
    "\n",
    "# test_loss = {'MSE':[mse], 'R2':[r2], 'MAE':[mae], 'RMSE':[rmse]}"
   ]
  },
  {
   "cell_type": "code",
   "execution_count": 23,
   "id": "83138364",
   "metadata": {},
   "outputs": [],
   "source": [
    "# # visulization\n",
    "\n",
    "# import matplotlib.pyplot as plt\n",
    "\n",
    "# # convert the data to pandas dataframes\n",
    "# df1 = pd.DataFrame(train_loss)\n",
    "# df2 = pd.DataFrame(test_loss)\n",
    "                   \n",
    "# index_labels=['train_loss','test_loss']\n",
    "\n",
    "# # merge the dataframes\n",
    "# df = pd.concat([df1,df2], ignore_index=True)\n",
    "# df = df.rename(index = {0:'train_loss', 1:'test_loss'})\n",
    "\n",
    "# df"
   ]
  }
 ],
 "metadata": {
  "kernelspec": {
   "display_name": "Python 3 (ipykernel)",
   "language": "python",
   "name": "python3"
  },
  "language_info": {
   "codemirror_mode": {
    "name": "ipython",
    "version": 3
   },
   "file_extension": ".py",
   "mimetype": "text/x-python",
   "name": "python",
   "nbconvert_exporter": "python",
   "pygments_lexer": "ipython3",
   "version": "3.9.13"
  }
 },
 "nbformat": 4,
 "nbformat_minor": 5
}
